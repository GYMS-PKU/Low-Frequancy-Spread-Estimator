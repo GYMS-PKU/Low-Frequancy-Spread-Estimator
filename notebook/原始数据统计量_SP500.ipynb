{
 "cells": [
  {
   "cell_type": "markdown",
   "id": "7aad8578",
   "metadata": {},
   "source": [
    "### 原始数据统计量\n",
    "- 计算我们使用的数据的基本统计量"
   ]
  },
  {
   "cell_type": "code",
   "execution_count": 1,
   "id": "4aeef5e0",
   "metadata": {},
   "outputs": [],
   "source": [
    "import numpy as np\n",
    "import pandas as pd\n",
    "import matplotlib.pyplot as plt\n",
    "import importlib\n",
    "import sys\n",
    "sys.path.append('C:/Users/Administrator/Desktop/Repositories/Low-Frequency-Spread-Estimator')\n",
    "sys.path.append('C:/Users/18316/Desktop/Repositories/Low-Frequency-Spread-Estimator')\n",
    "sys.path.append('C:/Users/Handsome Bad Guy/Desktop/Repositories/Low-Frequency-Spread-Estimator')\n",
    "sys.path.append('C:/Users/Windows11/Desktop/Repositories/Low-Frequency-Spread-Estimator')\n",
    "\n",
    "from SpreadEstimator.SpreadEstimator import SpreadEstimator\n",
    "from mytools.AutoTester import AutoTester\n",
    "from time import time\n",
    "\n",
    "import warnings\n",
    "warnings.filterwarnings(\"ignore\")"
   ]
  },
  {
   "cell_type": "markdown",
   "id": "1de362b4",
   "metadata": {},
   "source": [
    "### 计算基本统计量\n",
    "- 平均收盘价、所有平均spread"
   ]
  },
  {
   "cell_type": "code",
   "execution_count": 2,
   "id": "7458423f",
   "metadata": {},
   "outputs": [],
   "source": [
    "se = SpreadEstimator(market='SP500')"
   ]
  },
  {
   "cell_type": "code",
   "execution_count": 12,
   "id": "41b456ca",
   "metadata": {},
   "outputs": [
    {
     "data": {
      "text/plain": [
       "336"
      ]
     },
     "execution_count": 12,
     "metadata": {},
     "output_type": "execute_result"
    }
   ],
   "source": [
    "np.argmax(np.nanmean(se.data.spread_dic['spread'], axis=0))"
   ]
  },
  {
   "cell_type": "code",
   "execution_count": 15,
   "id": "8cb91f42",
   "metadata": {},
   "outputs": [
    {
     "data": {
      "text/plain": [
       "128.98512"
      ]
     },
     "execution_count": 15,
     "metadata": {},
     "output_type": "execute_result"
    }
   ],
   "source": [
    "np.nanmean(se.data.spread_dic['spread'], axis=0)[336]"
   ]
  },
  {
   "cell_type": "code",
   "execution_count": 22,
   "id": "e75ccf55",
   "metadata": {},
   "outputs": [
    {
     "data": {
      "image/png": "[encoded data removed]",
      "text/plain": [
       "<Figure size 640x480 with 1 Axes>"
      ]
     },
     "metadata": {},
     "output_type": "display_data"
    }
   ],
   "source": [
    "tmp = np.nanmean(se.data.spread_dic['spread'], axis=0)\n",
    "plt.hist(tmp[tmp<5], bins=100)\n",
    "plt.show()"
   ]
  },
  {
   "cell_type": "code",
   "execution_count": 27,
   "id": "3a0aa59c",
   "metadata": {},
   "outputs": [
    {
     "data": {
      "text/plain": [
       "0.7923932"
      ]
     },
     "execution_count": 27,
     "metadata": {},
     "output_type": "execute_result"
    }
   ],
   "source": [
    "np.nanmean(np.nanmean(se.data.spread_dic['spread'], axis=0)[np.nanmean(se.data.spread_dic['spread'], axis=0)<5])"
   ]
  },
  {
   "cell_type": "code",
   "execution_count": 25,
   "id": "d4ff8dc4",
   "metadata": {},
   "outputs": [
    {
     "data": {
      "text/plain": [
       "22"
      ]
     },
     "execution_count": 25,
     "metadata": {},
     "output_type": "execute_result"
    }
   ],
   "source": [
    "np.nansum(np.nanmean(se.data.spread_dic['spread'], axis=0)>5)"
   ]
  },
  {
   "cell_type": "code",
   "execution_count": 9,
   "id": "29348654",
   "metadata": {},
   "outputs": [
    {
     "name": "stdout",
     "output_type": "stream",
     "text": [
      "mean close: 130.82\n",
      "mean spread: 1.2282\n",
      "mean rela_spread: 0.6698\n",
      "mean vol_wtd_rel_bas: 1.1187\n"
     ]
    }
   ],
   "source": [
    "univ = (se.data.data_dic['volume'] > 0) & (se.data.spread_dic['spread']<50)  # 当天有交易\n",
    "print('mean close: {:.2f}'.format(np.mean(se.data.data_dic['close'][univ])))\n",
    "print('mean spread: {:.4f}'.format(np.nanmean(se.data.spread_dic['spread'][univ])))\n",
    "print('mean rela_spread: {:.4f}'.format(np.nanmean(se.data.spread_dic['rela_spread'][univ])*100))\n",
    "print('mean vol_wtd_rel_bas: {:.4f}'.format(np.nanmean(se.data.spread_dic['w_rela_spread'][univ])*100))"
   ]
  },
  {
   "cell_type": "code",
   "execution_count": 10,
   "id": "2145645c",
   "metadata": {},
   "outputs": [],
   "source": [
    "def cal_q(s, q):\n",
    "    s = s[~np.isnan(s)]\n",
    "    return np.sort(s)[int(q * len(s))]"
   ]
  },
  {
   "cell_type": "code",
   "execution_count": 11,
   "id": "6c9c43c3",
   "metadata": {},
   "outputs": [
    {
     "name": "stdout",
     "output_type": "stream",
     "text": [
      "close: 7.37, 42.63, 85.16, 149.68, 966.92\n",
      "spread: 0.0137, 0.1925, 0.4797, 1.0606, 15.2042\n",
      "relative_spread: 0.0749, 0.3657, 0.5743, 0.8412, 2.2989\n",
      "vol_wtd_rel_bas: 0.1111, 0.5066, 0.8447, 1.3236, 4.7240\n"
     ]
    }
   ],
   "source": [
    "s = se.data.data_dic['close'][univ]\n",
    "print('close: {:.2f}, {:.2f}, {:.2f}, {:.2f}, {:.2f}'.format(cal_q(s, 0.01), \n",
    "                             cal_q(s, 0.25), cal_q(s, 0.5), cal_q(s, 0.75), cal_q(s, 0.99)))\n",
    "s = se.data.spread_dic['spread'][univ]\n",
    "print('spread: {:.4f}, {:.4f}, {:.4f}, {:.4f}, {:.4f}'.format(cal_q(s, 0.01), \n",
    "                             cal_q(s, 0.25), cal_q(s, 0.5), cal_q(s, 0.75), cal_q(s, 0.99)))\n",
    "s = se.data.spread_dic['rela_spread'][univ] * 100\n",
    "print('relative_spread: {:.4f}, {:.4f}, {:.4f}, {:.4f}, {:.4f}'.format(cal_q(s, 0.01), \n",
    "                             cal_q(s, 0.25), cal_q(s, 0.5), cal_q(s, 0.75), cal_q(s, 0.99)))\n",
    "s = se.data.spread_dic['w_rela_spread'][univ] * 100\n",
    "print('vol_wtd_rel_bas: {:.4f}, {:.4f}, {:.4f}, {:.4f}, {:.4f}'.format(cal_q(s, 0.01), \n",
    "                             cal_q(s, 0.25), cal_q(s, 0.5), cal_q(s, 0.75), cal_q(s, 0.99)))"
   ]
  },
  {
   "cell_type": "code",
   "execution_count": null,
   "id": "6cef751b",
   "metadata": {},
   "outputs": [],
   "source": []
  }
 ],
 "metadata": {
  "kernelspec": {
   "display_name": "Python 3 (ipykernel)",
   "language": "python",
   "name": "python3"
  },
  "language_info": {
   "codemirror_mode": {
    "name": "ipython",
    "version": 3
   },
   "file_extension": ".py",
   "mimetype": "text/x-python",
   "name": "python",
   "nbconvert_exporter": "python",
   "pygments_lexer": "ipython3",
   "version": "3.10.9"
  }
 },
 "nbformat": 4,
 "nbformat_minor": 5
}
