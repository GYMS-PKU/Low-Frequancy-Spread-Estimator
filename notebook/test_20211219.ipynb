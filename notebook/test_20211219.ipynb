{
 "cells": [
  {
   "cell_type": "markdown",
   "id": "7b2916cc",
   "metadata": {},
   "source": [
    "## 认识价差以及经典指标的测试（2021.12.19）"
   ]
  },
  {
   "cell_type": "code",
   "execution_count": 1,
   "id": "1aa7f470",
   "metadata": {
    "scrolled": false
   },
   "outputs": [],
   "source": [
    "import numpy as np\n",
    "import pandas as pd\n",
    "import matplotlib.pyplot as plt\n",
    "import importlib\n",
    "import sys\n",
    "sys.path.append('C:/Users/Administrator/Desktop/Repositories/Low-Frequency-Spread-Estimator')\n",
    "sys.path.append('C:/Users/Handsome Bad Guy/Desktop/Repositories/Low-Frequency-Spread-Estimator')\n",
    "\n",
    "from SpreadEstimator.SpreadEstimator import SpreadEstimator\n",
    "from mytools.AutoTester import AutoTester\n",
    "\n",
    "from time import time"
   ]
  },
  {
   "cell_type": "code",
   "execution_count": 2,
   "id": "a8994bf5",
   "metadata": {},
   "outputs": [],
   "source": [
    "import SpreadEstimator\n",
    "importlib.reload(SpreadEstimator.SpreadEstimator)\n",
    "from SpreadEstimator.SpreadEstimator import SpreadEstimator"
   ]
  },
  {
   "cell_type": "code",
   "execution_count": 3,
   "id": "70993e03",
   "metadata": {},
   "outputs": [],
   "source": [
    "se = SpreadEstimator()"
   ]
  },
  {
   "cell_type": "markdown",
   "id": "441820a0",
   "metadata": {
    "scrolled": true
   },
   "source": [
    "#### 若在笔记本上使用，则运行以下block"
   ]
  },
  {
   "cell_type": "code",
   "execution_count": 4,
   "id": "8fb1111a",
   "metadata": {
    "collapsed": true
   },
   "outputs": [
    {
     "ename": "FileNotFoundError",
     "evalue": "[WinError 3] 系统找不到指定的路径。: 'C:/Users/Handsome Bad Guy/Desktop/DailyData/data'",
     "output_type": "error",
     "traceback": [
      "\u001b[1;31m---------------------------------------------------------------------------\u001b[0m",
      "\u001b[1;31mFileNotFoundError\u001b[0m                         Traceback (most recent call last)",
      "\u001b[1;32mC:\\Users\\ADMINI~1\\AppData\\Local\\Temp/ipykernel_35924/3161344614.py\u001b[0m in \u001b[0;36m<module>\u001b[1;34m\u001b[0m\n\u001b[1;32m----> 1\u001b[1;33m \u001b[0mse\u001b[0m \u001b[1;33m=\u001b[0m \u001b[0mSpreadEstimator\u001b[0m\u001b[1;33m(\u001b[0m\u001b[0mdata_path\u001b[0m\u001b[1;33m=\u001b[0m\u001b[1;34m'C:/Users/Handsome Bad Guy/Desktop/DailyData/data'\u001b[0m\u001b[1;33m)\u001b[0m\u001b[1;33m\u001b[0m\u001b[1;33m\u001b[0m\u001b[0m\n\u001b[0m",
      "\u001b[1;32mC:/Users/Administrator/Desktop/Repositories/Low-Frequency-Spread-Estimator\\SpreadEstimator\\SpreadEstimator.py\u001b[0m in \u001b[0;36m__init__\u001b[1;34m(self, data_path, back_test_data_path)\u001b[0m\n\u001b[0;32m     30\u001b[0m         \u001b[0mself\u001b[0m\u001b[1;33m.\u001b[0m\u001b[0mback_test_data_path\u001b[0m \u001b[1;33m=\u001b[0m \u001b[0mback_test_data_path\u001b[0m\u001b[1;33m\u001b[0m\u001b[1;33m\u001b[0m\u001b[0m\n\u001b[0;32m     31\u001b[0m         \u001b[0mdl\u001b[0m \u001b[1;33m=\u001b[0m \u001b[0mDataLoader\u001b[0m\u001b[1;33m(\u001b[0m\u001b[0mdata_path\u001b[0m\u001b[1;33m=\u001b[0m\u001b[0mdata_path\u001b[0m\u001b[1;33m,\u001b[0m \u001b[0mback_test_data_path\u001b[0m\u001b[1;33m=\u001b[0m\u001b[0mback_test_data_path\u001b[0m\u001b[1;33m)\u001b[0m\u001b[1;33m\u001b[0m\u001b[1;33m\u001b[0m\u001b[0m\n\u001b[1;32m---> 32\u001b[1;33m         \u001b[0mself\u001b[0m\u001b[1;33m.\u001b[0m\u001b[0mdata\u001b[0m \u001b[1;33m=\u001b[0m \u001b[0mdl\u001b[0m\u001b[1;33m.\u001b[0m\u001b[0mload\u001b[0m\u001b[1;33m(\u001b[0m\u001b[1;33m)\u001b[0m\u001b[1;33m\u001b[0m\u001b[1;33m\u001b[0m\u001b[0m\n\u001b[0m\u001b[0;32m     33\u001b[0m         \u001b[0mself\u001b[0m\u001b[1;33m.\u001b[0m\u001b[0mtester\u001b[0m \u001b[1;33m=\u001b[0m \u001b[0mAutoTester\u001b[0m\u001b[1;33m(\u001b[0m\u001b[1;33m)\u001b[0m\u001b[1;33m\u001b[0m\u001b[1;33m\u001b[0m\u001b[0m\n\u001b[0;32m     34\u001b[0m         \u001b[0mself\u001b[0m\u001b[1;33m.\u001b[0m\u001b[0mautoformula\u001b[0m \u001b[1;33m=\u001b[0m \u001b[0mAutoFormula\u001b[0m\u001b[1;33m(\u001b[0m\u001b[0mself\u001b[0m\u001b[1;33m.\u001b[0m\u001b[0mdata\u001b[0m\u001b[1;33m)\u001b[0m\u001b[1;33m\u001b[0m\u001b[1;33m\u001b[0m\u001b[0m\n",
      "\u001b[1;32mC:/Users/Administrator/Desktop/Repositories/Low-Frequency-Spread-Estimator\\dataloader\\dataloader.py\u001b[0m in \u001b[0;36mload\u001b[1;34m(self)\u001b[0m\n\u001b[0;32m     79\u001b[0m         \u001b[1;33m:\u001b[0m\u001b[1;32mreturn\u001b[0m\u001b[1;33m:\u001b[0m \u001b[0mdata\u001b[0m\u001b[0;31m，\u001b[0m\u001b[0m包含data_dic\u001b[0m\u001b[0;31m，\u001b[0m\u001b[0m分别为OHLC四个价格\u001b[0m\u001b[0;31m；\u001b[0m\u001b[0mspread\u001b[0m\u001b[0;31m，\u001b[0m\u001b[0m价差\u001b[0m\u001b[1;33m\u001b[0m\u001b[1;33m\u001b[0m\u001b[0m\n\u001b[0;32m     80\u001b[0m         \"\"\"\n\u001b[1;32m---> 81\u001b[1;33m         \u001b[0mdays\u001b[0m \u001b[1;33m=\u001b[0m \u001b[0mos\u001b[0m\u001b[1;33m.\u001b[0m\u001b[0mlistdir\u001b[0m\u001b[1;33m(\u001b[0m\u001b[0mself\u001b[0m\u001b[1;33m.\u001b[0m\u001b[0mdata_path\u001b[0m\u001b[1;33m)\u001b[0m\u001b[1;33m\u001b[0m\u001b[1;33m\u001b[0m\u001b[0m\n\u001b[0m\u001b[0;32m     82\u001b[0m         \u001b[0mspread\u001b[0m \u001b[1;33m=\u001b[0m \u001b[0mnp\u001b[0m\u001b[1;33m.\u001b[0m\u001b[0mzeros\u001b[0m\u001b[1;33m(\u001b[0m\u001b[1;33m(\u001b[0m\u001b[0mlen\u001b[0m\u001b[1;33m(\u001b[0m\u001b[0mdays\u001b[0m\u001b[1;33m)\u001b[0m\u001b[1;33m,\u001b[0m \u001b[1;36m2081\u001b[0m\u001b[1;33m)\u001b[0m\u001b[1;33m)\u001b[0m  \u001b[1;31m# 默认2081只股票\u001b[0m\u001b[1;33m\u001b[0m\u001b[1;33m\u001b[0m\u001b[0m\n\u001b[0;32m     83\u001b[0m         \u001b[0mrelative_spread\u001b[0m \u001b[1;33m=\u001b[0m \u001b[0mnp\u001b[0m\u001b[1;33m.\u001b[0m\u001b[0mzeros\u001b[0m\u001b[1;33m(\u001b[0m\u001b[1;33m(\u001b[0m\u001b[0mlen\u001b[0m\u001b[1;33m(\u001b[0m\u001b[0mdays\u001b[0m\u001b[1;33m)\u001b[0m\u001b[1;33m,\u001b[0m \u001b[1;36m2081\u001b[0m\u001b[1;33m)\u001b[0m\u001b[1;33m)\u001b[0m  \u001b[1;31m# 默认2081只股票\u001b[0m\u001b[1;33m\u001b[0m\u001b[1;33m\u001b[0m\u001b[0m\n",
      "\u001b[1;31mFileNotFoundError\u001b[0m: [WinError 3] 系统找不到指定的路径。: 'C:/Users/Handsome Bad Guy/Desktop/DailyData/data'"
     ]
    }
   ],
   "source": [
    "se = SpreadEstimator(data_path='C:/Users/Handsome Bad Guy/Desktop/DailyData/data')"
   ]
  },
  {
   "cell_type": "markdown",
   "id": "f8343469",
   "metadata": {},
   "source": [
    "### 简易测试几个随意构造的价差估计器的截面平均corr"
   ]
  },
  {
   "cell_type": "code",
   "execution_count": 4,
   "id": "3b5a487c",
   "metadata": {
    "scrolled": true
   },
   "outputs": [
    {
     "name": "stdout",
     "output_type": "stream",
     "text": [
      "mean corr: 0.1773, positive_corr_ratio: 0.9918, corr_IR: 2.7977\n",
      "mean corr: 0.3971, positive_corr_ratio: 0.9856, corr_IR: 2.2469\n",
      "mean corr: -0.1054, positive_corr_ratio: 0.0782, corr_IR: -1.4613\n",
      "mean corr: 0.0099, positive_corr_ratio: 0.5406, corr_IR: 0.0437\n"
     ]
    }
   ],
   "source": [
    "stats, signal = se.test_factor('div{high,low}', corr_type='log', method='cs')\n",
    "stats, signal = se.test_factor('div{high,low}', corr_type='log', method='ts')\n",
    "\n",
    "stats, signal = se.test_factor('div{high,low}', corr_type='log', method='cs', spread_type='relative_spread')\n",
    "stats, signal = se.test_factor('div{high,low}', corr_type='linear', method='ts', spread_type='relative_spread')"
   ]
  },
  {
   "cell_type": "markdown",
   "id": "20688318",
   "metadata": {},
   "source": [
    "### 测试论文中的估计器"
   ]
  },
  {
   "cell_type": "markdown",
   "id": "98269369",
   "metadata": {},
   "source": [
    "#### HL, 2012"
   ]
  },
  {
   "cell_type": "code",
   "execution_count": 10,
   "id": "b4f8a1a1",
   "metadata": {},
   "outputs": [
    {
     "name": "stdout",
     "output_type": "stream",
     "text": [
      "0.41421356237309515\n",
      "0.1715728752538097\n"
     ]
    }
   ],
   "source": [
    "# HL estimator\n",
    "print(np.sqrt(2)-1)\n",
    "print(3-np.sqrt(2)*2)"
   ]
  },
  {
   "cell_type": "code",
   "execution_count": 15,
   "id": "e0ae8d59",
   "metadata": {},
   "outputs": [],
   "source": [
    "fml = 'minus{div{powv{tsmean{powv{minus{div{high,low},1},2},10},0.5},0.4142},'+\\\n",
    "'powv{div{tsmean{powv{minus{div{tsmax{high,2},tsmin{low,2}},1},2},10},0.1716},0.5}}'"
   ]
  },
  {
   "cell_type": "code",
   "execution_count": 16,
   "id": "e2c25ed0",
   "metadata": {},
   "outputs": [
    {
     "name": "stdout",
     "output_type": "stream",
     "text": [
      "cs_spread\n",
      "mean corr: -0.0753, positive_corr_ratio: 0.0940, corr_IR: -1.3808\n",
      "mean corr: -0.1242, positive_corr_ratio: 0.0556, corr_IR: -1.7685\n",
      "\n",
      "cs_relative_spread\n",
      "mean corr: 0.1964, positive_corr_ratio: 0.9915, corr_IR: 3.2291\n",
      "mean corr: 0.2034, positive_corr_ratio: 0.9957, corr_IR: 3.2123\n",
      "\n",
      "ts_spread\n",
      "mean corr: -0.0569, positive_corr_ratio: 0.2633, corr_IR: -0.5274\n",
      "mean corr: -0.0644, positive_corr_ratio: 0.2508, corr_IR: -0.5663\n",
      "\n",
      "ts_relative_spread\n",
      "mean corr: -0.0019, positive_corr_ratio: 0.4440, corr_IR: -0.0159\n",
      "mean corr: -0.0023, positive_corr_ratio: 0.4608, corr_IR: -0.0189\n"
     ]
    }
   ],
   "source": [
    "\n",
    "print('cs_spread')\n",
    "stats, signal = se.test_factor(fml, corr_type='linear',method='cs')\n",
    "stats, signal = se.test_factor(fml, corr_type='log',method='cs')\n",
    "\n",
    "print('')\n",
    "print('cs_relative_spread')\n",
    "stats, signal = se.test_factor(fml, corr_type='linear',method='cs', spread_type='relative_spread')\n",
    "stats, signal = se.test_factor(fml, corr_type='log',method='cs', spread_type='relative_spread')\n",
    "\n",
    "print('')\n",
    "print('ts_spread')\n",
    "stats, signal = se.test_factor(fml, corr_type='linear',method='ts')\n",
    "stats, signal = se.test_factor(fml, corr_type='log',method='ts')\n",
    "\n",
    "print('')\n",
    "print('ts_relative_spread')\n",
    "stats, signal = se.test_factor(fml, corr_type='linear',method='ts', spread_type='relative_spread')\n",
    "stats, signal = se.test_factor(fml, corr_type='log',method='ts', spread_type='relative_spread')"
   ]
  },
  {
   "cell_type": "markdown",
   "id": "16a4ef7e",
   "metadata": {},
   "source": [
    "#### Roll, 1999"
   ]
  },
  {
   "cell_type": "code",
   "execution_count": 14,
   "id": "e5e6525f",
   "metadata": {},
   "outputs": [
    {
     "name": "stdout",
     "output_type": "stream",
     "text": [
      "cs_spread\n",
      "mean corr: 0.2892, positive_corr_ratio: 0.8828, corr_IR: 1.2613\n",
      "mean corr: 0.1996, positive_corr_ratio: 0.9121, corr_IR: 1.5981\n",
      "\n",
      "cs_relative_spread\n",
      "mean corr: -0.0462, positive_corr_ratio: 0.0418, corr_IR: -1.6650\n",
      "mean corr: -0.0690, positive_corr_ratio: 0.0335, corr_IR: -1.6001\n",
      "\n",
      "ts_spread\n",
      "mean corr: 0.0952, positive_corr_ratio: 0.7410, corr_IR: 0.6625\n",
      "mean corr: 0.0998, positive_corr_ratio: 0.7544, corr_IR: 0.7060\n",
      "\n",
      "ts_relative_spread\n",
      "mean corr: -0.0745, positive_corr_ratio: 0.2917, corr_IR: -0.5325\n",
      "mean corr: -0.0813, positive_corr_ratio: 0.2946, corr_IR: -0.5650\n"
     ]
    }
   ],
   "source": [
    "fml = 'neg{tscov{tsdelta{close,1},tsdelay{tsdelta{close,1},1},5}}'\n",
    "\n",
    "print('cs_spread')\n",
    "stats, signal = se.test_factor(fml, corr_type='linear',method='cs')\n",
    "stats, signal = se.test_factor(fml, corr_type='log',method='cs')\n",
    "\n",
    "print('')\n",
    "print('cs_relative_spread')\n",
    "stats, signal = se.test_factor(fml, corr_type='linear',method='cs', spread_type='relative_spread')\n",
    "stats, signal = se.test_factor(fml, corr_type='log',method='cs', spread_type='relative_spread')\n",
    "\n",
    "print('')\n",
    "print('ts_spread')\n",
    "stats, signal = se.test_factor(fml, corr_type='linear',method='ts')\n",
    "stats, signal = se.test_factor(fml, corr_type='log',method='ts')\n",
    "\n",
    "print('')\n",
    "print('ts_relative_spread')\n",
    "stats, signal = se.test_factor(fml, corr_type='linear',method='ts', spread_type='relative_spread')\n",
    "stats, signal = se.test_factor(fml, corr_type='log',method='ts', spread_type='relative_spread')"
   ]
  },
  {
   "cell_type": "code",
   "execution_count": 11,
   "id": "2ac59be6",
   "metadata": {},
   "outputs": [],
   "source": [
    "AT = AutoTester()\n",
    "signal[signal<0] = 0\n",
    "signal = np.sqrt(signal)\n",
    "signal[signal <= 0.01] = 0.01"
   ]
  },
  {
   "cell_type": "code",
   "execution_count": 13,
   "id": "a89efcb8",
   "metadata": {},
   "outputs": [
    {
     "name": "stdout",
     "output_type": "stream",
     "text": [
      "mean corr: 0.5197, positive_corr_ratio: 0.9917, corr_IR: 3.9607\n",
      "mean corr: 0.2200, positive_corr_ratio: 0.9917, corr_IR: 3.7360\n"
     ]
    }
   ],
   "source": [
    "stats = AT.test(signal, se.data.spread, corr_type='linear',method='cs')\n",
    "print('mean corr: {:.4f}, positive_corr_ratio: {:.4f}, corr_IR: {:.4f}'.\n",
    "              format(stats.mean_corr, stats.positive_corr_ratio, stats.corr_IR))\n",
    "\n",
    "stats = AT.test(-signal, se.data.spread_dic['relative_spread'], corr_type='linear',method='cs')\n",
    "print('mean corr: {:.4f}, positive_corr_ratio: {:.4f}, corr_IR: {:.4f}'.\n",
    "              format(stats.mean_corr, stats.positive_corr_ratio, stats.corr_IR))"
   ]
  },
  {
   "cell_type": "markdown",
   "id": "daf5c11e",
   "metadata": {},
   "source": [
    "#### Gibbs, 2004"
   ]
  },
  {
   "cell_type": "code",
   "execution_count": 30,
   "id": "85283832",
   "metadata": {},
   "outputs": [],
   "source": [
    "# import estimator\n",
    "importlib.reload(estimator.Gibbs2004)\n",
    "from estimator.Gibbs2004 import gibbs"
   ]
  },
  {
   "cell_type": "code",
   "execution_count": 36,
   "id": "1ba56a2e",
   "metadata": {},
   "outputs": [
    {
     "name": "stdout",
     "output_type": "stream",
     "text": [
      "done. time used: 1.610404s\n"
     ]
    }
   ],
   "source": [
    "t  = time()\n",
    "c_s, q_s, sigma_u_s = gibbs(se.data.data_dic['close'][-20:,0], \n",
    "                            sigma_c=1e6, ig_alpha=2, \n",
    "                            ig_beta=1e-4, sample_num=1000)\n",
    "print('done. time used: {:4f}s'.format(time()-t))"
   ]
  },
  {
   "cell_type": "code",
   "execution_count": 37,
   "id": "ae288250",
   "metadata": {},
   "outputs": [
    {
     "data": {
      "text/plain": [
       "0.0007866092598205954"
      ]
     },
     "execution_count": 37,
     "metadata": {},
     "output_type": "execute_result"
    }
   ],
   "source": [
    "np.mean(c_s)"
   ]
  },
  {
   "cell_type": "code",
   "execution_count": 43,
   "id": "66058506",
   "metadata": {},
   "outputs": [
    {
     "data": {
      "text/plain": [
       "0.003225734891713073"
      ]
     },
     "execution_count": 43,
     "metadata": {},
     "output_type": "execute_result"
    }
   ],
   "source": [
    "np.mean(sigma_u_s[-500:])"
   ]
  },
  {
   "cell_type": "code",
   "execution_count": 44,
   "id": "567b60d3",
   "metadata": {},
   "outputs": [
    {
     "data": {
      "text/plain": [
       "(array([930.,  46.,  13.,   3.,   5.,   0.,   0.,   0.,   1.,   2.]),\n",
       " array([0.00027506, 0.00740077, 0.01452648, 0.0216522 , 0.02877791,\n",
       "        0.03590362, 0.04302933, 0.05015504, 0.05728075, 0.06440646,\n",
       "        0.07153218]),\n",
       " <BarContainer object of 10 artists>)"
      ]
     },
     "execution_count": 44,
     "metadata": {},
     "output_type": "execute_result"
    },
    {
     "data": {
      "image/png": "[encoded data removed]",
      "text/plain": [
       "<Figure size 432x288 with 1 Axes>"
      ]
     },
     "metadata": {
      "needs_background": "light"
     },
     "output_type": "display_data"
    }
   ],
   "source": [
    "plt.hist(sigma_u_s)"
   ]
  },
  {
   "cell_type": "code",
   "execution_count": 42,
   "id": "6c9b4994",
   "metadata": {},
   "outputs": [
    {
     "data": {
      "text/plain": [
       "0.0003004649419862676"
      ]
     },
     "execution_count": 42,
     "metadata": {},
     "output_type": "execute_result"
    }
   ],
   "source": [
    "np.var(np.log(se.data.data_dic['close'][-20:,0])-np.log(se.data.data_dic['close'][-21:-1,0]))"
   ]
  },
  {
   "cell_type": "code",
   "execution_count": null,
   "id": "e49b51f7",
   "metadata": {},
   "outputs": [],
   "source": []
  }
 ],
 "metadata": {
  "kernelspec": {
   "display_name": "Python 3 (ipykernel)",
   "language": "python",
   "name": "python3"
  },
  "language_info": {
   "codemirror_mode": {
    "name": "ipython",
    "version": 3
   },
   "file_extension": ".py",
   "mimetype": "text/x-python",
   "name": "python",
   "nbconvert_exporter": "python",
   "pygments_lexer": "ipython3",
   "version": "3.8.5"
  }
 },
 "nbformat": 4,
 "nbformat_minor": 5
}
