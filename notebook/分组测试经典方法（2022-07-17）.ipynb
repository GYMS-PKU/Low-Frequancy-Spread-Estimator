{
 "cells": [
  {
   "cell_type": "markdown",
   "id": "b81f4b28",
   "metadata": {
    "pycharm": {
     "name": "#%% md\n"
    }
   },
   "source": [
    "### 分组测试经典方法\n",
    "2022-07-17\n",
    "- univ矩阵要求：所有值都没有缺失\n",
    "2022-08-07\n",
    "- 改成5元划分的两组\n",
    "2022-08-16\n",
    "- 通过bootstrap计算估计标准差\n",
    "2022-09-03\n",
    "- bootstrap计算分位点"
   ]
  },
  {
   "cell_type": "code",
   "execution_count": 1,
   "id": "b5c7ef5f",
   "metadata": {
    "pycharm": {
     "name": "#%%\n"
    }
   },
   "outputs": [],
   "source": [
    "import numpy as np\n",
    "import pandas as pd\n",
    "import matplotlib.pyplot as plt\n",
    "import importlib\n",
    "import sys\n",
    "sys.path.append('C:/Users/Administrator/Desktop/Repositories/Low-Frequency-Spread-Estimator')\n",
    "sys.path.append('C:/Users/18316/Desktop/Repositories/Low-Frequency-Spread-Estimator')\n",
    "sys.path.append('C:/Users/Handsome Bad Guy/Desktop/Repositories/Low-Frequency-Spread-Estimator')\n",
    "\n",
    "from SpreadEstimator.SpreadEstimator import SpreadEstimator\n",
    "from mytools.AutoTester import AutoTester\n",
    "\n",
    "from time import time\n",
    "\n",
    "import warnings\n",
    "warnings.filterwarnings(\"ignore\")"
   ]
  },
  {
   "cell_type": "code",
   "execution_count": 2,
   "id": "5a0ea2ea",
   "metadata": {
    "pycharm": {
     "name": "#%%\n"
    }
   },
   "outputs": [],
   "source": [
    "se = SpreadEstimator()"
   ]
  },
  {
   "cell_type": "markdown",
   "id": "9f5cba96",
   "metadata": {
    "pycharm": {
     "name": "#%% md\n"
    }
   },
   "source": [
    "### 构造两组univ"
   ]
  },
  {
   "cell_type": "code",
   "execution_count": 4,
   "id": "fa89e8f5",
   "metadata": {
    "pycharm": {
     "name": "#%%\n"
    }
   },
   "outputs": [
    {
     "name": "stdout",
     "output_type": "stream",
     "text": [
      "1549\n",
      "532\n"
     ]
    }
   ],
   "source": [
    "univ = se.data.data_dic['volume'] > 0  # 当天有交易\n",
    "th = 0.8\n",
    "\n",
    "# univ_2 = []\n",
    "# for i in range(2081):\n",
    "#     if np.sum(se.data.data_dic['close'][univ[:,i],i]>10) >= th * 243:\n",
    "#         univ_2.append(1)\n",
    "#     else:\n",
    "#         univ_2.append(0)\n",
    "# univ_2 = np.array(univ_2) > 0\n",
    "# print(np.sum(univ_2))\n",
    "# univ_2 = np.repeat(univ_2.reshape(1,2081), 243, 0)\n",
    "\n",
    "univ_1 = []\n",
    "for i in range(2081):\n",
    "    if np.sum(se.data.data_dic['close'][univ[:,i],i]>5) >= th * 243:\n",
    "        univ_1.append(1)\n",
    "    else:\n",
    "        univ_1.append(0)\n",
    "univ_1 = np.array(univ_1) > 0\n",
    "univ_1 = np.repeat(univ_1.reshape(1,2081), 243, 0)\n",
    "print(np.sum(univ_1[0]))\n",
    "\n",
    "univ_0 = (~univ_1)\n",
    "print(np.sum(univ_0[0]))\n",
    "\n",
    "univ_0 = univ_0 & univ\n",
    "univ_1 = univ_1 & univ\n",
    "\n",
    "all_univ = [univ_0, univ_1]"
   ]
  },
  {
   "cell_type": "code",
   "execution_count": 16,
   "id": "1360d4ea",
   "metadata": {
    "pycharm": {
     "name": "#%%\n"
    }
   },
   "outputs": [],
   "source": [
    "import pickle\n",
    "with open(r\"D:\\Documents\\学习资料\\本科毕业论文\\data\\close_top.pkl\", 'wb') as f:\n",
    "    pickle.dump(univ_1, f)"
   ]
  },
  {
   "cell_type": "markdown",
   "id": "3c6c13b9",
   "metadata": {
    "pycharm": {
     "name": "#%% md\n"
    }
   },
   "source": [
    "### 在2组股票中测试"
   ]
  },
  {
   "cell_type": "code",
   "execution_count": 7,
   "id": "f6bf86ef",
   "metadata": {
    "pycharm": {
     "name": "#%%\n"
    }
   },
   "outputs": [],
   "source": [
    "def test_cs(signal, target, univ, back: int = 1):\n",
    "    corr = []\n",
    "    for i in range(signal.shape[0]):\n",
    "        if i < back-1:\n",
    "            continue\n",
    "        t = np.nanmean(target[i-back+1: i+1], axis=0)\n",
    "        se = (~np.isnan(t)) & (~np.isnan(signal[i])) & univ[i]\n",
    "        if np.sum(se) < 2:\n",
    "            continue\n",
    "        corr.append(np.corrcoef(signal[i, se], t[se])[0, 1])\n",
    "    print('{:.4f}'.format(np.nanmean(corr)))\n",
    "    return corr\n",
    "\n",
    "def test_ts(signal, target, univ, back: int = 1):\n",
    "    corr = []\n",
    "    new_t = np.zeros((len(target)-back+1, target.shape[1]))\n",
    "    for i in range(new_t.shape[0]):\n",
    "        new_t[i] = np.nanmean(target[i:i+back])\n",
    "    for i in range(signal.shape[1]):\n",
    "        t = new_t[:, i]\n",
    "        se = (~np.isnan(t)) & (~np.isnan(signal[back-1:, i])) & univ[back-1:, i]\n",
    "        if np.sum(se) < 2:\n",
    "            continue\n",
    "        corr.append(np.corrcoef(signal[back-1:, i][se], t[se])[0, 1])\n",
    "    print('{:.4f}'.format(np.mean(corr)))\n",
    "    return corr\n",
    "\n",
    "def cal_std(corr, num: int=10000):  # bootstrap计算标准差和分位点\n",
    "    corr = np.array(corr)\n",
    "    corr_ = []\n",
    "    lst = [i for i in range(len(corr))]\n",
    "    for n in range(10000):\n",
    "        corr_.append(np.nanmean(corr[np.random.choice(lst, len(lst))]))\n",
    "    corr_ = np.sort(corr_)\n",
    "    print('{:.4f}, {:.4f}, {:.4f}, {:.4f}, {:.4f}, {:.4f}'.format(corr_[100], corr_[500],corr_[1000],corr_[9000],corr_[9500],corr_[9900]))\n",
    "    return np.std(corr_)"
   ]
  },
  {
   "cell_type": "code",
   "execution_count": 8,
   "id": "26fcf2da",
   "metadata": {
    "pycharm": {
     "name": "#%%\n"
    }
   },
   "outputs": [],
   "source": [
    "def test_rela(signal, all_univ):\n",
    "    print('rela cs')\n",
    "    for u in all_univ:\n",
    "        _ = test_cs(signal, se.data.spread_dic['relative_spread'], u, 20)\n",
    "        print('{:.4f}'.format(cal_std(_)))\n",
    "        print()\n",
    "    print()\n",
    "\n",
    "    print('rela ts')\n",
    "    for u in all_univ:\n",
    "        _ = test_ts(signal, se.data.spread_dic['relative_spread'], u, 20)\n",
    "        print('{:.4f}'.format(cal_std(_)))\n",
    "        print()\n",
    "    print()\n",
    "\n",
    "    print('vol_wtd_rel_bas cs ')\n",
    "    for u in all_univ:\n",
    "        _ = test_cs(signal, se.data.spread_dic['vol_wtd_rel_bas'], u, 20)\n",
    "        print('{:.4f}'.format(cal_std(_)))\n",
    "        print()\n",
    "    print()\n",
    "\n",
    "    print('vol_wtd_rel_bas ts ')\n",
    "    for u in all_univ:\n",
    "        _ = test_ts(signal, se.data.spread_dic['vol_wtd_rel_bas'], u, 20)\n",
    "        print('{:.4f}'.format(cal_std(_)))\n",
    "        print()\n",
    "        \n",
    "def test_spread(signal, all_univ):\n",
    "    print('spread cs')\n",
    "    for u in all_univ:\n",
    "        _ = test_cs(signal, se.data.spread_dic['spread'], u, 20)\n",
    "        print('{:.4f}'.format(cal_std(_)))\n",
    "        print()\n",
    "    print()\n",
    "\n",
    "    print('spread ts')\n",
    "    for u in all_univ:\n",
    "        _ = test_ts(signal, se.data.spread_dic['spread'], u, 20)\n",
    "        print('{:.4f}'.format(cal_std(_)))\n",
    "        print()"
   ]
  },
  {
   "cell_type": "code",
   "execution_count": 6,
   "id": "cd44857d",
   "metadata": {
    "pycharm": {
     "name": "#%%\n"
    }
   },
   "outputs": [],
   "source": [
    "np.random.seed(0)"
   ]
  },
  {
   "cell_type": "markdown",
   "id": "41493400",
   "metadata": {
    "pycharm": {
     "name": "#%% md\n"
    }
   },
   "source": [
    "#### HL"
   ]
  },
  {
   "cell_type": "code",
   "execution_count": 9,
   "id": "cb087761",
   "metadata": {
    "pycharm": {
     "name": "#%%\n"
    }
   },
   "outputs": [
    {
     "name": "stdout",
     "output_type": "stream",
     "text": [
      "mean corr: -0.2082, positive_corr_ratio: 0.0000, corr_IR: -3.6871\n",
      "\n",
      "rela cs\n",
      "-0.1406\n",
      "-0.1567, -0.1520, -0.1495, -0.1317, -0.1291, -0.1242\n",
      "0.0070\n",
      "\n",
      "-0.1765\n",
      "-0.1922, -0.1875, -0.1852, -0.1677, -0.1650, -0.1605\n",
      "0.0068\n",
      "\n",
      "\n",
      "rela ts\n",
      "0.0038\n",
      "-0.0409, -0.0274, -0.0202, 0.0282, 0.0349, 0.0476\n",
      "0.0189\n",
      "\n",
      "0.0381\n",
      "0.0119, 0.0199, 0.0240, 0.0529, 0.0568, 0.0642\n",
      "0.0113\n",
      "\n",
      "\n",
      "vol_wtd_rel_bas cs \n",
      "-0.1259\n",
      "-0.1418, -0.1374, -0.1347, -0.1174, -0.1147, -0.1102\n",
      "0.0068\n",
      "\n",
      "-0.1415\n",
      "-0.1574, -0.1525, -0.1501, -0.1325, -0.1300, -0.1250\n",
      "0.0069\n",
      "\n",
      "\n",
      "vol_wtd_rel_bas ts \n",
      "0.0082\n",
      "-0.0336, -0.0219, -0.0152, 0.0322, 0.0389, 0.0518\n",
      "0.0186\n",
      "\n",
      "0.0512\n",
      "0.0246, 0.0329, 0.0367, 0.0654, 0.0695, 0.0770\n",
      "0.0112\n",
      "\n"
     ]
    }
   ],
   "source": [
    "beta = 'prod{tsmean{powv{minus{logv{high},logv{low}},2},2},2}'\n",
    "\n",
    "high_1 = 'logv{tsdelay{high,1}}'\n",
    "low_1 = 'logv{tsdelay{low,1}}'\n",
    "con_1 = 'condition{gt{logv{low},logv{tsdelay{close,1}}},minus{logv{low},logv{tsdelay{close,1}}},minus{close,close}}'\n",
    "con_2 = 'condition{lt{logv{high},logv{tsdelay{close,1}}},minus{logv{high},logv{tsdelay{close,1}}},minus{close,close}}'\n",
    "con = 'add{' + con_1 + ',' + con_2 + '}'\n",
    "high_2 = 'minus{logv{high},' + con + '}'\n",
    "low_2 = 'minus{logv{low},' + con + '}'\n",
    "high = 'condition{ge{' + high_1 + ',' + high_2 + '},' + high_1 + ',' + high_2 + '}'\n",
    "low = 'condition{le{' + low_1 + ',' + low_2 + '},' + low_1 + ',' + low_2 + '}'\n",
    "\n",
    "gamma = 'powv{minus{' + high + ',' + low + '},2}'\n",
    "alpha = 'div{prod{' + 'powv{' + beta + ',0.5},0.4142},0.1716}'\n",
    "fml = 'minus{' + alpha + ',' + 'powv{' + 'div{' + gamma + ',0.1716},0.5}}'\n",
    "\n",
    "fml = 'div{' + 'minus{expv{' + fml + '},1},' + 'add{expv{' + fml + '},1}}'\n",
    "fml = 'condition{' + 'ge{' + fml + ',0},' + fml + ',add{minus{close,close},0}}'\n",
    "fml = 'tsmean{' + fml + ',20}'\n",
    "\n",
    "fml = 'div{' + 'minus{expv{' + fml + '},1},' + 'add{expv{' + fml + '},1}}'\n",
    "fml = 'condition{' + 'ge{' + fml + ',0},' + fml + ',add{minus{close,close},0}}'\n",
    "fml = 'tsmean{' + fml + ',20}'\n",
    "stats, signal = se.test_factor(fml, corr_type='linear', method='cs', spread_type='relative_spread')\n",
    "print()\n",
    "\n",
    "test_rela(signal, all_univ)"
   ]
  },
  {
   "cell_type": "code",
   "execution_count": 10,
   "id": "0967eda7",
   "metadata": {
    "pycharm": {
     "name": "#%%\n"
    }
   },
   "outputs": [
    {
     "name": "stdout",
     "output_type": "stream",
     "text": [
      "mean corr: -0.4630, positive_corr_ratio: 0.0000, corr_IR: -16.7947\n",
      "\n",
      "spread cs\n",
      "0.3754\n",
      "0.3587, 0.3636, 0.3662, 0.3849, 0.3874, 0.3919\n",
      "0.0072\n",
      "\n",
      "0.7009\n",
      "0.6947, 0.6966, 0.6975, 0.7042, 0.7053, 0.7071\n",
      "0.0026\n",
      "\n",
      "\n",
      "spread ts\n",
      "0.2615\n",
      "0.2347, 0.2429, 0.2470, 0.2760, 0.2801, 0.2873\n",
      "0.0113\n",
      "\n",
      "0.2625\n",
      "0.2475, 0.2521, 0.2543, 0.2705, 0.2729, 0.2773\n",
      "0.0064\n",
      "\n"
     ]
    }
   ],
   "source": [
    "beta = 'prod{tsmean{powv{minus{high,low},2},2},2}'\n",
    "high_1 = 'tsdelay{high,1}'\n",
    "low_1 = 'tsdelay{low,1}'\n",
    "con_1 = 'condition{gt{low,tsdelay{close,1}},minus{low,tsdelay{close,1}},minus{close,close}}'\n",
    "con_2 = 'condition{lt{high,tsdelay{close,1}},minus{high,tsdelay{close,1}},minus{close,close}}'\n",
    "con = 'add{' + con_1 + ',' + con_2 + '}'\n",
    "high_2 = 'minus{high,' + con + '}'\n",
    "low_2 = 'minus{low,' + con + '}'\n",
    "high = 'condition{ge{' + high_1 + ',' + high_2 + '},' + high_1 + ',' + high_2 + '}'\n",
    "low = 'condition{le{' + low_1 + ',' + low_2 + '},' + low_1 + ',' + low_2 + '}'\n",
    "\n",
    "gamma = 'powv{minus{' + high + ',' + low + '},2}'\n",
    "alpha = 'div{prod{' + 'powv{' + beta + ',0.5},0.4142},0.1716}'\n",
    "fml = 'minus{' + alpha + ',' + 'powv{' + 'div{' + gamma + ',0.1716},0.5}}'\n",
    "\n",
    "fml = 'div{' + 'minus{expv{' + fml + '},1},' + 'add{expv{' + fml + '},1}}'\n",
    "fml = 'condition{' + 'ge{' + fml + ',0},' + fml + ',add{minus{close,close},0}}'\n",
    "fml = 'tsmean{' + fml + ',20}'\n",
    "stats, signal = se.test_factor(fml, corr_type='linear', method='cs', spread_type='relative_spread')\n",
    "\n",
    "print()\n",
    "test_spread(signal, all_univ)"
   ]
  },
  {
   "cell_type": "markdown",
   "id": "08dffb3b",
   "metadata": {
    "pycharm": {
     "name": "#%% md\n"
    }
   },
   "source": [
    "#### Roll"
   ]
  },
  {
   "cell_type": "code",
   "execution_count": 11,
   "id": "eb345882",
   "metadata": {
    "pycharm": {
     "name": "#%%\n"
    }
   },
   "outputs": [
    {
     "name": "stdout",
     "output_type": "stream",
     "text": [
      "mean corr: 0.0994, positive_corr_ratio: 0.9279, corr_IR: 1.2409\n",
      "\n",
      "rela cs\n",
      "-0.0569\n",
      "-0.0743, -0.0692, -0.0668, -0.0470, -0.0440, -0.0386\n",
      "0.0077\n",
      "\n",
      "-0.0970\n",
      "-0.1082, -0.1049, -0.1032, -0.0906, -0.0888, -0.0853\n",
      "0.0049\n",
      "\n",
      "\n",
      "rela ts\n",
      "0.0944\n",
      "0.0568, 0.0677, 0.0733, 0.1153, 0.1211, 0.1320\n",
      "0.0162\n",
      "\n",
      "0.1095\n",
      "0.0897, 0.0959, 0.0990, 0.1206, 0.1236, 0.1294\n",
      "0.0085\n",
      "\n",
      "\n",
      "vol_wtd_rel_bas cs \n",
      "-0.0368\n",
      "-0.0543, -0.0491, -0.0464, -0.0272, -0.0243, -0.0184\n",
      "0.0076\n",
      "\n",
      "-0.0439\n",
      "-0.0548, -0.0517, -0.0500, -0.0377, -0.0359, -0.0328\n",
      "0.0048\n",
      "\n",
      "\n",
      "vol_wtd_rel_bas ts \n",
      "0.1317\n",
      "0.0934, 0.1054, 0.1113, 0.1528, 0.1583, 0.1690\n",
      "0.0163\n",
      "\n",
      "0.1551\n",
      "0.1350, 0.1409, 0.1439, 0.1659, 0.1690, 0.1743\n",
      "0.0085\n",
      "\n"
     ]
    }
   ],
   "source": [
    "a = 'tsdelta{logv{close},1}'\n",
    "b = 'tsdelay{tsdelta{logv{close},1},1}'\n",
    "fml = 'prod{' + a + ',' + b + '}'\n",
    "fml = 'condition{' + 'ge{' + fml + ',0},' + fml + ',add{minus{close,close},0}}'\n",
    "fml = 'tsmean{' + fml + ',20}'\n",
    "fml = 'powv{' + fml + ',0.5}'\n",
    "\n",
    "stats, signal = se.test_factor(fml, corr_type='linear', method='cs', spread_type='spread')\n",
    "\n",
    "print()\n",
    "test_rela(signal, all_univ)"
   ]
  },
  {
   "cell_type": "code",
   "execution_count": 12,
   "id": "5a7c5772",
   "metadata": {
    "pycharm": {
     "name": "#%%\n"
    }
   },
   "outputs": [
    {
     "name": "stdout",
     "output_type": "stream",
     "text": [
      "mean corr: 0.7924, positive_corr_ratio: 1.0000, corr_IR: 18.7505\n",
      "\n",
      "spread cs\n",
      "0.3684\n",
      "0.3466, 0.3529, 0.3565, 0.3809, 0.3842, 0.3904\n",
      "0.0095\n",
      "\n",
      "0.7887\n",
      "0.7826, 0.7844, 0.7853, 0.7920, 0.7929, 0.7946\n",
      "0.0026\n",
      "\n",
      "\n",
      "spread ts\n",
      "0.1417\n",
      "0.1175, 0.1245, 0.1282, 0.1549, 0.1586, 0.1652\n",
      "0.0103\n",
      "\n",
      "0.1621\n",
      "0.1484, 0.1525, 0.1546, 0.1697, 0.1717, 0.1758\n",
      "0.0059\n",
      "\n"
     ]
    }
   ],
   "source": [
    "a = 'tsdelta{close,1}'\n",
    "b = 'tsdelay{tsdelta{close,1},1}'\n",
    "fml = 'prod{' + a + ',' + b + '}'\n",
    "fml = 'condition{' + 'ge{' + fml + ',0},' + fml + ',add{minus{close,close},0}}'\n",
    "fml = 'tsmean{' + fml + ',20}'\n",
    "fml = 'powv{' + fml + ',0.5}'\n",
    "\n",
    "stats, signal = se.test_factor(fml, corr_type='linear', method='cs', spread_type='spread')\n",
    "print()\n",
    "test_spread(signal, all_univ)"
   ]
  },
  {
   "cell_type": "markdown",
   "id": "680b1853",
   "metadata": {
    "pycharm": {
     "name": "#%% md\n"
    }
   },
   "source": [
    "#### CHL"
   ]
  },
  {
   "cell_type": "code",
   "execution_count": 13,
   "id": "04b39aef",
   "metadata": {
    "pycharm": {
     "name": "#%%\n"
    }
   },
   "outputs": [
    {
     "name": "stdout",
     "output_type": "stream",
     "text": [
      "mean corr: -0.2317, positive_corr_ratio: 0.0000, corr_IR: -3.9265\n",
      "\n",
      "rela cs\n",
      "-0.1404\n",
      "-0.1572, -0.1522, -0.1497, -0.1309, -0.1283, -0.1232\n",
      "0.0073\n",
      "\n",
      "-0.1769\n",
      "-0.1916, -0.1875, -0.1851, -0.1684, -0.1658, -0.1609\n",
      "0.0066\n",
      "\n",
      "\n",
      "rela ts\n",
      "0.0726\n",
      "0.0342, 0.0468, 0.0525, 0.0936, 0.0990, 0.1097\n",
      "0.0161\n",
      "\n",
      "0.0849\n",
      "0.0640, 0.0700, 0.0732, 0.0964, 0.0994, 0.1059\n",
      "0.0090\n",
      "\n",
      "\n",
      "vol_wtd_rel_bas cs \n",
      "-0.1223\n",
      "-0.1390, -0.1341, -0.1314, -0.1128, -0.1101, -0.1049\n",
      "0.0073\n",
      "\n",
      "-0.1301\n",
      "-0.1447, -0.1406, -0.1384, -0.1218, -0.1195, -0.1152\n",
      "0.0064\n",
      "\n",
      "\n",
      "vol_wtd_rel_bas ts \n",
      "0.0948\n",
      "0.0571, 0.0680, 0.0742, 0.1154, 0.1212, 0.1314\n",
      "0.0161\n",
      "\n",
      "0.1191\n",
      "0.0977, 0.1041, 0.1075, 0.1310, 0.1346, 0.1415\n",
      "0.0092\n",
      "\n"
     ]
    }
   ],
   "source": [
    "a = 'minus{logv{tsdelay{close,1}},div{add{logv{tsdelay{high,1}},logv{tsdelay{low,1}}},2}}'\n",
    "b = 'minus{logv{tsdelay{close,1}},div{add{logv{high},logv{low}},2}}'\n",
    "fml = 'prod{' + a + ',' + b + '}'\n",
    "fml = 'condition{' + 'ge{' + fml + ',0},' + fml + ',add{minus{close,close},0}}'\n",
    "fml = 'tsmean{' + fml + ',20}'\n",
    "fml = 'powv{' + fml + ',0.5}'\n",
    "\n",
    "stats, signal = se.test_factor(fml, corr_type='linear', method='cs', spread_type='relative_spread')\n",
    "\n",
    "print()\n",
    "test_rela(signal, all_univ)"
   ]
  },
  {
   "cell_type": "code",
   "execution_count": 14,
   "id": "621c1419",
   "metadata": {
    "pycharm": {
     "name": "#%%\n"
    }
   },
   "outputs": [
    {
     "name": "stdout",
     "output_type": "stream",
     "text": [
      "mean corr: -0.3688, positive_corr_ratio: 0.0000, corr_IR: -8.7364\n",
      "\n",
      "spread cs\n",
      "0.3460\n",
      "0.3285, 0.3334, 0.3363, 0.3558, 0.3586, 0.3634\n",
      "0.0076\n",
      "\n",
      "0.8000\n",
      "0.7940, 0.7958, 0.7967, 0.8033, 0.8041, 0.8059\n",
      "0.0026\n",
      "\n",
      "\n",
      "spread ts\n",
      "0.2436\n",
      "0.2190, 0.2260, 0.2300, 0.2568, 0.2603, 0.2682\n",
      "0.0105\n",
      "\n",
      "0.2473\n",
      "0.2331, 0.2373, 0.2395, 0.2554, 0.2575, 0.2617\n",
      "0.0062\n",
      "\n"
     ]
    }
   ],
   "source": [
    "a = 'minus{tsdelay{close,1},div{add{tsdelay{high,1},tsdelay{low,1}},2}}'\n",
    "b = 'minus{tsdelay{close,1},div{add{high,low},2}}'\n",
    "fml = 'prod{' + a + ',' + b + '}'\n",
    "fml = 'condition{' + 'ge{' + fml + ',0},' + fml + ',add{minus{close,close},0}}'\n",
    "fml = 'tsmean{' + fml + ',20}'\n",
    "fml = 'powv{' + fml + ',0.5}'\n",
    "\n",
    "stats, signal = se.test_factor(fml, corr_type='linear', method='cs', spread_type='relative_spread')\n",
    "\n",
    "print()\n",
    "test_spread(signal, all_univ)"
   ]
  },
  {
   "cell_type": "markdown",
   "id": "f12da8ad",
   "metadata": {
    "pycharm": {
     "name": "#%% md\n"
    }
   },
   "source": [
    "### bas"
   ]
  },
  {
   "cell_type": "code",
   "execution_count": 15,
   "id": "37aa6e47",
   "metadata": {
    "pycharm": {
     "name": "#%%\n"
    }
   },
   "outputs": [
    {
     "name": "stdout",
     "output_type": "stream",
     "text": [
      "mean corr: 0.7343, positive_corr_ratio: 1.0000, corr_IR: 7.4584\n",
      "\n",
      "rela cs\n",
      "0.8742\n",
      "0.8616, 0.8655, 0.8676, 0.8808, 0.8827, 0.8861\n",
      "0.0052\n",
      "\n",
      "0.4895\n",
      "0.4781, 0.4816, 0.4833, 0.4957, 0.4973, 0.5007\n",
      "0.0048\n",
      "\n",
      "\n",
      "rela ts\n",
      "0.1908\n",
      "0.1565, 0.1671, 0.1723, 0.2095, 0.2147, 0.2236\n",
      "0.0144\n",
      "\n",
      "0.0767\n",
      "0.0665, 0.0695, 0.0710, 0.0822, 0.0838, 0.0870\n",
      "0.0044\n",
      "\n",
      "\n",
      "vol_wtd_rel_bas cs \n",
      "0.8727\n",
      "0.8605, 0.8642, 0.8661, 0.8794, 0.8811, 0.8844\n",
      "0.0052\n",
      "\n",
      "0.4873\n",
      "0.4760, 0.4793, 0.4810, 0.4935, 0.4954, 0.4988\n",
      "0.0049\n",
      "\n",
      "\n",
      "vol_wtd_rel_bas ts \n",
      "0.1807\n",
      "0.1449, 0.1564, 0.1619, 0.1997, 0.2053, 0.2155\n",
      "0.0149\n",
      "\n",
      "0.0749\n",
      "0.0645, 0.0676, 0.0692, 0.0807, 0.0824, 0.0854\n",
      "0.0045\n",
      "\n"
     ]
    }
   ],
   "source": [
    "fml = 'last_rel_bas'\n",
    "\n",
    "stats, signal = se.test_factor(fml, corr_type='linear', method='cs', spread_type='relative_spread')\n",
    "print()\n",
    "test_rela(signal, all_univ)"
   ]
  },
  {
   "cell_type": "code",
   "execution_count": 16,
   "id": "3195c4c4",
   "metadata": {
    "pycharm": {
     "name": "#%%\n"
    }
   },
   "outputs": [
    {
     "name": "stdout",
     "output_type": "stream",
     "text": [
      "mean corr: -0.0908, positive_corr_ratio: 0.0446, corr_IR: -2.3502\n",
      "\n",
      "spread cs\n",
      "0.2424\n",
      "0.2216, 0.2277, 0.2309, 0.2541, 0.2574, 0.2639\n",
      "0.0091\n",
      "\n",
      "0.5423\n",
      "0.5290, 0.5331, 0.5352, 0.5494, 0.5514, 0.5550\n",
      "0.0056\n",
      "\n",
      "\n",
      "spread ts\n",
      "0.0131\n",
      "0.0059, 0.0080, 0.0091, 0.0170, 0.0181, 0.0203\n",
      "0.0031\n",
      "\n",
      "0.0329\n",
      "0.0279, 0.0293, 0.0301, 0.0357, 0.0364, 0.0378\n",
      "0.0022\n",
      "\n"
     ]
    }
   ],
   "source": [
    "fml = 'last_bas'\n",
    "\n",
    "stats, signal = se.test_factor(fml, corr_type='linear', method='cs', spread_type='relative_spread')\n",
    "\n",
    "print()\n",
    "test_spread(signal, all_univ)"
   ]
  },
  {
   "cell_type": "markdown",
   "id": "556506e3",
   "metadata": {
    "pycharm": {
     "name": "#%% md\n"
    }
   },
   "source": [
    "### Gibbs"
   ]
  },
  {
   "cell_type": "code",
   "execution_count": 17,
   "id": "3eb9c4f8",
   "metadata": {
    "pycharm": {
     "name": "#%%\n"
    }
   },
   "outputs": [],
   "source": [
    "path = r\"C:\\Users\\18316\\Desktop\\Repositories\\Low-Frequency-Spread-Estimator\\estimator\\cache\"\n",
    "gibbs = np.zeros((243, 2081), dtype=np.float32)\n",
    "for i in range(9):\n",
    "    gibbs[20+21*i:41+21*i] = np.load('{}/{}.npy'.format(path, i))\n",
    "i = 9\n",
    "gibbs[20+21*i:] = np.load('{}/{}.npy'.format(path, i))"
   ]
  },
  {
   "cell_type": "code",
   "execution_count": 18,
   "id": "3b82c251",
   "metadata": {
    "pycharm": {
     "name": "#%%\n"
    }
   },
   "outputs": [
    {
     "name": "stdout",
     "output_type": "stream",
     "text": [
      "rela cs\n",
      "-0.0035\n",
      "-0.0106, -0.0085, -0.0073, 0.0004, 0.0014, 0.0035\n",
      "0.0030\n",
      "\n",
      "0.0002\n",
      "-0.0036, -0.0025, -0.0019, 0.0023, 0.0030, 0.0041\n",
      "0.0016\n",
      "\n",
      "\n",
      "rela ts\n",
      "0.0131\n",
      "0.0080, 0.0095, 0.0103, 0.0159, 0.0167, 0.0181\n",
      "0.0022\n",
      "\n",
      "0.0164\n",
      "0.0134, 0.0143, 0.0148, 0.0181, 0.0186, 0.0195\n",
      "0.0013\n",
      "\n",
      "\n",
      "vol_wtd_rel_bas cs \n",
      "-0.0036\n",
      "-0.0106, -0.0086, -0.0075, 0.0002, 0.0012, 0.0033\n",
      "0.0030\n",
      "\n",
      "0.0002\n",
      "-0.0036, -0.0025, -0.0019, 0.0023, 0.0028, 0.0040\n",
      "0.0016\n",
      "\n",
      "\n",
      "vol_wtd_rel_bas ts \n",
      "0.0096\n",
      "0.0046, 0.0060, 0.0069, 0.0124, 0.0133, 0.0148\n",
      "0.0022\n",
      "\n",
      "0.0129\n",
      "0.0099, 0.0107, 0.0112, 0.0145, 0.0150, 0.0159\n",
      "0.0013\n",
      "\n"
     ]
    }
   ],
   "source": [
    "test_rela(gibbs, all_univ)"
   ]
  },
  {
   "cell_type": "markdown",
   "id": "0e39a507",
   "metadata": {
    "pycharm": {
     "name": "#%% md\n"
    }
   },
   "source": [
    "### LOT"
   ]
  },
  {
   "cell_type": "code",
   "execution_count": 19,
   "id": "6f851bac",
   "metadata": {
    "pycharm": {
     "name": "#%%\n"
    },
    "scrolled": true
   },
   "outputs": [
    {
     "name": "stdout",
     "output_type": "stream",
     "text": [
      "rela cs\n",
      "-0.0283\n",
      "-0.0380, -0.0350, -0.0335, -0.0230, -0.0216, -0.0187\n",
      "0.0041\n",
      "\n",
      "0.0197\n",
      "0.0086, 0.0119, 0.0136, 0.0257, 0.0276, 0.0309\n",
      "0.0048\n",
      "\n",
      "\n",
      "rela ts\n",
      "-0.0284\n",
      "-0.0550, -0.0470, -0.0428, -0.0133, -0.0091, -0.0010\n",
      "0.0116\n",
      "\n",
      "-0.0589\n",
      "-0.0749, -0.0704, -0.0680, -0.0500, -0.0475, -0.0425\n",
      "0.0069\n",
      "\n",
      "\n",
      "vol_wtd_rel_bas cs \n",
      "-0.0258\n",
      "-0.0349, -0.0324, -0.0309, -0.0205, -0.0190, -0.0162\n",
      "0.0040\n",
      "\n",
      "0.0333\n",
      "0.0227, 0.0257, 0.0274, 0.0393, 0.0409, 0.0440\n",
      "0.0046\n",
      "\n",
      "\n",
      "vol_wtd_rel_bas ts \n",
      "-0.0320\n",
      "-0.0593, -0.0508, -0.0469, -0.0177, -0.0134, -0.0057\n",
      "0.0114\n",
      "\n",
      "-0.0562\n",
      "-0.0725, -0.0676, -0.0651, -0.0473, -0.0446, -0.0403\n",
      "0.0070\n",
      "\n"
     ]
    }
   ],
   "source": [
    "import pickle\n",
    "with open(r\"D:\\Documents\\学习资料\\本科毕业论文\\data\\LOT.pkl\", 'rb') as f:\n",
    "    LOT = pickle.load(f)\n",
    "    \n",
    "test_rela(LOT[:,:,0], all_univ)"
   ]
  },
  {
   "cell_type": "code",
   "execution_count": 20,
   "id": "47225055",
   "metadata": {
    "pycharm": {
     "name": "#%%\n"
    }
   },
   "outputs": [
    {
     "name": "stdout",
     "output_type": "stream",
     "text": [
      "rela cs\n",
      "-0.1108\n",
      "-0.1216, -0.1184, -0.1167, -0.1048, -0.1031, -0.0998\n",
      "0.0047\n",
      "\n",
      "-0.0722\n",
      "-0.0864, -0.0822, -0.0800, -0.0642, -0.0619, -0.0575\n",
      "0.0062\n",
      "\n",
      "\n",
      "rela ts\n",
      "0.0362\n",
      "0.0141, 0.0205, 0.0239, 0.0484, 0.0516, 0.0581\n",
      "0.0095\n",
      "\n",
      "0.0229\n",
      "0.0108, 0.0145, 0.0164, 0.0295, 0.0314, 0.0349\n",
      "0.0052\n",
      "\n",
      "\n",
      "vol_wtd_rel_bas cs \n",
      "-0.0984\n",
      "-0.1088, -0.1059, -0.1042, -0.0925, -0.0908, -0.0878\n",
      "0.0045\n",
      "\n",
      "-0.0503\n",
      "-0.0640, -0.0600, -0.0580, -0.0427, -0.0405, -0.0366\n",
      "0.0059\n",
      "\n",
      "\n",
      "vol_wtd_rel_bas ts \n",
      "0.0499\n",
      "0.0274, 0.0342, 0.0377, 0.0621, 0.0655, 0.0719\n",
      "0.0095\n",
      "\n",
      "0.0373\n",
      "0.0254, 0.0288, 0.0307, 0.0439, 0.0459, 0.0491\n",
      "0.0051\n",
      "\n"
     ]
    }
   ],
   "source": [
    "test_rela(LOT[:,:,1], all_univ)"
   ]
  },
  {
   "cell_type": "markdown",
   "id": "92ec952f",
   "metadata": {
    "pycharm": {
     "name": "#%% md\n"
    }
   },
   "source": [
    "### 查看10元以上组合的市值占比"
   ]
  },
  {
   "cell_type": "code",
   "execution_count": 70,
   "id": "eb8684f9",
   "metadata": {
    "pycharm": {
     "name": "#%%\n"
    }
   },
   "outputs": [
    {
     "name": "stdout",
     "output_type": "stream",
     "text": [
      "0.12534970276961246\n",
      "0.196356803394121\n",
      "0.6782934938362665\n"
     ]
    }
   ],
   "source": [
    "ave_cap = np.nanmean(se.data.data_dic['volume']*se.data.data_dic['close'], axis=0)\n",
    "ave_cap = np.nanmean(se.data.data_dic['cap'], axis=0)\n",
    "print(np.sum(ave_cap[np.sum(univ_0, axis=0)>0])/np.sum(ave_cap))\n",
    "print(np.sum(ave_cap[np.sum(univ_1, axis=0)>0])/np.sum(ave_cap))\n",
    "print(np.sum(ave_cap[np.sum(univ_2, axis=0)>0])/np.sum(ave_cap))"
   ]
  },
  {
   "cell_type": "code",
   "execution_count": 69,
   "id": "0f6e0043",
   "metadata": {
    "pycharm": {
     "name": "#%%\n"
    }
   },
   "outputs": [
    {
     "name": "stdout",
     "output_type": "stream",
     "text": [
      "0.15209941578100805\n",
      "0.2337683401885248\n",
      "0.6141322440304672\n"
     ]
    }
   ],
   "source": [
    "ave_cap = np.nanmean(se.data.data_dic['volume']*se.data.data_dic['close'], axis=0)\n",
    "print(np.sum(ave_cap[np.sum(univ_0, axis=0)>0])/np.sum(ave_cap))\n",
    "print(np.sum(ave_cap[np.sum(univ_1, axis=0)>0])/np.sum(ave_cap))\n",
    "print(np.sum(ave_cap[np.sum(univ_2, axis=0)>0])/np.sum(ave_cap))"
   ]
  },
  {
   "cell_type": "code",
   "execution_count": 68,
   "id": "a3544431",
   "metadata": {
    "pycharm": {
     "name": "#%%\n"
    }
   },
   "outputs": [
    {
     "name": "stdout",
     "output_type": "stream",
     "text": [
      "532\n",
      "695\n",
      "854\n"
     ]
    }
   ],
   "source": [
    "print(np.sum(np.sum(univ_0, axis=0)>0))\n",
    "print(np.sum(np.sum(univ_1, axis=0)>0))\n",
    "print(np.sum(np.sum(univ_2, axis=0)>0))"
   ]
  },
  {
   "cell_type": "markdown",
   "id": "1ab073cc",
   "metadata": {
    "pycharm": {
     "name": "#%% md\n"
    }
   },
   "source": [
    "### 绘制相对价差和收盘价的散点图"
   ]
  },
  {
   "cell_type": "code",
   "execution_count": 10,
   "id": "bcfad2ae",
   "metadata": {
    "pycharm": {
     "name": "#%%\n"
    }
   },
   "outputs": [
    {
     "data": {
      "image/png": "[encoded data removed]",
      "text/plain": [
       "<Figure size 900x600 with 1 Axes>"
      ]
     },
     "metadata": {
      "needs_background": "light"
     },
     "output_type": "display_data"
    }
   ],
   "source": [
    "plt.figure(dpi=150)\n",
    "plt.scatter(se.data.data_dic['close'][242, univ[242]], \n",
    "            se.data.spread_dic['relative_spread'][242, univ[242]]*100, alpha=0.6, s=5, label='sample')\n",
    "x = np.sort(se.data.data_dic['close'][242, univ[242]])\n",
    "plt.plot(x, 1/x, alpha=1, color='r',label='1/close price')\n",
    "plt.legend()\n",
    "plt.xlabel('close price (yuan)')\n",
    "plt.ylabel('relative spread (%)')\n",
    "plt.xscale('log')\n",
    "plt.show()"
   ]
  },
  {
   "cell_type": "code",
   "execution_count": 61,
   "id": "1523e9a2",
   "metadata": {
    "collapsed": true,
    "pycharm": {
     "name": "#%%\n"
    }
   },
   "outputs": [
    {
     "data": {
      "image/png": "[encoded data removed]",
      "text/plain": [
       "<Figure size 900x600 with 1 Axes>"
      ]
     },
     "metadata": {
      "needs_background": "light"
     },
     "output_type": "display_data"
    }
   ],
   "source": [
    "plt.figure(dpi=150)\n",
    "plt.scatter(1/se.data.data_dic['close'][242, univ[242]], \n",
    "            se.data.spread_dic['relative_spread'][242, univ[242]]*100, alpha=0.6, s=5, label='sample')\n",
    "plt.scatter(1/se.data.data_dic['close'][242, univ[242]], \n",
    "            1/se.data.data_dic['close'][242, univ[242]], alpha=0.6, s=5, label='1/close price')\n",
    "plt.legend()\n",
    "plt.legend()\n",
    "plt.xlabel('1/close price(1/yuan)')\n",
    "plt.ylabel('relative spread(%)')\n",
    "plt.show()"
   ]
  },
  {
   "cell_type": "code",
   "execution_count": null,
   "id": "4d0b9e9e",
   "metadata": {
    "pycharm": {
     "name": "#%%\n"
    }
   },
   "outputs": [],
   "source": []
  }
 ],
 "metadata": {
  "kernelspec": {
   "display_name": "Python 3 (ipykernel)",
   "language": "python",
   "name": "python3"
  },
  "language_info": {
   "codemirror_mode": {
    "name": "ipython",
    "version": 3
   },
   "file_extension": ".py",
   "mimetype": "text/x-python",
   "name": "python",
   "nbconvert_exporter": "python",
   "pygments_lexer": "ipython3",
   "version": "3.10.9"
  }
 },
 "nbformat": 4,
 "nbformat_minor": 5
}
