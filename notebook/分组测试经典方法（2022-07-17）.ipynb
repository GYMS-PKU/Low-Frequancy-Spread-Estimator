{
 "cells": [
  {
   "cell_type": "markdown",
   "id": "b81f4b28",
   "metadata": {},
   "source": [
    "### 分组测试经典方法\n",
    "2022-07-17\n",
    "- univ矩阵要求：所有值都没有缺失"
   ]
  },
  {
   "cell_type": "code",
   "execution_count": 1,
   "id": "b5c7ef5f",
   "metadata": {},
   "outputs": [],
   "source": [
    "import numpy as np\n",
    "import pandas as pd\n",
    "import matplotlib.pyplot as plt\n",
    "import importlib\n",
    "import sys\n",
    "sys.path.append('C:/Users/Administrator/Desktop/Repositories/Low-Frequency-Spread-Estimator')\n",
    "sys.path.append('C:/Users/18316/Desktop/Repositories/Low-Frequency-Spread-Estimator')\n",
    "sys.path.append('C:/Users/Handsome Bad Guy/Desktop/Repositories/Low-Frequency-Spread-Estimator')\n",
    "\n",
    "from SpreadEstimator.SpreadEstimator import SpreadEstimator\n",
    "from mytools.AutoTester import AutoTester\n",
    "\n",
    "from time import time\n",
    "\n",
    "import warnings\n",
    "warnings.filterwarnings(\"ignore\")"
   ]
  },
  {
   "cell_type": "code",
   "execution_count": 2,
   "id": "5a0ea2ea",
   "metadata": {},
   "outputs": [],
   "source": [
    "se = SpreadEstimator()"
   ]
  },
  {
   "cell_type": "markdown",
   "id": "9f5cba96",
   "metadata": {},
   "source": [
    "### 构造三组univ"
   ]
  },
  {
   "cell_type": "code",
   "execution_count": 3,
   "id": "fa89e8f5",
   "metadata": {},
   "outputs": [
    {
     "name": "stdout",
     "output_type": "stream",
     "text": [
      "854\n",
      "695\n",
      "532\n"
     ]
    }
   ],
   "source": [
    "univ = se.data.data_dic['volume'] > 0  # 当天有交易\n",
    "th = 0.8\n",
    "\n",
    "univ_2 = []\n",
    "for i in range(2081):\n",
    "    if np.sum(se.data.data_dic['close'][univ[:,i],i]>10) >= th * 243:\n",
    "        univ_2.append(1)\n",
    "    else:\n",
    "        univ_2.append(0)\n",
    "univ_2 = np.array(univ_2) > 0\n",
    "print(np.sum(univ_2))\n",
    "univ_2 = np.repeat(univ_2.reshape(1,2081), 243, 0)\n",
    "\n",
    "univ_1 = []\n",
    "for i in range(2081):\n",
    "    if np.sum(se.data.data_dic['close'][univ[:,i],i]>5) >= th * 243:\n",
    "        univ_1.append(1)\n",
    "    else:\n",
    "        univ_1.append(0)\n",
    "univ_1 = np.array(univ_1) > 0\n",
    "univ_1 = np.repeat(univ_1.reshape(1,2081), 243, 0) & (~univ_2)\n",
    "print(np.sum(univ_1[0]))\n",
    "\n",
    "univ_0 = (~univ_2) & (~univ_1)\n",
    "print(np.sum(univ_0[0]))\n",
    "\n",
    "univ_0 = univ_0 & univ\n",
    "univ_1 = univ_1 & univ\n",
    "univ_2 = univ_2 & univ\n",
    "\n",
    "all_univ = [univ_0, univ_1, univ_2]"
   ]
  },
  {
   "cell_type": "markdown",
   "id": "3c6c13b9",
   "metadata": {},
   "source": [
    "### 在3组股票中测试"
   ]
  },
  {
   "cell_type": "code",
   "execution_count": 12,
   "id": "f6bf86ef",
   "metadata": {},
   "outputs": [],
   "source": [
    "def test_cs(signal, target, univ, back: int = 1):\n",
    "    corr = []\n",
    "    for i in range(signal.shape[0]):\n",
    "        if i < back-1:\n",
    "            continue\n",
    "        t = np.nanmean(target[i-back+1: i+1], axis=0)\n",
    "        se = (~np.isnan(t)) & (~np.isnan(signal[i])) & univ[i]\n",
    "        if np.sum(se) < 2:\n",
    "            continue\n",
    "        corr.append(np.corrcoef(signal[i, se], t[se])[0, 1])\n",
    "    print('{:.4f}'.format(np.nanmean(corr)))\n",
    "    return corr\n",
    "\n",
    "def test_ts(signal, target, univ, back: int = 1):\n",
    "    corr = []\n",
    "    new_t = np.zeros((len(target)-back+1, target.shape[1]))\n",
    "    for i in range(new_t.shape[0]):\n",
    "        new_t[i] = np.nanmean(target[i:i+back])\n",
    "    for i in range(signal.shape[1]):\n",
    "        t = new_t[:, i]\n",
    "        se = (~np.isnan(t)) & (~np.isnan(signal[back-1:, i])) & univ[back-1:, i]\n",
    "        if np.sum(se) < 2:\n",
    "            continue\n",
    "        corr.append(np.corrcoef(signal[back-1:, i][se], t[se])[0, 1])\n",
    "    print('{:.4f}'.format(np.mean(corr)))\n",
    "    return corr"
   ]
  },
  {
   "cell_type": "code",
   "execution_count": 5,
   "id": "26fcf2da",
   "metadata": {},
   "outputs": [],
   "source": [
    "def test_rela(signal, all_univ):\n",
    "    print('rela cs')\n",
    "    for u in all_univ:\n",
    "        _ = test_cs(signal, se.data.spread_dic['relative_spread'], u, 20)\n",
    "    print()\n",
    "\n",
    "    print('rela ts')\n",
    "    for u in all_univ:\n",
    "        _ = test_ts(signal, se.data.spread_dic['relative_spread'], u, 20)\n",
    "    print()\n",
    "\n",
    "    print('vol_wtd_rel_bas cs ')\n",
    "    for u in all_univ:\n",
    "        _ = test_cs(signal, se.data.spread_dic['vol_wtd_rel_bas'], u, 20)\n",
    "    print()\n",
    "\n",
    "    print('vol_wtd_rel_bas ts ')\n",
    "    for u in all_univ:\n",
    "        _ = test_ts(signal, se.data.spread_dic['vol_wtd_rel_bas'], u, 20)\n",
    "        \n",
    "def test_spread(signal, all_univ):\n",
    "    print('spread cs')\n",
    "    for u in all_univ:\n",
    "        _ = test_cs(signal, se.data.spread_dic['spread'], u, 20)\n",
    "    print()\n",
    "\n",
    "    print('spread ts')\n",
    "    for u in all_univ:\n",
    "        _ = test_ts(signal, se.data.spread_dic['spread'], u, 20)"
   ]
  },
  {
   "cell_type": "markdown",
   "id": "41493400",
   "metadata": {},
   "source": [
    "#### HL"
   ]
  },
  {
   "cell_type": "code",
   "execution_count": 79,
   "id": "cb087761",
   "metadata": {},
   "outputs": [
    {
     "name": "stdout",
     "output_type": "stream",
     "text": [
      "mean corr: -0.2082, positive_corr_ratio: 0.0000, corr_IR: -3.6871\n",
      "\n",
      "rela cs\n",
      "-0.1406\n",
      "-0.2409\n",
      "-0.0057\n",
      "\n",
      "rela ts\n",
      "0.0038\n",
      "0.0134\n",
      "0.0583\n",
      "\n",
      "vol_wtd_rel_bas cs \n",
      "-0.1259\n",
      "-0.1824\n",
      "0.0340\n",
      "\n",
      "vol_wtd_rel_bas ts \n",
      "0.0082\n",
      "0.0233\n",
      "0.0738\n"
     ]
    }
   ],
   "source": [
    "beta = 'prod{tsmean{powv{minus{logv{high},logv{low}},2},2},2}'\n",
    "\n",
    "high_1 = 'logv{tsdelay{high,1}}'\n",
    "low_1 = 'logv{tsdelay{low,1}}'\n",
    "con_1 = 'condition{gt{logv{low},logv{tsdelay{close,1}}},minus{logv{low},logv{tsdelay{close,1}}},minus{close,close}}'\n",
    "con_2 = 'condition{lt{logv{high},logv{tsdelay{close,1}}},minus{logv{high},logv{tsdelay{close,1}}},minus{close,close}}'\n",
    "con = 'add{' + con_1 + ',' + con_2 + '}'\n",
    "high_2 = 'minus{logv{high},' + con + '}'\n",
    "low_2 = 'minus{logv{low},' + con + '}'\n",
    "high = 'condition{ge{' + high_1 + ',' + high_2 + '},' + high_1 + ',' + high_2 + '}'\n",
    "low = 'condition{le{' + low_1 + ',' + low_2 + '},' + low_1 + ',' + low_2 + '}'\n",
    "\n",
    "gamma = 'powv{minus{' + high + ',' + low + '},2}'\n",
    "alpha = 'div{prod{' + 'powv{' + beta + ',0.5},0.4142},0.1716}'\n",
    "fml = 'minus{' + alpha + ',' + 'powv{' + 'div{' + gamma + ',0.1716},0.5}}'\n",
    "\n",
    "fml = 'div{' + 'minus{expv{' + fml + '},1},' + 'add{expv{' + fml + '},1}}'\n",
    "fml = 'condition{' + 'ge{' + fml + ',0},' + fml + ',add{minus{close,close},0}}'\n",
    "fml = 'tsmean{' + fml + ',20}'\n",
    "\n",
    "fml = 'div{' + 'minus{expv{' + fml + '},1},' + 'add{expv{' + fml + '},1}}'\n",
    "fml = 'condition{' + 'ge{' + fml + ',0},' + fml + ',add{minus{close,close},0}}'\n",
    "fml = 'tsmean{' + fml + ',20}'\n",
    "stats, signal = se.test_factor(fml, corr_type='linear', method='cs', spread_type='relative_spread')\n",
    "print()\n",
    "\n",
    "test_rela(signal, all_univ)"
   ]
  },
  {
   "cell_type": "code",
   "execution_count": 80,
   "id": "0967eda7",
   "metadata": {},
   "outputs": [
    {
     "name": "stdout",
     "output_type": "stream",
     "text": [
      "mean corr: -0.4630, positive_corr_ratio: 0.0000, corr_IR: -16.7947\n",
      "\n",
      "spread cs\n",
      "0.3754\n",
      "0.3429\n",
      "0.6773\n",
      "\n",
      "spread ts\n",
      "0.2615\n",
      "0.2902\n",
      "0.2399\n"
     ]
    }
   ],
   "source": [
    "beta = 'prod{tsmean{powv{minus{high,low},2},2},2}'\n",
    "high_1 = 'tsdelay{high,1}'\n",
    "low_1 = 'tsdelay{low,1}'\n",
    "con_1 = 'condition{gt{low,tsdelay{close,1}},minus{low,tsdelay{close,1}},minus{close,close}}'\n",
    "con_2 = 'condition{lt{high,tsdelay{close,1}},minus{high,tsdelay{close,1}},minus{close,close}}'\n",
    "con = 'add{' + con_1 + ',' + con_2 + '}'\n",
    "high_2 = 'minus{high,' + con + '}'\n",
    "low_2 = 'minus{low,' + con + '}'\n",
    "high = 'condition{ge{' + high_1 + ',' + high_2 + '},' + high_1 + ',' + high_2 + '}'\n",
    "low = 'condition{le{' + low_1 + ',' + low_2 + '},' + low_1 + ',' + low_2 + '}'\n",
    "\n",
    "gamma = 'powv{minus{' + high + ',' + low + '},2}'\n",
    "alpha = 'div{prod{' + 'powv{' + beta + ',0.5},0.4142},0.1716}'\n",
    "fml = 'minus{' + alpha + ',' + 'powv{' + 'div{' + gamma + ',0.1716},0.5}}'\n",
    "\n",
    "fml = 'div{' + 'minus{expv{' + fml + '},1},' + 'add{expv{' + fml + '},1}}'\n",
    "fml = 'condition{' + 'ge{' + fml + ',0},' + fml + ',add{minus{close,close},0}}'\n",
    "fml = 'tsmean{' + fml + ',20}'\n",
    "stats, signal = se.test_factor(fml, corr_type='linear', method='cs', spread_type='relative_spread')\n",
    "\n",
    "print()\n",
    "test_spread(signal, all_univ)"
   ]
  },
  {
   "cell_type": "markdown",
   "id": "08dffb3b",
   "metadata": {},
   "source": [
    "#### Roll"
   ]
  },
  {
   "cell_type": "code",
   "execution_count": 82,
   "id": "eb345882",
   "metadata": {},
   "outputs": [
    {
     "name": "stdout",
     "output_type": "stream",
     "text": [
      "mean corr: 0.0994, positive_corr_ratio: 0.9279, corr_IR: 1.2409\n",
      "\n",
      "rela cs\n",
      "-0.0569\n",
      "-0.1277\n",
      "-0.0273\n",
      "\n",
      "rela ts\n",
      "0.0944\n",
      "0.1013\n",
      "0.1162\n",
      "\n",
      "vol_wtd_rel_bas cs \n",
      "-0.0368\n",
      "-0.0531\n",
      "0.0386\n",
      "\n",
      "vol_wtd_rel_bas ts \n",
      "0.1317\n",
      "0.1464\n",
      "0.1623\n"
     ]
    }
   ],
   "source": [
    "a = 'tsdelta{logv{close},1}'\n",
    "b = 'tsdelay{tsdelta{logv{close},1},1}'\n",
    "fml = 'prod{' + a + ',' + b + '}'\n",
    "fml = 'condition{' + 'ge{' + fml + ',0},' + fml + ',add{minus{close,close},0}}'\n",
    "fml = 'tsmean{' + fml + ',20}'\n",
    "fml = 'powv{' + fml + ',0.5}'\n",
    "\n",
    "stats, signal = se.test_factor(fml, corr_type='linear', method='cs', spread_type='spread')\n",
    "\n",
    "print()\n",
    "test_rela(signal, all_univ)"
   ]
  },
  {
   "cell_type": "code",
   "execution_count": 83,
   "id": "5a7c5772",
   "metadata": {},
   "outputs": [
    {
     "name": "stdout",
     "output_type": "stream",
     "text": [
      "mean corr: 0.7924, positive_corr_ratio: 1.0000, corr_IR: 18.7505\n",
      "\n",
      "spread cs\n",
      "0.3684\n",
      "0.3479\n",
      "0.7697\n",
      "\n",
      "spread ts\n",
      "0.1417\n",
      "0.1719\n",
      "0.1541\n"
     ]
    }
   ],
   "source": [
    "a = 'tsdelta{close,1}'\n",
    "b = 'tsdelay{tsdelta{close,1},1}'\n",
    "fml = 'prod{' + a + ',' + b + '}'\n",
    "fml = 'condition{' + 'ge{' + fml + ',0},' + fml + ',add{minus{close,close},0}}'\n",
    "fml = 'tsmean{' + fml + ',20}'\n",
    "fml = 'powv{' + fml + ',0.5}'\n",
    "\n",
    "stats, signal = se.test_factor(fml, corr_type='linear', method='cs', spread_type='spread')\n",
    "print()\n",
    "test_spread(signal, all_univ)"
   ]
  },
  {
   "cell_type": "markdown",
   "id": "680b1853",
   "metadata": {},
   "source": [
    "#### CHL"
   ]
  },
  {
   "cell_type": "code",
   "execution_count": 84,
   "id": "04b39aef",
   "metadata": {},
   "outputs": [
    {
     "name": "stdout",
     "output_type": "stream",
     "text": [
      "mean corr: -0.2317, positive_corr_ratio: 0.0000, corr_IR: -3.9265\n",
      "\n",
      "rela cs\n",
      "-0.1404\n",
      "-0.2069\n",
      "-0.0750\n",
      "\n",
      "rela ts\n",
      "0.0726\n",
      "0.0650\n",
      "0.1010\n",
      "\n",
      "vol_wtd_rel_bas cs \n",
      "-0.1223\n",
      "-0.1379\n",
      "-0.0192\n",
      "\n",
      "vol_wtd_rel_bas ts \n",
      "0.0948\n",
      "0.0973\n",
      "0.1369\n"
     ]
    }
   ],
   "source": [
    "a = 'minus{logv{tsdelay{close,1}},div{add{logv{tsdelay{high,1}},logv{tsdelay{low,1}}},2}}'\n",
    "b = 'minus{logv{tsdelay{close,1}},div{add{logv{high},logv{low}},2}}'\n",
    "fml = 'prod{' + a + ',' + b + '}'\n",
    "fml = 'condition{' + 'ge{' + fml + ',0},' + fml + ',add{minus{close,close},0}}'\n",
    "fml = 'tsmean{' + fml + ',20}'\n",
    "fml = 'powv{' + fml + ',0.5}'\n",
    "\n",
    "stats, signal = se.test_factor(fml, corr_type='linear', method='cs', spread_type='relative_spread')\n",
    "\n",
    "print()\n",
    "test_rela(signal, all_univ)"
   ]
  },
  {
   "cell_type": "code",
   "execution_count": 85,
   "id": "621c1419",
   "metadata": {
    "scrolled": true
   },
   "outputs": [
    {
     "name": "stdout",
     "output_type": "stream",
     "text": [
      "mean corr: -0.3688, positive_corr_ratio: 0.0000, corr_IR: -8.7364\n",
      "\n",
      "spread cs\n",
      "0.3460\n",
      "0.3128\n",
      "0.7810\n",
      "\n",
      "spread ts\n",
      "0.2436\n",
      "0.2703\n",
      "0.2286\n"
     ]
    }
   ],
   "source": [
    "a = 'minus{tsdelay{close,1},div{add{tsdelay{high,1},tsdelay{low,1}},2}}'\n",
    "b = 'minus{tsdelay{close,1},div{add{high,low},2}}'\n",
    "fml = 'prod{' + a + ',' + b + '}'\n",
    "fml = 'condition{' + 'ge{' + fml + ',0},' + fml + ',add{minus{close,close},0}}'\n",
    "fml = 'tsmean{' + fml + ',20}'\n",
    "fml = 'powv{' + fml + ',0.5}'\n",
    "\n",
    "stats, signal = se.test_factor(fml, corr_type='linear', method='cs', spread_type='relative_spread')\n",
    "\n",
    "print()\n",
    "test_spread(signal, all_univ)"
   ]
  },
  {
   "cell_type": "markdown",
   "id": "f12da8ad",
   "metadata": {},
   "source": [
    "### bas"
   ]
  },
  {
   "cell_type": "code",
   "execution_count": 86,
   "id": "37aa6e47",
   "metadata": {},
   "outputs": [
    {
     "name": "stdout",
     "output_type": "stream",
     "text": [
      "mean corr: 0.7343, positive_corr_ratio: 1.0000, corr_IR: 7.4584\n",
      "\n",
      "rela cs\n",
      "0.8742\n",
      "0.4329\n",
      "0.3853\n",
      "\n",
      "rela ts\n",
      "0.1908\n",
      "0.1037\n",
      "0.0548\n",
      "\n",
      "vol_wtd_rel_bas cs \n",
      "0.8727\n",
      "0.4297\n",
      "0.3816\n",
      "\n",
      "vol_wtd_rel_bas ts \n",
      "0.1807\n",
      "0.0991\n",
      "0.0552\n"
     ]
    }
   ],
   "source": [
    "fml = 'last_rel_bas'\n",
    "\n",
    "stats, signal = se.test_factor(fml, corr_type='linear', method='cs', spread_type='relative_spread')\n",
    "print()\n",
    "test_rela(signal, all_univ)"
   ]
  },
  {
   "cell_type": "code",
   "execution_count": 87,
   "id": "3195c4c4",
   "metadata": {},
   "outputs": [
    {
     "name": "stdout",
     "output_type": "stream",
     "text": [
      "mean corr: -0.0908, positive_corr_ratio: 0.0446, corr_IR: -2.3502\n",
      "\n",
      "spread cs\n",
      "0.2424\n",
      "0.3101\n",
      "0.5234\n",
      "\n",
      "spread ts\n",
      "0.0131\n",
      "0.0288\n",
      "0.0361\n"
     ]
    }
   ],
   "source": [
    "fml = 'last_bas'\n",
    "\n",
    "stats, signal = se.test_factor(fml, corr_type='linear', method='cs', spread_type='relative_spread')\n",
    "\n",
    "print()\n",
    "test_spread(signal, all_univ)"
   ]
  },
  {
   "cell_type": "markdown",
   "id": "9f542567",
   "metadata": {},
   "source": [
    "### Gibbs"
   ]
  },
  {
   "cell_type": "code",
   "execution_count": 10,
   "id": "f203c8f0",
   "metadata": {},
   "outputs": [],
   "source": [
    "path = r\"C:\\Users\\18316\\Desktop\\Repositories\\Low-Frequency-Spread-Estimator\\estimator\\cache\"\n",
    "gibbs = np.zeros((243, 2081), dtype=np.float32)\n",
    "for i in range(10):\n",
    "    gibbs[20+21*i:41+21*i] = np.load('{}/{}.npy'.format(path, i))"
   ]
  },
  {
   "cell_type": "code",
   "execution_count": 13,
   "id": "6985572c",
   "metadata": {
    "scrolled": true
   },
   "outputs": [
    {
     "name": "stdout",
     "output_type": "stream",
     "text": [
      "rela cs\n",
      "0.0015\n",
      "-0.0051\n",
      "-0.0048\n",
      "\n",
      "rela ts\n",
      "0.1189\n",
      "0.1182\n",
      "0.1198\n",
      "\n",
      "vol_wtd_rel_bas cs \n",
      "0.0018\n",
      "-0.0064\n",
      "-0.0046\n",
      "\n",
      "vol_wtd_rel_bas ts \n",
      "0.1492\n",
      "0.1483\n",
      "0.1500\n"
     ]
    }
   ],
   "source": [
    "test_rela(gibbs, all_univ)"
   ]
  },
  {
   "cell_type": "markdown",
   "id": "92ec952f",
   "metadata": {},
   "source": [
    "### 查看10元以上组合的市值占比"
   ]
  },
  {
   "cell_type": "code",
   "execution_count": 70,
   "id": "eb8684f9",
   "metadata": {},
   "outputs": [
    {
     "name": "stdout",
     "output_type": "stream",
     "text": [
      "0.12534970276961246\n",
      "0.196356803394121\n",
      "0.6782934938362665\n"
     ]
    }
   ],
   "source": [
    "ave_cap = np.nanmean(se.data.data_dic['volume']*se.data.data_dic['close'], axis=0)\n",
    "ave_cap = np.nanmean(se.data.data_dic['cap'], axis=0)\n",
    "print(np.sum(ave_cap[np.sum(univ_0, axis=0)>0])/np.sum(ave_cap))\n",
    "print(np.sum(ave_cap[np.sum(univ_1, axis=0)>0])/np.sum(ave_cap))\n",
    "print(np.sum(ave_cap[np.sum(univ_2, axis=0)>0])/np.sum(ave_cap))"
   ]
  },
  {
   "cell_type": "code",
   "execution_count": 69,
   "id": "0f6e0043",
   "metadata": {},
   "outputs": [
    {
     "name": "stdout",
     "output_type": "stream",
     "text": [
      "0.15209941578100805\n",
      "0.2337683401885248\n",
      "0.6141322440304672\n"
     ]
    }
   ],
   "source": [
    "ave_cap = np.nanmean(se.data.data_dic['volume']*se.data.data_dic['close'], axis=0)\n",
    "print(np.sum(ave_cap[np.sum(univ_0, axis=0)>0])/np.sum(ave_cap))\n",
    "print(np.sum(ave_cap[np.sum(univ_1, axis=0)>0])/np.sum(ave_cap))\n",
    "print(np.sum(ave_cap[np.sum(univ_2, axis=0)>0])/np.sum(ave_cap))"
   ]
  },
  {
   "cell_type": "code",
   "execution_count": 68,
   "id": "a3544431",
   "metadata": {},
   "outputs": [
    {
     "name": "stdout",
     "output_type": "stream",
     "text": [
      "532\n",
      "695\n",
      "854\n"
     ]
    }
   ],
   "source": [
    "print(np.sum(np.sum(univ_0, axis=0)>0))\n",
    "print(np.sum(np.sum(univ_1, axis=0)>0))\n",
    "print(np.sum(np.sum(univ_2, axis=0)>0))"
   ]
  },
  {
   "cell_type": "markdown",
   "id": "1ab073cc",
   "metadata": {},
   "source": [
    "### 绘制相对价差和收盘价的散点图"
   ]
  },
  {
   "cell_type": "code",
   "execution_count": 63,
   "id": "bcfad2ae",
   "metadata": {
    "collapsed": true
   },
   "outputs": [
    {
     "data": {
      "image/png": "[encoded data removed]",
      "text/plain": [
       "<Figure size 900x600 with 1 Axes>"
      ]
     },
     "metadata": {
      "needs_background": "light"
     },
     "output_type": "display_data"
    }
   ],
   "source": [
    "plt.figure(dpi=150)\n",
    "plt.scatter(se.data.data_dic['close'][242, univ[242]], \n",
    "            se.data.spread_dic['relative_spread'][242, univ[242]]*100, alpha=0.6, s=5, label='sample')\n",
    "plt.scatter(se.data.data_dic['close'][242, univ[242]], \n",
    "            1/se.data.data_dic['close'][242, univ[242]], alpha=0.6, s=5, label='1/close price')\n",
    "plt.legend()\n",
    "plt.xlabel('close price(yuan)')\n",
    "plt.ylabel('relative spread(%)')\n",
    "plt.xscale('log')\n",
    "plt.show()"
   ]
  },
  {
   "cell_type": "code",
   "execution_count": 61,
   "id": "1523e9a2",
   "metadata": {
    "collapsed": true
   },
   "outputs": [
    {
     "data": {
      "image/png": "[encoded data removed]",
      "text/plain": [
       "<Figure size 900x600 with 1 Axes>"
      ]
     },
     "metadata": {
      "needs_background": "light"
     },
     "output_type": "display_data"
    }
   ],
   "source": [
    "plt.figure(dpi=150)\n",
    "plt.scatter(1/se.data.data_dic['close'][242, univ[242]], \n",
    "            se.data.spread_dic['relative_spread'][242, univ[242]]*100, alpha=0.6, s=5, label='sample')\n",
    "plt.scatter(1/se.data.data_dic['close'][242, univ[242]], \n",
    "            1/se.data.data_dic['close'][242, univ[242]], alpha=0.6, s=5, label='1/close price')\n",
    "plt.legend()\n",
    "plt.legend()\n",
    "plt.xlabel('1/close price(1/yuan)')\n",
    "plt.ylabel('relative spread(%)')\n",
    "plt.show()"
   ]
  },
  {
   "cell_type": "code",
   "execution_count": null,
   "id": "73b12ae2",
   "metadata": {},
   "outputs": [],
   "source": []
  }
 ],
 "metadata": {
  "kernelspec": {
   "display_name": "Python 3 (ipykernel)",
   "language": "python",
   "name": "python3"
  },
  "language_info": {
   "codemirror_mode": {
    "name": "ipython",
    "version": 3
   },
   "file_extension": ".py",
   "mimetype": "text/x-python",
   "name": "python",
   "nbconvert_exporter": "python",
   "pygments_lexer": "ipython3",
   "version": "3.9.12"
  }
 },
 "nbformat": 4,
 "nbformat_minor": 5
}
