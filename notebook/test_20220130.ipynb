{
 "cells": [
  {
   "cell_type": "markdown",
   "id": "c18da0c0",
   "metadata": {},
   "source": [
    "## 四个主流估计器A股深交所的测试"
   ]
  },
  {
   "cell_type": "code",
   "execution_count": 1,
   "id": "cafb1f3c",
   "metadata": {},
   "outputs": [],
   "source": [
    "import numpy as np\n",
    "import pandas as pd\n",
    "import matplotlib.pyplot as plt\n",
    "import importlib\n",
    "import sys\n",
    "sys.path.append('C:/Users/Administrator/Desktop/Repositories/Low-Frequency-Spread-Estimator')\n",
    "sys.path.append('C:/Users/Handsome Bad Guy/Desktop/Repositories/Low-Frequency-Spread-Estimator')\n",
    "\n",
    "from SpreadEstimator.SpreadEstimator import SpreadEstimator\n",
    "from mytools.AutoTester import AutoTester\n",
    "\n",
    "from time import time\n",
    "\n",
    "import torch\n",
    "import torch.nn as nn\n",
    "import torch.nn.functional as F\n",
    "import torch.nn.init as init\n",
    "import torch.optim as optim\n",
    "\n",
    "from sklearn.linear_model import LinearRegression"
   ]
  },
  {
   "cell_type": "code",
   "execution_count": 2,
   "id": "f38f0cf3",
   "metadata": {},
   "outputs": [],
   "source": [
    "se = SpreadEstimator()\n",
    "univ = ~np.isnan(se.data.data_dic['close'])  # 合法的univ"
   ]
  },
  {
   "cell_type": "code",
   "execution_count": 3,
   "id": "b3eac711",
   "metadata": {},
   "outputs": [],
   "source": [
    "def get_xy(x,y,univ):\n",
    "    xx = []\n",
    "    yy = []\n",
    "    for i in range(len(x)):\n",
    "        se = (~np.isnan(x[i])) & univ[i] & (~np.isnan(y[i]))\n",
    "        if np.sum(se) == 0:\n",
    "            continue\n",
    "        xx.append(x[i:i+1, se].T)\n",
    "        yy.append(y[i,se])\n",
    "    return np.vstack(xx), np.hstack(yy)"
   ]
  },
  {
   "cell_type": "markdown",
   "id": "7d5ac383",
   "metadata": {},
   "source": [
    "#### HL, 2012"
   ]
  },
  {
   "cell_type": "code",
   "execution_count": 4,
   "id": "28282ab9",
   "metadata": {},
   "outputs": [
    {
     "name": "stdout",
     "output_type": "stream",
     "text": [
      "0.41421356237309515\n",
      "0.1715728752538097\n"
     ]
    }
   ],
   "source": [
    "print(np.sqrt(2)-1)\n",
    "print(3-np.sqrt(2)*2)"
   ]
  },
  {
   "cell_type": "code",
   "execution_count": 6,
   "id": "573eb68c",
   "metadata": {},
   "outputs": [
    {
     "data": {
      "text/plain": [
       "dict_keys(['spread', 'relative_spread', 'vol_wtd_rel_bas', 'vol_wtd_bas'])"
      ]
     },
     "execution_count": 6,
     "metadata": {},
     "output_type": "execute_result"
    }
   ],
   "source": [
    "se.data.spread_dic.keys()"
   ]
  },
  {
   "cell_type": "code",
   "execution_count": 7,
   "id": "a3ada28b",
   "metadata": {
    "scrolled": true
   },
   "outputs": [
    {
     "name": "stdout",
     "output_type": "stream",
     "text": [
      "cs_rel_sp\n",
      "mean corr: -0.1741, positive_corr_ratio: 0.0000, corr_IR: -2.8080\n",
      "0.0005274021274575184\n",
      "\n",
      "ts_rel_sp\n",
      "mean corr: -0.1647, positive_corr_ratio: 0.3353, corr_IR: -0.4054\n",
      "0.0005274021274575184\n",
      "\n",
      "cs_vol_rel_sp\n",
      "mean corr: -0.1588, positive_corr_ratio: 0.0000, corr_IR: -2.5224\n",
      "0.0005275614618757872\n",
      "\n",
      "ts_vol_rel_sp\n",
      "mean corr: -0.0852, positive_corr_ratio: 0.4165, corr_IR: -0.2100\n",
      "0.0005275614618757872\n"
     ]
    }
   ],
   "source": [
    "lr = LinearRegression()\n",
    "\n",
    "beta = 'prod{tsmean{powv{minus{logv{high},logv{low}},2},2},2}'\n",
    "\n",
    "high_1 = 'logv{tsdelay{high,1}}'\n",
    "low_1 = 'logv{tsdelay{low,1}}'\n",
    "con_1 = 'condition{gt{logv{low},logv{tsdelay{close,1}}},minus{logv{low},logv{tsdelay{close,1}}},minus{close,close}}'\n",
    "con_2 = 'condition{lt{logv{high},logv{tsdelay{close,1}}},minus{logv{high},logv{tsdelay{close,1}}},minus{close,close}}'\n",
    "con = 'add{' + con_1 + ',' + con_2 + '}'\n",
    "high_2 = 'minus{logv{high},' + con + '}'\n",
    "low_2 = 'minus{logv{low},' + con + '}'\n",
    "high = 'condition{ge{' + high_1 + ',' + high_2 + '},' + high_1 + ',' + high_2 + '}'\n",
    "low = 'condition{le{' + low_1 + ',' + low_2 + '},' + low_1 + ',' + low_2 + '}'\n",
    "\n",
    "gamma = 'powv{minus{' + high + ',' + low + '},2}'\n",
    "alpha = 'div{prod{' + 'powv{' + beta + ',0.5},0.4142},0.1716}'\n",
    "fml = 'minus{' + alpha + ',' + 'powv{' + 'div{' + gamma + ',0.1716},0.5}}'\n",
    "\n",
    "fml = 'div{' + 'minus{expv{' + fml + '},1},' + 'add{expv{' + fml + '},1}}'\n",
    "fml = 'condition{' + 'ge{' + fml +',0},' + fml + ',add{minus{close,close},0}}'\n",
    "fml = 'tsmean{' + fml + ',20}'\n",
    "\n",
    "\n",
    "\n",
    "print('cs_rel_sp')\n",
    "stats, signal = se.test_factor(fml, corr_type='linear',method='cs', spread_type='relative_spread', back=20)\n",
    "x, y = get_xy(signal, se.data.spread_dic['relative_spread'], univ)\n",
    "lr.fit(x, y)\n",
    "print(np.sqrt(np.mean((y-lr.predict(x))**2)))\n",
    "print()\n",
    "\n",
    "\n",
    "\n",
    "print('ts_rel_sp')\n",
    "stats, signal = se.test_factor(fml, corr_type='linear',method='ts', spread_type='relative_spread', back=20)\n",
    "x, y = get_xy(signal, se.data.spread_dic['relative_spread'], univ)\n",
    "lr.fit(x, y)\n",
    "print(np.sqrt(np.mean((y-lr.predict(x))**2)))\n",
    "print()\n",
    "\n",
    "print('cs_vol_rel_sp')\n",
    "stats, signal = se.test_factor(fml, corr_type='linear',method='cs', spread_type='vol_wtd_rel_bas', back=20)\n",
    "x, y = get_xy(signal, se.data.spread_dic['vol_wtd_rel_bas'], univ)\n",
    "lr.fit(x, y)\n",
    "print(np.sqrt(np.mean((y-lr.predict(x))**2)))\n",
    "print()\n",
    "\n",
    "\n",
    "\n",
    "print('ts_vol_rel_sp')\n",
    "stats, signal = se.test_factor(fml, corr_type='linear',method='ts', spread_type='vol_wtd_rel_bas', back=20)\n",
    "x, y = get_xy(signal, se.data.spread_dic['vol_wtd_rel_bas'], univ)\n",
    "lr.fit(x, y)\n",
    "print(np.sqrt(np.mean((y-lr.predict(x))**2)))"
   ]
  },
  {
   "cell_type": "code",
   "execution_count": 10,
   "id": "dd7968c6",
   "metadata": {},
   "outputs": [
    {
     "name": "stdout",
     "output_type": "stream",
     "text": [
      "ts_sp\n",
      "mean corr: 0.4855, positive_corr_ratio: 0.8990, corr_IR: 1.4419\n",
      "0.017850268346097955\n",
      "\n",
      "cs_sp\n",
      "mean corr: 0.7400, positive_corr_ratio: 1.0000, corr_IR: 20.5674\n",
      "0.017850268346097955\n",
      "\n",
      "cs_vol_sp\n",
      "mean corr: 0.7686, positive_corr_ratio: 1.0000, corr_IR: 21.7556\n",
      "0.017505156124712304\n",
      "\n",
      "ts_vol_sp\n",
      "mean corr: 0.5622, positive_corr_ratio: 0.9355, corr_IR: 1.8324\n",
      "0.017505156124712304\n"
     ]
    }
   ],
   "source": [
    "beta = 'prod{tsmean{powv{minus{high,low},2},2},2}'\n",
    "\n",
    "high_1 = 'tsdelay{high,1}'\n",
    "low_1 = 'tsdelay{low,1}'\n",
    "con_1 = 'condition{gt{low,tsdelay{close,1}},minus{low,tsdelay{close,1}},minus{close,close}}'\n",
    "con_2 = 'condition{lt{high,tsdelay{close,1}},minus{high,tsdelay{close,1}},minus{close,close}}'\n",
    "con = 'add{' + con_1 + ',' + con_2 + '}'\n",
    "high_2 = 'minus{high,' + con + '}'\n",
    "low_2 = 'minus{low,' + con + '}'\n",
    "high = 'condition{ge{' + high_1 + ',' + high_2 + '},' + high_1 + ',' + high_2 + '}'\n",
    "low = 'condition{le{' + low_1 + ',' + low_2 + '},' + low_1 + ',' + low_2 + '}'\n",
    "\n",
    "gamma = 'powv{minus{' + high + ',' + low + '},2}'\n",
    "alpha = 'div{prod{' + 'powv{' + beta + ',0.5},0.4142},0.1716}'\n",
    "fml = 'minus{' + alpha + ',' + 'powv{' + 'div{' + gamma + ',0.1716},0.5}}'\n",
    "\n",
    "fml = 'div{' + 'minus{expv{' + fml + '},1},' + 'add{expv{' + fml + '},1}}'\n",
    "fml = 'condition{' + 'ge{' + fml +',0},' + fml + ',add{minus{close,close},0}}'\n",
    "fml = 'tsmean{' + fml + ',20}'\n",
    "\n",
    "\n",
    "print('ts_sp')\n",
    "stats, signal = se.test_factor(fml, corr_type='linear',method='ts', spread_type='spread', back=20)\n",
    "x, y = get_xy(signal, se.data.spread, univ)\n",
    "lr.fit(x, y)\n",
    "print(np.sqrt(np.mean((y-lr.predict(x))**2)))\n",
    "print()\n",
    "\n",
    "print('cs_sp')\n",
    "stats, signal = se.test_factor(fml, corr_type='linear', method='cs', spread_type='spread', back=20)\n",
    "x, y = get_xy(signal, se.data.spread, univ)\n",
    "lr.fit(x, y)\n",
    "print(np.sqrt(np.mean((y-lr.predict(x))**2)))\n",
    "print()\n",
    "\n",
    "print('cs_vol_sp')\n",
    "stats, signal = se.test_factor(fml, corr_type='linear',method='cs', spread_type='vol_wtd_bas', back=20)\n",
    "x, y = get_xy(signal, se.data.spread_dic['vol_wtd_bas'], univ)\n",
    "lr.fit(x, y)\n",
    "print(np.sqrt(np.mean((y-lr.predict(x))**2)))\n",
    "print()\n",
    "\n",
    "print('ts_vol_sp')\n",
    "stats, signal = se.test_factor(fml, corr_type='linear',method='ts', spread_type='vol_wtd_bas', back=20)\n",
    "x, y = get_xy(signal, se.data.spread_dic['vol_wtd_bas'], univ)\n",
    "lr.fit(x, y)\n",
    "print(np.sqrt(np.mean((y-lr.predict(x))**2)))"
   ]
  },
  {
   "cell_type": "markdown",
   "id": "6d2a2077",
   "metadata": {},
   "source": [
    "#### Roll, 1999"
   ]
  },
  {
   "cell_type": "code",
   "execution_count": 11,
   "id": "adb44818",
   "metadata": {},
   "outputs": [
    {
     "name": "stdout",
     "output_type": "stream",
     "text": [
      "cs_rel_sp\n",
      "mean corr: -0.2312, positive_corr_ratio: 0.0360, corr_IR: -3.0247\n",
      "0.0005314135600429788\n",
      "\n",
      "ts_rel_sp\n",
      "mean corr: -0.1263, positive_corr_ratio: 0.3559, corr_IR: -0.3411\n",
      "0.0005314135600429788\n",
      "\n",
      "cs_vol_rel_sp\n",
      "mean corr: -0.2129, positive_corr_ratio: 0.0495, corr_IR: -2.6078\n",
      "0.0005314253388228314\n",
      "\n",
      "ts_vol_rel_sp\n",
      "mean corr: -0.0443, positive_corr_ratio: 0.4406, corr_IR: -0.1193\n",
      "0.0005314253388228314\n"
     ]
    }
   ],
   "source": [
    "a = 'tsdelta{logv{close},1}'\n",
    "b = 'tsdelay{tsdelta{logv{close},1},1}'\n",
    "fml = 'prod{' + a + ',' + b +'}'\n",
    "fml = 'condition{' + 'ge{' + fml +',0},' + fml + ',add{minus{close,close},0}}'\n",
    "fml = 'tsmean{' + fml + ',20}'\n",
    "fml = 'powv{' + fml + ',0.5}'\n",
    "\n",
    "\n",
    "print('cs_rel_sp')\n",
    "stats, signal = se.test_factor(fml, corr_type='linear',method='cs', spread_type='relative_spread', back=20)\n",
    "x, y = get_xy(signal, se.data.spread_dic['relative_spread'], univ)\n",
    "lr.fit(x, y)\n",
    "print(np.sqrt(np.mean((y-lr.predict(x))**2)))\n",
    "print()\n",
    "\n",
    "\n",
    "\n",
    "print('ts_rel_sp')\n",
    "stats, signal = se.test_factor(fml, corr_type='linear',method='ts', spread_type='relative_spread', back=20)\n",
    "x, y = get_xy(signal, se.data.spread_dic['relative_spread'], univ)\n",
    "lr.fit(x, y)\n",
    "print(np.sqrt(np.mean((y-lr.predict(x))**2)))\n",
    "print()\n",
    "\n",
    "print('cs_vol_rel_sp')\n",
    "stats, signal = se.test_factor(fml, corr_type='linear',method='cs', spread_type='vol_wtd_rel_bas', back=20)\n",
    "x, y = get_xy(signal, se.data.spread_dic['vol_wtd_rel_bas'], univ)\n",
    "lr.fit(x, y)\n",
    "print(np.sqrt(np.mean((y-lr.predict(x))**2)))\n",
    "print()\n",
    "\n",
    "\n",
    "\n",
    "print('ts_vol_rel_sp')\n",
    "stats, signal = se.test_factor(fml, corr_type='linear',method='ts', spread_type='vol_wtd_rel_bas', back=20)\n",
    "x, y = get_xy(signal, se.data.spread_dic['vol_wtd_rel_bas'], univ)\n",
    "lr.fit(x, y)\n",
    "print(np.sqrt(np.mean((y-lr.predict(x))**2)))\n"
   ]
  },
  {
   "cell_type": "code",
   "execution_count": 12,
   "id": "d01fdb31",
   "metadata": {},
   "outputs": [
    {
     "name": "stdout",
     "output_type": "stream",
     "text": [
      "cs_sp\n",
      "mean corr: 0.7924, positive_corr_ratio: 1.0000, corr_IR: 18.7505\n",
      "0.016293619291864184\n",
      "\n",
      "ts_sp\n"
     ]
    },
    {
     "name": "stderr",
     "output_type": "stream",
     "text": [
      "C:\\ProgramData\\Anaconda3\\lib\\site-packages\\numpy\\lib\\function_base.py:2691: RuntimeWarning: invalid value encountered in true_divide\n",
      "  c /= stddev[:, None]\n",
      "C:\\ProgramData\\Anaconda3\\lib\\site-packages\\numpy\\lib\\function_base.py:2692: RuntimeWarning: invalid value encountered in true_divide\n",
      "  c /= stddev[None, :]\n"
     ]
    },
    {
     "name": "stdout",
     "output_type": "stream",
     "text": [
      "mean corr: 0.4327, positive_corr_ratio: 0.8657, corr_IR: 1.2250\n",
      "0.016293619291864184\n",
      "\n",
      "cs_vol_sp\n",
      "mean corr: 0.8213, positive_corr_ratio: 1.0000, corr_IR: 21.1992\n",
      "0.015708381698959887\n",
      "\n",
      "ts_vol_sp\n",
      "mean corr: 0.5197, positive_corr_ratio: 0.9225, corr_IR: 1.6242\n",
      "0.015708381698959887\n"
     ]
    },
    {
     "name": "stderr",
     "output_type": "stream",
     "text": [
      "C:\\ProgramData\\Anaconda3\\lib\\site-packages\\numpy\\lib\\function_base.py:2691: RuntimeWarning: invalid value encountered in true_divide\n",
      "  c /= stddev[:, None]\n",
      "C:\\ProgramData\\Anaconda3\\lib\\site-packages\\numpy\\lib\\function_base.py:2692: RuntimeWarning: invalid value encountered in true_divide\n",
      "  c /= stddev[None, :]\n"
     ]
    }
   ],
   "source": [
    "a = 'tsdelta{close,1}'\n",
    "b = 'tsdelay{tsdelta{close,1},1}'\n",
    "fml = 'prod{' + a + ',' + b +'}'\n",
    "fml = 'condition{' + 'ge{' + fml +',0},' + fml + ',add{minus{close,close},0}}'\n",
    "fml = 'tsmean{' + fml + ',20}'\n",
    "fml = 'powv{' + fml + ',0.5}'\n",
    "\n",
    "print('cs_sp')\n",
    "stats, signal = se.test_factor(fml, corr_type='linear', method='cs', spread_type='spread', back=20)\n",
    "x, y = get_xy(signal, se.data.spread, univ)\n",
    "lr.fit(x, y)\n",
    "print(np.sqrt(np.mean((y-lr.predict(x))**2)))\n",
    "print()\n",
    "\n",
    "print('ts_sp')\n",
    "stats, signal = se.test_factor(fml, corr_type='linear',method='ts', spread_type='spread', back=20)\n",
    "x, y = get_xy(signal, se.data.spread, univ)\n",
    "lr.fit(x, y)\n",
    "print(np.sqrt(np.mean((y-lr.predict(x))**2)))\n",
    "print()\n",
    "\n",
    "\n",
    "\n",
    "print('cs_vol_sp')\n",
    "stats, signal = se.test_factor(fml, corr_type='linear',method='cs', spread_type='vol_wtd_bas', back=20)\n",
    "x, y = get_xy(signal, se.data.spread_dic['vol_wtd_bas'], univ)\n",
    "lr.fit(x, y)\n",
    "print(np.sqrt(np.mean((y-lr.predict(x))**2)))\n",
    "print()\n",
    "\n",
    "print('ts_vol_sp')\n",
    "stats, signal = se.test_factor(fml, corr_type='linear',method='ts', spread_type='vol_wtd_bas', back=20)\n",
    "x, y = get_xy(signal, se.data.spread_dic['vol_wtd_bas'], univ)\n",
    "lr.fit(x, y)\n",
    "print(np.sqrt(np.mean((y-lr.predict(x))**2)))"
   ]
  },
  {
   "cell_type": "markdown",
   "id": "cc4fc49e",
   "metadata": {},
   "source": [
    "#### CHL"
   ]
  },
  {
   "cell_type": "code",
   "execution_count": 14,
   "id": "a4239dbd",
   "metadata": {},
   "outputs": [
    {
     "name": "stdout",
     "output_type": "stream",
     "text": [
      "cs_rel_sp\n",
      "mean corr: -0.2317, positive_corr_ratio: 0.0000, corr_IR: -3.9265\n",
      "0.0005261585578705452\n",
      "\n",
      "ts_rel_sp\n",
      "mean corr: -0.1452, positive_corr_ratio: 0.3410, corr_IR: -0.3764\n",
      "0.0005261585578705452\n",
      "\n",
      "cs_vol_rel_sp\n",
      "mean corr: -0.2157, positive_corr_ratio: 0.0000, corr_IR: -3.4754\n",
      "0.0005266709233627771\n",
      "\n",
      "ts_vol_rel_sp\n",
      "mean corr: -0.0652, positive_corr_ratio: 0.4276, corr_IR: -0.1682\n",
      "0.0005266709233627771\n"
     ]
    }
   ],
   "source": [
    "a = 'minus{logv{tsdelay{close,1}},div{add{logv{tsdelay{high,1}},logv{tsdelay{low,1}}},2}}'\n",
    "b = 'minus{logv{tsdelay{close,1}},div{add{logv{high},logv{low}},2}}'\n",
    "fml = 'prod{' + a + ',' + b +'}'\n",
    "fml = 'condition{' + 'ge{' + fml +',0},' + fml + ',add{minus{close,close},0}}'\n",
    "fml = 'tsmean{' + fml + ',20}'\n",
    "fml = 'powv{' + fml + ',0.5}'\n",
    "\n",
    "print('cs_rel_sp')\n",
    "stats, signal = se.test_factor(fml, corr_type='linear',method='cs', spread_type='relative_spread', back=20)\n",
    "x, y = get_xy(signal, se.data.spread_dic['relative_spread'], univ)\n",
    "lr.fit(x, y)\n",
    "print(np.sqrt(np.mean((y-lr.predict(x))**2)))\n",
    "print()\n",
    "\n",
    "\n",
    "\n",
    "print('ts_rel_sp')\n",
    "stats, signal = se.test_factor(fml, corr_type='linear',method='ts', spread_type='relative_spread', back=20)\n",
    "x, y = get_xy(signal, se.data.spread_dic['relative_spread'], univ)\n",
    "lr.fit(x, y)\n",
    "print(np.sqrt(np.mean((y-lr.predict(x))**2)))\n",
    "print()\n",
    "\n",
    "print('cs_vol_rel_sp')\n",
    "stats, signal = se.test_factor(fml, corr_type='linear',method='cs', spread_type='vol_wtd_rel_bas', back=20)\n",
    "x, y = get_xy(signal, se.data.spread_dic['vol_wtd_rel_bas'], univ)\n",
    "lr.fit(x, y)\n",
    "print(np.sqrt(np.mean((y-lr.predict(x))**2)))\n",
    "print()\n",
    "\n",
    "\n",
    "\n",
    "print('ts_vol_rel_sp')\n",
    "stats, signal = se.test_factor(fml, corr_type='linear',method='ts', spread_type='vol_wtd_rel_bas', back=20)\n",
    "x, y = get_xy(signal, se.data.spread_dic['vol_wtd_rel_bas'], univ)\n",
    "lr.fit(x, y)\n",
    "print(np.sqrt(np.mean((y-lr.predict(x))**2)))\n"
   ]
  },
  {
   "cell_type": "code",
   "execution_count": 15,
   "id": "2e0b6a04",
   "metadata": {},
   "outputs": [
    {
     "name": "stdout",
     "output_type": "stream",
     "text": [
      "cs_sp\n",
      "mean corr: 0.8069, positive_corr_ratio: 1.0000, corr_IR: 18.1490\n",
      "0.01608914260675741\n",
      "\n",
      "ts_sp\n",
      "mean corr: 0.4472, positive_corr_ratio: 0.8773, corr_IR: 1.2842\n",
      "0.01608914260675741\n",
      "\n",
      "cs_vol_sp\n",
      "mean corr: 0.8335, positive_corr_ratio: 1.0000, corr_IR: 19.7509\n",
      "0.015576776278580222\n",
      "\n",
      "ts_vol_sp\n",
      "mean corr: 0.5317, positive_corr_ratio: 0.9250, corr_IR: 1.6688\n",
      "0.015576776278580222\n"
     ]
    }
   ],
   "source": [
    "a = 'minus{tsdelay{close,1},div{add{tsdelay{high,1},tsdelay{low,1}},2}}'\n",
    "b = 'minus{tsdelay{close,1},div{add{high,low},2}}'\n",
    "fml = 'prod{' + a + ',' + b +'}'\n",
    "fml = 'condition{' + 'ge{' + fml +',0},' + fml + ',add{minus{close,close},0}}'\n",
    "fml = 'tsmean{' + fml + ',20}'\n",
    "fml = 'powv{' + fml + ',0.5}'\n",
    "\n",
    "print('cs_sp')\n",
    "stats, signal = se.test_factor(fml, corr_type='linear', method='cs', spread_type='spread', back=20)\n",
    "x, y = get_xy(signal, se.data.spread, univ)\n",
    "lr.fit(x, y)\n",
    "print(np.sqrt(np.mean((y-lr.predict(x))**2)))\n",
    "print()\n",
    "\n",
    "print('ts_sp')\n",
    "stats, signal = se.test_factor(fml, corr_type='linear',method='ts', spread_type='spread', back=20)\n",
    "x, y = get_xy(signal, se.data.spread, univ)\n",
    "lr.fit(x, y)\n",
    "print(np.sqrt(np.mean((y-lr.predict(x))**2)))\n",
    "print()\n",
    "\n",
    "\n",
    "\n",
    "print('cs_vol_sp')\n",
    "stats, signal = se.test_factor(fml, corr_type='linear',method='cs', spread_type='vol_wtd_bas', back=20)\n",
    "x, y = get_xy(signal, se.data.spread_dic['vol_wtd_bas'], univ)\n",
    "lr.fit(x, y)\n",
    "print(np.sqrt(np.mean((y-lr.predict(x))**2)))\n",
    "print()\n",
    "\n",
    "print('ts_vol_sp')\n",
    "stats, signal = se.test_factor(fml, corr_type='linear',method='ts', spread_type='vol_wtd_bas', back=20)\n",
    "x, y = get_xy(signal, se.data.spread_dic['vol_wtd_bas'], univ)\n",
    "lr.fit(x, y)\n",
    "print(np.sqrt(np.mean((y-lr.predict(x))**2)))"
   ]
  },
  {
   "cell_type": "markdown",
   "id": "e8a55209",
   "metadata": {},
   "source": [
    "#### last_bas"
   ]
  },
  {
   "cell_type": "code",
   "execution_count": 16,
   "id": "46492274",
   "metadata": {},
   "outputs": [
    {
     "name": "stdout",
     "output_type": "stream",
     "text": [
      "cs_rel_sp\n",
      "mean corr: 0.7343, positive_corr_ratio: 1.0000, corr_IR: 7.4584\n",
      "0.00031485678446564606\n",
      "\n",
      "ts_rel_sp\n",
      "mean corr: 0.3222, positive_corr_ratio: 0.9692, corr_IR: 1.3094\n",
      "0.00031485678446564606\n",
      "\n",
      "cs_vol_rel_sp\n",
      "mean corr: 0.7341, positive_corr_ratio: 1.0000, corr_IR: 7.3904\n",
      "0.00031638635710163444\n",
      "\n",
      "ts_vol_rel_sp\n",
      "mean corr: 0.3078, positive_corr_ratio: 0.9640, corr_IR: 1.2554\n",
      "0.00031638635710163444\n"
     ]
    }
   ],
   "source": [
    "lr = LinearRegression()\n",
    "\n",
    "fml = 'last_rel_bas'\n",
    "\n",
    "print('cs_rel_sp')\n",
    "stats, signal = se.test_factor(fml, corr_type='linear',method='cs', spread_type='relative_spread', back=20)\n",
    "x, y = get_xy(signal, se.data.spread_dic['relative_spread'], univ)\n",
    "lr.fit(x, y)\n",
    "print(np.sqrt(np.mean((y-lr.predict(x))**2)))\n",
    "print()\n",
    "\n",
    "\n",
    "\n",
    "print('ts_rel_sp')\n",
    "stats, signal = se.test_factor(fml, corr_type='linear',method='ts', spread_type='relative_spread', back=20)\n",
    "x, y = get_xy(signal, se.data.spread_dic['relative_spread'], univ)\n",
    "lr.fit(x, y)\n",
    "print(np.sqrt(np.mean((y-lr.predict(x))**2)))\n",
    "print()\n",
    "\n",
    "print('cs_vol_rel_sp')\n",
    "stats, signal = se.test_factor(fml, corr_type='linear',method='cs', spread_type='vol_wtd_rel_bas', back=20)\n",
    "x, y = get_xy(signal, se.data.spread_dic['vol_wtd_rel_bas'], univ)\n",
    "lr.fit(x, y)\n",
    "print(np.sqrt(np.mean((y-lr.predict(x))**2)))\n",
    "print()\n",
    "\n",
    "\n",
    "\n",
    "print('ts_vol_rel_sp')\n",
    "stats, signal = se.test_factor(fml, corr_type='linear',method='ts', spread_type='vol_wtd_rel_bas', back=20)\n",
    "x, y = get_xy(signal, se.data.spread_dic['vol_wtd_rel_bas'], univ)\n",
    "lr.fit(x, y)\n",
    "print(np.sqrt(np.mean((y-lr.predict(x))**2)))"
   ]
  },
  {
   "cell_type": "code",
   "execution_count": 17,
   "id": "2db0ca67",
   "metadata": {},
   "outputs": [
    {
     "name": "stdout",
     "output_type": "stream",
     "text": [
      "cs_sp\n",
      "mean corr: 0.5655, positive_corr_ratio: 1.0000, corr_IR: 6.0078\n",
      "0.01809021668964128\n",
      "\n",
      "ts_sp\n",
      "mean corr: 0.1231, positive_corr_ratio: 0.8308, corr_IR: 0.9220\n"
     ]
    },
    {
     "name": "stderr",
     "output_type": "stream",
     "text": [
      "C:\\ProgramData\\Anaconda3\\lib\\site-packages\\numpy\\lib\\function_base.py:2691: RuntimeWarning: invalid value encountered in true_divide\n",
      "  c /= stddev[:, None]\n",
      "C:\\ProgramData\\Anaconda3\\lib\\site-packages\\numpy\\lib\\function_base.py:2692: RuntimeWarning: invalid value encountered in true_divide\n",
      "  c /= stddev[None, :]\n"
     ]
    },
    {
     "name": "stdout",
     "output_type": "stream",
     "text": [
      "0.01809021668964128\n",
      "\n",
      "cs_vol_sp\n",
      "mean corr: 0.5633, positive_corr_ratio: 1.0000, corr_IR: 6.1431\n",
      "0.01841368404684135\n",
      "\n",
      "ts_vol_sp\n",
      "mean corr: 0.1135, positive_corr_ratio: 0.8014, corr_IR: 0.8327\n",
      "0.01841368404684135\n"
     ]
    },
    {
     "name": "stderr",
     "output_type": "stream",
     "text": [
      "C:\\ProgramData\\Anaconda3\\lib\\site-packages\\numpy\\lib\\function_base.py:2691: RuntimeWarning: invalid value encountered in true_divide\n",
      "  c /= stddev[:, None]\n",
      "C:\\ProgramData\\Anaconda3\\lib\\site-packages\\numpy\\lib\\function_base.py:2692: RuntimeWarning: invalid value encountered in true_divide\n",
      "  c /= stddev[None, :]\n"
     ]
    }
   ],
   "source": [
    "fml = 'last_bas'\n",
    "\n",
    "print('cs_sp')\n",
    "stats, signal = se.test_factor(fml, corr_type='linear', method='cs', spread_type='spread', back=20)\n",
    "x, y = get_xy(signal, se.data.spread, univ)\n",
    "lr.fit(x, y)\n",
    "print(np.sqrt(np.mean((y-lr.predict(x))**2)))\n",
    "print()\n",
    "\n",
    "print('ts_sp')\n",
    "stats, signal = se.test_factor(fml, corr_type='linear',method='ts', spread_type='spread', back=20)\n",
    "x, y = get_xy(signal, se.data.spread, univ)\n",
    "lr.fit(x, y)\n",
    "print(np.sqrt(np.mean((y-lr.predict(x))**2)))\n",
    "print()\n",
    "\n",
    "\n",
    "\n",
    "print('cs_vol_sp')\n",
    "stats, signal = se.test_factor(fml, corr_type='linear',method='cs', spread_type='vol_wtd_bas', back=20)\n",
    "x, y = get_xy(signal, se.data.spread_dic['vol_wtd_bas'], univ)\n",
    "lr.fit(x, y)\n",
    "print(np.sqrt(np.mean((y-lr.predict(x))**2)))\n",
    "print()\n",
    "\n",
    "print('ts_vol_sp')\n",
    "stats, signal = se.test_factor(fml, corr_type='linear',method='ts', spread_type='vol_wtd_bas', back=20)\n",
    "x, y = get_xy(signal, se.data.spread_dic['vol_wtd_bas'], univ)\n",
    "lr.fit(x, y)\n",
    "print(np.sqrt(np.mean((y-lr.predict(x))**2)))"
   ]
  },
  {
   "cell_type": "markdown",
   "id": "f3ac432d",
   "metadata": {},
   "source": [
    "#### LOT\n",
    "\n",
    "我们使用torch来进行优化求解"
   ]
  },
  {
   "cell_type": "code",
   "execution_count": 149,
   "id": "df7823cb",
   "metadata": {},
   "outputs": [],
   "source": [
    "class LOTNet(nn.Module):\n",
    "    def __init__(self, sample_num: int = 1):\n",
    "        \"\"\"\n",
    "        :param sample_num: 样本数量\n",
    "        \"\"\"\n",
    "        super(LOTNet, self).__init__()\n",
    "        self.sample_num = sample_num\n",
    "        self.sigma = nn.Parameter(0.01 * torch.ones(sample_num))  \n",
    "        self.beta = nn.Parameter(torch.ones(1, sample_num))\n",
    "        self.alpha_1 = nn.Parameter(0.01 * torch.ones(1, sample_num))\n",
    "        self.alpha_2 = nn.Parameter(-0.01 * torch.ones(1, sample_num))\n",
    "        \n",
    "    def forward(self, R, R_m):  # 传入的R是seq_length * sample_num，R_m是seq_length * 1\n",
    "        R_1 = R + self.alpha_1.repeat(len(R), 1) - torch.matmul(R_m, self.beta)\n",
    "        R_2 = R + self.alpha_2.repeat(len(R), 1) - torch.matmul(R_m, self.beta)\n",
    "#         R_1 = R - torch.matmul(R_m, self.beta)\n",
    "#         R_2 = R - torch.matmul(R_m, self.beta)\n",
    "        R_t = torch.where(R>0, R_2, R_1)\n",
    "\n",
    "        R_t = torch.sum(R_t**2, dim=0) / (2 * self.sigma ** 2+1e-8)\n",
    "        # print(R_t.shape)\n",
    "        return -len(R)/2 * torch.log(1e-8+self.sigma**2) - R_t\n",
    "    \n",
    "class MyLoss(nn.Module):\n",
    "    def __init__(self):\n",
    "        super(MyLoss, self).__init__()\n",
    "        pass\n",
    "    \n",
    "    def forward(self, x):\n",
    "        return -torch.mean(x)"
   ]
  },
  {
   "cell_type": "code",
   "execution_count": 18,
   "id": "273cc834",
   "metadata": {},
   "outputs": [
    {
     "name": "stdout",
     "output_type": "stream",
     "text": [
      "mean corr: -0.0059, positive_corr_ratio: 0.4732, corr_IR: -0.0531\n"
     ]
    }
   ],
   "source": [
    "# 获得R_m和每个股票的日收益率\n",
    "fml = 'tspct{close,1}'\n",
    "stats, ret = se.test_factor(fml, corr_type='linear',method='cs', spread_type='relative_spread')\n",
    "ret = ret.astype(np.float32)\n",
    "ret[np.isnan(ret)] = 0\n",
    "R_m = np.zeros(len(ret), dtype=np.float32)\n",
    "R_m[1:] = np.nanmean(ret[1:], axis=1)"
   ]
  },
  {
   "cell_type": "code",
   "execution_count": 66,
   "id": "666c4997",
   "metadata": {},
   "outputs": [
    {
     "name": "stdout",
     "output_type": "stream",
     "text": [
      "30 done. time used: 2.7813s\n",
      "40 done. time used: 5.5232s\n",
      "50 done. time used: 8.2471s\n",
      "60 done. time used: 10.9681s\n",
      "70 done. time used: 13.7016s\n",
      "80 done. time used: 16.4224s\n",
      "90 done. time used: 19.1644s\n",
      "100 done. time used: 21.9026s\n",
      "110 done. time used: 24.6107s\n",
      "120 done. time used: 27.3104s\n",
      "130 done. time used: 30.0112s\n",
      "140 done. time used: 32.7077s\n",
      "150 done. time used: 35.4135s\n",
      "160 done. time used: 38.1247s\n",
      "170 done. time used: 40.8308s\n",
      "180 done. time used: 43.5180s\n",
      "190 done. time used: 46.1989s\n",
      "200 done. time used: 48.8905s\n",
      "210 done. time used: 51.6008s\n",
      "220 done. time used: 54.3250s\n",
      "230 done. time used: 57.0460s\n"
     ]
    }
   ],
   "source": [
    "device = 'cuda'\n",
    "model = LOTNet(2081).to(device)\n",
    "optimizer = torch.optim.Adam(model.parameters(), lr=1e-2, weight_decay=0)\n",
    "loss_func = MyLoss()\n",
    "\n",
    "r_m = torch.Tensor(R_m).unsqueeze(-1).to(device)\n",
    "r = torch.Tensor(ret).to(device)\n",
    "\n",
    "# R_m = torch.Tensor(R_m[1:51]).unsqueeze(-1).to(device)\n",
    "# R = torch.Tensor(ret[1:51]).to(device)\n",
    "\n",
    "signal = np.zeros((240, 2081))\n",
    "t = time()\n",
    "for j in range(21, 240):\n",
    "    for i in range(200):\n",
    "        model.train()\n",
    "        optimizer.zero_grad()\n",
    "        loss = loss_func(model(r[j-20:j+1], r_m[j-20:j+1]))\n",
    "        loss.backward()\n",
    "        optimizer.step()\n",
    "#         if (i + 1) % 100 == 0:\n",
    "#             print('epoch {}'.format(i + 1))\n",
    "#             print('loss: {:.4f}, time used: {:.4f}s'.format(float(loss), time()-t))\n",
    "    model.eval()\n",
    "    signal[j] = (model.alpha_1 - model.alpha_2).detach().cpu().numpy()\n",
    "    if j % 10 == 0:\n",
    "        print('{} done. time used: {:.4f}s'.format(j, time()-t))"
   ]
  },
  {
   "cell_type": "code",
   "execution_count": 74,
   "id": "2e2e5420",
   "metadata": {},
   "outputs": [
    {
     "data": {
      "text/plain": [
       "<matplotlib.collections.PathCollection at 0x1907467a430>"
      ]
     },
     "execution_count": 74,
     "metadata": {},
     "output_type": "execute_result"
    },
    {
     "data": {
      "image/png": "[encoded data removed]",
      "text/plain": [
       "<Figure size 432x288 with 1 Axes>"
      ]
     },
     "metadata": {
      "needs_background": "light"
     },
     "output_type": "display_data"
    }
   ],
   "source": [
    "plt.scatter(r_m[20:230].detach().cpu().numpy(),r[20:230,0].detach().cpu().numpy())"
   ]
  },
  {
   "cell_type": "code",
   "execution_count": 157,
   "id": "153f5cf9",
   "metadata": {},
   "outputs": [
    {
     "data": {
      "text/plain": [
       "<matplotlib.collections.PathCollection at 0x1905fed7940>"
      ]
     },
     "execution_count": 157,
     "metadata": {},
     "output_type": "execute_result"
    },
    {
     "data": {
      "image/png": "[encoded data removed]",
      "text/plain": [
       "<Figure size 432x288 with 1 Axes>"
      ]
     },
     "metadata": {
      "needs_background": "light"
     },
     "output_type": "display_data"
    }
   ],
   "source": [
    "y = r[20:230,0].detach().cpu().numpy().copy()\n",
    "y[r[20:230,0].detach().cpu().numpy()>0] -= 0.0156\n",
    "y[r[20:230,0].detach().cpu().numpy()<0] += 0.0132\n",
    "plt.scatter(r_m[20:230].detach().cpu().numpy(),y)"
   ]
  },
  {
   "cell_type": "code",
   "execution_count": 158,
   "id": "ba4637dc",
   "metadata": {},
   "outputs": [
    {
     "data": {
      "text/plain": [
       "0.012884674"
      ]
     },
     "execution_count": 158,
     "metadata": {},
     "output_type": "execute_result"
    }
   ],
   "source": [
    "lr.fit(r_m[20:230].detach().cpu().numpy(),y)\n",
    "np.std(y - lr.predict(r_m[20:230].detach().cpu().numpy()))"
   ]
  },
  {
   "cell_type": "code",
   "execution_count": 125,
   "id": "5180e102",
   "metadata": {},
   "outputs": [
    {
     "data": {
      "text/plain": [
       "0.018944947"
      ]
     },
     "execution_count": 125,
     "metadata": {},
     "output_type": "execute_result"
    }
   ],
   "source": [
    "lr.fit(r_m[20:230].detach().cpu().numpy(),r[20:230,0].detach().cpu().numpy())\n",
    "np.std(r[20:230,0].detach().cpu().numpy() - lr.predict(r_m[20:230].detach().cpu().numpy()))"
   ]
  },
  {
   "cell_type": "code",
   "execution_count": null,
   "id": "9bec089b",
   "metadata": {},
   "outputs": [],
   "source": []
  },
  {
   "cell_type": "code",
   "execution_count": 159,
   "id": "bff97146",
   "metadata": {},
   "outputs": [
    {
     "data": {
      "text/plain": [
       "array([0.2990492], dtype=float32)"
      ]
     },
     "execution_count": 159,
     "metadata": {},
     "output_type": "execute_result"
    }
   ],
   "source": [
    "lr.coef_"
   ]
  },
  {
   "cell_type": "code",
   "execution_count": 133,
   "id": "6159b7f5",
   "metadata": {},
   "outputs": [
    {
     "data": {
      "text/plain": [
       "tensor([-0.0848, -0.0903, -0.2789,  ..., -0.2097, -0.1530, -0.1464],\n",
       "       device='cuda:0', grad_fn=<NegBackward>)"
      ]
     },
     "execution_count": 133,
     "metadata": {},
     "output_type": "execute_result"
    }
   ],
   "source": [
    "model(r[20:230], r_m[20:230,0:1])"
   ]
  },
  {
   "cell_type": "code",
   "execution_count": 150,
   "id": "14ce75c4",
   "metadata": {},
   "outputs": [
    {
     "name": "stdout",
     "output_type": "stream",
     "text": [
      "epoch 20\n",
      "loss: -736.3524, time used: 0.1802s\n",
      "epoch 40\n",
      "loss: -779.9918, time used: 0.2462s\n",
      "epoch 60\n",
      "loss: -798.0799, time used: 0.3103s\n",
      "epoch 80\n",
      "loss: -804.5164, time used: 0.3753s\n",
      "epoch 100\n",
      "loss: -806.1606, time used: 0.4414s\n",
      "epoch 120\n",
      "loss: -806.3729, time used: 0.5065s\n",
      "epoch 140\n",
      "loss: -806.3785, time used: 0.5705s\n",
      "epoch 160\n",
      "loss: -806.3787, time used: 0.6346s\n",
      "epoch 180\n",
      "loss: -806.3791, time used: 0.6996s\n",
      "epoch 200\n",
      "loss: -806.3790, time used: 0.7646s\n"
     ]
    }
   ],
   "source": [
    "t = time()\n",
    "model = LOTNet(1).to(device)\n",
    "optimizer = torch.optim.Adam(model.parameters(), lr=1e-2, weight_decay=0)\n",
    "for i in range(200):\n",
    "    model.train()\n",
    "    optimizer.zero_grad()\n",
    "    loss = loss_func(model(r[20:230,0:1], r_m[20:230]))\n",
    "    loss.backward()\n",
    "    optimizer.step()\n",
    "    if (i + 1) % 20 == 0:\n",
    "        print('epoch {}'.format(i + 1))\n",
    "        print('loss: {:.4f}, time used: {:.4f}s'.format(float(loss), time()-t))"
   ]
  },
  {
   "cell_type": "code",
   "execution_count": 161,
   "id": "3839353f",
   "metadata": {},
   "outputs": [
    {
     "data": {
      "text/plain": [
       "Parameter containing:\n",
       "tensor([0.0130], device='cuda:0', requires_grad=True)"
      ]
     },
     "execution_count": 161,
     "metadata": {},
     "output_type": "execute_result"
    }
   ],
   "source": [
    "model.sigma"
   ]
  },
  {
   "cell_type": "code",
   "execution_count": 148,
   "id": "a8eb209c",
   "metadata": {},
   "outputs": [
    {
     "data": {
      "text/plain": [
       "tensor(1, device='cuda:0')"
      ]
     },
     "execution_count": 148,
     "metadata": {},
     "output_type": "execute_result"
    }
   ],
   "source": [
    "torch.sum(model.beta > 0)"
   ]
  },
  {
   "cell_type": "code",
   "execution_count": 78,
   "id": "006149f3",
   "metadata": {},
   "outputs": [
    {
     "data": {
      "image/png": "[encoded data removed]",
      "text/plain": [
       "<Figure size 432x288 with 1 Axes>"
      ]
     },
     "metadata": {
      "needs_background": "light"
     },
     "output_type": "display_data"
    }
   ],
   "source": [
    "plt.hist(model.beta.detach().cpu().numpy().flatten(),bins=100)\n",
    "plt.show()"
   ]
  },
  {
   "cell_type": "code",
   "execution_count": 152,
   "id": "13c41f9e",
   "metadata": {},
   "outputs": [
    {
     "data": {
      "text/plain": [
       "Parameter containing:\n",
       "tensor([[0.0132]], device='cuda:0', requires_grad=True)"
      ]
     },
     "execution_count": 152,
     "metadata": {},
     "output_type": "execute_result"
    }
   ],
   "source": [
    "model.alpha_1"
   ]
  },
  {
   "cell_type": "code",
   "execution_count": 153,
   "id": "83c04757",
   "metadata": {},
   "outputs": [
    {
     "data": {
      "text/plain": [
       "Parameter containing:\n",
       "tensor([[-0.0156]], device='cuda:0', requires_grad=True)"
      ]
     },
     "execution_count": 153,
     "metadata": {},
     "output_type": "execute_result"
    }
   ],
   "source": [
    "model.alpha_2"
   ]
  },
  {
   "cell_type": "code",
   "execution_count": 30,
   "id": "0ab59d28",
   "metadata": {},
   "outputs": [],
   "source": [
    "from mytools.AutoTester import *\n",
    "AT = AutoTester"
   ]
  },
  {
   "cell_type": "code",
   "execution_count": 71,
   "id": "893f9aed",
   "metadata": {},
   "outputs": [
    {
     "name": "stdout",
     "output_type": "stream",
     "text": [
      "cs_rel_sp\n",
      "mean corr: -0.0540, positive_corr_ratio: 0.0137, corr_IR: -1.5769\n",
      "0.0005326726865579947\n",
      "\n",
      "ts_rel_sp\n",
      "mean corr: -0.0898, positive_corr_ratio: 0.3590, corr_IR: -0.3837\n",
      "0.0005326726865579947\n",
      "\n",
      "cs_vol_rel_sp\n",
      "mean corr: -0.0465, positive_corr_ratio: 0.0183, corr_IR: -1.5540\n",
      "0.0005318852959550952\n",
      "\n",
      "ts_vol_rel_sp\n",
      "mean corr: -0.0451, positive_corr_ratio: 0.4214, corr_IR: -0.2100\n",
      "0.0005318852959550952\n",
      "\n"
     ]
    }
   ],
   "source": [
    "print('cs_rel_sp')\n",
    "stats = AT.test(signal[21:], se.data.spread_dic['relative_spread'][21:240], corr_type='linear',method='cs')\n",
    "print('mean corr: {:.4f}, positive_corr_ratio: {:.4f}, corr_IR: {:.4f}'.\n",
    "              format(stats.mean_corr, stats.positive_corr_ratio, stats.corr_IR))\n",
    "x, y = get_xy(signal[21:], se.data.spread_dic['relative_spread'][21:240], univ[21:240])\n",
    "lr.fit(x, y)\n",
    "print(np.sqrt(np.mean((y-lr.predict(x))**2)))\n",
    "print()\n",
    "\n",
    "\n",
    "print('ts_rel_sp')\n",
    "stats = AT.test(signal[21:], se.data.spread_dic['relative_spread'][21:240], corr_type='linear',method='ts')\n",
    "print('mean corr: {:.4f}, positive_corr_ratio: {:.4f}, corr_IR: {:.4f}'.\n",
    "              format(stats.mean_corr, stats.positive_corr_ratio, stats.corr_IR))\n",
    "x, y = get_xy(signal[21:], se.data.spread_dic['relative_spread'][21:240], univ[21:240])\n",
    "lr.fit(x, y)\n",
    "print(np.sqrt(np.mean((y-lr.predict(x))**2)))\n",
    "print()\n",
    "\n",
    "print('cs_vol_rel_sp')\n",
    "stats = AT.test(signal[21:], se.data.spread_dic['vol_wtd_rel_bas'][21:240], corr_type='linear',method='cs')\n",
    "print('mean corr: {:.4f}, positive_corr_ratio: {:.4f}, corr_IR: {:.4f}'.\n",
    "              format(stats.mean_corr, stats.positive_corr_ratio, stats.corr_IR))\n",
    "x, y = get_xy(signal[21:], se.data.spread_dic['vol_wtd_rel_bas'][21:240], univ[21:240])\n",
    "lr.fit(x, y)\n",
    "print(np.sqrt(np.mean((y-lr.predict(x))**2)))\n",
    "print()\n",
    "\n",
    "\n",
    "print('ts_vol_rel_sp')\n",
    "stats = AT.test(signal[21:], se.data.spread_dic['vol_wtd_rel_bas'][21:240], corr_type='linear',method='ts')\n",
    "print('mean corr: {:.4f}, positive_corr_ratio: {:.4f}, corr_IR: {:.4f}'.\n",
    "              format(stats.mean_corr, stats.positive_corr_ratio, stats.corr_IR))\n",
    "x, y = get_xy(signal[21:], se.data.spread_dic['vol_wtd_rel_bas'][21:240], univ[21:240])\n",
    "lr.fit(x, y)\n",
    "print(np.sqrt(np.mean((y-lr.predict(x))**2)))\n",
    "print()"
   ]
  },
  {
   "cell_type": "code",
   "execution_count": 32,
   "id": "10c72327",
   "metadata": {},
   "outputs": [
    {
     "name": "stdout",
     "output_type": "stream",
     "text": [
      "cs_sp\n",
      "mean corr: 0.0421, positive_corr_ratio: 0.9863, corr_IR: 1.8660\n",
      "0.02333245055586285\n",
      "\n",
      "ts_sp\n",
      "mean corr: 0.1205, positive_corr_ratio: 0.7227, corr_IR: 0.6040\n",
      "0.022896406990260066\n",
      "\n",
      "cs_vol_sp\n",
      "mean corr: 0.0499, positive_corr_ratio: 0.9954, corr_IR: 1.8653\n",
      "0.0005320071552560949\n",
      "\n",
      "ts_vol_sp\n",
      "mean corr: 0.1411, positive_corr_ratio: 0.7775, corr_IR: 0.7488\n",
      "0.0005320071552560949\n",
      "\n"
     ]
    }
   ],
   "source": [
    "print('cs_sp')\n",
    "stats = AT.test(signal[21:], se.data.spread[21:240], corr_type='linear',method='cs')\n",
    "print('mean corr: {:.4f}, positive_corr_ratio: {:.4f}, corr_IR: {:.4f}'.\n",
    "              format(stats.mean_corr, stats.positive_corr_ratio, stats.corr_IR))\n",
    "x, y = get_xy(signal[51:], se.data.spread[21:240], univ[21:240])\n",
    "lr.fit(x, y)\n",
    "print(np.sqrt(np.mean((y-lr.predict(x))**2)))\n",
    "print()\n",
    "\n",
    "print('ts_sp')\n",
    "stats = AT.test(signal[21:], se.data.spread[21:240], corr_type='linear',method='ts')\n",
    "print('mean corr: {:.4f}, positive_corr_ratio: {:.4f}, corr_IR: {:.4f}'.\n",
    "              format(stats.mean_corr, stats.positive_corr_ratio, stats.corr_IR))\n",
    "x, y = get_xy(signal[21:], se.data.spread[21:240], univ[21:240])\n",
    "lr.fit(x, y)\n",
    "print(np.sqrt(np.mean((y-lr.predict(x))**2)))\n",
    "print()\n",
    "\n",
    "print('cs_vol_sp')\n",
    "stats = AT.test(signal[21:], se.data.spread_dic['vol_wtd_bas'][21:240], corr_type='linear',method='cs')\n",
    "print('mean corr: {:.4f}, positive_corr_ratio: {:.4f}, corr_IR: {:.4f}'.\n",
    "              format(stats.mean_corr, stats.positive_corr_ratio, stats.corr_IR))\n",
    "x, y = get_xy(signal[21:], se.data.spread_dic['vol_wtd_rel_bas'][21:240], univ[21:240])\n",
    "lr.fit(x, y)\n",
    "print(np.sqrt(np.mean((y-lr.predict(x))**2)))\n",
    "print()\n",
    "\n",
    "\n",
    "print('ts_vol_sp')\n",
    "stats = AT.test(signal[21:], se.data.spread_dic['vol_wtd_bas'][21:240], corr_type='linear',method='ts')\n",
    "print('mean corr: {:.4f}, positive_corr_ratio: {:.4f}, corr_IR: {:.4f}'.\n",
    "              format(stats.mean_corr, stats.positive_corr_ratio, stats.corr_IR))\n",
    "x, y = get_xy(signal[21:], se.data.spread_dic['vol_wtd_rel_bas'][21:240], univ[21:240])\n",
    "lr.fit(x, y)\n",
    "print(np.sqrt(np.mean((y-lr.predict(x))**2)))\n",
    "print()"
   ]
  },
  {
   "cell_type": "markdown",
   "id": "581efa94",
   "metadata": {},
   "source": [
    "#### Gibbs"
   ]
  },
  {
   "cell_type": "code",
   "execution_count": 37,
   "id": "90bc836a",
   "metadata": {},
   "outputs": [],
   "source": [
    "# close合法的top\n",
    "top = np.sum(np.isnan(se.data.data_dic['close']),axis=0)<=15"
   ]
  },
  {
   "cell_type": "code",
   "execution_count": 38,
   "id": "aaefc9de",
   "metadata": {},
   "outputs": [],
   "source": [
    "signal_gibbs = np.zeros((210,np.sum(top)))\n",
    "for i in range(10):\n",
    "    c = np.load('../estimator/cache/{}.npy'.format(i))\n",
    "    signal_gibbs[21*i:21*i+21] = c"
   ]
  },
  {
   "cell_type": "code",
   "execution_count": 39,
   "id": "aee82d40",
   "metadata": {},
   "outputs": [
    {
     "name": "stdout",
     "output_type": "stream",
     "text": [
      "cs_sp\n",
      "mean corr: 0.0024, positive_corr_ratio: 0.5286, corr_IR: 0.1088\n",
      "0.02302115877274065\n",
      "\n",
      "cs_rel_sp\n",
      "mean corr: -0.0006, positive_corr_ratio: 0.4429, corr_IR: -0.0281\n",
      "0.0005328121884986163\n",
      "\n",
      "ts_sp\n",
      "mean corr: -0.0004, positive_corr_ratio: 0.5017, corr_IR: -0.0057\n",
      "0.02302115877274065\n",
      "\n",
      "ts_rel_sp\n",
      "mean corr: 0.0004, positive_corr_ratio: 0.5070, corr_IR: 0.0060\n",
      "0.0005328121884986163\n"
     ]
    }
   ],
   "source": [
    "print('cs_sp')\n",
    "stats = AT.test(signal_gibbs, se.data.spread[20:230,top], corr_type='linear',method='cs')\n",
    "print('mean corr: {:.4f}, positive_corr_ratio: {:.4f}, corr_IR: {:.4f}'.\n",
    "              format(stats.mean_corr, stats.positive_corr_ratio, stats.corr_IR))\n",
    "x, y = get_xy(signal_gibbs, se.data.spread[20:230,top], univ[20:230,top])\n",
    "lr.fit(x, y)\n",
    "print(np.sqrt(np.mean((y-lr.predict(x))**2)))\n",
    "print()\n",
    "\n",
    "print('cs_rel_sp')\n",
    "stats = AT.test(signal_gibbs, se.data.spread_dic['relative_spread'][20:230,top], corr_type='linear',method='cs')\n",
    "print('mean corr: {:.4f}, positive_corr_ratio: {:.4f}, corr_IR: {:.4f}'.\n",
    "              format(stats.mean_corr, stats.positive_corr_ratio, stats.corr_IR))\n",
    "x, y = get_xy(signal_gibbs, se.data.spread_dic['relative_spread'][20:230,top], univ[20:230,top])\n",
    "lr.fit(x, y)\n",
    "print(np.sqrt(np.mean((y-lr.predict(x))**2)))\n",
    "print()\n",
    "\n",
    "print('ts_sp')\n",
    "stats = AT.test(signal_gibbs, se.data.spread[20:230,top], corr_type='linear',method='ts')\n",
    "print('mean corr: {:.4f}, positive_corr_ratio: {:.4f}, corr_IR: {:.4f}'.\n",
    "              format(stats.mean_corr, stats.positive_corr_ratio, stats.corr_IR))\n",
    "x, y = get_xy(signal_gibbs, se.data.spread[20:230,top], univ[20:230,top])\n",
    "lr.fit(x, y)\n",
    "print(np.sqrt(np.mean((y-lr.predict(x))**2)))\n",
    "print()\n",
    "\n",
    "print('ts_rel_sp')\n",
    "stats = AT.test(signal_gibbs, se.data.spread_dic['relative_spread'][20:230,top], corr_type='linear',method='ts')\n",
    "print('mean corr: {:.4f}, positive_corr_ratio: {:.4f}, corr_IR: {:.4f}'.\n",
    "              format(stats.mean_corr, stats.positive_corr_ratio, stats.corr_IR))\n",
    "x, y = get_xy(signal_gibbs, se.data.spread_dic['relative_spread'][20:230,top], univ[20:230,top])\n",
    "lr.fit(x, y)\n",
    "print(np.sqrt(np.mean((y-lr.predict(x))**2)))"
   ]
  },
  {
   "cell_type": "code",
   "execution_count": null,
   "id": "d8b2096c",
   "metadata": {},
   "outputs": [],
   "source": []
  }
 ],
 "metadata": {
  "kernelspec": {
   "display_name": "Python 3 (ipykernel)",
   "language": "python",
   "name": "python3"
  },
  "language_info": {
   "codemirror_mode": {
    "name": "ipython",
    "version": 3
   },
   "file_extension": ".py",
   "mimetype": "text/x-python",
   "name": "python",
   "nbconvert_exporter": "python",
   "pygments_lexer": "ipython3",
   "version": "3.8.5"
  }
 },
 "nbformat": 4,
 "nbformat_minor": 5
}
