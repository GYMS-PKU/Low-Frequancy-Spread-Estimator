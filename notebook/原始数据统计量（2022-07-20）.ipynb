{
 "cells": [
  {
   "cell_type": "markdown",
   "id": "7aad8578",
   "metadata": {},
   "source": [
    "### 原始数据统计量\n",
    "- 计算我们使用的数据的基本统计量"
   ]
  },
  {
   "cell_type": "code",
   "execution_count": 1,
   "id": "4aeef5e0",
   "metadata": {},
   "outputs": [],
   "source": [
    "import numpy as np\n",
    "import pandas as pd\n",
    "import matplotlib.pyplot as plt\n",
    "import importlib\n",
    "import sys\n",
    "sys.path.append('C:/Users/Administrator/Desktop/Repositories/Low-Frequency-Spread-Estimator')\n",
    "sys.path.append('C:/Users/18316/Desktop/Repositories/Low-Frequency-Spread-Estimator')\n",
    "sys.path.append('C:/Users/Handsome Bad Guy/Desktop/Repositories/Low-Frequency-Spread-Estimator')\n",
    "\n",
    "from SpreadEstimator.SpreadEstimator import SpreadEstimator\n",
    "from mytools.AutoTester import AutoTester\n",
    "\n",
    "from time import time\n",
    "\n",
    "import warnings\n",
    "warnings.filterwarnings(\"ignore\")\n",
    "\n",
    "se = SpreadEstimator()"
   ]
  },
  {
   "cell_type": "markdown",
   "id": "1de362b4",
   "metadata": {},
   "source": [
    "### 计算基本统计量\n",
    "- 平均收盘价、所有平均spread"
   ]
  },
  {
   "cell_type": "code",
   "execution_count": 2,
   "id": "7458423f",
   "metadata": {},
   "outputs": [
    {
     "data": {
      "text/plain": [
       "dict_keys(['spread', 'relative_spread', 'vol_wtd_rel_bas', 'vol_wtd_bas'])"
      ]
     },
     "execution_count": 2,
     "metadata": {},
     "output_type": "execute_result"
    }
   ],
   "source": [
    "se.data.spread_dic.keys()"
   ]
  },
  {
   "cell_type": "code",
   "execution_count": 11,
   "id": "29348654",
   "metadata": {},
   "outputs": [
    {
     "name": "stdout",
     "output_type": "stream",
     "text": [
      "mean close: 15.87\n",
      "mean spread: 0.0174\n",
      "mean rela_spread: 0.1629\n",
      "mean vol_wtd_rel_bas: 0.1707\n"
     ]
    }
   ],
   "source": [
    "univ = se.data.data_dic['volume'] > 0  # 当天有交易\n",
    "print('mean close: {:.2f}'.format(np.mean(se.data.data_dic['close'][univ])))\n",
    "print('mean spread: {:.4f}'.format(np.nanmean(se.data.spread_dic['spread'][univ])))\n",
    "print('mean rela_spread: {:.4f}'.format(np.nanmean(se.data.spread_dic['relative_spread'][univ])*100))\n",
    "print('mean vol_wtd_rel_bas: {:.4f}'.format(np.nanmean(se.data.spread_dic['vol_wtd_rel_bas'][univ])*100))"
   ]
  },
  {
   "cell_type": "code",
   "execution_count": 14,
   "id": "2145645c",
   "metadata": {},
   "outputs": [],
   "source": [
    "def cal_q(s, q):\n",
    "    s = s[~np.isnan(s)]\n",
    "    return np.sort(s)[int(q * len(s))]"
   ]
  },
  {
   "cell_type": "code",
   "execution_count": 15,
   "id": "6c9c43c3",
   "metadata": {},
   "outputs": [
    {
     "name": "stdout",
     "output_type": "stream",
     "text": [
      "close: 1.72, 5.55, 9.33, 17.38, 109.90\n",
      "spread: 0.0100, 0.0104, 0.0117, 0.0161, 0.0959\n",
      "relative_spread: 0.0391, 0.0967, 0.1365, 0.1974, 0.5643\n",
      "vol_wtd_rel_bas: 0.0450, 0.1038, 0.1445, 0.2061, 0.5728\n"
     ]
    }
   ],
   "source": [
    "s = se.data.data_dic['close'][univ]\n",
    "print('close: {:.2f}, {:.2f}, {:.2f}, {:.2f}, {:.2f}'.format(cal_q(s, 0.01), \n",
    "                             cal_q(s, 0.25), cal_q(s, 0.5), cal_q(s, 0.75), cal_q(s, 0.99)))\n",
    "s = se.data.spread_dic['spread'][univ]\n",
    "print('spread: {:.4f}, {:.4f}, {:.4f}, {:.4f}, {:.4f}'.format(cal_q(s, 0.01), \n",
    "                             cal_q(s, 0.25), cal_q(s, 0.5), cal_q(s, 0.75), cal_q(s, 0.99)))\n",
    "s = se.data.spread_dic['relative_spread'][univ] * 100\n",
    "print('relative_spread: {:.4f}, {:.4f}, {:.4f}, {:.4f}, {:.4f}'.format(cal_q(s, 0.01), \n",
    "                             cal_q(s, 0.25), cal_q(s, 0.5), cal_q(s, 0.75), cal_q(s, 0.99)))\n",
    "s = se.data.spread_dic['vol_wtd_rel_bas'][univ] * 100\n",
    "print('vol_wtd_rel_bas: {:.4f}, {:.4f}, {:.4f}, {:.4f}, {:.4f}'.format(cal_q(s, 0.01), \n",
    "                             cal_q(s, 0.25), cal_q(s, 0.5), cal_q(s, 0.75), cal_q(s, 0.99)))"
   ]
  },
  {
   "cell_type": "code",
   "execution_count": null,
   "id": "6cef751b",
   "metadata": {},
   "outputs": [],
   "source": []
  }
 ],
 "metadata": {
  "kernelspec": {
   "display_name": "Python 3 (ipykernel)",
   "language": "python",
   "name": "python3"
  },
  "language_info": {
   "codemirror_mode": {
    "name": "ipython",
    "version": 3
   },
   "file_extension": ".py",
   "mimetype": "text/x-python",
   "name": "python",
   "nbconvert_exporter": "python",
   "pygments_lexer": "ipython3",
   "version": "3.9.12"
  }
 },
 "nbformat": 4,
 "nbformat_minor": 5
}
