{
 "cells": [
  {
   "cell_type": "markdown",
   "id": "81d683cf",
   "metadata": {},
   "source": [
    "### 特征相关性研究\n",
    "- 研究特征相关性；\n",
    "- 使用scipy的做回归；\n",
    "- 所有特征都做截面标准化处理\n",
    "\n",
    "2022-07-09\n",
    "- 过滤掉价格低于5元的股票\n",
    "\n",
    "2022-07-19\n",
    "- 在低价股中测试关于股价的二次模型"
   ]
  },
  {
   "cell_type": "code",
   "execution_count": 1,
   "id": "22ed089d",
   "metadata": {},
   "outputs": [],
   "source": [
    "import numpy as np\n",
    "import matplotlib.pyplot as plt\n",
    "\n",
    "\n",
    "import sys\n",
    "sys.path.append(r'C:\\Users\\Administrator\\Desktop\\Repositories\\Low-Frequency-Spread-Estimator\\notebook\\tools')\n",
    "sys.path.append(r'C:\\Users\\18316\\Desktop\\Repositories\\Low-Frequency-Spread-Estimator\\notebook\\tools')\n",
    "sys.path.append(r'C:\\Users\\Windows11\\Desktop\\Repositories\\Low-Frequency-Spread-Estimator\\notebook\\tools')\n",
    "from train_tools import *\n",
    "from get_signal import *\n",
    "from naive_model import *\n",
    "import pickle\n",
    "\n",
    "sys.path.append('C:/Users/Administrator/Desktop/Repositories/Low-Frequency-Spread-Estimator')\n",
    "sys.path.append('C:/Users/18316/Desktop/Repositories/Low-Frequency-Spread-Estimator')\n",
    "sys.path.append('C:/Users/Handsome Bad Guy/Desktop/Repositories/Low-Frequency-Spread-Estimator')\n",
    "sys.path.append('C:/Users/Windows11/Desktop/Repositories/Low-Frequency-Spread-Estimator')\n",
    "\n",
    "from SpreadEstimator.SpreadEstimator import SpreadEstimator\n",
    "from mytools.AutoTester import AutoTester\n",
    "\n",
    "# import lightgbm as lgbm\n",
    "# import statsmodels.api as sm\n",
    "# from statsmodels.stats.outliers_influence import variance_inflation_factor\n",
    "\n",
    "import warnings\n",
    "warnings.filterwarnings(\"ignore\")\n",
    "\n",
    "import torch\n",
    "import torch.nn as nn"
   ]
  },
  {
   "cell_type": "markdown",
   "id": "b93ae52e",
   "metadata": {},
   "source": [
    "### 构造不同的univ"
   ]
  },
  {
   "cell_type": "code",
   "execution_count": 2,
   "id": "db689ac7",
   "metadata": {},
   "outputs": [
    {
     "name": "stdout",
     "output_type": "stream",
     "text": [
      "mean corr: -0.3880, positive_corr_ratio: 0.0000, corr_IR: -9.2479\n"
     ]
    },
    {
     "data": {
      "text/plain": [
       "(243, 2081)"
      ]
     },
     "execution_count": 2,
     "metadata": {},
     "output_type": "execute_result"
    }
   ],
   "source": [
    "se = SpreadEstimator()\n",
    "stats, close_p = se.test_factor('close', corr_type='linear', method='cs', spread_type='relative_spread')\n",
    "close_p.shape"
   ]
  },
  {
   "cell_type": "code",
   "execution_count": 3,
   "id": "c0a64868",
   "metadata": {},
   "outputs": [],
   "source": [
    "\n",
    "with open(\"D:\\\\Documents\\\\学习资料\\\\本科毕业论文\\\\data\\\\close_top.pkl\", 'rb') as f:\n",
    "    close_top = pickle.load(f)"
   ]
  },
  {
   "cell_type": "markdown",
   "id": "fca2d666",
   "metadata": {},
   "source": [
    "### 低价股中测试关于股价的二次模型"
   ]
  },
  {
   "cell_type": "code",
   "execution_count": 49,
   "id": "332d8542",
   "metadata": {},
   "outputs": [],
   "source": [
    "def test_cs(signal, target, univ, back: int = 1):\n",
    "    corr = []\n",
    "    new_target = []\n",
    "    sig = []\n",
    "    for i in range(signal.shape[0]):\n",
    "        if i < back-1:\n",
    "            continue\n",
    "        t = np.nanmean(target[i-back+1: i+1], axis=0)\n",
    "        se = (~np.isnan(t)) & (~np.isnan(signal[i])) & univ[i]\n",
    "        if np.sum(se) < 2:\n",
    "            continue\n",
    "        corr.append(np.corrcoef(signal[i, se], t[se])[0, 1])\n",
    "        new_target.append(t[se])\n",
    "        sig.append(signal[i, se])\n",
    "    print('{:.4f}'.format(np.mean(corr)))\n",
    "    return corr, sig, new_target\n",
    "\n",
    "def test_ts(signal, target, univ, back: int = 1):\n",
    "    corr = []\n",
    "    new_t = np.zeros((len(target)-back+1, target.shape[1]))\n",
    "    for i in range(new_t.shape[0]):\n",
    "        new_t[i] = np.nanmean(target[i:i+back])\n",
    "    for i in range(signal.shape[1]):\n",
    "        t = new_t[:, i]\n",
    "        se = (~np.isnan(t)) & (~np.isnan(signal[back-1:, i])) & univ[back-1:, i]\n",
    "        if np.sum(se) < 2:\n",
    "            continue\n",
    "        corr.append(np.corrcoef(signal[back-1:, i][se], t[se])[0, 1])\n",
    "    print('{:.4f}'.format(np.mean(corr)))\n",
    "    return corr"
   ]
  },
  {
   "cell_type": "code",
   "execution_count": 54,
   "id": "50f5208b",
   "metadata": {},
   "outputs": [
    {
     "name": "stdout",
     "output_type": "stream",
     "text": [
      "mean corr: -0.3920, positive_corr_ratio: 0.0000, corr_IR: -9.9100\n",
      "0.9918\n",
      "0.7516\n",
      "\n",
      "0.3393\n",
      "0.4009\n",
      "0.3797\n"
     ]
    }
   ],
   "source": [
    "fml = 'tsmean{close,20}'\n",
    "stats, signal = se.test_factor(fml, corr_type='linear', method='cs', spread_type='relative_spread')\n",
    "signal[signal>0] = 1/signal[signal>0]\n",
    "\n",
    "corr, sig, new_target = test_cs(signal, se.data.spread_dic['relative_spread'], univ=all_univ[0], \n",
    "                                back=20)\n",
    "corr, sig, new_target = test_cs(signal, se.data.spread_dic['relative_spread'], univ=all_univ[1], back=20)\n",
    "\n",
    "print()\n",
    "\n",
    "corr = test_ts(signal, se.data.spread_dic['relative_spread'], univ=all_univ[0], \n",
    "                                back=20)\n",
    "corr = test_ts(signal, se.data.spread_dic['relative_spread'], univ=all_univ[1], back=20)\n",
    "corr = test_ts(signal, se.data.spread_dic['relative_spread'], univ=all_univ[2], back=20)\n",
    "\n",
    "# corr, sig, new_target = test_cs(signal, se.data.spread_dic['relative_spread'], univ=all_univ[2], back=20)"
   ]
  },
  {
   "cell_type": "code",
   "execution_count": 46,
   "id": "a2ce45aa",
   "metadata": {},
   "outputs": [
    {
     "data": {
      "image/png": "[encoded data removed]",
      "text/plain": [
       "<Figure size 432x288 with 1 Axes>"
      ]
     },
     "metadata": {
      "needs_background": "light"
     },
     "output_type": "display_data"
    }
   ],
   "source": [
    "x = np.hstack(sig[:]).reshape(-1, 1)\n",
    "y = np.hstack(new_target[:])\n",
    "plt.scatter(x[:1000,0], y[:1000])\n",
    "plt.show()"
   ]
  },
  {
   "cell_type": "code",
   "execution_count": 47,
   "id": "e6d2d0e8",
   "metadata": {},
   "outputs": [
    {
     "data": {
      "text/html": [
       "<table class=\"simpletable\">\n",
       "<caption>OLS Regression Results</caption>\n",
       "<tr>\n",
       "  <th>Dep. Variable:</th>            <td>y</td>        <th>  R-squared:         </th>  <td>   0.966</td> \n",
       "</tr>\n",
       "<tr>\n",
       "  <th>Model:</th>                   <td>OLS</td>       <th>  Adj. R-squared:    </th>  <td>   0.966</td> \n",
       "</tr>\n",
       "<tr>\n",
       "  <th>Method:</th>             <td>Least Squares</td>  <th>  F-statistic:       </th>  <td>7.708e+06</td>\n",
       "</tr>\n",
       "<tr>\n",
       "  <th>Date:</th>             <td>Tue, 19 Jul 2022</td> <th>  Prob (F-statistic):</th>   <td>  0.00</td>  \n",
       "</tr>\n",
       "<tr>\n",
       "  <th>Time:</th>                 <td>21:21:22</td>     <th>  Log-Likelihood:    </th> <td>6.7408e+05</td>\n",
       "</tr>\n",
       "<tr>\n",
       "  <th>No. Observations:</th>      <td>274121</td>      <th>  AIC:               </th> <td>-1.348e+06</td>\n",
       "</tr>\n",
       "<tr>\n",
       "  <th>Df Residuals:</th>          <td>274119</td>      <th>  BIC:               </th> <td>-1.348e+06</td>\n",
       "</tr>\n",
       "<tr>\n",
       "  <th>Df Model:</th>              <td>     1</td>      <th>                     </th>      <td> </td>    \n",
       "</tr>\n",
       "<tr>\n",
       "  <th>Covariance Type:</th>      <td>nonrobust</td>    <th>                     </th>      <td> </td>    \n",
       "</tr>\n",
       "</table>\n",
       "<table class=\"simpletable\">\n",
       "<tr>\n",
       "    <td></td>       <th>coef</th>     <th>std err</th>      <th>t</th>      <th>P>|t|</th>  <th>[0.025</th>    <th>0.975]</th>  \n",
       "</tr>\n",
       "<tr>\n",
       "  <th>const</th> <td>    0.0261</td> <td> 7.79e-05</td> <td>  335.500</td> <td> 0.000</td> <td>    0.026</td> <td>    0.026</td>\n",
       "</tr>\n",
       "<tr>\n",
       "  <th>x1</th>    <td>    0.9548</td> <td>    0.000</td> <td> 2776.254</td> <td> 0.000</td> <td>    0.954</td> <td>    0.955</td>\n",
       "</tr>\n",
       "</table>\n",
       "<table class=\"simpletable\">\n",
       "<tr>\n",
       "  <th>Omnibus:</th>       <td>337921.075</td> <th>  Durbin-Watson:     </th>   <td>   1.899</td>  \n",
       "</tr>\n",
       "<tr>\n",
       "  <th>Prob(Omnibus):</th>   <td> 0.000</td>   <th>  Jarque-Bera (JB):  </th> <td>66609629.204</td>\n",
       "</tr>\n",
       "<tr>\n",
       "  <th>Skew:</th>            <td> 6.641</td>   <th>  Prob(JB):          </th>   <td>    0.00</td>  \n",
       "</tr>\n",
       "<tr>\n",
       "  <th>Kurtosis:</th>        <td>78.203</td>   <th>  Cond. No.          </th>   <td>    9.04</td>  \n",
       "</tr>\n",
       "</table><br/><br/>Notes:<br/>[1] Standard Errors assume that the covariance matrix of the errors is correctly specified."
      ],
      "text/plain": [
       "<class 'statsmodels.iolib.summary.Summary'>\n",
       "\"\"\"\n",
       "                            OLS Regression Results                            \n",
       "==============================================================================\n",
       "Dep. Variable:                      y   R-squared:                       0.966\n",
       "Model:                            OLS   Adj. R-squared:                  0.966\n",
       "Method:                 Least Squares   F-statistic:                 7.708e+06\n",
       "Date:                Tue, 19 Jul 2022   Prob (F-statistic):               0.00\n",
       "Time:                        21:21:22   Log-Likelihood:             6.7408e+05\n",
       "No. Observations:              274121   AIC:                        -1.348e+06\n",
       "Df Residuals:                  274119   BIC:                        -1.348e+06\n",
       "Df Model:                           1                                         \n",
       "Covariance Type:            nonrobust                                         \n",
       "==============================================================================\n",
       "                 coef    std err          t      P>|t|      [0.025      0.975]\n",
       "------------------------------------------------------------------------------\n",
       "const          0.0261   7.79e-05    335.500      0.000       0.026       0.026\n",
       "x1             0.9548      0.000   2776.254      0.000       0.954       0.955\n",
       "==============================================================================\n",
       "Omnibus:                   337921.075   Durbin-Watson:                   1.899\n",
       "Prob(Omnibus):                  0.000   Jarque-Bera (JB):         66609629.204\n",
       "Skew:                           6.641   Prob(JB):                         0.00\n",
       "Kurtosis:                      78.203   Cond. No.                         9.04\n",
       "==============================================================================\n",
       "\n",
       "Notes:\n",
       "[1] Standard Errors assume that the covariance matrix of the errors is correctly specified.\n",
       "\"\"\""
      ]
     },
     "execution_count": 47,
     "metadata": {},
     "output_type": "execute_result"
    }
   ],
   "source": [
    "X = sm.add_constant(x)\n",
    "model = sm.OLS(y*100,X)\n",
    "res = model.fit()\n",
    "res.summary()"
   ]
  },
  {
   "cell_type": "markdown",
   "id": "f15cd32f",
   "metadata": {},
   "source": [
    "### 特征相关性矩阵\n",
    "- 计算相关系数矩阵\n",
    "- 计算方差扩张系数"
   ]
  },
  {
   "cell_type": "markdown",
   "id": "218535b3",
   "metadata": {},
   "source": [
    "### 绝对价差\n",
    "- 计算相关系数矩阵；\n",
    "- 计算方差扩张系数；\n",
    "- 使用scipy回归系数；\n",
    "- 做检验；"
   ]
  },
  {
   "cell_type": "code",
   "execution_count": null,
   "id": "b4a7f672",
   "metadata": {
    "scrolled": true
   },
   "outputs": [
    {
     "name": "stderr",
     "output_type": "stream",
     "text": [
      "100%|██████████████████████████████████████████████████████████████████████████████| 100/100 [00:00<00:00, 574.65it/s]\n",
      "100%|███████████████████████████████████████████████████████████████████████████████| 40/40 [00:00<00:00, 4444.06it/s]\n",
      "  0%|                                                                                         | 0/100 [00:00<?, ?it/s]"
     ]
    }
   ],
   "source": [
    "# 绝对价差\n",
    "se = SpreadEstimator(market='SP500')\n",
    "univ = se.data.data_dic['volume'] > 0  # 合法的univ\n",
    "\n",
    "data_path = r\"C:\\Users\\Windows11\\Desktop\\ML_data\\ML4Liquidity\"\n",
    "univ = se.data.data_dic['volume'] > 0  # 合法的univ\n",
    "with open(f'{data_path}/signal_spread.pkl', 'rb') as f:\n",
    "    signal = pickle.load(f)\n",
    "with open(f'{data_path}/target_spread.pkl', 'rb') as f:\n",
    "    target = pickle.load(f)\n",
    "\n",
    "x, y = get_train_data_cs(signal, target, univ, 20, 120)\n",
    "xx = []\n",
    "for x_ in x:\n",
    "    for i in range(x_.shape[1]):\n",
    "        x_[:, i] -= torch.nanmean(x_[:, i])\n",
    "        x_[:, i] /= torch.std(x_[:, i])\n",
    "    xx.append(x_)\n",
    "x = xx\n",
    "\n",
    "x_test_spread, y_test_spread = get_train_data_cs(signal, target, univ, 160, 200)\n",
    "xx = []\n",
    "for x_ in x_test_spread:\n",
    "    for i in range(x_.shape[1]):\n",
    "        x_[:, i] -= torch.nanmean(x_[:, i])\n",
    "        x_[:, i] /= torch.std(x_[:, i])\n",
    "        x_.cpu()\n",
    "    xx.append(x_)\n",
    "x_test_spread = xx\n",
    "\n",
    "# 计算协方差矩阵\n",
    "corr_mat_spread = np.eye(9) * len(x)\n",
    "for i in tqdm(range(len(x))):\n",
    "    for j in range(8):\n",
    "        jj = [2, 1, 3, 4, 5, 0, 7, 10, 11][j]\n",
    "        for k in range(j+1, 9):\n",
    "            kk = [2, 1, 3, 4, 5, 0, 7, 10, 11][k]\n",
    "            a = x[i][:, jj].cpu().numpy()\n",
    "            b = x[i][:, kk].cpu().numpy()\n",
    "            a[np.isnan(a)] = 0\n",
    "            b[np.isnan(b)] = 0\n",
    "            corr = np.corrcoef(a, b)[0, 1]\n",
    "            if np.isnan(corr):\n",
    "                corr = 0\n",
    "            \n",
    "            corr_mat_spread[j, k] += corr\n",
    "            corr_mat_spread[k, j] += corr\n",
    "corr_mat_spread /= len(x)"
   ]
  },
  {
   "cell_type": "code",
   "execution_count": 14,
   "id": "f0e99536",
   "metadata": {},
   "outputs": [
    {
     "name": "stdout",
     "output_type": "stream",
     "text": [
      "cond: 6.5872\n",
      "vif:  [5.547770743813978, 3.2690908198128086, 1.0532775677430128, 1.1199214349548767, 1.0000419038211337, 8.344219360570316, 6.798815480610739, 1.2595011082521146, 1.559935111551544]\n",
      "vif arg:  [4 2 3 7 8 1 0 6 5]\n"
     ]
    }
   ],
   "source": [
    "x_spread = np.vstack([xx.cpu().numpy() for xx in x])\n",
    "y_spread = np.vstack([xx.cpu().numpy() for xx in y])\n",
    "\n",
    "x_spread[np.isnan(x_spread)] = 0\n",
    "x_spread = x_spread[:, [2, 1, 3, 4, 5, 0, 7, 10, 11]]\n",
    "\n",
    "# 奇异值分解\n",
    "_, sigma, __ = np.linalg.svd(x_spread, full_matrices=False)\n",
    "vif_spread = [variance_inflation_factor(x_spread, i) for i in range(x_spread.shape[1])]\n",
    "# print(sigma)\n",
    "print('cond: {:.4f}'.format(sigma[0]/sigma[-1]))\n",
    "print('vif: ', vif_spread)\n",
    "arg_spread = np.argsort(vif_spread)\n",
    "print('vif arg: ', arg_spread)"
   ]
  },
  {
   "cell_type": "code",
   "execution_count": null,
   "id": "2fc86f09",
   "metadata": {},
   "outputs": [],
   "source": []
  },
  {
   "cell_type": "code",
   "execution_count": 21,
   "id": "57931911",
   "metadata": {},
   "outputs": [
    {
     "data": {
      "image/png": "[encoded data removed]",
      "text/plain": [
       "<Figure size 900x600 with 2 Axes>"
      ]
     },
     "metadata": {
      "needs_background": "light"
     },
     "output_type": "display_data"
    }
   ],
   "source": [
    "fea_names = np.array([ 'Roll', 'HL', 'LOT_X', 'LOT_Y', 'Gibbs', 'CHL', 'log_close', 'log_volume', 'log_cap'])\n",
    "\n",
    "plt.figure(dpi=150)\n",
    "plt.xticks(np.arange(len(fea_names)), labels=fea_names, \n",
    "                     rotation=45, rotation_mode=\"anchor\", ha=\"right\")\n",
    "plt.yticks(np.arange(len(fea_names)), labels=fea_names)    \n",
    "\n",
    "\n",
    "plt.imshow(corr_mat_spread)\n",
    "plt.tight_layout()\n",
    "plt.colorbar()\n",
    "plt.show()\n"
   ]
  },
  {
   "cell_type": "code",
   "execution_count": 22,
   "id": "a00ad7e3",
   "metadata": {},
   "outputs": [
    {
     "data": {
      "text/html": [
       "<table class=\"simpletable\">\n",
       "<caption>OLS Regression Results</caption>\n",
       "<tr>\n",
       "  <th>Dep. Variable:</th>            <td>y</td>        <th>  R-squared:         </th>  <td>   0.765</td>  \n",
       "</tr>\n",
       "<tr>\n",
       "  <th>Model:</th>                   <td>OLS</td>       <th>  Adj. R-squared:    </th>  <td>   0.764</td>  \n",
       "</tr>\n",
       "<tr>\n",
       "  <th>Method:</th>             <td>Least Squares</td>  <th>  F-statistic:       </th>  <td>7.808e+04</td> \n",
       "</tr>\n",
       "<tr>\n",
       "  <th>Date:</th>             <td>Thu, 11 Aug 2022</td> <th>  Prob (F-statistic):</th>   <td>  0.00</td>   \n",
       "</tr>\n",
       "<tr>\n",
       "  <th>Time:</th>                 <td>16:52:05</td>     <th>  Log-Likelihood:    </th> <td>-3.4764e+05</td>\n",
       "</tr>\n",
       "<tr>\n",
       "  <th>No. Observations:</th>      <td>216470</td>      <th>  AIC:               </th>  <td>6.953e+05</td> \n",
       "</tr>\n",
       "<tr>\n",
       "  <th>Df Residuals:</th>          <td>216460</td>      <th>  BIC:               </th>  <td>6.954e+05</td> \n",
       "</tr>\n",
       "<tr>\n",
       "  <th>Df Model:</th>              <td>     9</td>      <th>                     </th>      <td> </td>     \n",
       "</tr>\n",
       "<tr>\n",
       "  <th>Covariance Type:</th>      <td>nonrobust</td>    <th>                     </th>      <td> </td>     \n",
       "</tr>\n",
       "</table>\n",
       "<table class=\"simpletable\">\n",
       "<tr>\n",
       "    <td></td>       <th>coef</th>     <th>std err</th>      <th>t</th>      <th>P>|t|</th>  <th>[0.025</th>    <th>0.975]</th>  \n",
       "</tr>\n",
       "<tr>\n",
       "  <th>const</th> <td>    1.9907</td> <td>    0.003</td> <td>  768.200</td> <td> 0.000</td> <td>    1.986</td> <td>    1.996</td>\n",
       "</tr>\n",
       "<tr>\n",
       "  <th>x1</th>    <td>    0.4975</td> <td>    0.006</td> <td>   81.186</td> <td> 0.000</td> <td>    0.485</td> <td>    0.509</td>\n",
       "</tr>\n",
       "<tr>\n",
       "  <th>x2</th>    <td>    0.0693</td> <td>    0.005</td> <td>   14.795</td> <td> 0.000</td> <td>    0.060</td> <td>    0.079</td>\n",
       "</tr>\n",
       "<tr>\n",
       "  <th>x3</th>    <td>    0.0083</td> <td>    0.003</td> <td>    3.104</td> <td> 0.002</td> <td>    0.003</td> <td>    0.014</td>\n",
       "</tr>\n",
       "<tr>\n",
       "  <th>x4</th>    <td>   -0.1214</td> <td>    0.003</td> <td>  -44.106</td> <td> 0.000</td> <td>   -0.127</td> <td>   -0.116</td>\n",
       "</tr>\n",
       "<tr>\n",
       "  <th>x5</th>    <td>    0.0019</td> <td>    0.003</td> <td>    0.738</td> <td> 0.460</td> <td>   -0.003</td> <td>    0.007</td>\n",
       "</tr>\n",
       "<tr>\n",
       "  <th>x6</th>    <td>    0.4214</td> <td>    0.007</td> <td>   56.281</td> <td> 0.000</td> <td>    0.407</td> <td>    0.436</td>\n",
       "</tr>\n",
       "<tr>\n",
       "  <th>x7</th>    <td>    1.3784</td> <td>    0.007</td> <td>  203.934</td> <td> 0.000</td> <td>    1.365</td> <td>    1.392</td>\n",
       "</tr>\n",
       "<tr>\n",
       "  <th>x8</th>    <td>   -0.1683</td> <td>    0.003</td> <td>  -57.848</td> <td> 0.000</td> <td>   -0.174</td> <td>   -0.163</td>\n",
       "</tr>\n",
       "<tr>\n",
       "  <th>x9</th>    <td>   -0.3582</td> <td>    0.003</td> <td> -110.626</td> <td> 0.000</td> <td>   -0.365</td> <td>   -0.352</td>\n",
       "</tr>\n",
       "</table>\n",
       "<table class=\"simpletable\">\n",
       "<tr>\n",
       "  <th>Omnibus:</th>       <td>237532.941</td> <th>  Durbin-Watson:     </th>   <td>   1.893</td>   \n",
       "</tr>\n",
       "<tr>\n",
       "  <th>Prob(Omnibus):</th>   <td> 0.000</td>   <th>  Jarque-Bera (JB):  </th> <td>139979156.920</td>\n",
       "</tr>\n",
       "<tr>\n",
       "  <th>Skew:</th>            <td> 4.911</td>   <th>  Prob(JB):          </th>   <td>    0.00</td>   \n",
       "</tr>\n",
       "<tr>\n",
       "  <th>Kurtosis:</th>        <td>127.189</td>  <th>  Cond. No.          </th>   <td>    6.59</td>   \n",
       "</tr>\n",
       "</table><br/><br/>Notes:<br/>[1] Standard Errors assume that the covariance matrix of the errors is correctly specified."
      ],
      "text/plain": [
       "<class 'statsmodels.iolib.summary.Summary'>\n",
       "\"\"\"\n",
       "                            OLS Regression Results                            \n",
       "==============================================================================\n",
       "Dep. Variable:                      y   R-squared:                       0.765\n",
       "Model:                            OLS   Adj. R-squared:                  0.764\n",
       "Method:                 Least Squares   F-statistic:                 7.808e+04\n",
       "Date:                Thu, 11 Aug 2022   Prob (F-statistic):               0.00\n",
       "Time:                        16:52:05   Log-Likelihood:            -3.4764e+05\n",
       "No. Observations:              216470   AIC:                         6.953e+05\n",
       "Df Residuals:                  216460   BIC:                         6.954e+05\n",
       "Df Model:                           9                                         \n",
       "Covariance Type:            nonrobust                                         \n",
       "==============================================================================\n",
       "                 coef    std err          t      P>|t|      [0.025      0.975]\n",
       "------------------------------------------------------------------------------\n",
       "const          1.9907      0.003    768.200      0.000       1.986       1.996\n",
       "x1             0.4975      0.006     81.186      0.000       0.485       0.509\n",
       "x2             0.0693      0.005     14.795      0.000       0.060       0.079\n",
       "x3             0.0083      0.003      3.104      0.002       0.003       0.014\n",
       "x4            -0.1214      0.003    -44.106      0.000      -0.127      -0.116\n",
       "x5             0.0019      0.003      0.738      0.460      -0.003       0.007\n",
       "x6             0.4214      0.007     56.281      0.000       0.407       0.436\n",
       "x7             1.3784      0.007    203.934      0.000       1.365       1.392\n",
       "x8            -0.1683      0.003    -57.848      0.000      -0.174      -0.163\n",
       "x9            -0.3582      0.003   -110.626      0.000      -0.365      -0.352\n",
       "==============================================================================\n",
       "Omnibus:                   237532.941   Durbin-Watson:                   1.893\n",
       "Prob(Omnibus):                  0.000   Jarque-Bera (JB):        139979156.920\n",
       "Skew:                           4.911   Prob(JB):                         0.00\n",
       "Kurtosis:                     127.189   Cond. No.                         6.59\n",
       "==============================================================================\n",
       "\n",
       "Notes:\n",
       "[1] Standard Errors assume that the covariance matrix of the errors is correctly specified.\n",
       "\"\"\""
      ]
     },
     "execution_count": 22,
     "metadata": {},
     "output_type": "execute_result"
    }
   ],
   "source": [
    "# fea_se = [0, 1, 2, 3, 4, 5, 7, 10, 11]\n",
    "X = sm.add_constant(x_spread)\n",
    "model = sm.OLS(y_spread*100,X)\n",
    "res = model.fit()\n",
    "res.summary()"
   ]
  },
  {
   "cell_type": "code",
   "execution_count": 25,
   "id": "71d775d7",
   "metadata": {},
   "outputs": [
    {
     "data": {
      "text/plain": [
       "0.8588716794499686"
      ]
     },
     "execution_count": 25,
     "metadata": {},
     "output_type": "execute_result"
    }
   ],
   "source": [
    "fea_se = [0, 1, 2, 3, 4, 5, 7, 10, 11]\n",
    "corr = [np.corrcoef(np.sum((x_test_spread[i].cpu().numpy()[:, [0, 1, 2, 3, 4, 5, 7, 10, 11]] * res.params[1:]),axis=1) + res.params[0],\n",
    "             y_test_spread[i].cpu().numpy()[:,0])[0,1] for i in range(40)]\n",
    "\n",
    "np.mean(corr)"
   ]
  },
  {
   "cell_type": "code",
   "execution_count": 27,
   "id": "a344a0bd",
   "metadata": {
    "collapsed": true
   },
   "outputs": [
    {
     "data": {
      "image/png": "[encoded data removed]",
      "text/plain": [
       "<Figure size 750x450 with 1 Axes>"
      ]
     },
     "metadata": {
      "needs_background": "light"
     },
     "output_type": "display_data"
    }
   ],
   "source": [
    "plt.figure(figsize=(5,3),dpi=150)\n",
    "plt.bar(fea_names, res.params[1:])\n",
    "plt.xticks(rotation=90)\n",
    "plt.ylabel('coefficient')\n",
    "\n",
    "plt.show()"
   ]
  },
  {
   "cell_type": "markdown",
   "id": "f5ccb5be",
   "metadata": {},
   "source": [
    "#### 相对价差"
   ]
  },
  {
   "cell_type": "code",
   "execution_count": 24,
   "id": "2b681a4b",
   "metadata": {},
   "outputs": [
    {
     "name": "stderr",
     "output_type": "stream",
     "text": [
      "100%|██████████████████████████████████████████████████████████████████████████████| 140/140 [00:00<00:00, 4118.12it/s]\n",
      "100%|████████████████████████████████████████████████████████████████████████████████| 40/40 [00:00<00:00, 4459.65it/s]\n",
      "100%|████████████████████████████████████████████████████████████████████████████████| 140/140 [00:01<00:00, 70.53it/s]\n"
     ]
    }
   ],
   "source": [
    "# 相对\n",
    "se = SpreadEstimator()\n",
    "univ = se.data.data_dic['volume'] > 0  # 合法的univ\n",
    "with open(r'D:\\Documents\\学习资料\\本科毕业论文/data/signal_rela.pkl', 'rb') as f:\n",
    "    signal = pickle.load(f)\n",
    "with open(r'D:\\Documents\\学习资料\\本科毕业论文/data/target_rela.pkl', 'rb') as f:\n",
    "    target = pickle.load(f)\n",
    "with open(r'D:\\Documents\\学习资料\\本科毕业论文/data//close_top.pkl', 'rb') as f:\n",
    "    close_top = pickle.load(f)\n",
    "x, y = get_train_data_cs(signal, target, univ & close_top, 20, 160)\n",
    "xx = []\n",
    "for x_ in x:\n",
    "    for i in range(x_.shape[1]):\n",
    "        x_[:, i] -= torch.mean(x_[:, i])\n",
    "        x_[:, i] /= torch.std(x_[:, i])\n",
    "    xx.append(x_)\n",
    "x = xx\n",
    "\n",
    "x_test_rela, y_test_rela = get_train_data_cs(signal, target, univ & close_top, 160, 200)\n",
    "xx = []\n",
    "for x_ in x_test_rela:\n",
    "    for i in range(x_.shape[1]):\n",
    "        x_[:, i] -= torch.mean(x_[:, i])\n",
    "        x_[:, i] /= torch.std(x_[:, i])\n",
    "    xx.append(x_)\n",
    "x_test_rela = xx\n",
    "\n",
    "\n",
    "corr_mat_rela = np.eye(9) * len(x)\n",
    "for i in tqdm(range(len(x))):\n",
    "    for j in range(8):\n",
    "        jj = [0, 1, 2, 3, 4, 5, 7, 10, 11][j]\n",
    "        for k in range(j+1, 9):\n",
    "            kk = [0, 1, 2, 3, 4, 5, 7, 10, 11][k]\n",
    "            a = x[i][:, jj].cpu().numpy()\n",
    "            b = x[i][:, kk].cpu().numpy()\n",
    "            a[np.isnan(a)] = 0\n",
    "            b[np.isnan(b)] = 0\n",
    "            corr = np.corrcoef(a, b)[0, 1]\n",
    "            if np.isnan(corr):\n",
    "                corr = 0\n",
    "            \n",
    "            corr_mat_rela[j, k] += corr\n",
    "            corr_mat_rela[k, j] += corr\n",
    "corr_mat_rela /= len(x)"
   ]
  },
  {
   "cell_type": "code",
   "execution_count": 17,
   "id": "6ef6ab08",
   "metadata": {},
   "outputs": [
    {
     "name": "stdout",
     "output_type": "stream",
     "text": [
      "cond: 2.7707\n",
      "vif:  [1.6590122551932833, 1.5939166503575033, 1.0830626787422588, 1.2363127125679587, 1.0000200871687757, 1.9634756336478068, 1.5886893817505054, 1.4260439515418195, 1.6341012286233734]\n",
      "vif arg:  [4 2 3 7 6 1 8 0 5]\n"
     ]
    }
   ],
   "source": [
    "x_rela = np.vstack([xx.cpu().numpy() for xx in x])\n",
    "y_rela = np.vstack([xx.cpu().numpy() for xx in y])\n",
    "x_rela[np.isnan(x_rela)] = 0\n",
    "x_rela = x_rela[:, [0, 1, 2, 3, 4, 5, 7, 10, 11]]\n",
    "\n",
    "\n",
    "\n",
    "# 奇异值分解\n",
    "_, sigma, __ = np.linalg.svd(x_rela, full_matrices=False)\n",
    "vif_rela = [variance_inflation_factor(x_rela, i) for i in range(x_rela.shape[1])]\n",
    "# print(sigma)\n",
    "print('cond: {:.4f}'.format(sigma[0]/sigma[-1]))\n",
    "print('vif: ', vif_rela)\n",
    "\n",
    "arg_rela = np.argsort(vif_rela)\n",
    "print('vif arg: ', arg_rela)"
   ]
  },
  {
   "cell_type": "code",
   "execution_count": 25,
   "id": "8f681b84",
   "metadata": {},
   "outputs": [
    {
     "data": {
      "image/png": "[encoded data removed]",
      "text/plain": [
       "<Figure size 900x600 with 2 Axes>"
      ]
     },
     "metadata": {
      "needs_background": "light"
     },
     "output_type": "display_data"
    }
   ],
   "source": [
    "plt.figure(dpi=150)\n",
    "plt.xticks(np.arange(len(fea_names)), labels=fea_names, \n",
    "                     rotation=45, rotation_mode=\"anchor\", ha=\"right\")\n",
    "plt.yticks(np.arange(len(fea_names)), labels=fea_names)    \n",
    "\n",
    "\n",
    "plt.imshow(np.abs(corr_mat_rela))\n",
    "plt.tight_layout()\n",
    "plt.colorbar()\n",
    "plt.show()\n"
   ]
  },
  {
   "cell_type": "code",
   "execution_count": 28,
   "id": "5438af9f",
   "metadata": {},
   "outputs": [
    {
     "data": {
      "text/html": [
       "<table class=\"simpletable\">\n",
       "<caption>OLS Regression Results</caption>\n",
       "<tr>\n",
       "  <th>Dep. Variable:</th>            <td>y</td>        <th>  R-squared:         </th>  <td>   0.519</td>  \n",
       "</tr>\n",
       "<tr>\n",
       "  <th>Model:</th>                   <td>OLS</td>       <th>  Adj. R-squared:    </th>  <td>   0.519</td>  \n",
       "</tr>\n",
       "<tr>\n",
       "  <th>Method:</th>             <td>Least Squares</td>  <th>  F-statistic:       </th>  <td>2.591e+04</td> \n",
       "</tr>\n",
       "<tr>\n",
       "  <th>Date:</th>             <td>Thu, 11 Aug 2022</td> <th>  Prob (F-statistic):</th>   <td>  0.00</td>   \n",
       "</tr>\n",
       "<tr>\n",
       "  <th>Time:</th>                 <td>16:59:47</td>     <th>  Log-Likelihood:    </th> <td>-5.4924e+05</td>\n",
       "</tr>\n",
       "<tr>\n",
       "  <th>No. Observations:</th>      <td>216470</td>      <th>  AIC:               </th>  <td>1.099e+06</td> \n",
       "</tr>\n",
       "<tr>\n",
       "  <th>Df Residuals:</th>          <td>216460</td>      <th>  BIC:               </th>  <td>1.099e+06</td> \n",
       "</tr>\n",
       "<tr>\n",
       "  <th>Df Model:</th>              <td>     9</td>      <th>                     </th>      <td> </td>     \n",
       "</tr>\n",
       "<tr>\n",
       "  <th>Covariance Type:</th>      <td>nonrobust</td>    <th>                     </th>      <td> </td>     \n",
       "</tr>\n",
       "</table>\n",
       "<table class=\"simpletable\">\n",
       "<tr>\n",
       "    <td></td>       <th>coef</th>     <th>std err</th>      <th>t</th>      <th>P>|t|</th>  <th>[0.025</th>    <th>0.975]</th>  \n",
       "</tr>\n",
       "<tr>\n",
       "  <th>const</th> <td>   12.4307</td> <td>    0.007</td> <td> 1890.160</td> <td> 0.000</td> <td>   12.418</td> <td>   12.444</td>\n",
       "</tr>\n",
       "<tr>\n",
       "  <th>x1</th>    <td>    0.0350</td> <td>    0.009</td> <td>    4.110</td> <td> 0.000</td> <td>    0.018</td> <td>    0.052</td>\n",
       "</tr>\n",
       "<tr>\n",
       "  <th>x2</th>    <td>    0.1966</td> <td>    0.009</td> <td>   22.006</td> <td> 0.000</td> <td>    0.179</td> <td>    0.214</td>\n",
       "</tr>\n",
       "<tr>\n",
       "  <th>x3</th>    <td>    0.1429</td> <td>    0.007</td> <td>   20.792</td> <td> 0.000</td> <td>    0.129</td> <td>    0.156</td>\n",
       "</tr>\n",
       "<tr>\n",
       "  <th>x4</th>    <td>   -0.1151</td> <td>    0.007</td> <td>  -15.675</td> <td> 0.000</td> <td>   -0.129</td> <td>   -0.101</td>\n",
       "</tr>\n",
       "<tr>\n",
       "  <th>x5</th>    <td>    0.0108</td> <td>    0.007</td> <td>    1.637</td> <td> 0.102</td> <td>   -0.002</td> <td>    0.024</td>\n",
       "</tr>\n",
       "<tr>\n",
       "  <th>x6</th>    <td>   -0.2262</td> <td>    0.009</td> <td>  -24.539</td> <td> 0.000</td> <td>   -0.244</td> <td>   -0.208</td>\n",
       "</tr>\n",
       "<tr>\n",
       "  <th>x7</th>    <td>   -2.5159</td> <td>    0.008</td> <td> -303.410</td> <td> 0.000</td> <td>   -2.532</td> <td>   -2.500</td>\n",
       "</tr>\n",
       "<tr>\n",
       "  <th>x8</th>    <td>   -0.8423</td> <td>    0.008</td> <td> -107.217</td> <td> 0.000</td> <td>   -0.858</td> <td>   -0.827</td>\n",
       "</tr>\n",
       "<tr>\n",
       "  <th>x9</th>    <td>   -0.8706</td> <td>    0.008</td> <td> -103.523</td> <td> 0.000</td> <td>   -0.887</td> <td>   -0.854</td>\n",
       "</tr>\n",
       "</table>\n",
       "<table class=\"simpletable\">\n",
       "<tr>\n",
       "  <th>Omnibus:</th>       <td>76313.015</td> <th>  Durbin-Watson:     </th>  <td>   1.785</td> \n",
       "</tr>\n",
       "<tr>\n",
       "  <th>Prob(Omnibus):</th>  <td> 0.000</td>   <th>  Jarque-Bera (JB):  </th> <td>526753.072</td>\n",
       "</tr>\n",
       "<tr>\n",
       "  <th>Skew:</th>           <td> 1.529</td>   <th>  Prob(JB):          </th>  <td>    0.00</td> \n",
       "</tr>\n",
       "<tr>\n",
       "  <th>Kurtosis:</th>       <td>10.004</td>   <th>  Cond. No.          </th>  <td>    2.77</td> \n",
       "</tr>\n",
       "</table><br/><br/>Notes:<br/>[1] Standard Errors assume that the covariance matrix of the errors is correctly specified."
      ],
      "text/plain": [
       "<class 'statsmodels.iolib.summary.Summary'>\n",
       "\"\"\"\n",
       "                            OLS Regression Results                            \n",
       "==============================================================================\n",
       "Dep. Variable:                      y   R-squared:                       0.519\n",
       "Model:                            OLS   Adj. R-squared:                  0.519\n",
       "Method:                 Least Squares   F-statistic:                 2.591e+04\n",
       "Date:                Thu, 11 Aug 2022   Prob (F-statistic):               0.00\n",
       "Time:                        16:59:47   Log-Likelihood:            -5.4924e+05\n",
       "No. Observations:              216470   AIC:                         1.099e+06\n",
       "Df Residuals:                  216460   BIC:                         1.099e+06\n",
       "Df Model:                           9                                         \n",
       "Covariance Type:            nonrobust                                         \n",
       "==============================================================================\n",
       "                 coef    std err          t      P>|t|      [0.025      0.975]\n",
       "------------------------------------------------------------------------------\n",
       "const         12.4307      0.007   1890.160      0.000      12.418      12.444\n",
       "x1             0.0350      0.009      4.110      0.000       0.018       0.052\n",
       "x2             0.1966      0.009     22.006      0.000       0.179       0.214\n",
       "x3             0.1429      0.007     20.792      0.000       0.129       0.156\n",
       "x4            -0.1151      0.007    -15.675      0.000      -0.129      -0.101\n",
       "x5             0.0108      0.007      1.637      0.102      -0.002       0.024\n",
       "x6            -0.2262      0.009    -24.539      0.000      -0.244      -0.208\n",
       "x7            -2.5159      0.008   -303.410      0.000      -2.532      -2.500\n",
       "x8            -0.8423      0.008   -107.217      0.000      -0.858      -0.827\n",
       "x9            -0.8706      0.008   -103.523      0.000      -0.887      -0.854\n",
       "==============================================================================\n",
       "Omnibus:                    76313.015   Durbin-Watson:                   1.785\n",
       "Prob(Omnibus):                  0.000   Jarque-Bera (JB):           526753.072\n",
       "Skew:                           1.529   Prob(JB):                         0.00\n",
       "Kurtosis:                      10.004   Cond. No.                         2.77\n",
       "==============================================================================\n",
       "\n",
       "Notes:\n",
       "[1] Standard Errors assume that the covariance matrix of the errors is correctly specified.\n",
       "\"\"\""
      ]
     },
     "execution_count": 28,
     "metadata": {},
     "output_type": "execute_result"
    }
   ],
   "source": [
    "\n",
    "X = sm.add_constant(x_rela)\n",
    "model = sm.OLS(y_rela*10000,X)\n",
    "res = model.fit()\n",
    "res.summary()"
   ]
  },
  {
   "cell_type": "code",
   "execution_count": 67,
   "id": "561822a9",
   "metadata": {},
   "outputs": [
    {
     "data": {
      "text/plain": [
       "0.10253923515813265"
      ]
     },
     "execution_count": 67,
     "metadata": {},
     "output_type": "execute_result"
    }
   ],
   "source": [
    "params = res.params.copy()\n",
    "# params[[0,1,3,4,5]] *= -1\n",
    "corr = [np.corrcoef(np.sum((x_test_rela[i].cpu().numpy() * params[1:]),axis=1) + res.params[0],\n",
    "             y_test_rela[i].cpu().numpy()[:,0])[0,1] for i in range(80)]\n",
    "np.mean(corr)"
   ]
  },
  {
   "cell_type": "code",
   "execution_count": 115,
   "id": "5ca01331",
   "metadata": {},
   "outputs": [
    {
     "data": {
      "text/plain": [
       "array([[1.        , 0.62979848],\n",
       "       [0.62979848, 1.        ]])"
      ]
     },
     "execution_count": 115,
     "metadata": {},
     "output_type": "execute_result"
    }
   ],
   "source": [
    "params = res.params.copy()\n",
    "np.corrcoef(np.sum((x_rela * params[1:]),axis=1) + res.params[0],y_rela[:,0])"
   ]
  },
  {
   "cell_type": "code",
   "execution_count": 29,
   "id": "5b5e6f40",
   "metadata": {
    "collapsed": true
   },
   "outputs": [
    {
     "data": {
      "image/png": "[encoded data removed]",
      "text/plain": [
       "<Figure size 750x450 with 1 Axes>"
      ]
     },
     "metadata": {
      "needs_background": "light"
     },
     "output_type": "display_data"
    }
   ],
   "source": [
    "plt.figure(figsize=(5,3),dpi=150)\n",
    "tmp = res.params[1:]\n",
    "\n",
    "plt.bar(np.array(fea_names), tmp)\n",
    "plt.xticks(rotation=90)\n",
    "\n",
    "plt.show()"
   ]
  },
  {
   "cell_type": "code",
   "execution_count": null,
   "id": "940c33a0",
   "metadata": {},
   "outputs": [],
   "source": []
  }
 ],
 "metadata": {
  "kernelspec": {
   "display_name": "Python 3 (ipykernel)",
   "language": "python",
   "name": "python3"
  },
  "language_info": {
   "codemirror_mode": {
    "name": "ipython",
    "version": 3
   },
   "file_extension": ".py",
   "mimetype": "text/x-python",
   "name": "python",
   "nbconvert_exporter": "python",
   "pygments_lexer": "ipython3",
   "version": "3.10.9"
  }
 },
 "nbformat": 4,
 "nbformat_minor": 5
}
