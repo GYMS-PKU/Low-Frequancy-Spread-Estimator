{
 "cells": [
  {
   "cell_type": "markdown",
   "id": "b81f4b28",
   "metadata": {
    "pycharm": {
     "name": "#%% md\n"
    }
   },
   "source": [
    "### 分组测试经典方法\n",
    "2022-07-17\n",
    "- univ矩阵要求：所有值都没有缺失\n",
    "2022-08-07\n",
    "- 改成5元划分的两组\n",
    "2022-08-16\n",
    "- 通过bootstrap计算估计标准差\n",
    "2022-09-03\n",
    "- bootstrap计算分位点"
   ]
  },
  {
   "cell_type": "code",
   "execution_count": 1,
   "id": "b5c7ef5f",
   "metadata": {
    "pycharm": {
     "name": "#%%\n"
    }
   },
   "outputs": [],
   "source": [
    "import numpy as np\n",
    "import pandas as pd\n",
    "import matplotlib.pyplot as plt\n",
    "import importlib\n",
    "import sys\n",
    "sys.path.append('C:/Users/Administrator/Desktop/Repositories/Low-Frequency-Spread-Estimator')\n",
    "sys.path.append('C:/Users/18316/Desktop/Repositories/Low-Frequency-Spread-Estimator')\n",
    "sys.path.append('C:/Users/Handsome Bad Guy/Desktop/Repositories/Low-Frequency-Spread-Estimator')\n",
    "sys.path.append('C:/Users/Windows11/Desktop/Repositories/Low-Frequency-Spread-Estimator')\n",
    "\n",
    "from SpreadEstimator.SpreadEstimator import SpreadEstimator\n",
    "from mytools.AutoTester import AutoTester\n",
    "\n",
    "from time import time\n",
    "\n",
    "import warnings\n",
    "warnings.filterwarnings(\"ignore\")"
   ]
  },
  {
   "cell_type": "code",
   "execution_count": 2,
   "id": "5a0ea2ea",
   "metadata": {
    "pycharm": {
     "name": "#%%\n"
    }
   },
   "outputs": [],
   "source": [
    "se = SpreadEstimator(market='SP500')"
   ]
  },
  {
   "cell_type": "markdown",
   "id": "9f5cba96",
   "metadata": {
    "pycharm": {
     "name": "#%% md\n"
    }
   },
   "source": [
    "### 构造两组univ"
   ]
  },
  {
   "cell_type": "code",
   "execution_count": 18,
   "id": "fa89e8f5",
   "metadata": {
    "pycharm": {
     "name": "#%%\n"
    }
   },
   "outputs": [
    {
     "name": "stdout",
     "output_type": "stream",
     "text": [
      "478\n",
      "14\n"
     ]
    }
   ],
   "source": [
    "univ = se.data.data_dic['volume'] > 0  # 当天有交易\n",
    "th = 0.8\n",
    "\n",
    "# univ_2 = []\n",
    "# for i in range(2081):\n",
    "#     if np.sum(se.data.data_dic['close'][univ[:,i],i]>10) >= th * 243:\n",
    "#         univ_2.append(1)\n",
    "#     else:\n",
    "#         univ_2.append(0)\n",
    "# univ_2 = np.array(univ_2) > 0\n",
    "# print(np.sum(univ_2))\n",
    "# univ_2 = np.repeat(univ_2.reshape(1,2081), 243, 0)\n",
    "\n",
    "univ_1 = []\n",
    "for i in range(492):\n",
    "    if np.sum(se.data.data_dic['close'][univ[:,i],i]>5) >= th * 225:\n",
    "        univ_1.append(1)\n",
    "    else:\n",
    "        univ_1.append(0)\n",
    "univ_1 = np.array(univ_1) > 0\n",
    "univ_1 = np.repeat(univ_1.reshape(1,492), 225, 0)\n",
    "print(np.sum(univ_1[0]))\n",
    "\n",
    "univ_0 = (~univ_1)\n",
    "print(np.sum(univ_0[0]))\n",
    "\n",
    "univ_0 = univ_0 & univ\n",
    "univ_1 = univ_1 & univ\n",
    "\n",
    "all_univ = [univ]"
   ]
  },
  {
   "cell_type": "code",
   "execution_count": null,
   "id": "b3820f9f",
   "metadata": {},
   "outputs": [],
   "source": []
  },
  {
   "cell_type": "code",
   "execution_count": 16,
   "id": "1360d4ea",
   "metadata": {
    "pycharm": {
     "name": "#%%\n"
    }
   },
   "outputs": [],
   "source": [
    "import pickle\n",
    "with open(r\"D:\\Documents\\学习资料\\本科毕业论文\\data\\close_top.pkl\", 'wb') as f:\n",
    "    pickle.dump(univ_1, f)"
   ]
  },
  {
   "cell_type": "markdown",
   "id": "3c6c13b9",
   "metadata": {
    "pycharm": {
     "name": "#%% md\n"
    }
   },
   "source": [
    "### 在2组股票中测试"
   ]
  },
  {
   "cell_type": "code",
   "execution_count": 19,
   "id": "f6bf86ef",
   "metadata": {
    "pycharm": {
     "name": "#%%\n"
    }
   },
   "outputs": [],
   "source": [
    "def test_cs(signal, target, univ, back: int = 1):\n",
    "    corr = []\n",
    "    for i in range(signal.shape[0]):\n",
    "        if i < back-1:\n",
    "            continue\n",
    "        t = np.nanmean(target[i-back+1: i+1], axis=0)\n",
    "        se = (~np.isnan(t)) & (~np.isnan(signal[i])) & univ[i]\n",
    "        if np.sum(se) < 2:\n",
    "            continue\n",
    "        corr.append(np.corrcoef(signal[i, se], t[se])[0, 1])\n",
    "    print('{:.4f}'.format(np.nanmean(corr)))\n",
    "    return corr\n",
    "\n",
    "def test_ts(signal, target, univ, back: int = 1):\n",
    "    corr = []\n",
    "    new_t = np.zeros((len(target)-back+1, target.shape[1]))\n",
    "    for i in range(new_t.shape[0]):\n",
    "        new_t[i] = np.nanmean(target[i:i+back])\n",
    "    for i in range(signal.shape[1]):\n",
    "        t = new_t[:, i]\n",
    "        se = (~np.isnan(t)) & (~np.isnan(signal[back-1:, i])) & univ[back-1:, i]\n",
    "        if np.sum(se) < 2:\n",
    "            continue\n",
    "        corr.append(np.corrcoef(signal[back-1:, i][se], t[se])[0, 1])\n",
    "    print('{:.4f}'.format(np.mean(corr)))\n",
    "    return corr\n",
    "\n",
    "def cal_std(corr, num: int=10000):  # bootstrap计算标准差和分位点\n",
    "    corr = np.array(corr)\n",
    "    corr_ = []\n",
    "    lst = [i for i in range(len(corr))]\n",
    "    for n in range(10000):\n",
    "        corr_.append(np.nanmean(corr[np.random.choice(lst, len(lst))]))\n",
    "    corr_ = np.sort(corr_)\n",
    "    print('{:.4f}, {:.4f}, {:.4f}, {:.4f}, {:.4f}, {:.4f}'.format(corr_[100], corr_[500],corr_[1000],corr_[9000],corr_[9500],corr_[9900]))\n",
    "    return np.std(corr_)"
   ]
  },
  {
   "cell_type": "code",
   "execution_count": 20,
   "id": "26fcf2da",
   "metadata": {
    "pycharm": {
     "name": "#%%\n"
    }
   },
   "outputs": [],
   "source": [
    "def test_rela(signal, all_univ):\n",
    "    print('rela cs')\n",
    "    for u in all_univ:\n",
    "        _ = test_cs(signal, se.data.spread_dic['rela_spread'], u, 20)\n",
    "        print('{:.4f}'.format(cal_std(_)))\n",
    "        print()\n",
    "    print()\n",
    "\n",
    "    print('rela ts')\n",
    "    for u in all_univ:\n",
    "        _ = test_ts(signal, se.data.spread_dic['rela_spread'], u, 20)\n",
    "        print('{:.4f}'.format(cal_std(_)))\n",
    "        print()\n",
    "    print()\n",
    "\n",
    "#     print('vol_wtd_rel_bas cs ')\n",
    "#     for u in all_univ:\n",
    "#         _ = test_cs(signal, se.data.spread_dic['vol_wtd_rel_bas'], u, 20)\n",
    "#         print('{:.4f}'.format(cal_std(_)))\n",
    "#         print()\n",
    "#     print()\n",
    "\n",
    "#     print('vol_wtd_rel_bas ts ')\n",
    "#     for u in all_univ:\n",
    "#         _ = test_ts(signal, se.data.spread_dic['vol_wtd_rel_bas'], u, 20)\n",
    "#         print('{:.4f}'.format(cal_std(_)))\n",
    "#         print()\n",
    "        \n",
    "def test_spread(signal, all_univ):\n",
    "    print('spread cs')\n",
    "    for u in all_univ:\n",
    "        _ = test_cs(signal, se.data.spread_dic['spread'], u, 20)\n",
    "        print('{:.4f}'.format(cal_std(_)))\n",
    "        print()\n",
    "    print()\n",
    "\n",
    "    print('spread ts')\n",
    "    for u in all_univ:\n",
    "        _ = test_ts(signal, se.data.spread_dic['spread'], u, 20)\n",
    "        print('{:.4f}'.format(cal_std(_)))\n",
    "        print()"
   ]
  },
  {
   "cell_type": "code",
   "execution_count": 7,
   "id": "cd44857d",
   "metadata": {
    "pycharm": {
     "name": "#%%\n"
    }
   },
   "outputs": [],
   "source": [
    "np.random.seed(0)"
   ]
  },
  {
   "cell_type": "markdown",
   "id": "41493400",
   "metadata": {
    "pycharm": {
     "name": "#%% md\n"
    }
   },
   "source": [
    "#### HL"
   ]
  },
  {
   "cell_type": "code",
   "execution_count": 21,
   "id": "cb087761",
   "metadata": {
    "pycharm": {
     "name": "#%%\n"
    }
   },
   "outputs": [
    {
     "name": "stdout",
     "output_type": "stream",
     "text": [
      "mean corr: 0.0603, positive_corr_ratio: 0.8155, corr_IR: 1.0053\n",
      "\n",
      "rela cs\n",
      "0.0413\n",
      "0.0287, 0.0320, 0.0341, 0.0486, 0.0507, 0.0548\n",
      "0.0057\n",
      "\n",
      "\n",
      "rela ts\n",
      "0.7066\n",
      "0.6894, 0.6951, 0.6979, 0.7156, 0.7178, 0.7222\n",
      "0.0069\n",
      "\n",
      "\n"
     ]
    }
   ],
   "source": [
    "beta = 'prod{tsmean{powv{minus{logv{high},logv{low}},2},2},2}'\n",
    "\n",
    "high_1 = 'logv{tsdelay{high,1}}'\n",
    "low_1 = 'logv{tsdelay{low,1}}'\n",
    "con_1 = 'condition{gt{logv{low},logv{tsdelay{close,1}}},minus{logv{low},logv{tsdelay{close,1}}},minus{close,close}}'\n",
    "con_2 = 'condition{lt{logv{high},logv{tsdelay{close,1}}},minus{logv{high},logv{tsdelay{close,1}}},minus{close,close}}'\n",
    "con = 'add{' + con_1 + ',' + con_2 + '}'\n",
    "high_2 = 'minus{logv{high},' + con + '}'\n",
    "low_2 = 'minus{logv{low},' + con + '}'\n",
    "high = 'condition{ge{' + high_1 + ',' + high_2 + '},' + high_1 + ',' + high_2 + '}'\n",
    "low = 'condition{le{' + low_1 + ',' + low_2 + '},' + low_1 + ',' + low_2 + '}'\n",
    "\n",
    "gamma = 'powv{minus{' + high + ',' + low + '},2}'\n",
    "alpha = 'div{prod{' + 'powv{' + beta + ',0.5},0.4142},0.1716}'\n",
    "fml = 'minus{' + alpha + ',' + 'powv{' + 'div{' + gamma + ',0.1716},0.5}}'\n",
    "\n",
    "fml = 'div{' + 'minus{expv{' + fml + '},1},' + 'add{expv{' + fml + '},1}}'\n",
    "fml = 'condition{' + 'ge{' + fml + ',0},' + fml + ',add{minus{close,close},0}}'\n",
    "fml = 'tsmean{' + fml + ',20}'\n",
    "\n",
    "fml = 'div{' + 'minus{expv{' + fml + '},1},' + 'add{expv{' + fml + '},1}}'\n",
    "fml = 'condition{' + 'ge{' + fml + ',0},' + fml + ',add{minus{close,close},0}}'\n",
    "fml = 'tsmean{' + fml + ',20}'\n",
    "stats, signal = se.test_factor(fml, corr_type='linear', method='cs', spread_type='rela_spread')\n",
    "print()\n",
    "\n",
    "test_rela(signal, all_univ)"
   ]
  },
  {
   "cell_type": "code",
   "execution_count": 22,
   "id": "0967eda7",
   "metadata": {
    "pycharm": {
     "name": "#%%\n"
    }
   },
   "outputs": [
    {
     "name": "stdout",
     "output_type": "stream",
     "text": [
      "mean corr: 0.2499, positive_corr_ratio: 0.9272, corr_IR: 2.0797\n",
      "\n",
      "spread cs\n",
      "0.2663\n",
      "0.2482, 0.2531, 0.2562, 0.2764, 0.2790, 0.2841\n",
      "0.0079\n",
      "\n",
      "\n",
      "spread ts\n",
      "0.0441\n",
      "0.0207, 0.0277, 0.0311, 0.0570, 0.0607, 0.0676\n",
      "0.0101\n",
      "\n"
     ]
    }
   ],
   "source": [
    "beta = 'prod{tsmean{powv{minus{high,low},2},2},2}'\n",
    "high_1 = 'tsdelay{high,1}'\n",
    "low_1 = 'tsdelay{low,1}'\n",
    "con_1 = 'condition{gt{low,tsdelay{close,1}},minus{low,tsdelay{close,1}},minus{close,close}}'\n",
    "con_2 = 'condition{lt{high,tsdelay{close,1}},minus{high,tsdelay{close,1}},minus{close,close}}'\n",
    "con = 'add{' + con_1 + ',' + con_2 + '}'\n",
    "high_2 = 'minus{high,' + con + '}'\n",
    "low_2 = 'minus{low,' + con + '}'\n",
    "high = 'condition{ge{' + high_1 + ',' + high_2 + '},' + high_1 + ',' + high_2 + '}'\n",
    "low = 'condition{le{' + low_1 + ',' + low_2 + '},' + low_1 + ',' + low_2 + '}'\n",
    "\n",
    "gamma = 'powv{minus{' + high + ',' + low + '},2}'\n",
    "alpha = 'div{prod{' + 'powv{' + beta + ',0.5},0.4142},0.1716}'\n",
    "fml = 'minus{' + alpha + ',' + 'powv{' + 'div{' + gamma + ',0.1716},0.5}}'\n",
    "\n",
    "fml = 'div{' + 'minus{expv{' + fml + '},1},' + 'add{expv{' + fml + '},1}}'\n",
    "fml = 'condition{' + 'ge{' + fml + ',0},' + fml + ',add{minus{close,close},0}}'\n",
    "fml = 'tsmean{' + fml + ',20}'\n",
    "stats, signal = se.test_factor(fml, corr_type='linear', method='cs', spread_type='spread')\n",
    "\n",
    "print()\n",
    "test_spread(signal, all_univ)"
   ]
  },
  {
   "cell_type": "markdown",
   "id": "08dffb3b",
   "metadata": {
    "pycharm": {
     "name": "#%% md\n"
    }
   },
   "source": [
    "#### Roll"
   ]
  },
  {
   "cell_type": "code",
   "execution_count": 23,
   "id": "eb345882",
   "metadata": {
    "pycharm": {
     "name": "#%%\n"
    }
   },
   "outputs": [
    {
     "name": "stdout",
     "output_type": "stream",
     "text": [
      "mean corr: -0.0101, positive_corr_ratio: 0.2233, corr_IR: -0.0679\n",
      "\n",
      "rela cs\n",
      "0.0813\n",
      "0.0584, 0.0647, 0.0681, 0.0950, 0.0993, 0.1076\n",
      "0.0105\n",
      "\n",
      "\n",
      "rela ts\n",
      "0.7491\n",
      "0.7317, 0.7369, 0.7394, 0.7586, 0.7611, 0.7661\n",
      "0.0074\n",
      "\n",
      "\n"
     ]
    }
   ],
   "source": [
    "a = 'tsdelta{logv{close},1}'\n",
    "b = 'tsdelay{tsdelta{logv{close},1},1}'\n",
    "fml = 'prod{' + a + ',' + b + '}'\n",
    "fml = 'condition{' + 'ge{' + fml + ',0},' + fml + ',add{minus{close,close},0}}'\n",
    "fml = 'tsmean{' + fml + ',20}'\n",
    "fml = 'powv{' + fml + ',0.5}'\n",
    "\n",
    "stats, signal = se.test_factor(fml, corr_type='linear', method='cs', spread_type='spread')\n",
    "\n",
    "print()\n",
    "test_rela(signal, all_univ)"
   ]
  },
  {
   "cell_type": "code",
   "execution_count": 24,
   "id": "5a7c5772",
   "metadata": {
    "pycharm": {
     "name": "#%%\n"
    }
   },
   "outputs": [
    {
     "name": "stdout",
     "output_type": "stream",
     "text": [
      "mean corr: 0.6974, positive_corr_ratio: 1.0000, corr_IR: 2.5719\n",
      "\n",
      "spread cs\n",
      "0.7250\n",
      "0.6831, 0.6953, 0.7024, 0.7474, 0.7530, 0.7647\n",
      "0.0176\n",
      "\n",
      "\n",
      "spread ts\n",
      "-0.1172\n",
      "-0.1323, -0.1278, -0.1255, -0.1087, -0.1062, -0.1015\n",
      "0.0066\n",
      "\n"
     ]
    }
   ],
   "source": [
    "a = 'tsdelta{close,1}'\n",
    "b = 'tsdelay{tsdelta{close,1},1}'\n",
    "fml = 'prod{' + a + ',' + b + '}'\n",
    "fml = 'condition{' + 'ge{' + fml + ',0},' + fml + ',add{minus{close,close},0}}'\n",
    "fml = 'tsmean{' + fml + ',20}'\n",
    "fml = 'powv{' + fml + ',0.5}'\n",
    "\n",
    "stats, signal = se.test_factor(fml, corr_type='linear', method='cs', spread_type='spread')\n",
    "print()\n",
    "test_spread(signal, all_univ)"
   ]
  },
  {
   "cell_type": "markdown",
   "id": "680b1853",
   "metadata": {
    "pycharm": {
     "name": "#%% md\n"
    }
   },
   "source": [
    "#### CHL"
   ]
  },
  {
   "cell_type": "code",
   "execution_count": 12,
   "id": "04b39aef",
   "metadata": {
    "pycharm": {
     "name": "#%%\n"
    }
   },
   "outputs": [
    {
     "ename": "TypeError",
     "evalue": "'int' object is not subscriptable",
     "output_type": "error",
     "traceback": [
      "\u001b[1;31m---------------------------------------------------------------------------\u001b[0m",
      "\u001b[1;31mTypeError\u001b[0m                                 Traceback (most recent call last)",
      "Cell \u001b[1;32mIn[12], line 8\u001b[0m\n\u001b[0;32m      5\u001b[0m fml \u001b[38;5;241m=\u001b[39m \u001b[38;5;124m'\u001b[39m\u001b[38;5;124mtsmean\u001b[39m\u001b[38;5;124m{\u001b[39m\u001b[38;5;124m'\u001b[39m \u001b[38;5;241m+\u001b[39m fml \u001b[38;5;241m+\u001b[39m \u001b[38;5;124m'\u001b[39m\u001b[38;5;124m,20}\u001b[39m\u001b[38;5;124m'\u001b[39m\n\u001b[0;32m      6\u001b[0m fml \u001b[38;5;241m=\u001b[39m \u001b[38;5;124m'\u001b[39m\u001b[38;5;124mpowv\u001b[39m\u001b[38;5;124m{\u001b[39m\u001b[38;5;124m'\u001b[39m \u001b[38;5;241m+\u001b[39m fml \u001b[38;5;241m+\u001b[39m \u001b[38;5;124m'\u001b[39m\u001b[38;5;124m,0.5}\u001b[39m\u001b[38;5;124m'\u001b[39m\n\u001b[1;32m----> 8\u001b[0m stats, signal \u001b[38;5;241m=\u001b[39m \u001b[43mse\u001b[49m\u001b[38;5;241;43m.\u001b[39;49m\u001b[43mtest_factor\u001b[49m\u001b[43m(\u001b[49m\u001b[43mfml\u001b[49m\u001b[43m,\u001b[49m\u001b[43m \u001b[49m\u001b[43mcorr_type\u001b[49m\u001b[38;5;241;43m=\u001b[39;49m\u001b[38;5;124;43m'\u001b[39;49m\u001b[38;5;124;43mlinear\u001b[39;49m\u001b[38;5;124;43m'\u001b[39;49m\u001b[43m,\u001b[49m\u001b[43m \u001b[49m\u001b[43mmethod\u001b[49m\u001b[38;5;241;43m=\u001b[39;49m\u001b[38;5;124;43m'\u001b[39;49m\u001b[38;5;124;43mcs\u001b[39;49m\u001b[38;5;124;43m'\u001b[39;49m\u001b[43m,\u001b[49m\u001b[43m \u001b[49m\u001b[43mspread_type\u001b[49m\u001b[38;5;241;43m=\u001b[39;49m\u001b[38;5;124;43m'\u001b[39;49m\u001b[38;5;124;43mrela_spread\u001b[39;49m\u001b[38;5;124;43m'\u001b[39;49m\u001b[43m)\u001b[49m\n\u001b[0;32m     10\u001b[0m \u001b[38;5;28mprint\u001b[39m()\n\u001b[0;32m     11\u001b[0m test_rela(signal, all_univ)\n",
      "File \u001b[1;32mC:\\Users/Windows11/Desktop/Repositories/Low-Frequency-Spread-Estimator\\SpreadEstimator\\SpreadEstimator.py:62\u001b[0m, in \u001b[0;36mSpreadEstimator.test_factor\u001b[1;34m(self, formula, start_date, end_date, method, corr_type, spread_type, verbose, back)\u001b[0m\n\u001b[0;32m     47\u001b[0m \u001b[38;5;28;01mdef\u001b[39;00m \u001b[38;5;21mtest_factor\u001b[39m(\u001b[38;5;28mself\u001b[39m, formula: \u001b[38;5;28mstr\u001b[39m, start_date: \u001b[38;5;28mstr\u001b[39m \u001b[38;5;241m=\u001b[39m \u001b[38;5;28;01mNone\u001b[39;00m, end_date: \u001b[38;5;28mstr\u001b[39m \u001b[38;5;241m=\u001b[39m \u001b[38;5;28;01mNone\u001b[39;00m,\n\u001b[0;32m     48\u001b[0m                 method: \u001b[38;5;28mstr\u001b[39m \u001b[38;5;241m=\u001b[39m \u001b[38;5;124m'\u001b[39m\u001b[38;5;124mcs\u001b[39m\u001b[38;5;124m'\u001b[39m, corr_type: \u001b[38;5;28mstr\u001b[39m \u001b[38;5;241m=\u001b[39m \u001b[38;5;124m'\u001b[39m\u001b[38;5;124mlinear\u001b[39m\u001b[38;5;124m'\u001b[39m,\n\u001b[0;32m     49\u001b[0m                 spread_type: \u001b[38;5;28mstr\u001b[39m \u001b[38;5;241m=\u001b[39m \u001b[38;5;124m'\u001b[39m\u001b[38;5;124mspread\u001b[39m\u001b[38;5;124m'\u001b[39m, verbose: \u001b[38;5;28mbool\u001b[39m \u001b[38;5;241m=\u001b[39m \u001b[38;5;28;01mTrue\u001b[39;00m,\n\u001b[0;32m     50\u001b[0m                 back: \u001b[38;5;28mint\u001b[39m \u001b[38;5;241m=\u001b[39m \u001b[38;5;241m20\u001b[39m) \u001b[38;5;241m-\u001b[39m\u001b[38;5;241m>\u001b[39m (Stats, np\u001b[38;5;241m.\u001b[39marray):\n\u001b[0;32m     51\u001b[0m \u001b[38;5;250m    \u001b[39m\u001b[38;5;124;03m\"\"\"\u001b[39;00m\n\u001b[0;32m     52\u001b[0m \u001b[38;5;124;03m    :param formula: 需要测试的因子表达式，如果是字符串形式，需要先解析成树\u001b[39;00m\n\u001b[0;32m     53\u001b[0m \u001b[38;5;124;03m    :param start_date:\u001b[39;00m\n\u001b[1;32m   (...)\u001b[0m\n\u001b[0;32m     60\u001b[0m \u001b[38;5;124;03m    :return: 返回统计值以及该因子产生的信号矩阵\u001b[39;00m\n\u001b[0;32m     61\u001b[0m \u001b[38;5;124;03m    \"\"\"\u001b[39;00m\n\u001b[1;32m---> 62\u001b[0m     stats, signal \u001b[38;5;241m=\u001b[39m \u001b[38;5;28;43mself\u001b[39;49m\u001b[38;5;241;43m.\u001b[39;49m\u001b[43mautoformula\u001b[49m\u001b[38;5;241;43m.\u001b[39;49m\u001b[43mtest_formula\u001b[49m\u001b[43m(\u001b[49m\u001b[43mformula\u001b[49m\u001b[43m,\u001b[49m\u001b[43m \u001b[49m\u001b[38;5;28;43mself\u001b[39;49m\u001b[38;5;241;43m.\u001b[39;49m\u001b[43mdata\u001b[49m\u001b[43m,\u001b[49m\u001b[43m \u001b[49m\u001b[43mstart_date\u001b[49m\u001b[38;5;241;43m=\u001b[39;49m\u001b[43mstart_date\u001b[49m\u001b[43m,\u001b[49m\n\u001b[0;32m     63\u001b[0m \u001b[43m                                                  \u001b[49m\u001b[43mend_date\u001b[49m\u001b[38;5;241;43m=\u001b[39;49m\u001b[43mend_date\u001b[49m\u001b[43m,\u001b[49m\u001b[43m \u001b[49m\u001b[43mmethod\u001b[49m\u001b[38;5;241;43m=\u001b[39;49m\u001b[43mmethod\u001b[49m\u001b[43m,\u001b[49m\u001b[43m \u001b[49m\u001b[43mcorr_type\u001b[49m\u001b[38;5;241;43m=\u001b[39;49m\u001b[43mcorr_type\u001b[49m\u001b[43m,\u001b[49m\n\u001b[0;32m     64\u001b[0m \u001b[43m                                                  \u001b[49m\u001b[43mspread_type\u001b[49m\u001b[38;5;241;43m=\u001b[39;49m\u001b[43mspread_type\u001b[49m\u001b[43m,\u001b[49m\u001b[43m \u001b[49m\u001b[43mback\u001b[49m\u001b[38;5;241;43m=\u001b[39;49m\u001b[43mback\u001b[49m\u001b[43m)\u001b[49m\n\u001b[0;32m     65\u001b[0m     \u001b[38;5;28;01mif\u001b[39;00m verbose:\n\u001b[0;32m     66\u001b[0m         \u001b[38;5;28mprint\u001b[39m(\u001b[38;5;124m'\u001b[39m\u001b[38;5;124mmean corr: \u001b[39m\u001b[38;5;132;01m{:.4f}\u001b[39;00m\u001b[38;5;124m, positive_corr_ratio: \u001b[39m\u001b[38;5;132;01m{:.4f}\u001b[39;00m\u001b[38;5;124m, corr_IR: \u001b[39m\u001b[38;5;132;01m{:.4f}\u001b[39;00m\u001b[38;5;124m'\u001b[39m\u001b[38;5;241m.\u001b[39m\n\u001b[0;32m     67\u001b[0m               \u001b[38;5;28mformat\u001b[39m(stats\u001b[38;5;241m.\u001b[39mmean_corr, stats\u001b[38;5;241m.\u001b[39mpositive_corr_ratio, stats\u001b[38;5;241m.\u001b[39mcorr_IR))\n",
      "File \u001b[1;32mC:\\Users/Windows11/Desktop/Repositories/Low-Frequency-Spread-Estimator\\mytools\\AutoFormula\\AutoFormula.py:162\u001b[0m, in \u001b[0;36mAutoFormula.test_formula\u001b[1;34m(self, formula, data, start_date, end_date, method, corr_type, spread_type, back)\u001b[0m\n\u001b[0;32m    160\u001b[0m \u001b[38;5;28;01mif\u001b[39;00m \u001b[38;5;28mtype\u001b[39m(formula) \u001b[38;5;241m==\u001b[39m \u001b[38;5;28mstr\u001b[39m:\n\u001b[0;32m    161\u001b[0m     formula \u001b[38;5;241m=\u001b[39m \u001b[38;5;28mself\u001b[39m\u001b[38;5;241m.\u001b[39mformula_parser\u001b[38;5;241m.\u001b[39mparse(formula)\n\u001b[1;32m--> 162\u001b[0m signal \u001b[38;5;241m=\u001b[39m \u001b[38;5;28;43mself\u001b[39;49m\u001b[38;5;241;43m.\u001b[39;49m\u001b[43mcal_formula\u001b[49m\u001b[43m(\u001b[49m\u001b[43mformula\u001b[49m\u001b[43m,\u001b[49m\u001b[43m \u001b[49m\u001b[43mdata\u001b[49m\u001b[38;5;241;43m.\u001b[39;49m\u001b[43mdata_dic\u001b[49m\u001b[43m)\u001b[49m  \u001b[38;5;66;03m# 暂时为了方便，无论如何都计算整个回测区间的因子值\u001b[39;00m\n\u001b[0;32m    164\u001b[0m \u001b[38;5;28;01mif\u001b[39;00m (start_date \u001b[38;5;129;01mis\u001b[39;00m \u001b[38;5;28;01mNone\u001b[39;00m) \u001b[38;5;129;01mor\u001b[39;00m (end_date \u001b[38;5;129;01mis\u001b[39;00m \u001b[38;5;28;01mNone\u001b[39;00m):\n\u001b[0;32m    165\u001b[0m     start \u001b[38;5;241m=\u001b[39m \u001b[38;5;241m0\u001b[39m\n",
      "File \u001b[1;32mC:\\Users/Windows11/Desktop/Repositories/Low-Frequency-Spread-Estimator\\mytools\\AutoFormula\\AutoFormula.py:59\u001b[0m, in \u001b[0;36mAutoFormula.cal_formula\u001b[1;34m(self, tree, data_dic, return_type)\u001b[0m\n\u001b[0;32m     57\u001b[0m     \u001b[38;5;28;01mreturn\u001b[39;00m \u001b[38;5;28mself\u001b[39m\u001b[38;5;241m.\u001b[39moperation\u001b[38;5;241m.\u001b[39moperation_dic[tree\u001b[38;5;241m.\u001b[39mname](\u001b[38;5;28mself\u001b[39m\u001b[38;5;241m.\u001b[39mcal_formula(tree\u001b[38;5;241m.\u001b[39mleft, data_dic, return_type))\n\u001b[0;32m     58\u001b[0m \u001b[38;5;28;01mif\u001b[39;00m tree\u001b[38;5;241m.\u001b[39moperation_type \u001b[38;5;241m==\u001b[39m \u001b[38;5;124m'\u001b[39m\u001b[38;5;124m1_num\u001b[39m\u001b[38;5;124m'\u001b[39m:\n\u001b[1;32m---> 59\u001b[0m     \u001b[38;5;28;01mreturn\u001b[39;00m \u001b[38;5;28mself\u001b[39m\u001b[38;5;241m.\u001b[39moperation\u001b[38;5;241m.\u001b[39moperation_dic[tree\u001b[38;5;241m.\u001b[39mname](\u001b[38;5;28;43mself\u001b[39;49m\u001b[38;5;241;43m.\u001b[39;49m\u001b[43mcal_formula\u001b[49m\u001b[43m(\u001b[49m\u001b[43mtree\u001b[49m\u001b[38;5;241;43m.\u001b[39;49m\u001b[43mleft\u001b[49m\u001b[43m,\u001b[49m\u001b[43m \u001b[49m\u001b[43mdata_dic\u001b[49m\u001b[43m,\u001b[49m\u001b[43m \u001b[49m\u001b[43mreturn_type\u001b[49m\u001b[43m)\u001b[49m,\n\u001b[0;32m     60\u001b[0m                                                    tree\u001b[38;5;241m.\u001b[39mnum_1)\n\u001b[0;32m     61\u001b[0m \u001b[38;5;28;01mif\u001b[39;00m tree\u001b[38;5;241m.\u001b[39moperation_type \u001b[38;5;241m==\u001b[39m \u001b[38;5;124m'\u001b[39m\u001b[38;5;124m1_num_num\u001b[39m\u001b[38;5;124m'\u001b[39m:\n\u001b[0;32m     62\u001b[0m     \u001b[38;5;28;01mreturn\u001b[39;00m \u001b[38;5;28mself\u001b[39m\u001b[38;5;241m.\u001b[39moperation\u001b[38;5;241m.\u001b[39moperation_dic[tree\u001b[38;5;241m.\u001b[39mname](\u001b[38;5;28mself\u001b[39m\u001b[38;5;241m.\u001b[39mcal_formula(tree\u001b[38;5;241m.\u001b[39mleft, data_dic, return_type),\n\u001b[0;32m     63\u001b[0m                                                    tree\u001b[38;5;241m.\u001b[39mnum_1, tree\u001b[38;5;241m.\u001b[39mnum_2)\n",
      "File \u001b[1;32mC:\\Users/Windows11/Desktop/Repositories/Low-Frequency-Spread-Estimator\\mytools\\AutoFormula\\AutoFormula.py:59\u001b[0m, in \u001b[0;36mAutoFormula.cal_formula\u001b[1;34m(self, tree, data_dic, return_type)\u001b[0m\n\u001b[0;32m     57\u001b[0m     \u001b[38;5;28;01mreturn\u001b[39;00m \u001b[38;5;28mself\u001b[39m\u001b[38;5;241m.\u001b[39moperation\u001b[38;5;241m.\u001b[39moperation_dic[tree\u001b[38;5;241m.\u001b[39mname](\u001b[38;5;28mself\u001b[39m\u001b[38;5;241m.\u001b[39mcal_formula(tree\u001b[38;5;241m.\u001b[39mleft, data_dic, return_type))\n\u001b[0;32m     58\u001b[0m \u001b[38;5;28;01mif\u001b[39;00m tree\u001b[38;5;241m.\u001b[39moperation_type \u001b[38;5;241m==\u001b[39m \u001b[38;5;124m'\u001b[39m\u001b[38;5;124m1_num\u001b[39m\u001b[38;5;124m'\u001b[39m:\n\u001b[1;32m---> 59\u001b[0m     \u001b[38;5;28;01mreturn\u001b[39;00m \u001b[38;5;28mself\u001b[39m\u001b[38;5;241m.\u001b[39moperation\u001b[38;5;241m.\u001b[39moperation_dic[tree\u001b[38;5;241m.\u001b[39mname](\u001b[38;5;28;43mself\u001b[39;49m\u001b[38;5;241;43m.\u001b[39;49m\u001b[43mcal_formula\u001b[49m\u001b[43m(\u001b[49m\u001b[43mtree\u001b[49m\u001b[38;5;241;43m.\u001b[39;49m\u001b[43mleft\u001b[49m\u001b[43m,\u001b[49m\u001b[43m \u001b[49m\u001b[43mdata_dic\u001b[49m\u001b[43m,\u001b[49m\u001b[43m \u001b[49m\u001b[43mreturn_type\u001b[49m\u001b[43m)\u001b[49m,\n\u001b[0;32m     60\u001b[0m                                                    tree\u001b[38;5;241m.\u001b[39mnum_1)\n\u001b[0;32m     61\u001b[0m \u001b[38;5;28;01mif\u001b[39;00m tree\u001b[38;5;241m.\u001b[39moperation_type \u001b[38;5;241m==\u001b[39m \u001b[38;5;124m'\u001b[39m\u001b[38;5;124m1_num_num\u001b[39m\u001b[38;5;124m'\u001b[39m:\n\u001b[0;32m     62\u001b[0m     \u001b[38;5;28;01mreturn\u001b[39;00m \u001b[38;5;28mself\u001b[39m\u001b[38;5;241m.\u001b[39moperation\u001b[38;5;241m.\u001b[39moperation_dic[tree\u001b[38;5;241m.\u001b[39mname](\u001b[38;5;28mself\u001b[39m\u001b[38;5;241m.\u001b[39mcal_formula(tree\u001b[38;5;241m.\u001b[39mleft, data_dic, return_type),\n\u001b[0;32m     63\u001b[0m                                                    tree\u001b[38;5;241m.\u001b[39mnum_1, tree\u001b[38;5;241m.\u001b[39mnum_2)\n",
      "File \u001b[1;32mC:\\Users/Windows11/Desktop/Repositories/Low-Frequency-Spread-Estimator\\mytools\\AutoFormula\\AutoFormula.py:95\u001b[0m, in \u001b[0;36mAutoFormula.cal_formula\u001b[1;34m(self, tree, data_dic, return_type)\u001b[0m\n\u001b[0;32m     91\u001b[0m             \u001b[38;5;28;01mreturn\u001b[39;00m \u001b[38;5;28mself\u001b[39m\u001b[38;5;241m.\u001b[39moperation\u001b[38;5;241m.\u001b[39moperation_dic[tree\u001b[38;5;241m.\u001b[39mname](\u001b[38;5;28mself\u001b[39m\u001b[38;5;241m.\u001b[39mcal_formula(tree\u001b[38;5;241m.\u001b[39mleft, data_dic, return_type),\n\u001b[0;32m     92\u001b[0m                                                            \u001b[38;5;28mself\u001b[39m\u001b[38;5;241m.\u001b[39mcal_formula(tree\u001b[38;5;241m.\u001b[39mright, data_dic, return_type),\n\u001b[0;32m     93\u001b[0m                                                            tree\u001b[38;5;241m.\u001b[39mnum_1, tree\u001b[38;5;241m.\u001b[39mnum_2, tree\u001b[38;5;241m.\u001b[39mnum_3)\n\u001b[0;32m     94\u001b[0m         \u001b[38;5;28;01mif\u001b[39;00m tree\u001b[38;5;241m.\u001b[39moperation_type \u001b[38;5;241m==\u001b[39m \u001b[38;5;124m'\u001b[39m\u001b[38;5;124m3\u001b[39m\u001b[38;5;124m'\u001b[39m:\n\u001b[1;32m---> 95\u001b[0m             \u001b[38;5;28;01mreturn\u001b[39;00m \u001b[38;5;28mself\u001b[39m\u001b[38;5;241m.\u001b[39moperation\u001b[38;5;241m.\u001b[39moperation_dic[tree\u001b[38;5;241m.\u001b[39mname](\u001b[38;5;28;43mself\u001b[39;49m\u001b[38;5;241;43m.\u001b[39;49m\u001b[43mcal_formula\u001b[49m\u001b[43m(\u001b[49m\u001b[43mtree\u001b[49m\u001b[38;5;241;43m.\u001b[39;49m\u001b[43mleft\u001b[49m\u001b[43m,\u001b[49m\u001b[43m \u001b[49m\u001b[43mdata_dic\u001b[49m\u001b[43m,\u001b[49m\u001b[43m \u001b[49m\u001b[43mreturn_type\u001b[49m\u001b[43m)\u001b[49m,\n\u001b[0;32m     96\u001b[0m                                                            \u001b[38;5;28mself\u001b[39m\u001b[38;5;241m.\u001b[39mcal_formula(tree\u001b[38;5;241m.\u001b[39mmiddle, data_dic, return_type),\n\u001b[0;32m     97\u001b[0m                                                            \u001b[38;5;28mself\u001b[39m\u001b[38;5;241m.\u001b[39mcal_formula(tree\u001b[38;5;241m.\u001b[39mright, data_dic, return_type))\n\u001b[0;32m     98\u001b[0m \u001b[38;5;28;01mif\u001b[39;00m return_type \u001b[38;5;241m==\u001b[39m \u001b[38;5;124m'\u001b[39m\u001b[38;5;124mstr\u001b[39m\u001b[38;5;124m'\u001b[39m:\n\u001b[0;32m     99\u001b[0m     \u001b[38;5;28;01mif\u001b[39;00m tree\u001b[38;5;241m.\u001b[39mvariable_type \u001b[38;5;241m==\u001b[39m \u001b[38;5;124m'\u001b[39m\u001b[38;5;124mdata\u001b[39m\u001b[38;5;124m'\u001b[39m:\n",
      "File \u001b[1;32mC:\\Users/Windows11/Desktop/Repositories/Low-Frequency-Spread-Estimator\\mytools\\AutoFormula\\AutoFormula.py:75\u001b[0m, in \u001b[0;36mAutoFormula.cal_formula\u001b[1;34m(self, tree, data_dic, return_type)\u001b[0m\n\u001b[0;32m     73\u001b[0m \u001b[38;5;28;01melse\u001b[39;00m:\n\u001b[0;32m     74\u001b[0m     \u001b[38;5;28;01mif\u001b[39;00m tree\u001b[38;5;241m.\u001b[39mleft \u001b[38;5;129;01mis\u001b[39;00m \u001b[38;5;129;01mnot\u001b[39;00m \u001b[38;5;28;01mNone\u001b[39;00m:\n\u001b[1;32m---> 75\u001b[0m         \u001b[38;5;28;01mreturn\u001b[39;00m \u001b[38;5;28mself\u001b[39m\u001b[38;5;241m.\u001b[39moperation\u001b[38;5;241m.\u001b[39moperation_dic[tree\u001b[38;5;241m.\u001b[39mname](\u001b[38;5;28;43mself\u001b[39;49m\u001b[38;5;241;43m.\u001b[39;49m\u001b[43mcal_formula\u001b[49m\u001b[43m(\u001b[49m\u001b[43mtree\u001b[49m\u001b[38;5;241;43m.\u001b[39;49m\u001b[43mleft\u001b[49m\u001b[43m,\u001b[49m\u001b[43m \u001b[49m\u001b[43mdata_dic\u001b[49m\u001b[43m,\u001b[49m\n\u001b[0;32m     76\u001b[0m \u001b[43m                                                                        \u001b[49m\u001b[43mreturn_type\u001b[49m\u001b[43m)\u001b[49m,\n\u001b[0;32m     77\u001b[0m                                                        tree\u001b[38;5;241m.\u001b[39mnum_1)\n\u001b[0;32m     78\u001b[0m     \u001b[38;5;28;01melse\u001b[39;00m:\n\u001b[0;32m     79\u001b[0m         \u001b[38;5;28;01mreturn\u001b[39;00m \u001b[38;5;28mself\u001b[39m\u001b[38;5;241m.\u001b[39moperation\u001b[38;5;241m.\u001b[39moperation_dic[tree\u001b[38;5;241m.\u001b[39mname](tree\u001b[38;5;241m.\u001b[39mnum_1,\n\u001b[0;32m     80\u001b[0m                                                        \u001b[38;5;28mself\u001b[39m\u001b[38;5;241m.\u001b[39mcal_formula(tree\u001b[38;5;241m.\u001b[39mright, data_dic,\n\u001b[0;32m     81\u001b[0m                                                                         return_type))\n",
      "File \u001b[1;32mC:\\Users/Windows11/Desktop/Repositories/Low-Frequency-Spread-Estimator\\mytools\\AutoFormula\\AutoFormula.py:69\u001b[0m, in \u001b[0;36mAutoFormula.cal_formula\u001b[1;34m(self, tree, data_dic, return_type)\u001b[0m\n\u001b[0;32m     67\u001b[0m \u001b[38;5;28;01mif\u001b[39;00m tree\u001b[38;5;241m.\u001b[39moperation_type \u001b[38;5;241m==\u001b[39m \u001b[38;5;124m'\u001b[39m\u001b[38;5;124m2\u001b[39m\u001b[38;5;124m'\u001b[39m:  \u001b[38;5;66;03m# 此时需要判断有没有数字\u001b[39;00m\n\u001b[0;32m     68\u001b[0m     \u001b[38;5;28;01mif\u001b[39;00m tree\u001b[38;5;241m.\u001b[39mnum_1 \u001b[38;5;129;01mis\u001b[39;00m \u001b[38;5;28;01mNone\u001b[39;00m:\n\u001b[1;32m---> 69\u001b[0m         \u001b[38;5;28;01mreturn\u001b[39;00m \u001b[38;5;28mself\u001b[39m\u001b[38;5;241m.\u001b[39moperation\u001b[38;5;241m.\u001b[39moperation_dic[tree\u001b[38;5;241m.\u001b[39mname](\u001b[38;5;28;43mself\u001b[39;49m\u001b[38;5;241;43m.\u001b[39;49m\u001b[43mcal_formula\u001b[49m\u001b[43m(\u001b[49m\u001b[43mtree\u001b[49m\u001b[38;5;241;43m.\u001b[39;49m\u001b[43mleft\u001b[49m\u001b[43m,\u001b[49m\u001b[43m \u001b[49m\u001b[43mdata_dic\u001b[49m\u001b[43m,\u001b[49m\n\u001b[0;32m     70\u001b[0m \u001b[43m                                                                        \u001b[49m\u001b[43mreturn_type\u001b[49m\u001b[43m)\u001b[49m,\n\u001b[0;32m     71\u001b[0m                                                        \u001b[38;5;28mself\u001b[39m\u001b[38;5;241m.\u001b[39mcal_formula(tree\u001b[38;5;241m.\u001b[39mright, data_dic,\n\u001b[0;32m     72\u001b[0m                                                                         return_type))\n\u001b[0;32m     73\u001b[0m     \u001b[38;5;28;01melse\u001b[39;00m:\n\u001b[0;32m     74\u001b[0m         \u001b[38;5;28;01mif\u001b[39;00m tree\u001b[38;5;241m.\u001b[39mleft \u001b[38;5;129;01mis\u001b[39;00m \u001b[38;5;129;01mnot\u001b[39;00m \u001b[38;5;28;01mNone\u001b[39;00m:\n",
      "File \u001b[1;32mC:\\Users/Windows11/Desktop/Repositories/Low-Frequency-Spread-Estimator\\mytools\\AutoFormula\\AutoFormula.py:71\u001b[0m, in \u001b[0;36mAutoFormula.cal_formula\u001b[1;34m(self, tree, data_dic, return_type)\u001b[0m\n\u001b[0;32m     67\u001b[0m \u001b[38;5;28;01mif\u001b[39;00m tree\u001b[38;5;241m.\u001b[39moperation_type \u001b[38;5;241m==\u001b[39m \u001b[38;5;124m'\u001b[39m\u001b[38;5;124m2\u001b[39m\u001b[38;5;124m'\u001b[39m:  \u001b[38;5;66;03m# 此时需要判断有没有数字\u001b[39;00m\n\u001b[0;32m     68\u001b[0m     \u001b[38;5;28;01mif\u001b[39;00m tree\u001b[38;5;241m.\u001b[39mnum_1 \u001b[38;5;129;01mis\u001b[39;00m \u001b[38;5;28;01mNone\u001b[39;00m:\n\u001b[0;32m     69\u001b[0m         \u001b[38;5;28;01mreturn\u001b[39;00m \u001b[38;5;28mself\u001b[39m\u001b[38;5;241m.\u001b[39moperation\u001b[38;5;241m.\u001b[39moperation_dic[tree\u001b[38;5;241m.\u001b[39mname](\u001b[38;5;28mself\u001b[39m\u001b[38;5;241m.\u001b[39mcal_formula(tree\u001b[38;5;241m.\u001b[39mleft, data_dic,\n\u001b[0;32m     70\u001b[0m                                                                         return_type),\n\u001b[1;32m---> 71\u001b[0m                                                        \u001b[38;5;28;43mself\u001b[39;49m\u001b[38;5;241;43m.\u001b[39;49m\u001b[43mcal_formula\u001b[49m\u001b[43m(\u001b[49m\u001b[43mtree\u001b[49m\u001b[38;5;241;43m.\u001b[39;49m\u001b[43mright\u001b[49m\u001b[43m,\u001b[49m\u001b[43m \u001b[49m\u001b[43mdata_dic\u001b[49m\u001b[43m,\u001b[49m\n\u001b[0;32m     72\u001b[0m \u001b[43m                                                                        \u001b[49m\u001b[43mreturn_type\u001b[49m\u001b[43m)\u001b[49m)\n\u001b[0;32m     73\u001b[0m     \u001b[38;5;28;01melse\u001b[39;00m:\n\u001b[0;32m     74\u001b[0m         \u001b[38;5;28;01mif\u001b[39;00m tree\u001b[38;5;241m.\u001b[39mleft \u001b[38;5;129;01mis\u001b[39;00m \u001b[38;5;129;01mnot\u001b[39;00m \u001b[38;5;28;01mNone\u001b[39;00m:\n",
      "File \u001b[1;32mC:\\Users/Windows11/Desktop/Repositories/Low-Frequency-Spread-Estimator\\mytools\\AutoFormula\\AutoFormula.py:75\u001b[0m, in \u001b[0;36mAutoFormula.cal_formula\u001b[1;34m(self, tree, data_dic, return_type)\u001b[0m\n\u001b[0;32m     73\u001b[0m \u001b[38;5;28;01melse\u001b[39;00m:\n\u001b[0;32m     74\u001b[0m     \u001b[38;5;28;01mif\u001b[39;00m tree\u001b[38;5;241m.\u001b[39mleft \u001b[38;5;129;01mis\u001b[39;00m \u001b[38;5;129;01mnot\u001b[39;00m \u001b[38;5;28;01mNone\u001b[39;00m:\n\u001b[1;32m---> 75\u001b[0m         \u001b[38;5;28;01mreturn\u001b[39;00m \u001b[38;5;28;43mself\u001b[39;49m\u001b[38;5;241;43m.\u001b[39;49m\u001b[43moperation\u001b[49m\u001b[38;5;241;43m.\u001b[39;49m\u001b[43moperation_dic\u001b[49m\u001b[43m[\u001b[49m\u001b[43mtree\u001b[49m\u001b[38;5;241;43m.\u001b[39;49m\u001b[43mname\u001b[49m\u001b[43m]\u001b[49m\u001b[43m(\u001b[49m\u001b[38;5;28;43mself\u001b[39;49m\u001b[38;5;241;43m.\u001b[39;49m\u001b[43mcal_formula\u001b[49m\u001b[43m(\u001b[49m\u001b[43mtree\u001b[49m\u001b[38;5;241;43m.\u001b[39;49m\u001b[43mleft\u001b[49m\u001b[43m,\u001b[49m\u001b[43m \u001b[49m\u001b[43mdata_dic\u001b[49m\u001b[43m,\u001b[49m\n\u001b[0;32m     76\u001b[0m \u001b[43m                                                                        \u001b[49m\u001b[43mreturn_type\u001b[49m\u001b[43m)\u001b[49m\u001b[43m,\u001b[49m\n\u001b[0;32m     77\u001b[0m \u001b[43m                                                       \u001b[49m\u001b[43mtree\u001b[49m\u001b[38;5;241;43m.\u001b[39;49m\u001b[43mnum_1\u001b[49m\u001b[43m)\u001b[49m\n\u001b[0;32m     78\u001b[0m     \u001b[38;5;28;01melse\u001b[39;00m:\n\u001b[0;32m     79\u001b[0m         \u001b[38;5;28;01mreturn\u001b[39;00m \u001b[38;5;28mself\u001b[39m\u001b[38;5;241m.\u001b[39moperation\u001b[38;5;241m.\u001b[39moperation_dic[tree\u001b[38;5;241m.\u001b[39mname](tree\u001b[38;5;241m.\u001b[39mnum_1,\n\u001b[0;32m     80\u001b[0m                                                        \u001b[38;5;28mself\u001b[39m\u001b[38;5;241m.\u001b[39mcal_formula(tree\u001b[38;5;241m.\u001b[39mright, data_dic,\n\u001b[0;32m     81\u001b[0m                                                                         return_type))\n",
      "File \u001b[1;32mC:\\Users/Windows11/Desktop/Repositories/Low-Frequency-Spread-Estimator/mytools/AutoFormula/operations\\two.py:33\u001b[0m, in \u001b[0;36mdiv\u001b[1;34m(a, b)\u001b[0m\n\u001b[0;32m     31\u001b[0m     s \u001b[38;5;241m=\u001b[39m a \u001b[38;5;241m/\u001b[39m b\n\u001b[0;32m     32\u001b[0m \u001b[38;5;28;01melse\u001b[39;00m:\n\u001b[1;32m---> 33\u001b[0m     s[b \u001b[38;5;241m!=\u001b[39m \u001b[38;5;241m0\u001b[39m] \u001b[38;5;241m=\u001b[39m a[b \u001b[38;5;241m!=\u001b[39m \u001b[38;5;241m0\u001b[39m] \u001b[38;5;241m/\u001b[39m \u001b[43mb\u001b[49m\u001b[43m[\u001b[49m\u001b[43mb\u001b[49m\u001b[43m \u001b[49m\u001b[38;5;241;43m!=\u001b[39;49m\u001b[43m \u001b[49m\u001b[38;5;241;43m0\u001b[39;49m\u001b[43m]\u001b[49m\n\u001b[0;32m     34\u001b[0m \u001b[38;5;28;01mreturn\u001b[39;00m s\n",
      "\u001b[1;31mTypeError\u001b[0m: 'int' object is not subscriptable"
     ]
    }
   ],
   "source": [
    "a = 'minus{logv{tsdelay{close,1}},div{add{logv{tsdelay{high,1}},logv{tsdelay{low,1}}},2}}'\n",
    "b = 'minus{logv{tsdelay{close,1}},div{add{logv{high},logv{low}},2}}'\n",
    "fml = 'prod{' + a + ',' + b + '}'\n",
    "fml = 'condition{' + 'ge{' + fml + ',0},' + fml + ',add{minus{close,close},0}}'\n",
    "fml = 'tsmean{' + fml + ',20}'\n",
    "fml = 'powv{' + fml + ',0.5}'\n",
    "\n",
    "stats, signal = se.test_factor(fml, corr_type='linear', method='cs', spread_type='rela_spread')\n",
    "\n",
    "print()\n",
    "test_rela(signal, all_univ)"
   ]
  },
  {
   "cell_type": "code",
   "execution_count": 14,
   "id": "621c1419",
   "metadata": {
    "pycharm": {
     "name": "#%%\n"
    }
   },
   "outputs": [
    {
     "name": "stdout",
     "output_type": "stream",
     "text": [
      "mean corr: -0.3688, positive_corr_ratio: 0.0000, corr_IR: -8.7364\n",
      "\n",
      "spread cs\n",
      "0.3460\n",
      "0.3285, 0.3334, 0.3363, 0.3558, 0.3586, 0.3634\n",
      "0.0076\n",
      "\n",
      "0.8000\n",
      "0.7940, 0.7958, 0.7967, 0.8033, 0.8041, 0.8059\n",
      "0.0026\n",
      "\n",
      "\n",
      "spread ts\n",
      "0.2436\n",
      "0.2190, 0.2260, 0.2300, 0.2568, 0.2603, 0.2682\n",
      "0.0105\n",
      "\n",
      "0.2473\n",
      "0.2331, 0.2373, 0.2395, 0.2554, 0.2575, 0.2617\n",
      "0.0062\n",
      "\n"
     ]
    }
   ],
   "source": [
    "a = 'minus{tsdelay{close,1},div{add{tsdelay{high,1},tsdelay{low,1}},2}}'\n",
    "b = 'minus{tsdelay{close,1},div{add{high,low},2}}'\n",
    "fml = 'prod{' + a + ',' + b + '}'\n",
    "fml = 'condition{' + 'ge{' + fml + ',0},' + fml + ',add{minus{close,close},0}}'\n",
    "fml = 'tsmean{' + fml + ',20}'\n",
    "fml = 'powv{' + fml + ',0.5}'\n",
    "\n",
    "stats, signal = se.test_factor(fml, corr_type='linear', method='cs', spread_type='relative_spread')\n",
    "\n",
    "print()\n",
    "test_spread(signal, all_univ)"
   ]
  },
  {
   "cell_type": "markdown",
   "id": "f12da8ad",
   "metadata": {
    "pycharm": {
     "name": "#%% md\n"
    }
   },
   "source": [
    "### bas"
   ]
  },
  {
   "cell_type": "code",
   "execution_count": 15,
   "id": "37aa6e47",
   "metadata": {
    "pycharm": {
     "name": "#%%\n"
    }
   },
   "outputs": [
    {
     "name": "stdout",
     "output_type": "stream",
     "text": [
      "mean corr: 0.7343, positive_corr_ratio: 1.0000, corr_IR: 7.4584\n",
      "\n",
      "rela cs\n",
      "0.8742\n",
      "0.8616, 0.8655, 0.8676, 0.8808, 0.8827, 0.8861\n",
      "0.0052\n",
      "\n",
      "0.4895\n",
      "0.4781, 0.4816, 0.4833, 0.4957, 0.4973, 0.5007\n",
      "0.0048\n",
      "\n",
      "\n",
      "rela ts\n",
      "0.1908\n",
      "0.1565, 0.1671, 0.1723, 0.2095, 0.2147, 0.2236\n",
      "0.0144\n",
      "\n",
      "0.0767\n",
      "0.0665, 0.0695, 0.0710, 0.0822, 0.0838, 0.0870\n",
      "0.0044\n",
      "\n",
      "\n",
      "vol_wtd_rel_bas cs \n",
      "0.8727\n",
      "0.8605, 0.8642, 0.8661, 0.8794, 0.8811, 0.8844\n",
      "0.0052\n",
      "\n",
      "0.4873\n",
      "0.4760, 0.4793, 0.4810, 0.4935, 0.4954, 0.4988\n",
      "0.0049\n",
      "\n",
      "\n",
      "vol_wtd_rel_bas ts \n",
      "0.1807\n",
      "0.1449, 0.1564, 0.1619, 0.1997, 0.2053, 0.2155\n",
      "0.0149\n",
      "\n",
      "0.0749\n",
      "0.0645, 0.0676, 0.0692, 0.0807, 0.0824, 0.0854\n",
      "0.0045\n",
      "\n"
     ]
    }
   ],
   "source": [
    "fml = 'last_rel_bas'\n",
    "\n",
    "stats, signal = se.test_factor(fml, corr_type='linear', method='cs', spread_type='relative_spread')\n",
    "print()\n",
    "test_rela(signal, all_univ)"
   ]
  },
  {
   "cell_type": "code",
   "execution_count": 16,
   "id": "3195c4c4",
   "metadata": {
    "pycharm": {
     "name": "#%%\n"
    }
   },
   "outputs": [
    {
     "name": "stdout",
     "output_type": "stream",
     "text": [
      "mean corr: -0.0908, positive_corr_ratio: 0.0446, corr_IR: -2.3502\n",
      "\n",
      "spread cs\n",
      "0.2424\n",
      "0.2216, 0.2277, 0.2309, 0.2541, 0.2574, 0.2639\n",
      "0.0091\n",
      "\n",
      "0.5423\n",
      "0.5290, 0.5331, 0.5352, 0.5494, 0.5514, 0.5550\n",
      "0.0056\n",
      "\n",
      "\n",
      "spread ts\n",
      "0.0131\n",
      "0.0059, 0.0080, 0.0091, 0.0170, 0.0181, 0.0203\n",
      "0.0031\n",
      "\n",
      "0.0329\n",
      "0.0279, 0.0293, 0.0301, 0.0357, 0.0364, 0.0378\n",
      "0.0022\n",
      "\n"
     ]
    }
   ],
   "source": [
    "fml = 'last_bas'\n",
    "\n",
    "stats, signal = se.test_factor(fml, corr_type='linear', method='cs', spread_type='relative_spread')\n",
    "\n",
    "print()\n",
    "test_spread(signal, all_univ)"
   ]
  },
  {
   "cell_type": "markdown",
   "id": "556506e3",
   "metadata": {
    "pycharm": {
     "name": "#%% md\n"
    }
   },
   "source": [
    "### Gibbs"
   ]
  },
  {
   "cell_type": "code",
   "execution_count": 17,
   "id": "3eb9c4f8",
   "metadata": {
    "pycharm": {
     "name": "#%%\n"
    }
   },
   "outputs": [],
   "source": [
    "path = r\"C:\\Users\\18316\\Desktop\\Repositories\\Low-Frequency-Spread-Estimator\\estimator\\cache\"\n",
    "gibbs = np.zeros((243, 2081), dtype=np.float32)\n",
    "for i in range(9):\n",
    "    gibbs[20+21*i:41+21*i] = np.load('{}/{}.npy'.format(path, i))\n",
    "i = 9\n",
    "gibbs[20+21*i:] = np.load('{}/{}.npy'.format(path, i))"
   ]
  },
  {
   "cell_type": "code",
   "execution_count": 18,
   "id": "3b82c251",
   "metadata": {
    "pycharm": {
     "name": "#%%\n"
    }
   },
   "outputs": [
    {
     "name": "stdout",
     "output_type": "stream",
     "text": [
      "rela cs\n",
      "-0.0035\n",
      "-0.0106, -0.0085, -0.0073, 0.0004, 0.0014, 0.0035\n",
      "0.0030\n",
      "\n",
      "0.0002\n",
      "-0.0036, -0.0025, -0.0019, 0.0023, 0.0030, 0.0041\n",
      "0.0016\n",
      "\n",
      "\n",
      "rela ts\n",
      "0.0131\n",
      "0.0080, 0.0095, 0.0103, 0.0159, 0.0167, 0.0181\n",
      "0.0022\n",
      "\n",
      "0.0164\n",
      "0.0134, 0.0143, 0.0148, 0.0181, 0.0186, 0.0195\n",
      "0.0013\n",
      "\n",
      "\n",
      "vol_wtd_rel_bas cs \n",
      "-0.0036\n",
      "-0.0106, -0.0086, -0.0075, 0.0002, 0.0012, 0.0033\n",
      "0.0030\n",
      "\n",
      "0.0002\n",
      "-0.0036, -0.0025, -0.0019, 0.0023, 0.0028, 0.0040\n",
      "0.0016\n",
      "\n",
      "\n",
      "vol_wtd_rel_bas ts \n",
      "0.0096\n",
      "0.0046, 0.0060, 0.0069, 0.0124, 0.0133, 0.0148\n",
      "0.0022\n",
      "\n",
      "0.0129\n",
      "0.0099, 0.0107, 0.0112, 0.0145, 0.0150, 0.0159\n",
      "0.0013\n",
      "\n"
     ]
    }
   ],
   "source": [
    "test_rela(gibbs, all_univ)"
   ]
  },
  {
   "cell_type": "markdown",
   "id": "0e39a507",
   "metadata": {
    "pycharm": {
     "name": "#%% md\n"
    }
   },
   "source": [
    "### LOT"
   ]
  },
  {
   "cell_type": "code",
   "execution_count": 19,
   "id": "6f851bac",
   "metadata": {
    "pycharm": {
     "name": "#%%\n"
    }
   },
   "outputs": [
    {
     "name": "stdout",
     "output_type": "stream",
     "text": [
      "rela cs\n",
      "-0.0283\n",
      "-0.0380, -0.0350, -0.0335, -0.0230, -0.0216, -0.0187\n",
      "0.0041\n",
      "\n",
      "0.0197\n",
      "0.0086, 0.0119, 0.0136, 0.0257, 0.0276, 0.0309\n",
      "0.0048\n",
      "\n",
      "\n",
      "rela ts\n",
      "-0.0284\n",
      "-0.0550, -0.0470, -0.0428, -0.0133, -0.0091, -0.0010\n",
      "0.0116\n",
      "\n",
      "-0.0589\n",
      "-0.0749, -0.0704, -0.0680, -0.0500, -0.0475, -0.0425\n",
      "0.0069\n",
      "\n",
      "\n",
      "vol_wtd_rel_bas cs \n",
      "-0.0258\n",
      "-0.0349, -0.0324, -0.0309, -0.0205, -0.0190, -0.0162\n",
      "0.0040\n",
      "\n",
      "0.0333\n",
      "0.0227, 0.0257, 0.0274, 0.0393, 0.0409, 0.0440\n",
      "0.0046\n",
      "\n",
      "\n",
      "vol_wtd_rel_bas ts \n",
      "-0.0320\n",
      "-0.0593, -0.0508, -0.0469, -0.0177, -0.0134, -0.0057\n",
      "0.0114\n",
      "\n",
      "-0.0562\n",
      "-0.0725, -0.0676, -0.0651, -0.0473, -0.0446, -0.0403\n",
      "0.0070\n",
      "\n"
     ]
    }
   ],
   "source": [
    "import pickle\n",
    "with open(r\"D:\\Documents\\学习资料\\本科毕业论文\\data\\LOT.pkl\", 'rb') as f:\n",
    "    LOT = pickle.load(f)\n",
    "    \n",
    "test_rela(LOT[:,:,0], all_univ)"
   ]
  },
  {
   "cell_type": "code",
   "execution_count": 20,
   "id": "47225055",
   "metadata": {
    "pycharm": {
     "name": "#%%\n"
    }
   },
   "outputs": [
    {
     "name": "stdout",
     "output_type": "stream",
     "text": [
      "rela cs\n",
      "-0.1108\n",
      "-0.1216, -0.1184, -0.1167, -0.1048, -0.1031, -0.0998\n",
      "0.0047\n",
      "\n",
      "-0.0722\n",
      "-0.0864, -0.0822, -0.0800, -0.0642, -0.0619, -0.0575\n",
      "0.0062\n",
      "\n",
      "\n",
      "rela ts\n",
      "0.0362\n",
      "0.0141, 0.0205, 0.0239, 0.0484, 0.0516, 0.0581\n",
      "0.0095\n",
      "\n",
      "0.0229\n",
      "0.0108, 0.0145, 0.0164, 0.0295, 0.0314, 0.0349\n",
      "0.0052\n",
      "\n",
      "\n",
      "vol_wtd_rel_bas cs \n",
      "-0.0984\n",
      "-0.1088, -0.1059, -0.1042, -0.0925, -0.0908, -0.0878\n",
      "0.0045\n",
      "\n",
      "-0.0503\n",
      "-0.0640, -0.0600, -0.0580, -0.0427, -0.0405, -0.0366\n",
      "0.0059\n",
      "\n",
      "\n",
      "vol_wtd_rel_bas ts \n",
      "0.0499\n",
      "0.0274, 0.0342, 0.0377, 0.0621, 0.0655, 0.0719\n",
      "0.0095\n",
      "\n",
      "0.0373\n",
      "0.0254, 0.0288, 0.0307, 0.0439, 0.0459, 0.0491\n",
      "0.0051\n",
      "\n"
     ]
    }
   ],
   "source": [
    "test_rela(LOT[:,:,1], all_univ)"
   ]
  },
  {
   "cell_type": "markdown",
   "id": "92ec952f",
   "metadata": {
    "pycharm": {
     "name": "#%% md\n"
    }
   },
   "source": [
    "### 查看10元以上组合的市值占比"
   ]
  },
  {
   "cell_type": "code",
   "execution_count": 70,
   "id": "eb8684f9",
   "metadata": {
    "pycharm": {
     "name": "#%%\n"
    }
   },
   "outputs": [
    {
     "name": "stdout",
     "output_type": "stream",
     "text": [
      "0.12534970276961246\n",
      "0.196356803394121\n",
      "0.6782934938362665\n"
     ]
    }
   ],
   "source": [
    "ave_cap = np.nanmean(se.data.data_dic['volume']*se.data.data_dic['close'], axis=0)\n",
    "ave_cap = np.nanmean(se.data.data_dic['cap'], axis=0)\n",
    "print(np.sum(ave_cap[np.sum(univ_0, axis=0)>0])/np.sum(ave_cap))\n",
    "print(np.sum(ave_cap[np.sum(univ_1, axis=0)>0])/np.sum(ave_cap))\n",
    "print(np.sum(ave_cap[np.sum(univ_2, axis=0)>0])/np.sum(ave_cap))"
   ]
  },
  {
   "cell_type": "code",
   "execution_count": 69,
   "id": "0f6e0043",
   "metadata": {
    "pycharm": {
     "name": "#%%\n"
    }
   },
   "outputs": [
    {
     "name": "stdout",
     "output_type": "stream",
     "text": [
      "0.15209941578100805\n",
      "0.2337683401885248\n",
      "0.6141322440304672\n"
     ]
    }
   ],
   "source": [
    "ave_cap = np.nanmean(se.data.data_dic['volume']*se.data.data_dic['close'], axis=0)\n",
    "print(np.sum(ave_cap[np.sum(univ_0, axis=0)>0])/np.sum(ave_cap))\n",
    "print(np.sum(ave_cap[np.sum(univ_1, axis=0)>0])/np.sum(ave_cap))\n",
    "print(np.sum(ave_cap[np.sum(univ_2, axis=0)>0])/np.sum(ave_cap))"
   ]
  },
  {
   "cell_type": "code",
   "execution_count": 68,
   "id": "a3544431",
   "metadata": {
    "pycharm": {
     "name": "#%%\n"
    }
   },
   "outputs": [
    {
     "name": "stdout",
     "output_type": "stream",
     "text": [
      "532\n",
      "695\n",
      "854\n"
     ]
    }
   ],
   "source": [
    "print(np.sum(np.sum(univ_0, axis=0)>0))\n",
    "print(np.sum(np.sum(univ_1, axis=0)>0))\n",
    "print(np.sum(np.sum(univ_2, axis=0)>0))"
   ]
  },
  {
   "cell_type": "markdown",
   "id": "1ab073cc",
   "metadata": {
    "pycharm": {
     "name": "#%% md\n"
    }
   },
   "source": [
    "### 绘制相对价差和收盘价的散点图"
   ]
  },
  {
   "cell_type": "code",
   "execution_count": 17,
   "id": "bcfad2ae",
   "metadata": {
    "pycharm": {
     "name": "#%%\n"
    }
   },
   "outputs": [
    {
     "data": {
      "image/png": "[encoded data removed]",
      "text/plain": [
       "<Figure size 960x720 with 1 Axes>"
      ]
     },
     "metadata": {},
     "output_type": "display_data"
    }
   ],
   "source": [
    "plt.figure(dpi=150)\n",
    "plt.scatter(se.data.data_dic['close'][24, univ[24]], \n",
    "            se.data.spread_dic['rela_spread'][24, univ[24]]*100, alpha=0.6, s=5, label='sample')\n",
    "x = np.sort(se.data.data_dic['close'][24, univ[24]])\n",
    "plt.plot(x, 1/x, alpha=1, color='r',label='1/close price')\n",
    "plt.legend()\n",
    "plt.xlabel('close price (yuan)')\n",
    "plt.ylabel('relative spread (%)')\n",
    "plt.xscale('log')\n",
    "plt.show()"
   ]
  },
  {
   "cell_type": "code",
   "execution_count": 61,
   "id": "1523e9a2",
   "metadata": {
    "collapsed": true,
    "pycharm": {
     "name": "#%%\n"
    }
   },
   "outputs": [
    {
     "data": {
      "image/png": "[encoded data removed]",
      "text/plain": [
       "<Figure size 900x600 with 1 Axes>"
      ]
     },
     "metadata": {
      "needs_background": "light"
     },
     "output_type": "display_data"
    }
   ],
   "source": [
    "plt.figure(dpi=150)\n",
    "plt.scatter(1/se.data.data_dic['close'][242, univ[242]], \n",
    "            se.data.spread_dic['relative_spread'][242, univ[242]]*100, alpha=0.6, s=5, label='sample')\n",
    "plt.scatter(1/se.data.data_dic['close'][242, univ[242]], \n",
    "            1/se.data.data_dic['close'][242, univ[242]], alpha=0.6, s=5, label='1/close price')\n",
    "plt.legend()\n",
    "plt.legend()\n",
    "plt.xlabel('1/close price(1/yuan)')\n",
    "plt.ylabel('relative spread(%)')\n",
    "plt.show()"
   ]
  },
  {
   "cell_type": "code",
   "execution_count": 16,
   "id": "4d0b9e9e",
   "metadata": {
    "pycharm": {
     "name": "#%%\n"
    }
   },
   "outputs": [
    {
     "name": "stdout",
     "output_type": "stream",
     "text": [
      "mean corr: 0.4856, positive_corr_ratio: 1.0000, corr_IR: 2.6440\n",
      "\n",
      "rela cs\n",
      "-0.2518\n",
      "-0.2874, -0.2775, -0.2721, -0.2313, -0.2250, -0.2132\n",
      "0.0159\n",
      "\n",
      "0.6127\n",
      "0.5841, 0.5924, 0.5973, 0.6283, 0.6327, 0.6399\n",
      "0.0121\n",
      "\n",
      "\n",
      "rela ts\n",
      "-0.3043\n",
      "-0.6504, -0.5542, -0.4991, -0.1011, -0.0410, 0.0647\n",
      "0.1550\n",
      "\n",
      "-0.5248\n",
      "-0.5460, -0.5398, -0.5366, -0.5132, -0.5099, -0.5029\n",
      "0.0091\n",
      "\n",
      "\n"
     ]
    }
   ],
   "source": [
    "\n",
    "fml = 'tsmean{logv{close},20}'\n",
    "stats, signal = se.test_factor(fml, corr_type='linear', method='cs', spread_type='rela_spread')\n",
    "\n",
    "print()\n",
    "test_rela(signal, all_univ)"
   ]
  },
  {
   "cell_type": "code",
   "execution_count": null,
   "id": "0b13e83f",
   "metadata": {},
   "outputs": [],
   "source": []
  }
 ],
 "metadata": {
  "kernelspec": {
   "display_name": "Python 3 (ipykernel)",
   "language": "python",
   "name": "python3"
  },
  "language_info": {
   "codemirror_mode": {
    "name": "ipython",
    "version": 3
   },
   "file_extension": ".py",
   "mimetype": "text/x-python",
   "name": "python",
   "nbconvert_exporter": "python",
   "pygments_lexer": "ipython3",
   "version": "3.10.9"
  }
 },
 "nbformat": 4,
 "nbformat_minor": 5
}
