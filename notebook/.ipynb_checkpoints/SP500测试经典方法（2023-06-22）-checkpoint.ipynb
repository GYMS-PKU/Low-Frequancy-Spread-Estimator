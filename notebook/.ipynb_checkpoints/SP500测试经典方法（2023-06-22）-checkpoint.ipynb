{
 "cells": [
  {
   "cell_type": "markdown",
   "id": "b81f4b28",
   "metadata": {
    "pycharm": {
     "name": "#%% md\n"
    }
   },
   "source": [
    "### 分组测试经典方法\n",
    "2022-07-17\n",
    "- univ矩阵要求：所有值都没有缺失\n",
    "2022-08-07\n",
    "- 改成5元划分的两组\n",
    "2022-08-16\n",
    "- 通过bootstrap计算估计标准差\n",
    "2022-09-03\n",
    "- bootstrap计算分位点"
   ]
  },
  {
   "cell_type": "code",
   "execution_count": 1,
   "id": "b5c7ef5f",
   "metadata": {
    "pycharm": {
     "name": "#%%\n"
    }
   },
   "outputs": [],
   "source": [
    "import numpy as np\n",
    "import pandas as pd\n",
    "import matplotlib.pyplot as plt\n",
    "import importlib\n",
    "import sys\n",
    "sys.path.append('C:/Users/Administrator/Desktop/Repositories/Low-Frequency-Spread-Estimator')\n",
    "sys.path.append('C:/Users/18316/Desktop/Repositories/Low-Frequency-Spread-Estimator')\n",
    "sys.path.append('C:/Users/Handsome Bad Guy/Desktop/Repositories/Low-Frequency-Spread-Estimator')\n",
    "sys.path.append('C:/Users/Windows11/Desktop/Repositories/Low-Frequency-Spread-Estimator')\n",
    "\n",
    "from SpreadEstimator.SpreadEstimator import SpreadEstimator\n",
    "from mytools.AutoTester import AutoTester\n",
    "\"\"\n",
    "from time import time\n",
    "\n",
    "import warnings\n",
    "warnings.filterwarnings(\"ignore\")"
   ]
  },
  {
   "cell_type": "code",
   "execution_count": 2,
   "id": "5a0ea2ea",
   "metadata": {
    "pycharm": {
     "name": "#%%\n"
    }
   },
   "outputs": [],
   "source": [
    "se = SpreadEstimator(market='SP500')"
   ]
  },
  {
   "cell_type": "markdown",
   "id": "9f5cba96",
   "metadata": {
    "pycharm": {
     "name": "#%% md\n"
    }
   },
   "source": [
    "### 构造两组univ"
   ]
  },
  {
   "cell_type": "code",
   "execution_count": 23,
   "id": "9c95b9f1",
   "metadata": {},
   "outputs": [
    {
     "data": {
      "text/plain": [
       "3"
      ]
     },
     "execution_count": 23,
     "metadata": {},
     "output_type": "execute_result"
    }
   ],
   "source": [
    "tmp = np.nanmean(se.data.spread_dic['spread'],axis=0)\n",
    "np.nansum(tmp>50)"
   ]
  },
  {
   "cell_type": "code",
   "execution_count": 24,
   "id": "9d71e435",
   "metadata": {},
   "outputs": [
    {
     "data": {
      "image/png": "[encoded data removed]",
      "text/plain": [
       "<Figure size 640x480 with 1 Axes>"
      ]
     },
     "metadata": {},
     "output_type": "display_data"
    }
   ],
   "source": [
    "tmp = np.nanmean(se.data.spread_dic['spread'],axis=0)\n",
    "tmp[tmp>50] = 0\n",
    "plt.hist(tmp, bins=10)\n",
    "plt.show()"
   ]
  },
  {
   "cell_type": "code",
   "execution_count": null,
   "id": "eb674bc1",
   "metadata": {},
   "outputs": [],
   "source": []
  },
  {
   "cell_type": "code",
   "execution_count": 4,
   "id": "fa89e8f5",
   "metadata": {
    "pycharm": {
     "name": "#%%\n"
    }
   },
   "outputs": [
    {
     "name": "stdout",
     "output_type": "stream",
     "text": [
      "477\n",
      "15\n"
     ]
    }
   ],
   "source": [
    "univ = (se.data.data_dic['volume'] > 0) & (se.data.spread_dic['spread']<50)  # 当天有交易\n",
    "th = 0.8\n",
    "\n",
    "# univ_2 = []\n",
    "# for i in range(2081):\n",
    "#     if np.sum(se.data.data_dic['close'][univ[:,i],i]>10) >= th * 243:\n",
    "#         univ_2.append(1)\n",
    "#     else:\n",
    "#         univ_2.append(0)\n",
    "# univ_2 = np.array(univ_2) > 0\n",
    "# print(np.sum(univ_2))\n",
    "# univ_2 = np.repeat(univ_2.reshape(1,2081), 243, 0)\n",
    "\n",
    "univ_1 = []\n",
    "for i in range(492):\n",
    "    if np.sum(se.data.data_dic['close'][univ[:,i],i]>5) >= th * 225:\n",
    "        univ_1.append(1)\n",
    "    else:\n",
    "        univ_1.append(0)\n",
    "univ_1 = np.array(univ_1) > 0\n",
    "univ_1 = np.repeat(univ_1.reshape(1,492), 225, 0)\n",
    "print(np.sum(univ_1[0]))\n",
    "\n",
    "univ_0 = (~univ_1)\n",
    "print(np.sum(univ_0[0]))\n",
    "\n",
    "univ_0 = univ_0 & univ\n",
    "univ_1 = univ_1 & univ\n",
    "\n",
    "all_univ = [univ]"
   ]
  },
  {
   "cell_type": "code",
   "execution_count": null,
   "id": "b3820f9f",
   "metadata": {},
   "outputs": [],
   "source": []
  },
  {
   "cell_type": "code",
   "execution_count": 16,
   "id": "1360d4ea",
   "metadata": {
    "pycharm": {
     "name": "#%%\n"
    }
   },
   "outputs": [],
   "source": [
    "import pickle\n",
    "with open(r\"D:\\Documents\\学习资料\\本科毕业论文\\data\\close_top.pkl\", 'wb') as f:\n",
    "    pickle.dump(univ_1, f)"
   ]
  },
  {
   "cell_type": "markdown",
   "id": "3c6c13b9",
   "metadata": {
    "pycharm": {
     "name": "#%% md\n"
    }
   },
   "source": [
    "### 在2组股票中测试"
   ]
  },
  {
   "cell_type": "code",
   "execution_count": 28,
   "id": "f6bf86ef",
   "metadata": {
    "pycharm": {
     "name": "#%%\n"
    }
   },
   "outputs": [],
   "source": [
    "def test_cs(signal, target, univ, back: int = 1):\n",
    "    corr = []\n",
    "    for i in range(signal.shape[0]):\n",
    "        if i < back-1:\n",
    "            continue\n",
    "        t = np.nanmean(target[i-back+1: i+1], axis=0)\n",
    "        se = (~np.isnan(t)) & (~np.isnan(signal[i])) & univ[i]\n",
    "        if np.sum(se) < 2:\n",
    "            continue\n",
    "        corr.append(np.corrcoef(signal[i, se], t[se])[0, 1])\n",
    "    print('{:.4f}'.format(np.nanmean(corr)))\n",
    "    return corr\n",
    "\n",
    "def test_ts(signal, target, univ, back: int = 1):\n",
    "    corr = []\n",
    "    new_t = np.zeros((len(target)-back+1, target.shape[1]))\n",
    "    for i in range(new_t.shape[0]):\n",
    "        new_t[i] = np.nanmean(target[i:i+back], axis=0)\n",
    "    for i in range(signal.shape[1]):\n",
    "        t = new_t[:, i]\n",
    "        se = (~np.isnan(t)) & (~np.isnan(signal[back-1:, i])) & univ[back-1:, i]\n",
    "        if np.sum(se) < 2:\n",
    "            continue\n",
    "        corr.append(np.corrcoef(signal[back-1:, i][se], t[se])[0, 1])\n",
    "    print('{:.4f}'.format(np.nanmean(corr)))\n",
    "    return corr\n",
    "\n",
    "def cal_std(corr, num: int=10000):  # bootstrap计算标准差和分位点\n",
    "    corr = np.array(corr)\n",
    "    corr_ = []\n",
    "    lst = [i for i in range(len(corr))]\n",
    "    for n in range(10000):\n",
    "        corr_.append(np.nanmean(corr[np.random.choice(lst, len(lst))]))\n",
    "    corr_ = np.sort(corr_)\n",
    "    print('{:.4f}, {:.4f}, {:.4f}, {:.4f}, {:.4f}, {:.4f}'.format(corr_[100], corr_[500],corr_[1000],corr_[9000],corr_[9500],corr_[9900]))\n",
    "    return np.std(corr_)"
   ]
  },
  {
   "cell_type": "code",
   "execution_count": 30,
   "id": "26fcf2da",
   "metadata": {
    "pycharm": {
     "name": "#%%\n"
    }
   },
   "outputs": [],
   "source": [
    "def test_rela(signal, all_univ):\n",
    "    print('rela cs')\n",
    "    for u in all_univ:\n",
    "        _ = test_cs(signal, se.data.spread_dic['rela_spread'], u, 20)\n",
    "        print('{:.4f}'.format(cal_std(_)))\n",
    "        print()\n",
    "    print()\n",
    "\n",
    "    print('rela ts')\n",
    "    for u in all_univ:\n",
    "        _ = test_ts(signal, se.data.spread_dic['rela_spread'], u, 20)\n",
    "        print('{:.4f}'.format(cal_std(_)))\n",
    "        print()\n",
    "    print()\n",
    "\n",
    "    print('vol_wtd_rel_bas cs ')\n",
    "    for u in all_univ:\n",
    "        _ = test_cs(signal, se.data.spread_dic['w_rela_spread'], u, 20)\n",
    "        print('{:.4f}'.format(cal_std(_)))\n",
    "        print()\n",
    "    print()\n",
    "\n",
    "    print('vol_wtd_rel_bas ts ')\n",
    "    for u in all_univ:\n",
    "        _ = test_ts(signal, se.data.spread_dic['w_rela_spread'], u, 20)\n",
    "        print('{:.4f}'.format(cal_std(_)))\n",
    "        print()\n",
    "        \n",
    "def test_spread(signal, all_univ):\n",
    "    print('spread cs')\n",
    "    for u in all_univ:\n",
    "        _ = test_cs(signal, se.data.spread_dic['spread'], u, 20)\n",
    "        print('{:.4f}'.format(cal_std(_)))\n",
    "        print()\n",
    "    print()\n",
    "\n",
    "    print('spread ts')\n",
    "    for u in all_univ:\n",
    "        _ = test_ts(signal, se.data.spread_dic['spread'], u, 20)\n",
    "        print('{:.4f}'.format(cal_std(_)))\n",
    "        print()"
   ]
  },
  {
   "cell_type": "code",
   "execution_count": 7,
   "id": "cd44857d",
   "metadata": {
    "pycharm": {
     "name": "#%%\n"
    }
   },
   "outputs": [],
   "source": [
    "np.random.seed(0)"
   ]
  },
  {
   "cell_type": "markdown",
   "id": "41493400",
   "metadata": {
    "pycharm": {
     "name": "#%% md\n"
    }
   },
   "source": [
    "#### HL"
   ]
  },
  {
   "cell_type": "code",
   "execution_count": 31,
   "id": "4ba87b06",
   "metadata": {},
   "outputs": [
    {
     "name": "stdout",
     "output_type": "stream",
     "text": [
      "mean corr: 0.0643, positive_corr_ratio: 0.8592, corr_IR: 1.1347\n",
      "\n",
      "rela cs\n",
      "0.0433\n",
      "0.0295, 0.0338, 0.0359, 0.0506, 0.0527, 0.0565\n",
      "0.0057\n",
      "\n",
      "\n",
      "rela ts\n",
      "0.5912\n",
      "0.5689, 0.5756, 0.5791, 0.6032, 0.6063, 0.6125\n",
      "0.0094\n",
      "\n",
      "\n",
      "vol_wtd_rel_bas cs \n",
      "0.1624\n",
      "0.1476, 0.1521, 0.1544, 0.1706, 0.1727, 0.1771\n",
      "0.0063\n",
      "\n",
      "\n",
      "vol_wtd_rel_bas ts \n",
      "0.5406\n",
      "0.5164, 0.5239, 0.5275, 0.5538, 0.5573, 0.5644\n",
      "0.0102\n",
      "\n"
     ]
    }
   ],
   "source": [
    "beta = 'prod{tsmean{powv{minus{logv{high},logv{low}},2},2},2}'\n",
    "\n",
    "high_1 = 'logv{tsdelay{high,1}}'\n",
    "low_1 = 'logv{tsdelay{low,1}}'\n",
    "con_1 = 'condition{gt{logv{low},logv{tsdelay{close,1}}},minus{logv{low},logv{tsdelay{close,1}}},minus{close,close}}'\n",
    "con_2 = 'condition{lt{logv{high},logv{tsdelay{close,1}}},minus{logv{high},logv{tsdelay{close,1}}},minus{close,close}}'\n",
    "con = 'add{' + con_1 + ',' + con_2 + '}'\n",
    "high_2 = 'minus{logv{high},' + con + '}'\n",
    "low_2 = 'minus{logv{low},' + con + '}'\n",
    "high = 'condition{ge{' + high_1 + ',' + high_2 + '},' + high_1 + ',' + high_2 + '}'\n",
    "low = 'condition{le{' + low_1 + ',' + low_2 + '},' + low_1 + ',' + low_2 + '}'\n",
    "\n",
    "gamma = 'powv{minus{' + high + ',' + low + '},2}'\n",
    "alpha = 'div{prod{' + 'powv{' + beta + ',0.5},0.4142},0.1716}'\n",
    "fml = 'minus{' + alpha + ',' + 'powv{' + 'div{' + gamma + ',0.1716},0.5}}'\n",
    "\n",
    "fml = 'div{' + 'minus{expv{' + fml + '},1},' + 'add{expv{' + fml + '},1}}'\n",
    "fml = 'condition{' + 'ge{' + fml + ',0},' + fml + ',add{minus{close,close},0}}'\n",
    "fml = 'tsmean{' + fml + ',20}'\n",
    "\n",
    "fml = 'div{' + 'minus{expv{' + fml + '},1},' + 'add{expv{' + fml + '},1}}'\n",
    "fml = 'condition{' + 'ge{' + fml + ',0},' + fml + ',add{minus{close,close},0}}'\n",
    "fml = 'tsmean{' + fml + ',20}'\n",
    "stats, signal = se.test_factor(fml, corr_type='linear', method='cs', spread_type='rela_spread')\n",
    "print()\n",
    "\n",
    "test_rela(signal, all_univ)"
   ]
  },
  {
   "cell_type": "code",
   "execution_count": 68,
   "id": "0967eda7",
   "metadata": {
    "pycharm": {
     "name": "#%%\n"
    }
   },
   "outputs": [
    {
     "name": "stdout",
     "output_type": "stream",
     "text": [
      "mean corr: 0.2196, positive_corr_ratio: 0.9272, corr_IR: 1.9186\n",
      "\n",
      "spread cs\n",
      "0.2335\n",
      "0.2156, 0.2209, 0.2238, 0.2430, 0.2460, 0.2507\n",
      "0.0075\n",
      "\n",
      "\n",
      "spread ts\n",
      "0.4613\n",
      "0.4297, 0.4393, 0.4444, 0.4779, 0.4826, 0.4913\n",
      "0.0132\n",
      "\n"
     ]
    }
   ],
   "source": [
    "beta = 'prod{tsmean{powv{minus{high,low},2},2},2}'\n",
    "high_1 = 'tsdelay{high,1}'\n",
    "low_1 = 'tsdelay{low,1}'\n",
    "con_1 = 'condition{gt{low,tsdelay{close,1}},minus{low,tsdelay{close,1}},minus{close,close}}'\n",
    "con_2 = 'condition{lt{high,tsdelay{close,1}},minus{high,tsdelay{close,1}},minus{close,close}}'\n",
    "con = 'add{' + con_1 + ',' + con_2 + '}'\n",
    "high_2 = 'minus{high,' + con + '}'\n",
    "low_2 = 'minus{low,' + con + '}'\n",
    "high = 'condition{ge{' + high_1 + ',' + high_2 + '},' + high_1 + ',' + high_2 + '}'\n",
    "low = 'condition{le{' + low_1 + ',' + low_2 + '},' + low_1 + ',' + low_2 + '}'\n",
    "\n",
    "gamma = 'powv{minus{' + high + ',' + low + '},2}'\n",
    "alpha = 'div{prod{' + 'powv{' + beta + ',0.5},0.4142},0.1716}'\n",
    "fml = 'minus{' + alpha + ',' + 'powv{' + 'div{' + gamma + ',0.1716},0.5}}'\n",
    "\n",
    "fml = 'div{' + 'minus{expv{' + fml + '},1},' + 'add{expv{' + fml + '},1}}'\n",
    "fml = 'condition{' + 'ge{' + fml + ',0},' + fml + ',add{minus{close,close},0}}'\n",
    "fml = 'tsmean{' + fml + ',20}'\n",
    "stats, signal = se.test_factor(fml, corr_type='linear', method='cs', spread_type='spread')\n",
    "\n",
    "print()\n",
    "test_spread(signal, all_univ)"
   ]
  },
  {
   "cell_type": "markdown",
   "id": "08dffb3b",
   "metadata": {
    "pycharm": {
     "name": "#%% md\n"
    }
   },
   "source": [
    "#### Roll"
   ]
  },
  {
   "cell_type": "code",
   "execution_count": 12,
   "id": "eb345882",
   "metadata": {
    "pycharm": {
     "name": "#%%\n"
    }
   },
   "outputs": [
    {
     "name": "stdout",
     "output_type": "stream",
     "text": [
      "mean corr: 0.1286, positive_corr_ratio: 0.7895, corr_IR: 0.7587\n",
      "\n",
      "rela cs\n",
      "0.1068\n",
      "0.0758, 0.0846, 0.0890, 0.1251, 0.1305, 0.1416\n",
      "0.0141\n",
      "\n",
      "\n",
      "rela ts\n",
      "0.6474\n",
      "0.4805, 0.5382, 0.5674, 0.7175, 0.7305, 0.7543\n",
      "0.0597\n",
      "\n",
      "\n",
      "vol_wtd_rel_bas cs \n",
      "0.2209\n",
      "0.1929, 0.2013, 0.2052, 0.2369, 0.2414, 0.2501\n",
      "0.0123\n",
      "\n",
      "\n",
      "vol_wtd_rel_bas ts \n",
      "0.6289\n",
      "0.5135, 0.5491, 0.5690, 0.6854, 0.7001, 0.7241\n",
      "0.0456\n",
      "\n"
     ]
    }
   ],
   "source": [
    "a = 'tsdelta{logv{close},1}'\n",
    "b = 'tsdelay{tsdelta{logv{close},1},1}'\n",
    "fml = 'prod{' + a + ',' + b + '}'\n",
    "fml = 'condition{' + 'ge{' + fml + ',0},' + fml + ',add{minus{close,close},0}}'\n",
    "fml = 'tsmean{' + fml + ',20}'\n",
    "fml = 'powv{' + fml + ',0.5}'\n",
    "\n",
    "stats, signal = se.test_factor(fml, corr_type='linear', method='cs', spread_type='rela_spread')\n",
    "\n",
    "print()\n",
    "test_rela(signal, all_univ)"
   ]
  },
  {
   "cell_type": "code",
   "execution_count": 70,
   "id": "5a7c5772",
   "metadata": {
    "pycharm": {
     "name": "#%%\n"
    }
   },
   "outputs": [
    {
     "name": "stdout",
     "output_type": "stream",
     "text": [
      "mean corr: 0.6974, positive_corr_ratio: 1.0000, corr_IR: 2.5719\n",
      "\n",
      "spread cs\n",
      "0.7250\n",
      "0.6839, 0.6966, 0.7029, 0.7479, 0.7539, 0.7653\n",
      "0.0175\n",
      "\n",
      "\n",
      "spread ts\n",
      "0.4753\n",
      "0.4440, 0.4531, 0.4578, 0.4922, 0.4970, 0.5063\n",
      "0.0134\n",
      "\n"
     ]
    }
   ],
   "source": [
    "a = 'tsdelta{close,1}'\n",
    "b = 'tsdelay{tsdelta{close,1},1}'\n",
    "fml = 'prod{' + a + ',' + b + '}'\n",
    "fml = 'condition{' + 'ge{' + fml + ',0},' + fml + ',add{minus{close,close},0}}'\n",
    "fml = 'tsmean{' + fml + ',20}'\n",
    "fml = 'powv{' + fml + ',0.5}'\n",
    "\n",
    "stats, signal = se.test_factor(fml, corr_type='linear', method='cs', spread_type='spread')\n",
    "print()\n",
    "test_spread(signal, all_univ)"
   ]
  },
  {
   "cell_type": "markdown",
   "id": "680b1853",
   "metadata": {
    "pycharm": {
     "name": "#%% md\n"
    }
   },
   "source": [
    "#### CHL"
   ]
  },
  {
   "cell_type": "code",
   "execution_count": 13,
   "id": "04b39aef",
   "metadata": {
    "pycharm": {
     "name": "#%%\n"
    }
   },
   "outputs": [
    {
     "name": "stdout",
     "output_type": "stream",
     "text": [
      "mean corr: 0.0837, positive_corr_ratio: 0.7670, corr_IR: 0.7529\n",
      "\n",
      "rela cs\n",
      "0.0583\n",
      "0.0388, 0.0442, 0.0473, 0.0695, 0.0727, 0.0786\n",
      "0.0086\n",
      "\n",
      "\n",
      "rela ts\n",
      "0.7490\n",
      "0.7288, 0.7351, 0.7382, 0.7596, 0.7624, 0.7675\n",
      "0.0084\n",
      "\n",
      "\n",
      "vol_wtd_rel_bas cs \n",
      "0.1575\n",
      "0.1375, 0.1436, 0.1467, 0.1686, 0.1716, 0.1778\n",
      "0.0086\n",
      "\n",
      "\n",
      "vol_wtd_rel_bas ts \n",
      "0.6712\n",
      "0.6495, 0.6559, 0.6595, 0.6832, 0.6862, 0.6923\n",
      "0.0092\n",
      "\n"
     ]
    }
   ],
   "source": [
    "a = 'minus{logv{tsdelay{close,1}},div{add{logv{tsdelay{high,1}},logv{tsdelay{low,1}}},2}}'\n",
    "b = 'minus{logv{tsdelay{close,1}},div{add{logv{high},logv{low}},2}}'\n",
    "fml = 'prod{' + a + ',' + b + '}'\n",
    "fml = 'condition{' + 'ge{' + fml + ',0},' + fml + ',add{minus{close,close},0}}'\n",
    "fml = 'tsmean{' + fml + ',20}'\n",
    "fml = 'powv{' + fml + ',0.5}'\n",
    "\n",
    "stats, signal = se.test_factor(fml, corr_type='linear', method='cs', spread_type='rela_spread')\n",
    "\n",
    "print()\n",
    "test_rela(signal, all_univ)"
   ]
  },
  {
   "cell_type": "code",
   "execution_count": 72,
   "id": "621c1419",
   "metadata": {
    "pycharm": {
     "name": "#%%\n"
    }
   },
   "outputs": [
    {
     "name": "stdout",
     "output_type": "stream",
     "text": [
      "mean corr: 0.1862, positive_corr_ratio: 1.0000, corr_IR: 1.9862\n",
      "\n",
      "spread cs\n",
      "0.4265\n",
      "0.3838, 0.3951, 0.4014, 0.4509, 0.4583, 0.4723\n",
      "0.0191\n",
      "\n",
      "\n",
      "spread ts\n",
      "0.5543\n",
      "0.5243, 0.5335, 0.5380, 0.5708, 0.5753, 0.5846\n",
      "0.0128\n",
      "\n"
     ]
    }
   ],
   "source": [
    "a = 'minus{tsdelay{close,1},div{add{tsdelay{high,1},tsdelay{low,1}},2}}'\n",
    "b = 'minus{tsdelay{close,1},div{add{high,low},2}}'\n",
    "fml = 'prod{' + a + ',' + b + '}'\n",
    "fml = 'condition{' + 'ge{' + fml + ',0},' + fml + ',add{minus{close,close},0}}'\n",
    "fml = 'tsmean{' + fml + ',20}'\n",
    "fml = 'powv{' + fml + ',0.5}'\n",
    "\n",
    "stats, signal = se.test_factor(fml, corr_type='linear', method='cs', spread_type='rela_spread')\n",
    "\n",
    "print()\n",
    "test_spread(signal, all_univ)"
   ]
  },
  {
   "cell_type": "markdown",
   "id": "f12da8ad",
   "metadata": {
    "pycharm": {
     "name": "#%% md\n"
    }
   },
   "source": [
    "### bas"
   ]
  },
  {
   "cell_type": "code",
   "execution_count": 15,
   "id": "37aa6e47",
   "metadata": {
    "pycharm": {
     "name": "#%%\n"
    }
   },
   "outputs": [
    {
     "name": "stdout",
     "output_type": "stream",
     "text": [
      "mean corr: 0.7343, positive_corr_ratio: 1.0000, corr_IR: 7.4584\n",
      "\n",
      "rela cs\n",
      "0.8742\n",
      "0.8616, 0.8655, 0.8676, 0.8808, 0.8827, 0.8861\n",
      "0.0052\n",
      "\n",
      "0.4895\n",
      "0.4781, 0.4816, 0.4833, 0.4957, 0.4973, 0.5007\n",
      "0.0048\n",
      "\n",
      "\n",
      "rela ts\n",
      "0.1908\n",
      "0.1565, 0.1671, 0.1723, 0.2095, 0.2147, 0.2236\n",
      "0.0144\n",
      "\n",
      "0.0767\n",
      "0.0665, 0.0695, 0.0710, 0.0822, 0.0838, 0.0870\n",
      "0.0044\n",
      "\n",
      "\n",
      "vol_wtd_rel_bas cs \n",
      "0.8727\n",
      "0.8605, 0.8642, 0.8661, 0.8794, 0.8811, 0.8844\n",
      "0.0052\n",
      "\n",
      "0.4873\n",
      "0.4760, 0.4793, 0.4810, 0.4935, 0.4954, 0.4988\n",
      "0.0049\n",
      "\n",
      "\n",
      "vol_wtd_rel_bas ts \n",
      "0.1807\n",
      "0.1449, 0.1564, 0.1619, 0.1997, 0.2053, 0.2155\n",
      "0.0149\n",
      "\n",
      "0.0749\n",
      "0.0645, 0.0676, 0.0692, 0.0807, 0.0824, 0.0854\n",
      "0.0045\n",
      "\n"
     ]
    }
   ],
   "source": [
    "fml = 'last_rel_bas'\n",
    "\n",
    "stats, signal = se.test_factor(fml, corr_type='linear', method='cs', spread_type='relative_spread')\n",
    "print()\n",
    "test_rela(signal, all_univ)"
   ]
  },
  {
   "cell_type": "code",
   "execution_count": 16,
   "id": "3195c4c4",
   "metadata": {
    "pycharm": {
     "name": "#%%\n"
    }
   },
   "outputs": [
    {
     "name": "stdout",
     "output_type": "stream",
     "text": [
      "mean corr: -0.0908, positive_corr_ratio: 0.0446, corr_IR: -2.3502\n",
      "\n",
      "spread cs\n",
      "0.2424\n",
      "0.2216, 0.2277, 0.2309, 0.2541, 0.2574, 0.2639\n",
      "0.0091\n",
      "\n",
      "0.5423\n",
      "0.5290, 0.5331, 0.5352, 0.5494, 0.5514, 0.5550\n",
      "0.0056\n",
      "\n",
      "\n",
      "spread ts\n",
      "0.0131\n",
      "0.0059, 0.0080, 0.0091, 0.0170, 0.0181, 0.0203\n",
      "0.0031\n",
      "\n",
      "0.0329\n",
      "0.0279, 0.0293, 0.0301, 0.0357, 0.0364, 0.0378\n",
      "0.0022\n",
      "\n"
     ]
    }
   ],
   "source": [
    "fml = 'last_bas'\n",
    "\n",
    "stats, signal = se.test_factor(fml, corr_type='linear', method='cs', spread_type='relative_spread')\n",
    "\n",
    "print()\n",
    "test_spread(signal, all_univ)"
   ]
  },
  {
   "cell_type": "markdown",
   "id": "556506e3",
   "metadata": {
    "pycharm": {
     "name": "#%% md\n"
    }
   },
   "source": [
    "### Gibbs"
   ]
  },
  {
   "cell_type": "code",
   "execution_count": 14,
   "id": "3eb9c4f8",
   "metadata": {
    "pycharm": {
     "name": "#%%\n"
    }
   },
   "outputs": [],
   "source": [
    "path = r\"C:\\Users\\Windows11\\Desktop\\Repositories\\Low-Frequency-Spread-Estimator\\estimator\\cache_SP500\"\n",
    "gibbs = np.zeros((225, 492), dtype=np.float32)\n",
    "for i in range(8):\n",
    "    gibbs[20+21*i:41+21*i] = np.load('{}/{}.npy'.format(path, i))\n",
    "i = 8\n",
    "gibbs[20+21*i:] = np.load('{}/{}.npy'.format(path, i))"
   ]
  },
  {
   "cell_type": "code",
   "execution_count": 15,
   "id": "3b82c251",
   "metadata": {
    "pycharm": {
     "name": "#%%\n"
    }
   },
   "outputs": [
    {
     "name": "stdout",
     "output_type": "stream",
     "text": [
      "rela cs\n",
      "-0.0019\n",
      "-0.0091, -0.0068, -0.0059, 0.0020, 0.0032, 0.0053\n",
      "0.0031\n",
      "\n",
      "\n",
      "rela ts\n",
      "0.0427\n",
      "0.0362, 0.0382, 0.0392, 0.0461, 0.0471, 0.0490\n",
      "0.0027\n",
      "\n",
      "\n",
      "vol_wtd_rel_bas cs \n",
      "0.0003\n",
      "-0.0075, -0.0052, -0.0040, 0.0047, 0.0060, 0.0083\n",
      "0.0034\n",
      "\n",
      "\n",
      "vol_wtd_rel_bas ts \n",
      "0.0031\n",
      "-0.0038, -0.0019, -0.0008, 0.0069, 0.0080, 0.0099\n",
      "0.0030\n",
      "\n"
     ]
    }
   ],
   "source": [
    "test_rela(gibbs, all_univ)"
   ]
  },
  {
   "cell_type": "markdown",
   "id": "0e39a507",
   "metadata": {
    "pycharm": {
     "name": "#%% md\n"
    }
   },
   "source": [
    "### LOT"
   ]
  },
  {
   "cell_type": "code",
   "execution_count": 16,
   "id": "6f851bac",
   "metadata": {
    "pycharm": {
     "name": "#%%\n"
    }
   },
   "outputs": [
    {
     "name": "stdout",
     "output_type": "stream",
     "text": [
      "rela cs\n",
      "0.0064\n",
      "-0.0065, -0.0029, -0.0008, 0.0139, 0.0160, 0.0197\n",
      "0.0057\n",
      "\n",
      "\n",
      "rela ts\n",
      "0.0681\n",
      "0.0391, 0.0475, 0.0520, 0.0841, 0.0884, 0.0967\n",
      "0.0125\n",
      "\n",
      "\n",
      "vol_wtd_rel_bas cs \n",
      "0.0216\n",
      "0.0121, 0.0149, 0.0164, 0.0270, 0.0285, 0.0316\n",
      "0.0041\n",
      "\n",
      "\n",
      "vol_wtd_rel_bas ts \n",
      "0.0769\n",
      "0.0481, 0.0563, 0.0608, 0.0930, 0.0975, 0.1058\n",
      "0.0125\n",
      "\n"
     ]
    }
   ],
   "source": [
    "import pickle\n",
    "with open(r\"C:\\Users\\Windows11\\Desktop\\ML_data\\ML4Liquidity\\LOT.pkl\", 'rb') as f:\n",
    "    LOT = pickle.load(f)\n",
    "    \n",
    "test_rela(LOT[:,:,0], all_univ)"
   ]
  },
  {
   "cell_type": "code",
   "execution_count": 17,
   "id": "47225055",
   "metadata": {
    "pycharm": {
     "name": "#%%\n"
    }
   },
   "outputs": [
    {
     "name": "stdout",
     "output_type": "stream",
     "text": [
      "rela cs\n",
      "0.0267\n",
      "0.0101, 0.0149, 0.0175, 0.0361, 0.0388, 0.0443\n",
      "0.0073\n",
      "\n",
      "\n",
      "rela ts\n",
      "0.2278\n",
      "0.2008, 0.2087, 0.2127, 0.2427, 0.2469, 0.2545\n",
      "0.0116\n",
      "\n",
      "\n",
      "vol_wtd_rel_bas cs \n",
      "0.0891\n",
      "0.0752, 0.0790, 0.0812, 0.0972, 0.0997, 0.1040\n",
      "0.0062\n",
      "\n",
      "\n",
      "vol_wtd_rel_bas ts \n",
      "0.2321\n",
      "0.2072, 0.2145, 0.2182, 0.2460, 0.2500, 0.2574\n",
      "0.0108\n",
      "\n"
     ]
    }
   ],
   "source": [
    "import pickle\n",
    "with open(r\"C:\\Users\\Windows11\\Desktop\\ML_data\\ML4Liquidity\\LOT.pkl\", 'rb') as f:\n",
    "    LOT = pickle.load(f)\n",
    "    \n",
    "test_rela(LOT[:,:,1], all_univ)"
   ]
  },
  {
   "cell_type": "markdown",
   "id": "92ec952f",
   "metadata": {
    "pycharm": {
     "name": "#%% md\n"
    }
   },
   "source": [
    "### 查看10元以上组合的市值占比"
   ]
  },
  {
   "cell_type": "code",
   "execution_count": 70,
   "id": "eb8684f9",
   "metadata": {
    "pycharm": {
     "name": "#%%\n"
    }
   },
   "outputs": [
    {
     "name": "stdout",
     "output_type": "stream",
     "text": [
      "0.12534970276961246\n",
      "0.196356803394121\n",
      "0.6782934938362665\n"
     ]
    }
   ],
   "source": [
    "ave_cap = np.nanmean(se.data.data_dic['volume']*se.data.data_dic['close'], axis=0)\n",
    "ave_cap = np.nanmean(se.data.data_dic['cap'], axis=0)\n",
    "print(np.sum(ave_cap[np.sum(univ_0, axis=0)>0])/np.sum(ave_cap))\n",
    "print(np.sum(ave_cap[np.sum(univ_1, axis=0)>0])/np.sum(ave_cap))\n",
    "print(np.sum(ave_cap[np.sum(univ_2, axis=0)>0])/np.sum(ave_cap))"
   ]
  },
  {
   "cell_type": "code",
   "execution_count": 69,
   "id": "0f6e0043",
   "metadata": {
    "pycharm": {
     "name": "#%%\n"
    }
   },
   "outputs": [
    {
     "name": "stdout",
     "output_type": "stream",
     "text": [
      "0.15209941578100805\n",
      "0.2337683401885248\n",
      "0.6141322440304672\n"
     ]
    }
   ],
   "source": [
    "ave_cap = np.nanmean(se.data.data_dic['volume']*se.data.data_dic['close'], axis=0)\n",
    "print(np.sum(ave_cap[np.sum(univ_0, axis=0)>0])/np.sum(ave_cap))\n",
    "print(np.sum(ave_cap[np.sum(univ_1, axis=0)>0])/np.sum(ave_cap))\n",
    "print(np.sum(ave_cap[np.sum(univ_2, axis=0)>0])/np.sum(ave_cap))"
   ]
  },
  {
   "cell_type": "code",
   "execution_count": 68,
   "id": "a3544431",
   "metadata": {
    "pycharm": {
     "name": "#%%\n"
    }
   },
   "outputs": [
    {
     "name": "stdout",
     "output_type": "stream",
     "text": [
      "532\n",
      "695\n",
      "854\n"
     ]
    }
   ],
   "source": [
    "print(np.sum(np.sum(univ_0, axis=0)>0))\n",
    "print(np.sum(np.sum(univ_1, axis=0)>0))\n",
    "print(np.sum(np.sum(univ_2, axis=0)>0))"
   ]
  },
  {
   "cell_type": "markdown",
   "id": "1ab073cc",
   "metadata": {
    "pycharm": {
     "name": "#%% md\n"
    }
   },
   "source": [
    "### 绘制相对价差和收盘价的散点图"
   ]
  },
  {
   "cell_type": "code",
   "execution_count": 6,
   "id": "bcfad2ae",
   "metadata": {
    "pycharm": {
     "name": "#%%\n"
    }
   },
   "outputs": [
    {
     "data": {
      "image/png": "[encoded data removed]",
      "text/plain": [
       "<Figure size 900x588 with 1 Axes>"
      ]
     },
     "metadata": {},
     "output_type": "display_data"
    }
   ],
   "source": [
    "plt.figure(figsize=(6,3.92), dpi=150)\n",
    "plt.scatter(se.data.data_dic['close'][24, univ[24]], \n",
    "            se.data.spread_dic['rela_spread'][24, univ[24]]*100, alpha=0.6, s=5, label='sample')\n",
    "x = np.sort(se.data.data_dic['close'][24, univ[24]])\n",
    "plt.plot(x, 1/x, alpha=1, color='r',label='1 tick/close price')\n",
    "plt.legend()\n",
    "plt.xlabel('close price (dollar)')\n",
    "plt.ylabel('relative spread (%)')\n",
    "plt.xscale('log')\n",
    "plt.show()"
   ]
  },
  {
   "cell_type": "code",
   "execution_count": 61,
   "id": "1523e9a2",
   "metadata": {
    "collapsed": true,
    "pycharm": {
     "name": "#%%\n"
    }
   },
   "outputs": [
    {
     "data": {
      "image/png": "[encoded data removed]",
      "text/plain": [
       "<Figure size 900x600 with 1 Axes>"
      ]
     },
     "metadata": {
      "needs_background": "light"
     },
     "output_type": "display_data"
    }
   ],
   "source": [
    "plt.figure(dpi=150)\n",
    "plt.scatter(1/se.data.data_dic['close'][242, univ[242]], \n",
    "            se.data.spread_dic['relative_spread'][242, univ[242]]*100, alpha=0.6, s=5, label='sample')\n",
    "plt.scatter(1/se.data.data_dic['close'][242, univ[242]], \n",
    "            1/se.data.data_dic['close'][242, univ[242]], alpha=0.6, s=5, label='1/close price')\n",
    "plt.legend()\n",
    "plt.legend()\n",
    "plt.xlabel('1/close price(1/yuan)')\n",
    "plt.ylabel('relative spread(%)')\n",
    "plt.show()"
   ]
  },
  {
   "cell_type": "code",
   "execution_count": 16,
   "id": "4d0b9e9e",
   "metadata": {
    "pycharm": {
     "name": "#%%\n"
    }
   },
   "outputs": [
    {
     "name": "stdout",
     "output_type": "stream",
     "text": [
      "mean corr: 0.4856, positive_corr_ratio: 1.0000, corr_IR: 2.6440\n",
      "\n",
      "rela cs\n",
      "-0.2518\n",
      "-0.2874, -0.2775, -0.2721, -0.2313, -0.2250, -0.2132\n",
      "0.0159\n",
      "\n",
      "0.6127\n",
      "0.5841, 0.5924, 0.5973, 0.6283, 0.6327, 0.6399\n",
      "0.0121\n",
      "\n",
      "\n",
      "rela ts\n",
      "-0.3043\n",
      "-0.6504, -0.5542, -0.4991, -0.1011, -0.0410, 0.0647\n",
      "0.1550\n",
      "\n",
      "-0.5248\n",
      "-0.5460, -0.5398, -0.5366, -0.5132, -0.5099, -0.5029\n",
      "0.0091\n",
      "\n",
      "\n"
     ]
    }
   ],
   "source": [
    "\n",
    "fml = 'tsmean{logv{close},20}'\n",
    "stats, signal = se.test_factor(fml, corr_type='linear', method='cs', spread_type='rela_spread')\n",
    "\n",
    "print()\n",
    "test_rela(signal, all_univ)"
   ]
  },
  {
   "cell_type": "markdown",
   "id": "3112e318",
   "metadata": {},
   "source": [
    "### Dump training data"
   ]
  },
  {
   "cell_type": "code",
   "execution_count": 20,
   "id": "4521354a",
   "metadata": {},
   "outputs": [],
   "source": [
    "import h5py\n",
    "path = r\"C:\\Users\\Windows11\\Desktop\\ML_data\\ML4Liquidity\"\n",
    "\n",
    "def get_signal_rela(se):  # 得到以relative spread为目标的signal\n",
    "    sig = {}\n",
    "    # HL\n",
    "    beta = 'prod{tsmean{powv{minus{logv{high},logv{low}},2},2},2}'\n",
    "\n",
    "    high_1 = 'logv{tsdelay{high,1}}'\n",
    "    low_1 = 'logv{tsdelay{low,1}}'\n",
    "    con_1 = 'condition{gt{logv{low},logv{tsdelay{close,1}}},minus{logv{low},logv{tsdelay{close,1}}},minus{close,close}}'\n",
    "    con_2 = 'condition{lt{logv{high},logv{tsdelay{close,1}}},minus{logv{high},logv{tsdelay{close,1}}},minus{close,close}}'\n",
    "    con = 'add{' + con_1 + ',' + con_2 + '}'\n",
    "    high_2 = 'minus{logv{high},' + con + '}'\n",
    "    low_2 = 'minus{logv{low},' + con + '}'\n",
    "    high = 'condition{ge{' + high_1 + ',' + high_2 + '},' + high_1 + ',' + high_2 + '}'\n",
    "    low = 'condition{le{' + low_1 + ',' + low_2 + '},' + low_1 + ',' + low_2 + '}'\n",
    "\n",
    "    gamma = 'powv{minus{' + high + ',' + low + '},2}'\n",
    "    alpha = 'div{prod{' + 'powv{' + beta + ',0.5},0.4142},0.1716}'\n",
    "    fml = 'minus{' + alpha + ',' + 'powv{' + 'div{' + gamma + ',0.1716},0.5}}'\n",
    "\n",
    "    fml = 'div{' + 'minus{expv{' + fml + '},1},' + 'add{expv{' + fml + '},1}}'\n",
    "    fml = 'condition{' + 'ge{' + fml + ',0},' + fml + ',add{minus{close,close},0}}'\n",
    "    fml = 'tsmean{' + fml + ',20}'\n",
    "\n",
    "    fml = 'div{' + 'minus{expv{' + fml + '},1},' + 'add{expv{' + fml + '},1}}'\n",
    "    fml = 'condition{' + 'ge{' + fml + ',0},' + fml + ',add{minus{close,close},0}}'\n",
    "    fml = 'tsmean{' + fml + ',20}'\n",
    "    stats, signal = se.test_factor(fml, corr_type='linear', method='cs', spread_type='rela_spread')\n",
    "    sig['HL'] = signal\n",
    "\n",
    "    # Roll\n",
    "    a = 'tsdelta{logv{close},1}'\n",
    "    b = 'tsdelay{tsdelta{logv{close},1},1}'\n",
    "    fml = 'prod{' + a + ',' + b + '}'\n",
    "    fml = 'condition{' + 'ge{' + fml + ',0},' + fml + ',add{minus{close,close},0}}'\n",
    "    fml = 'tsmean{' + fml + ',20}'\n",
    "    fml = 'powv{' + fml + ',0.5}'\n",
    "\n",
    "    stats, signal = se.test_factor(fml, corr_type='linear', method='cs', spread_type='rela_spread')\n",
    "    sig['ROLL'] = signal\n",
    "\n",
    "    # CHL\n",
    "    a = 'minus{logv{tsdelay{close,1}},div{add{logv{tsdelay{high,1}},logv{tsdelay{low,1}}},2}}'\n",
    "    b = 'minus{logv{tsdelay{close,1}},div{add{logv{high},logv{low}},2}}'\n",
    "    fml = 'prod{' + a + ',' + b + '}'\n",
    "    fml = 'condition{' + 'ge{' + fml + ',0},' + fml + ',add{minus{close,close},0}}'\n",
    "    fml = 'tsmean{' + fml + ',20}'\n",
    "    fml = 'powv{' + fml + ',0.5}'\n",
    "\n",
    "    stats, signal = se.test_factor(fml, corr_type='linear', method='cs', spread_type='rela_spread')\n",
    "    sig['CHL'] = signal\n",
    "    \n",
    "    fml = 'tsmean{logv{open},20}'\n",
    "    stats, signal = se.test_factor(fml, corr_type='linear', method='cs', spread_type='rela_spread')\n",
    "    sig['open'] = signal\n",
    "    \n",
    "    fml = 'tsmean{logv{close},20}'\n",
    "    stats, signal = se.test_factor(fml, corr_type='linear', method='cs', spread_type='rela_spread')\n",
    "    sig['close'] = signal\n",
    "    \n",
    "    fml = 'tsmean{logv{high},20}'\n",
    "    stats, signal = se.test_factor(fml, corr_type='linear', method='cs', spread_type='rela_spread')\n",
    "    sig['high'] = signal\n",
    "\n",
    "    fml = 'tsmean{logv{low},20}'\n",
    "    stats, signal = se.test_factor(fml, corr_type='linear', method='cs', spread_type='rela_spread')\n",
    "    sig['low'] = signal\n",
    "    \n",
    "    fml = 'tsmean{logv{volume},20}'\n",
    "    stats, signal = se.test_factor(fml, corr_type='linear', method='cs', spread_type='rela_spread')\n",
    "    sig['volume'] = signal\n",
    "    \n",
    "    fml = 'tsmean{logv{cap},20}'\n",
    "    stats, signal = se.test_factor(fml, corr_type='linear', method='cs', spread_type='rela_spread')\n",
    "    sig['cap'] = signal\n",
    "    \n",
    "    with open(r\"C:\\Users\\Windows11\\Desktop\\ML_data\\ML4Liquidity\\LOT.pkl\", 'rb') as f:\n",
    "        LOT = pickle.load(f)\n",
    "        \n",
    "    path = r\"C:\\Users\\Windows11\\Desktop\\Repositories\\Low-Frequency-Spread-Estimator\\estimator\\cache_SP500\"\n",
    "    gibbs = np.zeros((225, 492), dtype=np.float32)\n",
    "    for i in range(8):\n",
    "        gibbs[20+21*i:41+21*i] = np.load('{}/{}.npy'.format(path, i))\n",
    "    i = 8\n",
    "    gibbs[20+21*i:] = np.load('{}/{}.npy'.format(path, i))\n",
    "\n",
    "    signal = np.zeros((sig['HL'].shape[0], sig['HL'].shape[1], 12), dtype=np.float32)\n",
    "    signal[:, :, 0] = sig['CHL']\n",
    "    signal[:, :, 1] = sig['HL']\n",
    "    signal[:, :, 2] = sig['ROLL']\n",
    "    signal[:, :, 3] = LOT[:, :, 0]\n",
    "    signal[:, :, 4] = LOT[:, :, 1]\n",
    "    signal[:, :, 5] = gibbs[:]\n",
    "    \n",
    "    signal[:, :, 6] = sig['open']\n",
    "    signal[:, :, 7] = sig['close']\n",
    "    signal[:, :, 8] = sig['high']\n",
    "    signal[:, :, 9] = sig['low']\n",
    "    signal[:, :, 10] = sig['volume']\n",
    "    signal[:, :, 11] = sig['cap']\n",
    "    return signal\n",
    "\n",
    "def get_target(se, name: str = 'rela_spread'):  # 得到target\n",
    "    rel_sp = se.data.spread_dic['rela_spread'].copy()\n",
    "    back = 20\n",
    "    for i in range(rel_sp.shape[0]):\n",
    "        if i < back - 1:\n",
    "            rel_sp[i] = np.nan\n",
    "        else:\n",
    "            rel_sp[i] = np.nanmean(se.data.spread_dic[name][i - back + 1:i + 1], axis=0)\n",
    "    return rel_sp"
   ]
  },
  {
   "cell_type": "code",
   "execution_count": 21,
   "id": "2c0d99f6",
   "metadata": {
    "scrolled": true
   },
   "outputs": [
    {
     "name": "stdout",
     "output_type": "stream",
     "text": [
      "mean corr: 0.0643, positive_corr_ratio: 0.8592, corr_IR: 1.1347\n",
      "mean corr: 0.1286, positive_corr_ratio: 0.7895, corr_IR: 0.7587\n",
      "mean corr: 0.0837, positive_corr_ratio: 0.7670, corr_IR: 0.7529\n",
      "mean corr: nan, positive_corr_ratio: nan, corr_IR: nan\n",
      "mean corr: nan, positive_corr_ratio: nan, corr_IR: nan\n",
      "mean corr: nan, positive_corr_ratio: nan, corr_IR: nan\n",
      "mean corr: nan, positive_corr_ratio: nan, corr_IR: nan\n",
      "mean corr: nan, positive_corr_ratio: nan, corr_IR: nan\n",
      "mean corr: nan, positive_corr_ratio: nan, corr_IR: nan\n"
     ]
    }
   ],
   "source": [
    "signal_rela = get_signal_rela(se)\n",
    "target_rela = get_target(se, 'rela_spread')"
   ]
  },
  {
   "cell_type": "code",
   "execution_count": 22,
   "id": "754c614d",
   "metadata": {},
   "outputs": [],
   "source": [
    "import pickle\n",
    "signal_rela = get_signal_rela(se)\n",
    "target_rela = get_target(se, 'rela_spread')\n",
    "path = r\"C:\\Users\\Windows11\\Desktop\\ML_data\\ML4Liquidity\"\n",
    "with open(f'{path}/signal_rela.pkl', 'wb') as f:\n",
    "    pickle.dump(signal_rela, f)\n",
    "    \n",
    "with open(f'{path}/target_rela.pkl', 'wb') as f:\n",
    "    pickle.dump(target_rela, f)"
   ]
  },
  {
   "cell_type": "code",
   "execution_count": 18,
   "id": "11898d33",
   "metadata": {},
   "outputs": [],
   "source": [
    "import h5py\n",
    "path = r\"C:\\Users\\Windows11\\Desktop\\ML_data\\ML4Liquidity\"\n",
    "\n",
    "def get_signal_spread(se):  # 得到以relative spread为目标的signal\n",
    "    sig = {}\n",
    "    # HL\n",
    "    beta = 'prod{tsmean{powv{minus{high,low},2},2},2}'\n",
    "    high_1 = 'tsdelay{high,1}'\n",
    "    low_1 = 'tsdelay{low,1}'\n",
    "    con_1 = 'condition{gt{low,tsdelay{close,1}},minus{low,tsdelay{close,1}},minus{close,close}}'\n",
    "    con_2 = 'condition{lt{high,tsdelay{close,1}},minus{high,tsdelay{close,1}},minus{close,close}}'\n",
    "    con = 'add{' + con_1 + ',' + con_2 + '}'\n",
    "    high_2 = 'minus{high,' + con + '}'\n",
    "    low_2 = 'minus{low,' + con + '}'\n",
    "    high = 'condition{ge{' + high_1 + ',' + high_2 + '},' + high_1 + ',' + high_2 + '}'\n",
    "    low = 'condition{le{' + low_1 + ',' + low_2 + '},' + low_1 + ',' + low_2 + '}'\n",
    "\n",
    "    gamma = 'powv{minus{' + high + ',' + low + '},2}'\n",
    "    alpha = 'div{prod{' + 'powv{' + beta + ',0.5},0.4142},0.1716}'\n",
    "    fml = 'minus{' + alpha + ',' + 'powv{' + 'div{' + gamma + ',0.1716},0.5}}'\n",
    "\n",
    "    fml = 'div{' + 'minus{expv{' + fml + '},1},' + 'add{expv{' + fml + '},1}}'\n",
    "    fml = 'condition{' + 'ge{' + fml + ',0},' + fml + ',add{minus{close,close},0}}'\n",
    "    fml = 'tsmean{' + fml + ',20}'\n",
    "    stats, signal = se.test_factor(fml, corr_type='linear', method='cs', spread_type='spread')\n",
    "    sig['HL'] = signal\n",
    "\n",
    "    # Roll\n",
    "    a = 'tsdelta{close,1}'\n",
    "    b = 'tsdelay{tsdelta{close,1},1}'\n",
    "    fml = 'prod{' + a + ',' + b + '}'\n",
    "    fml = 'condition{' + 'ge{' + fml + ',0},' + fml + ',add{minus{close,close},0}}'\n",
    "    fml = 'tsmean{' + fml + ',20}'\n",
    "    fml = 'powv{' + fml + ',0.5}'\n",
    "\n",
    "    stats, signal = se.test_factor(fml, corr_type='linear', method='cs', spread_type='spread')\n",
    "    sig['ROLL'] = signal\n",
    "\n",
    "    # CHL\n",
    "    a = 'minus{tsdelay{close,1},div{add{tsdelay{high,1},tsdelay{low,1}},2}}'\n",
    "    b = 'minus{tsdelay{close,1},div{add{high,low},2}}'\n",
    "    fml = 'prod{' + a + ',' + b + '}'\n",
    "    fml = 'condition{' + 'ge{' + fml + ',0},' + fml + ',add{minus{close,close},0}}'\n",
    "    fml = 'tsmean{' + fml + ',20}'\n",
    "    fml = 'powv{' + fml + ',0.5}'\n",
    "\n",
    "    stats, signal = se.test_factor(fml, corr_type='linear', method='cs', spread_type='rela_spread')\n",
    "    sig['CHL'] = signal\n",
    "    \n",
    "    fml = 'tsmean{logv{open},20}'\n",
    "    stats, signal = se.test_factor(fml, corr_type='linear', method='cs', spread_type='rela_spread')\n",
    "    sig['open'] = signal\n",
    "    \n",
    "    fml = 'tsmean{logv{close},20}'\n",
    "    stats, signal = se.test_factor(fml, corr_type='linear', method='cs', spread_type='rela_spread')\n",
    "    sig['close'] = signal\n",
    "    \n",
    "    fml = 'tsmean{logv{high},20}'\n",
    "    stats, signal = se.test_factor(fml, corr_type='linear', method='cs', spread_type='rela_spread')\n",
    "    sig['high'] = signal\n",
    "\n",
    "    fml = 'tsmean{logv{low},20}'\n",
    "    stats, signal = se.test_factor(fml, corr_type='linear', method='cs', spread_type='rela_spread')\n",
    "    sig['low'] = signal\n",
    "    \n",
    "    fml = 'tsmean{logv{volume},20}'\n",
    "    stats, signal = se.test_factor(fml, corr_type='linear', method='cs', spread_type='rela_spread')\n",
    "    sig['volume'] = signal\n",
    "    \n",
    "    fml = 'tsmean{logv{cap},20}'\n",
    "    stats, signal = se.test_factor(fml, corr_type='linear', method='cs', spread_type='rela_spread')\n",
    "    sig['cap'] = signal\n",
    "    \n",
    "    with open(r\"C:\\Users\\Windows11\\Desktop\\ML_data\\ML4Liquidity\\LOT.pkl\", 'rb') as f:\n",
    "        LOT = pickle.load(f)\n",
    "        \n",
    "    path = r\"C:\\Users\\Windows11\\Desktop\\Repositories\\Low-Frequency-Spread-Estimator\\estimator\\cache_SP500\"\n",
    "    gibbs = np.zeros((225, 492), dtype=np.float32)\n",
    "    for i in range(8):\n",
    "        gibbs[20+21*i:41+21*i] = np.load('{}/{}.npy'.format(path, i))\n",
    "    i = 8\n",
    "    gibbs[20+21*i:] = np.load('{}/{}.npy'.format(path, i))\n",
    "\n",
    "    signal = np.zeros((sig['HL'].shape[0], sig['HL'].shape[1], 12), dtype=np.float32)\n",
    "    signal[:, :, 0] = sig['CHL']\n",
    "    signal[:, :, 1] = sig['HL']\n",
    "    signal[:, :, 2] = sig['ROLL']\n",
    "    signal[:, :, 3] = LOT[:, :, 0]\n",
    "    signal[:, :, 4] = LOT[:, :, 1]\n",
    "    signal[:, :, 5] = gibbs[:]\n",
    "    \n",
    "    signal[:, :, 6] = sig['open']\n",
    "    signal[:, :, 7] = sig['close']\n",
    "    signal[:, :, 8] = sig['high']\n",
    "    signal[:, :, 9] = sig['low']\n",
    "    signal[:, :, 10] = sig['volume']\n",
    "    signal[:, :, 11] = sig['cap']\n",
    "    return signal\n",
    "\n",
    "def get_target(se, name: str = 'rela_spread'):  # 得到target\n",
    "    rel_sp = se.data.spread_dic[name].copy()\n",
    "    back = 20\n",
    "    for i in range(rel_sp.shape[0]):\n",
    "        if i < back - 1:\n",
    "            rel_sp[i] = np.nan\n",
    "        else:\n",
    "            rel_sp[i] = np.nanmean(se.data.spread_dic[name][i - back + 1:i + 1], axis=0)\n",
    "    return rel_sp"
   ]
  },
  {
   "cell_type": "code",
   "execution_count": 4,
   "id": "f5032941",
   "metadata": {},
   "outputs": [
    {
     "name": "stdout",
     "output_type": "stream",
     "text": [
      "mean corr: 0.2213, positive_corr_ratio: 0.9272, corr_IR: 1.9196\n",
      "mean corr: 0.6957, positive_corr_ratio: 1.0000, corr_IR: 2.5659\n",
      "mean corr: 0.1914, positive_corr_ratio: 1.0000, corr_IR: 2.0066\n",
      "mean corr: nan, positive_corr_ratio: nan, corr_IR: nan\n",
      "mean corr: nan, positive_corr_ratio: nan, corr_IR: nan\n",
      "mean corr: nan, positive_corr_ratio: nan, corr_IR: nan\n",
      "mean corr: nan, positive_corr_ratio: nan, corr_IR: nan\n",
      "mean corr: nan, positive_corr_ratio: nan, corr_IR: nan\n",
      "mean corr: nan, positive_corr_ratio: nan, corr_IR: nan\n"
     ]
    }
   ],
   "source": [
    "import pickle\n",
    "signal_rela = get_signal_spread(se)\n",
    "target_rela = get_target(se, 'spread')\n",
    "path = r\"C:\\Users\\Windows11\\Desktop\\ML_data\\ML4Liquidity\"\n",
    "with open(f'{path}/signal_spread.pkl', 'wb') as f:\n",
    "    pickle.dump(signal_rela, f)\n",
    "    \n",
    "with open(f'{path}/target_spread.pkl', 'wb') as f:\n",
    "    pickle.dump(target_rela, f)"
   ]
  },
  {
   "cell_type": "code",
   "execution_count": 19,
   "id": "65893c7b",
   "metadata": {},
   "outputs": [],
   "source": [
    "target_rela = get_target(se, 'w_rela_spread')\n",
    "with open(f'{path}/target_wrela.pkl', 'wb') as f:\n",
    "    pickle.dump(target_rela, f)"
   ]
  },
  {
   "cell_type": "markdown",
   "id": "b1ce447f",
   "metadata": {},
   "source": [
    "### 测试两个meta并起来"
   ]
  },
  {
   "cell_type": "code",
   "execution_count": 150,
   "id": "38eaebf9",
   "metadata": {},
   "outputs": [],
   "source": [
    "import pickle\n",
    "with open(r\"C:\\Users\\Windows11\\Desktop\\ML_data\\ML4Liquidity\\dump_signal\\out_2.pkl\", 'rb') as f:\n",
    "    out_2 = pickle.load(f)\n",
    "with open(r\"C:\\Users\\Windows11\\Desktop\\ML_data\\ML4Liquidity\\dump_signal\\out_1.pkl\", 'rb') as f:\n",
    "    out_1 = pickle.load(f)\n",
    "with open(r\"C:\\Users\\Windows11\\Desktop\\ML_data\\ML4Liquidity\\dump_signal\\ys.pkl\", 'rb') as f:\n",
    "    ys = pickle.load(f)"
   ]
  },
  {
   "cell_type": "code",
   "execution_count": 161,
   "id": "6b64274d",
   "metadata": {
    "scrolled": true
   },
   "outputs": [
    {
     "name": "stdout",
     "output_type": "stream",
     "text": [
      "0.5902520544857103\n"
     ]
    }
   ],
   "source": [
    "corr = []\n",
    "for i in range(len(out_2)):\n",
    "    tmp = out_1[i] + out_2[i]*-0.1\n",
    "    y = ys[i]\n",
    "    corr.append(np.corrcoef(tmp, y)[0, 1])\n",
    "print(np.nanmean(corr))"
   ]
  },
  {
   "cell_type": "code",
   "execution_count": 20,
   "id": "51cca418",
   "metadata": {},
   "outputs": [
    {
     "data": {
      "text/plain": [
       "203"
      ]
     },
     "execution_count": 20,
     "metadata": {},
     "output_type": "execute_result"
    }
   ],
   "source": [
    "len(tmp)"
   ]
  },
  {
   "cell_type": "code",
   "execution_count": 21,
   "id": "ee460f4a",
   "metadata": {
    "scrolled": true
   },
   "outputs": [
    {
     "data": {
      "text/plain": [
       "203"
      ]
     },
     "execution_count": 21,
     "metadata": {},
     "output_type": "execute_result"
    }
   ],
   "source": [
    "len(y)"
   ]
  },
  {
   "cell_type": "code",
   "execution_count": 22,
   "id": "7082dd13",
   "metadata": {},
   "outputs": [
    {
     "ename": "ValueError",
     "evalue": "all the input array dimensions for the concatenation axis must match exactly, but along dimension 1, the array at index 0 has size 203 and the array at index 1 has size 492",
     "output_type": "error",
     "traceback": [
      "\u001b[1;31m---------------------------------------------------------------------------\u001b[0m",
      "\u001b[1;31mValueError\u001b[0m                                Traceback (most recent call last)",
      "Cell \u001b[1;32mIn[22], line 1\u001b[0m\n\u001b[1;32m----> 1\u001b[0m \u001b[43mnp\u001b[49m\u001b[38;5;241;43m.\u001b[39;49m\u001b[43mcorrcoef\u001b[49m\u001b[43m(\u001b[49m\u001b[43mtmp\u001b[49m\u001b[43m,\u001b[49m\u001b[43m \u001b[49m\u001b[43my\u001b[49m\u001b[43m)\u001b[49m\n",
      "File \u001b[1;32m<__array_function__ internals>:180\u001b[0m, in \u001b[0;36mcorrcoef\u001b[1;34m(*args, **kwargs)\u001b[0m\n",
      "File \u001b[1;32m~\\anaconda3\\lib\\site-packages\\numpy\\lib\\function_base.py:2845\u001b[0m, in \u001b[0;36mcorrcoef\u001b[1;34m(x, y, rowvar, bias, ddof, dtype)\u001b[0m\n\u001b[0;32m   2841\u001b[0m \u001b[38;5;28;01mif\u001b[39;00m bias \u001b[38;5;129;01mis\u001b[39;00m \u001b[38;5;129;01mnot\u001b[39;00m np\u001b[38;5;241m.\u001b[39m_NoValue \u001b[38;5;129;01mor\u001b[39;00m ddof \u001b[38;5;129;01mis\u001b[39;00m \u001b[38;5;129;01mnot\u001b[39;00m np\u001b[38;5;241m.\u001b[39m_NoValue:\n\u001b[0;32m   2842\u001b[0m     \u001b[38;5;66;03m# 2015-03-15, 1.10\u001b[39;00m\n\u001b[0;32m   2843\u001b[0m     warnings\u001b[38;5;241m.\u001b[39mwarn(\u001b[38;5;124m'\u001b[39m\u001b[38;5;124mbias and ddof have no effect and are deprecated\u001b[39m\u001b[38;5;124m'\u001b[39m,\n\u001b[0;32m   2844\u001b[0m                   \u001b[38;5;167;01mDeprecationWarning\u001b[39;00m, stacklevel\u001b[38;5;241m=\u001b[39m\u001b[38;5;241m3\u001b[39m)\n\u001b[1;32m-> 2845\u001b[0m c \u001b[38;5;241m=\u001b[39m \u001b[43mcov\u001b[49m\u001b[43m(\u001b[49m\u001b[43mx\u001b[49m\u001b[43m,\u001b[49m\u001b[43m \u001b[49m\u001b[43my\u001b[49m\u001b[43m,\u001b[49m\u001b[43m \u001b[49m\u001b[43mrowvar\u001b[49m\u001b[43m,\u001b[49m\u001b[43m \u001b[49m\u001b[43mdtype\u001b[49m\u001b[38;5;241;43m=\u001b[39;49m\u001b[43mdtype\u001b[49m\u001b[43m)\u001b[49m\n\u001b[0;32m   2846\u001b[0m \u001b[38;5;28;01mtry\u001b[39;00m:\n\u001b[0;32m   2847\u001b[0m     d \u001b[38;5;241m=\u001b[39m diag(c)\n",
      "File \u001b[1;32m<__array_function__ internals>:180\u001b[0m, in \u001b[0;36mcov\u001b[1;34m(*args, **kwargs)\u001b[0m\n",
      "File \u001b[1;32m~\\anaconda3\\lib\\site-packages\\numpy\\lib\\function_base.py:2639\u001b[0m, in \u001b[0;36mcov\u001b[1;34m(m, y, rowvar, bias, ddof, fweights, aweights, dtype)\u001b[0m\n\u001b[0;32m   2637\u001b[0m     \u001b[38;5;28;01mif\u001b[39;00m \u001b[38;5;129;01mnot\u001b[39;00m rowvar \u001b[38;5;129;01mand\u001b[39;00m y\u001b[38;5;241m.\u001b[39mshape[\u001b[38;5;241m0\u001b[39m] \u001b[38;5;241m!=\u001b[39m \u001b[38;5;241m1\u001b[39m:\n\u001b[0;32m   2638\u001b[0m         y \u001b[38;5;241m=\u001b[39m y\u001b[38;5;241m.\u001b[39mT\n\u001b[1;32m-> 2639\u001b[0m     X \u001b[38;5;241m=\u001b[39m \u001b[43mnp\u001b[49m\u001b[38;5;241;43m.\u001b[39;49m\u001b[43mconcatenate\u001b[49m\u001b[43m(\u001b[49m\u001b[43m(\u001b[49m\u001b[43mX\u001b[49m\u001b[43m,\u001b[49m\u001b[43m \u001b[49m\u001b[43my\u001b[49m\u001b[43m)\u001b[49m\u001b[43m,\u001b[49m\u001b[43m \u001b[49m\u001b[43maxis\u001b[49m\u001b[38;5;241;43m=\u001b[39;49m\u001b[38;5;241;43m0\u001b[39;49m\u001b[43m)\u001b[49m\n\u001b[0;32m   2641\u001b[0m \u001b[38;5;28;01mif\u001b[39;00m ddof \u001b[38;5;129;01mis\u001b[39;00m \u001b[38;5;28;01mNone\u001b[39;00m:\n\u001b[0;32m   2642\u001b[0m     \u001b[38;5;28;01mif\u001b[39;00m bias \u001b[38;5;241m==\u001b[39m \u001b[38;5;241m0\u001b[39m:\n",
      "File \u001b[1;32m<__array_function__ internals>:180\u001b[0m, in \u001b[0;36mconcatenate\u001b[1;34m(*args, **kwargs)\u001b[0m\n",
      "\u001b[1;31mValueError\u001b[0m: all the input array dimensions for the concatenation axis must match exactly, but along dimension 1, the array at index 0 has size 203 and the array at index 1 has size 492"
     ]
    }
   ],
   "source": [
    "np.corrcoef(tmp, y)"
   ]
  },
  {
   "cell_type": "code",
   "execution_count": 24,
   "id": "c62f626d",
   "metadata": {},
   "outputs": [
    {
     "data": {
      "text/plain": [
       "(203, 492)"
      ]
     },
     "execution_count": 24,
     "metadata": {},
     "output_type": "execute_result"
    }
   ],
   "source": [
    "y.shape"
   ]
  },
  {
   "cell_type": "code",
   "execution_count": 25,
   "id": "9117bcdb",
   "metadata": {},
   "outputs": [
    {
     "data": {
      "text/plain": [
       "(203,)"
      ]
     },
     "execution_count": 25,
     "metadata": {},
     "output_type": "execute_result"
    }
   ],
   "source": [
    "tmp.shape"
   ]
  },
  {
   "cell_type": "code",
   "execution_count": null,
   "id": "2c57ea5a",
   "metadata": {},
   "outputs": [],
   "source": []
  }
 ],
 "metadata": {
  "kernelspec": {
   "display_name": "Python 3 (ipykernel)",
   "language": "python",
   "name": "python3"
  },
  "language_info": {
   "codemirror_mode": {
    "name": "ipython",
    "version": 3
   },
   "file_extension": ".py",
   "mimetype": "text/x-python",
   "name": "python",
   "nbconvert_exporter": "python",
   "pygments_lexer": "ipython3",
   "version": "3.10.9"
  }
 },
 "nbformat": 4,
 "nbformat_minor": 5
}
