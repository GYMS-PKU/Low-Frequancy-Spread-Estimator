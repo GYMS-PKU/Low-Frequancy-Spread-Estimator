{
 "cells": [
  {
   "cell_type": "markdown",
   "id": "81d683cf",
   "metadata": {},
   "source": [
    "### 特征相关性研究\n",
    "- 研究特征相关性；\n",
    "- 使用scipy的做回归；\n",
    "- 所有特征都做截面标准化处理\n",
    "\n",
    "2022-07-09\n",
    "- 过滤掉价格低于5元的股票\n",
    "\n",
    "2022-07-19\n",
    "- 在低价股中测试关于股价的二次模型"
   ]
  },
  {
   "cell_type": "code",
   "execution_count": 1,
   "id": "22ed089d",
   "metadata": {},
   "outputs": [],
   "source": [
    "import numpy as np\n",
    "import matplotlib.pyplot as plt\n",
    "import torch\n",
    "import torch.nn as nn\n",
    "\n",
    "import sys\n",
    "sys.path.append(r'C:\\Users\\Administrator\\Desktop\\Repositories\\Low-Frequency-Spread-Estimator\\notebook\\tools')\n",
    "sys.path.append(r'C:\\Users\\18316\\Desktop\\Repositories\\Low-Frequency-Spread-Estimator\\notebook\\tools')\n",
    "from train_tools import *\n",
    "from get_signal import *\n",
    "from naive_model import *\n",
    "import pickle\n",
    "\n",
    "sys.path.append('C:/Users/Administrator/Desktop/Repositories/Low-Frequency-Spread-Estimator')\n",
    "sys.path.append('C:/Users/18316/Desktop/Repositories/Low-Frequency-Spread-Estimator')\n",
    "sys.path.append('C:/Users/Handsome Bad Guy/Desktop/Repositories/Low-Frequency-Spread-Estimator')\n",
    "\n",
    "from SpreadEstimator.SpreadEstimator import SpreadEstimator\n",
    "from mytools.AutoTester import AutoTester\n",
    "\n",
    "import lightgbm as lgbm\n",
    "import statsmodels.api as sm\n",
    "from statsmodels.stats.outliers_influence import variance_inflation_factor\n",
    "\n",
    "import warnings\n",
    "warnings.filterwarnings(\"ignore\")"
   ]
  },
  {
   "cell_type": "markdown",
   "id": "b93ae52e",
   "metadata": {},
   "source": [
    "### 构造不同的univ"
   ]
  },
  {
   "cell_type": "code",
   "execution_count": 2,
   "id": "db689ac7",
   "metadata": {},
   "outputs": [
    {
     "name": "stdout",
     "output_type": "stream",
     "text": [
      "mean corr: -0.3880, positive_corr_ratio: 0.0000, corr_IR: -9.2479\n"
     ]
    },
    {
     "data": {
      "text/plain": [
       "(243, 2081)"
      ]
     },
     "execution_count": 2,
     "metadata": {},
     "output_type": "execute_result"
    }
   ],
   "source": [
    "se = SpreadEstimator()\n",
    "stats, close_p = se.test_factor('close', corr_type='linear', method='cs', spread_type='relative_spread')\n",
    "close_p.shape"
   ]
  },
  {
   "cell_type": "code",
   "execution_count": 2,
   "id": "c0a64868",
   "metadata": {},
   "outputs": [],
   "source": [
    "\n",
    "with open(\"D:\\\\Documents\\\\学习资料\\\\本科毕业论文\\\\data\\\\close_top.pkl\", 'rb') as f:\n",
    "    close_top = pickle.load(f)"
   ]
  },
  {
   "cell_type": "markdown",
   "id": "fca2d666",
   "metadata": {},
   "source": [
    "### 低价股中测试关于股价的二次模型"
   ]
  },
  {
   "cell_type": "code",
   "execution_count": 49,
   "id": "332d8542",
   "metadata": {},
   "outputs": [],
   "source": [
    "def test_cs(signal, target, univ, back: int = 1):\n",
    "    corr = []\n",
    "    new_target = []\n",
    "    sig = []\n",
    "    for i in range(signal.shape[0]):\n",
    "        if i < back-1:\n",
    "            continue\n",
    "        t = np.nanmean(target[i-back+1: i+1], axis=0)\n",
    "        se = (~np.isnan(t)) & (~np.isnan(signal[i])) & univ[i]\n",
    "        if np.sum(se) < 2:\n",
    "            continue\n",
    "        corr.append(np.corrcoef(signal[i, se], t[se])[0, 1])\n",
    "        new_target.append(t[se])\n",
    "        sig.append(signal[i, se])\n",
    "    print('{:.4f}'.format(np.mean(corr)))\n",
    "    return corr, sig, new_target\n",
    "\n",
    "def test_ts(signal, target, univ, back: int = 1):\n",
    "    corr = []\n",
    "    new_t = np.zeros((len(target)-back+1, target.shape[1]))\n",
    "    for i in range(new_t.shape[0]):\n",
    "        new_t[i] = np.nanmean(target[i:i+back])\n",
    "    for i in range(signal.shape[1]):\n",
    "        t = new_t[:, i]\n",
    "        se = (~np.isnan(t)) & (~np.isnan(signal[back-1:, i])) & univ[back-1:, i]\n",
    "        if np.sum(se) < 2:\n",
    "            continue\n",
    "        corr.append(np.corrcoef(signal[back-1:, i][se], t[se])[0, 1])\n",
    "    print('{:.4f}'.format(np.mean(corr)))\n",
    "    return corr"
   ]
  },
  {
   "cell_type": "code",
   "execution_count": 54,
   "id": "50f5208b",
   "metadata": {},
   "outputs": [
    {
     "name": "stdout",
     "output_type": "stream",
     "text": [
      "mean corr: -0.3920, positive_corr_ratio: 0.0000, corr_IR: -9.9100\n",
      "0.9918\n",
      "0.7516\n",
      "\n",
      "0.3393\n",
      "0.4009\n",
      "0.3797\n"
     ]
    }
   ],
   "source": [
    "fml = 'tsmean{close,20}'\n",
    "stats, signal = se.test_factor(fml, corr_type='linear', method='cs', spread_type='relative_spread')\n",
    "signal[signal>0] = 1/signal[signal>0]\n",
    "\n",
    "corr, sig, new_target = test_cs(signal, se.data.spread_dic['relative_spread'], univ=all_univ[0], \n",
    "                                back=20)\n",
    "corr, sig, new_target = test_cs(signal, se.data.spread_dic['relative_spread'], univ=all_univ[1], back=20)\n",
    "\n",
    "print()\n",
    "\n",
    "corr = test_ts(signal, se.data.spread_dic['relative_spread'], univ=all_univ[0], \n",
    "                                back=20)\n",
    "corr = test_ts(signal, se.data.spread_dic['relative_spread'], univ=all_univ[1], back=20)\n",
    "corr = test_ts(signal, se.data.spread_dic['relative_spread'], univ=all_univ[2], back=20)\n",
    "\n",
    "# corr, sig, new_target = test_cs(signal, se.data.spread_dic['relative_spread'], univ=all_univ[2], back=20)"
   ]
  },
  {
   "cell_type": "code",
   "execution_count": 46,
   "id": "a2ce45aa",
   "metadata": {},
   "outputs": [
    {
     "data": {
      "image/png": "[encoded data removed]",
      "text/plain": [
       "<Figure size 432x288 with 1 Axes>"
      ]
     },
     "metadata": {
      "needs_background": "light"
     },
     "output_type": "display_data"
    }
   ],
   "source": [
    "x = np.hstack(sig[:]).reshape(-1, 1)\n",
    "y = np.hstack(new_target[:])\n",
    "plt.scatter(x[:1000,0], y[:1000])\n",
    "plt.show()"
   ]
  },
  {
   "cell_type": "code",
   "execution_count": 47,
   "id": "e6d2d0e8",
   "metadata": {},
   "outputs": [
    {
     "data": {
      "text/html": [
       "<table class=\"simpletable\">\n",
       "<caption>OLS Regression Results</caption>\n",
       "<tr>\n",
       "  <th>Dep. Variable:</th>            <td>y</td>        <th>  R-squared:         </th>  <td>   0.966</td> \n",
       "</tr>\n",
       "<tr>\n",
       "  <th>Model:</th>                   <td>OLS</td>       <th>  Adj. R-squared:    </th>  <td>   0.966</td> \n",
       "</tr>\n",
       "<tr>\n",
       "  <th>Method:</th>             <td>Least Squares</td>  <th>  F-statistic:       </th>  <td>7.708e+06</td>\n",
       "</tr>\n",
       "<tr>\n",
       "  <th>Date:</th>             <td>Tue, 19 Jul 2022</td> <th>  Prob (F-statistic):</th>   <td>  0.00</td>  \n",
       "</tr>\n",
       "<tr>\n",
       "  <th>Time:</th>                 <td>21:21:22</td>     <th>  Log-Likelihood:    </th> <td>6.7408e+05</td>\n",
       "</tr>\n",
       "<tr>\n",
       "  <th>No. Observations:</th>      <td>274121</td>      <th>  AIC:               </th> <td>-1.348e+06</td>\n",
       "</tr>\n",
       "<tr>\n",
       "  <th>Df Residuals:</th>          <td>274119</td>      <th>  BIC:               </th> <td>-1.348e+06</td>\n",
       "</tr>\n",
       "<tr>\n",
       "  <th>Df Model:</th>              <td>     1</td>      <th>                     </th>      <td> </td>    \n",
       "</tr>\n",
       "<tr>\n",
       "  <th>Covariance Type:</th>      <td>nonrobust</td>    <th>                     </th>      <td> </td>    \n",
       "</tr>\n",
       "</table>\n",
       "<table class=\"simpletable\">\n",
       "<tr>\n",
       "    <td></td>       <th>coef</th>     <th>std err</th>      <th>t</th>      <th>P>|t|</th>  <th>[0.025</th>    <th>0.975]</th>  \n",
       "</tr>\n",
       "<tr>\n",
       "  <th>const</th> <td>    0.0261</td> <td> 7.79e-05</td> <td>  335.500</td> <td> 0.000</td> <td>    0.026</td> <td>    0.026</td>\n",
       "</tr>\n",
       "<tr>\n",
       "  <th>x1</th>    <td>    0.9548</td> <td>    0.000</td> <td> 2776.254</td> <td> 0.000</td> <td>    0.954</td> <td>    0.955</td>\n",
       "</tr>\n",
       "</table>\n",
       "<table class=\"simpletable\">\n",
       "<tr>\n",
       "  <th>Omnibus:</th>       <td>337921.075</td> <th>  Durbin-Watson:     </th>   <td>   1.899</td>  \n",
       "</tr>\n",
       "<tr>\n",
       "  <th>Prob(Omnibus):</th>   <td> 0.000</td>   <th>  Jarque-Bera (JB):  </th> <td>66609629.204</td>\n",
       "</tr>\n",
       "<tr>\n",
       "  <th>Skew:</th>            <td> 6.641</td>   <th>  Prob(JB):          </th>   <td>    0.00</td>  \n",
       "</tr>\n",
       "<tr>\n",
       "  <th>Kurtosis:</th>        <td>78.203</td>   <th>  Cond. No.          </th>   <td>    9.04</td>  \n",
       "</tr>\n",
       "</table><br/><br/>Notes:<br/>[1] Standard Errors assume that the covariance matrix of the errors is correctly specified."
      ],
      "text/plain": [
       "<class 'statsmodels.iolib.summary.Summary'>\n",
       "\"\"\"\n",
       "                            OLS Regression Results                            \n",
       "==============================================================================\n",
       "Dep. Variable:                      y   R-squared:                       0.966\n",
       "Model:                            OLS   Adj. R-squared:                  0.966\n",
       "Method:                 Least Squares   F-statistic:                 7.708e+06\n",
       "Date:                Tue, 19 Jul 2022   Prob (F-statistic):               0.00\n",
       "Time:                        21:21:22   Log-Likelihood:             6.7408e+05\n",
       "No. Observations:              274121   AIC:                        -1.348e+06\n",
       "Df Residuals:                  274119   BIC:                        -1.348e+06\n",
       "Df Model:                           1                                         \n",
       "Covariance Type:            nonrobust                                         \n",
       "==============================================================================\n",
       "                 coef    std err          t      P>|t|      [0.025      0.975]\n",
       "------------------------------------------------------------------------------\n",
       "const          0.0261   7.79e-05    335.500      0.000       0.026       0.026\n",
       "x1             0.9548      0.000   2776.254      0.000       0.954       0.955\n",
       "==============================================================================\n",
       "Omnibus:                   337921.075   Durbin-Watson:                   1.899\n",
       "Prob(Omnibus):                  0.000   Jarque-Bera (JB):         66609629.204\n",
       "Skew:                           6.641   Prob(JB):                         0.00\n",
       "Kurtosis:                      78.203   Cond. No.                         9.04\n",
       "==============================================================================\n",
       "\n",
       "Notes:\n",
       "[1] Standard Errors assume that the covariance matrix of the errors is correctly specified.\n",
       "\"\"\""
      ]
     },
     "execution_count": 47,
     "metadata": {},
     "output_type": "execute_result"
    }
   ],
   "source": [
    "X = sm.add_constant(x)\n",
    "model = sm.OLS(y*100,X)\n",
    "res = model.fit()\n",
    "res.summary()"
   ]
  },
  {
   "cell_type": "markdown",
   "id": "f15cd32f",
   "metadata": {},
   "source": [
    "### 特征相关性矩阵\n",
    "- 计算相关系数矩阵\n",
    "- 计算方差扩张系数"
   ]
  },
  {
   "cell_type": "markdown",
   "id": "218535b3",
   "metadata": {},
   "source": [
    "### 绝对价差\n",
    "- 计算相关系数矩阵；\n",
    "- 计算方差扩张系数；\n",
    "- 使用scipy回归系数；\n",
    "- 做检验；"
   ]
  },
  {
   "cell_type": "code",
   "execution_count": 3,
   "id": "b4a7f672",
   "metadata": {
    "scrolled": true
   },
   "outputs": [
    {
     "name": "stderr",
     "output_type": "stream",
     "text": [
      "100%|███████████████████████████████████████████████████████████████████████████████| 140/140 [00:00<00:00, 170.55it/s]\n"
     ]
    },
    {
     "ename": "RuntimeError",
     "evalue": "CUDA error: device-side assert triggered\nCUDA kernel errors might be asynchronously reported at some other API call,so the stacktrace below might be incorrect.\nFor debugging consider passing CUDA_LAUNCH_BLOCKING=1.",
     "output_type": "error",
     "traceback": [
      "\u001b[1;31m---------------------------------------------------------------------------\u001b[0m",
      "\u001b[1;31mRuntimeError\u001b[0m                              Traceback (most recent call last)",
      "Input \u001b[1;32mIn [3]\u001b[0m, in \u001b[0;36m<cell line: 12>\u001b[1;34m()\u001b[0m\n\u001b[0;32m     14\u001b[0m         x_[:, i] \u001b[38;5;241m-\u001b[39m\u001b[38;5;241m=\u001b[39m torch\u001b[38;5;241m.\u001b[39mnanmean(x_[:, i])\n\u001b[0;32m     15\u001b[0m         x_[:, i] \u001b[38;5;241m/\u001b[39m\u001b[38;5;241m=\u001b[39m torch\u001b[38;5;241m.\u001b[39mstd(x_[:, i])\n\u001b[1;32m---> 16\u001b[0m         \u001b[43mx_\u001b[49m\u001b[38;5;241;43m.\u001b[39;49m\u001b[43mcpu\u001b[49m\u001b[43m(\u001b[49m\u001b[43m)\u001b[49m\n\u001b[0;32m     17\u001b[0m     xx\u001b[38;5;241m.\u001b[39mappend(x_[:, [\u001b[38;5;241m0\u001b[39m, \u001b[38;5;241m1\u001b[39m, \u001b[38;5;241m2\u001b[39m, \u001b[38;5;241m3\u001b[39m, \u001b[38;5;241m4\u001b[39m, \u001b[38;5;241m5\u001b[39m, \u001b[38;5;241m7\u001b[39m, \u001b[38;5;241m11\u001b[39m, \u001b[38;5;241m12\u001b[39m]])\n\u001b[0;32m     18\u001b[0m x \u001b[38;5;241m=\u001b[39m xx\n",
      "\u001b[1;31mRuntimeError\u001b[0m: CUDA error: device-side assert triggered\nCUDA kernel errors might be asynchronously reported at some other API call,so the stacktrace below might be incorrect.\nFor debugging consider passing CUDA_LAUNCH_BLOCKING=1."
     ]
    }
   ],
   "source": [
    "# 绝对价差\n",
    "se = SpreadEstimator()\n",
    "univ = se.data.data_dic['volume'] > 0  # 合法的univ\n",
    "with open(r'D:\\Documents\\学习资料\\本科毕业论文/data/signal_spread.pkl', 'rb') as f:\n",
    "    signal = pickle.load(f)\n",
    "with open(r'D:\\Documents\\学习资料\\本科毕业论文/data/target_spread.pkl', 'rb') as f:\n",
    "    target = pickle.load(f)\n",
    "with open(r'D:\\Documents\\学习资料\\本科毕业论文/data//close_top.pkl', 'rb') as f:\n",
    "    close_top = pickle.load(f)\n",
    "x, y = get_train_data_cs(signal, target, univ & close_top, 20, 160)\n",
    "xx = []\n",
    "for x_ in x:\n",
    "    for i in range(x_.shape[1]):\n",
    "        x_[:, i] -= torch.nanmean(x_[:, i])\n",
    "        x_[:, i] /= torch.std(x_[:, i])\n",
    "    xx.append(x_)\n",
    "x = xx\n",
    "\n",
    "x_test_spread, y_test_spread = get_train_data_cs(signal, target, univ & close_top, 160, 200)\n",
    "xx = []\n",
    "for x_ in x_test_spread:\n",
    "    for i in range(x_.shape[1]):\n",
    "        x_[:, i] -= torch.nanmean(x_[:, i])\n",
    "        x_[:, i] /= torch.std(x_[:, i])\n",
    "        x_.cpu()\n",
    "    xx.append(x_)\n",
    "x_test_spread = xx\n",
    "\n",
    "# 计算协方差矩阵\n",
    "corr_mat_spread = np.eye(9) * len(x)\n",
    "for i in tqdm(range(len(x))):\n",
    "    for j in range(8):\n",
    "        jj = [0, 1, 2, 3, 4, 5, 7, 11, 12][j]\n",
    "        for k in range(j+1, 9):\n",
    "            jj = [0, 1, 2, 3, 4, 5, 7, 11, 12][k]\n",
    "            corr_mat_spread[j, k] += np.corrcoef(x[i][:, j].cpu().numpy(), x[i][:, k].cpu().numpy())[0, 1]\n",
    "            corr_mat_spread[k, j] += np.corrcoef(x[i][:, j].cpu().numpy(), x[i][:, k].cpu().numpy())[0, 1]\n",
    "corr_mat_spread /= len(x)"
   ]
  },
  {
   "cell_type": "code",
   "execution_count": 16,
   "id": "f0e99536",
   "metadata": {},
   "outputs": [
    {
     "name": "stdout",
     "output_type": "stream",
     "text": [
      "cond: 1995.0122\n",
      "vif:  [11.703354102735075, 11.021115869509487, 1.2853505934968854, 1.7650400740051144, 1.0076934969439237, 14.32573529239105, 34166.08712157536, 36379.31561076668, 21257.63822221748, 49787.10307945032, 11.064155132929146, 11.966586784053304]\n",
      "vif arg:  [ 4  2  3  1 10  0 11  5  8  6  7  9]\n"
     ]
    }
   ],
   "source": [
    "x_spread = np.vstack([xx.cpu().numpy() for xx in x])\n",
    "y_spread = np.vstack([xx.cpu().numpy() for xx in y])\n",
    "\n",
    "x_spread[np.isnan(x_spread)] = 0\n",
    "x_spread\n",
    "\n",
    "# 奇异值分解\n",
    "_, sigma, __ = np.linalg.svd(x_spread, full_matrices=False)\n",
    "vif_spread = [variance_inflation_factor(x_spread, i) for i in range(x_spread.shape[1])]\n",
    "# print(sigma)\n",
    "print('cond: {:.4f}'.format(sigma[0]/sigma[-1]))\n",
    "print('vif: ', vif_spread)\n",
    "arg_spread = np.argsort(vif_spread)\n",
    "print('vif arg: ', arg_spread)"
   ]
  },
  {
   "cell_type": "code",
   "execution_count": 104,
   "id": "57931911",
   "metadata": {
    "collapsed": true
   },
   "outputs": [
    {
     "data": {
      "image/png": "[encoded data removed]",
      "text/plain": [
       "<Figure size 900x600 with 2 Axes>"
      ]
     },
     "metadata": {
      "needs_background": "light"
     },
     "output_type": "display_data"
    }
   ],
   "source": [
    "fea_names = np.array([ 'Roll', 'HL', 'LOT_X', 'LOT_Y', 'Gibbs', 'CHL', 'log_close', 'log_volume', 'log_cap'])\n",
    "\n",
    "plt.figure(dpi=150)\n",
    "plt.xticks(np.arange(len(fea_names)), labels=fea_names, \n",
    "                     rotation=45, rotation_mode=\"anchor\", ha=\"right\")\n",
    "plt.yticks(np.arange(len(fea_names)), labels=fea_names)    \n",
    "\n",
    "\n",
    "plt.imshow(corr_mat_spread)\n",
    "plt.tight_layout()\n",
    "plt.colorbar()\n",
    "plt.show()\n"
   ]
  },
  {
   "cell_type": "code",
   "execution_count": 61,
   "id": "f0db5d31",
   "metadata": {
    "collapsed": true
   },
   "outputs": [
    {
     "data": {
      "text/plain": [
       "array([[1.        , 0.97814828, 0.2927334 , 0.95827788, 0.98621244,\n",
       "        0.96476223, 0.96035081, 0.76065174, 0.97193163, 0.71214861],\n",
       "       [0.97814828, 1.        , 0.33470559, 0.92440552, 0.95999667,\n",
       "        0.94762532, 0.95634496, 0.80062057, 0.94682213, 0.73951386],\n",
       "       [0.2927334 , 0.33470559, 1.        , 0.31125977, 0.31717325,\n",
       "        0.30944073, 0.32881155, 0.41774294, 0.29175694, 0.43269125],\n",
       "       [0.95827788, 0.92440552, 0.31125977, 1.        , 0.96720417,\n",
       "        0.94518844, 0.92350901, 0.74147402, 0.94136218, 0.69423314],\n",
       "       [0.98621244, 0.95999667, 0.31717325, 0.96720417, 1.        ,\n",
       "        0.95599201, 0.95962904, 0.76170934, 0.95188934, 0.7136458 ],\n",
       "       [0.96476223, 0.94762532, 0.30944073, 0.94518844, 0.95599201,\n",
       "        1.        , 0.91200724, 0.74081432, 0.95788155, 0.70287857],\n",
       "       [0.96035081, 0.95634496, 0.32881155, 0.92350901, 0.95962904,\n",
       "        0.91200724, 1.        , 0.80788106, 0.90475293, 0.7213288 ],\n",
       "       [0.76065174, 0.80062057, 0.41774294, 0.74147402, 0.76170934,\n",
       "        0.74081432, 0.80788106, 1.        , 0.73130376, 0.87023534],\n",
       "       [0.97193163, 0.94682213, 0.29175694, 0.94136218, 0.95188934,\n",
       "        0.95788155, 0.90475293, 0.73130376, 1.        , 0.69432483],\n",
       "       [0.71214861, 0.73951386, 0.43269125, 0.69423314, 0.7136458 ,\n",
       "        0.70287857, 0.7213288 , 0.87023534, 0.69432483, 1.        ]])"
      ]
     },
     "execution_count": 61,
     "metadata": {},
     "output_type": "execute_result"
    }
   ],
   "source": [
    "corr_mat_spread"
   ]
  },
  {
   "cell_type": "code",
   "execution_count": 105,
   "id": "a00ad7e3",
   "metadata": {},
   "outputs": [
    {
     "data": {
      "text/html": [
       "<table class=\"simpletable\">\n",
       "<caption>OLS Regression Results</caption>\n",
       "<tr>\n",
       "  <th>Dep. Variable:</th>            <td>y</td>        <th>  R-squared:         </th>  <td>   0.810</td>  \n",
       "</tr>\n",
       "<tr>\n",
       "  <th>Model:</th>                   <td>OLS</td>       <th>  Adj. R-squared:    </th>  <td>   0.810</td>  \n",
       "</tr>\n",
       "<tr>\n",
       "  <th>Method:</th>             <td>Least Squares</td>  <th>  F-statistic:       </th>  <td>2.858e+04</td> \n",
       "</tr>\n",
       "<tr>\n",
       "  <th>Date:</th>             <td>Mon, 11 Jul 2022</td> <th>  Prob (F-statistic):</th>   <td>  0.00</td>   \n",
       "</tr>\n",
       "<tr>\n",
       "  <th>Time:</th>                 <td>20:48:02</td>     <th>  Log-Likelihood:    </th> <td>-1.2153e+05</td>\n",
       "</tr>\n",
       "<tr>\n",
       "  <th>No. Observations:</th>      <td> 67051</td>      <th>  AIC:               </th>  <td>2.431e+05</td> \n",
       "</tr>\n",
       "<tr>\n",
       "  <th>Df Residuals:</th>          <td> 67040</td>      <th>  BIC:               </th>  <td>2.432e+05</td> \n",
       "</tr>\n",
       "<tr>\n",
       "  <th>Df Model:</th>              <td>    10</td>      <th>                     </th>      <td> </td>     \n",
       "</tr>\n",
       "<tr>\n",
       "  <th>Covariance Type:</th>      <td>nonrobust</td>    <th>                     </th>      <td> </td>     \n",
       "</tr>\n",
       "</table>\n",
       "<table class=\"simpletable\">\n",
       "<tr>\n",
       "    <td></td>       <th>coef</th>     <th>std err</th>      <th>t</th>      <th>P>|t|</th>  <th>[0.025</th>    <th>0.975]</th>  \n",
       "</tr>\n",
       "<tr>\n",
       "  <th>const</th> <td>    2.7378</td> <td>    0.006</td> <td>  478.227</td> <td> 0.000</td> <td>    2.727</td> <td>    2.749</td>\n",
       "</tr>\n",
       "<tr>\n",
       "  <th>x1</th>    <td>    7.6248</td> <td>    0.062</td> <td>  122.824</td> <td> 0.000</td> <td>    7.503</td> <td>    7.746</td>\n",
       "</tr>\n",
       "<tr>\n",
       "  <th>x2</th>    <td>    0.7824</td> <td>    0.032</td> <td>   24.741</td> <td> 0.000</td> <td>    0.720</td> <td>    0.844</td>\n",
       "</tr>\n",
       "<tr>\n",
       "  <th>x3</th>    <td>   -0.3811</td> <td>    0.007</td> <td>  -56.929</td> <td> 0.000</td> <td>   -0.394</td> <td>   -0.368</td>\n",
       "</tr>\n",
       "<tr>\n",
       "  <th>x4</th>    <td>   -0.5666</td> <td>    0.023</td> <td>  -24.270</td> <td> 0.000</td> <td>   -0.612</td> <td>   -0.521</td>\n",
       "</tr>\n",
       "<tr>\n",
       "  <th>x5</th>    <td>   -3.1206</td> <td>    0.041</td> <td>  -76.623</td> <td> 0.000</td> <td>   -3.200</td> <td>   -3.041</td>\n",
       "</tr>\n",
       "<tr>\n",
       "  <th>x6</th>    <td>    0.8724</td> <td>    0.023</td> <td>   37.500</td> <td> 0.000</td> <td>    0.827</td> <td>    0.918</td>\n",
       "</tr>\n",
       "<tr>\n",
       "  <th>x7</th>    <td>   -0.6080</td> <td>    0.026</td> <td>  -23.352</td> <td> 0.000</td> <td>   -0.659</td> <td>   -0.557</td>\n",
       "</tr>\n",
       "<tr>\n",
       "  <th>x8</th>    <td>   -0.1943</td> <td>    0.013</td> <td>  -14.432</td> <td> 0.000</td> <td>   -0.221</td> <td>   -0.168</td>\n",
       "</tr>\n",
       "<tr>\n",
       "  <th>x9</th>    <td>   -2.4193</td> <td>    0.028</td> <td>  -86.903</td> <td> 0.000</td> <td>   -2.474</td> <td>   -2.365</td>\n",
       "</tr>\n",
       "<tr>\n",
       "  <th>x10</th>   <td>    0.6177</td> <td>    0.013</td> <td>   47.282</td> <td> 0.000</td> <td>    0.592</td> <td>    0.643</td>\n",
       "</tr>\n",
       "</table>\n",
       "<table class=\"simpletable\">\n",
       "<tr>\n",
       "  <th>Omnibus:</th>       <td>56399.420</td> <th>  Durbin-Watson:     </th>   <td>   1.935</td>  \n",
       "</tr>\n",
       "<tr>\n",
       "  <th>Prob(Omnibus):</th>  <td> 0.000</td>   <th>  Jarque-Bera (JB):  </th> <td>10296933.503</td>\n",
       "</tr>\n",
       "<tr>\n",
       "  <th>Skew:</th>           <td> 3.310</td>   <th>  Prob(JB):          </th>   <td>    0.00</td>  \n",
       "</tr>\n",
       "<tr>\n",
       "  <th>Kurtosis:</th>       <td>63.348</td>   <th>  Cond. No.          </th>   <td>    35.2</td>  \n",
       "</tr>\n",
       "</table><br/><br/>Notes:<br/>[1] Standard Errors assume that the covariance matrix of the errors is correctly specified."
      ],
      "text/plain": [
       "<class 'statsmodels.iolib.summary.Summary'>\n",
       "\"\"\"\n",
       "                            OLS Regression Results                            \n",
       "==============================================================================\n",
       "Dep. Variable:                      y   R-squared:                       0.810\n",
       "Model:                            OLS   Adj. R-squared:                  0.810\n",
       "Method:                 Least Squares   F-statistic:                 2.858e+04\n",
       "Date:                Mon, 11 Jul 2022   Prob (F-statistic):               0.00\n",
       "Time:                        20:48:02   Log-Likelihood:            -1.2153e+05\n",
       "No. Observations:               67051   AIC:                         2.431e+05\n",
       "Df Residuals:                   67040   BIC:                         2.432e+05\n",
       "Df Model:                          10                                         \n",
       "Covariance Type:            nonrobust                                         \n",
       "==============================================================================\n",
       "                 coef    std err          t      P>|t|      [0.025      0.975]\n",
       "------------------------------------------------------------------------------\n",
       "const          2.7378      0.006    478.227      0.000       2.727       2.749\n",
       "x1             7.6248      0.062    122.824      0.000       7.503       7.746\n",
       "x2             0.7824      0.032     24.741      0.000       0.720       0.844\n",
       "x3            -0.3811      0.007    -56.929      0.000      -0.394      -0.368\n",
       "x4            -0.5666      0.023    -24.270      0.000      -0.612      -0.521\n",
       "x5            -3.1206      0.041    -76.623      0.000      -3.200      -3.041\n",
       "x6             0.8724      0.023     37.500      0.000       0.827       0.918\n",
       "x7            -0.6080      0.026    -23.352      0.000      -0.659      -0.557\n",
       "x8            -0.1943      0.013    -14.432      0.000      -0.221      -0.168\n",
       "x9            -2.4193      0.028    -86.903      0.000      -2.474      -2.365\n",
       "x10            0.6177      0.013     47.282      0.000       0.592       0.643\n",
       "==============================================================================\n",
       "Omnibus:                    56399.420   Durbin-Watson:                   1.935\n",
       "Prob(Omnibus):                  0.000   Jarque-Bera (JB):         10296933.503\n",
       "Skew:                           3.310   Prob(JB):                         0.00\n",
       "Kurtosis:                      63.348   Cond. No.                         35.2\n",
       "==============================================================================\n",
       "\n",
       "Notes:\n",
       "[1] Standard Errors assume that the covariance matrix of the errors is correctly specified.\n",
       "\"\"\""
      ]
     },
     "execution_count": 105,
     "metadata": {},
     "output_type": "execute_result"
    }
   ],
   "source": [
    "fea_se = [0, 4, 5, 8]\n",
    "fea_se = [i for i in range(10)]\n",
    "X = sm.add_constant(x_spread[:, fea_se])\n",
    "model = sm.OLS(y_spread*100,X)\n",
    "res = model.fit()\n",
    "res.summary()"
   ]
  },
  {
   "cell_type": "code",
   "execution_count": 106,
   "id": "71d775d7",
   "metadata": {},
   "outputs": [
    {
     "data": {
      "text/plain": [
       "0.8899113514825341"
      ]
     },
     "execution_count": 106,
     "metadata": {},
     "output_type": "execute_result"
    }
   ],
   "source": [
    "corr = [np.corrcoef(np.sum((x_test_spread[i].cpu().numpy() * res.params[1:]),axis=1) + res.params[0],\n",
    "             y_test_spread[i].cpu().numpy()[:,0])[0,1] for i in range(80)]\n",
    "\n",
    "np.mean(corr)"
   ]
  },
  {
   "cell_type": "code",
   "execution_count": null,
   "id": "ca887d7f",
   "metadata": {},
   "outputs": [],
   "source": [
    "# 记录回归R2\n",
    "R2_spread = [0.821]"
   ]
  },
  {
   "cell_type": "code",
   "execution_count": 115,
   "id": "0f89ca37",
   "metadata": {},
   "outputs": [
    {
     "data": {
      "text/plain": [
       "array([0.01790104, 0.00426176])"
      ]
     },
     "execution_count": 115,
     "metadata": {},
     "output_type": "execute_result"
    }
   ],
   "source": [
    "res.params"
   ]
  },
  {
   "cell_type": "code",
   "execution_count": 107,
   "id": "a344a0bd",
   "metadata": {
    "collapsed": true
   },
   "outputs": [
    {
     "data": {
      "image/png": "[encoded data removed]",
      "text/plain": [
       "<Figure size 750x450 with 1 Axes>"
      ]
     },
     "metadata": {
      "needs_background": "light"
     },
     "output_type": "display_data"
    }
   ],
   "source": [
    "plt.figure(figsize=(5,3),dpi=150)\n",
    "plt.bar(fea_names[fea_se], res.params[1:])\n",
    "plt.xticks(rotation=90)\n",
    "plt.ylabel('coefficient')\n",
    "\n",
    "plt.show()"
   ]
  },
  {
   "cell_type": "markdown",
   "id": "f5ccb5be",
   "metadata": {},
   "source": [
    "#### 相对价差"
   ]
  },
  {
   "cell_type": "code",
   "execution_count": 57,
   "id": "2b681a4b",
   "metadata": {},
   "outputs": [
    {
     "name": "stderr",
     "output_type": "stream",
     "text": [
      "100%|████████████████████████████████████████████████████████████████████████████████| 60/60 [00:00<00:00, 1505.14it/s]\n",
      "100%|████████████████████████████████████████████████████████████████████████████████| 80/80 [00:00<00:00, 1315.87it/s]\n",
      "100%|██████████████████████████████████████████████████████████████████████████████████| 41/41 [00:01<00:00, 28.18it/s]\n"
     ]
    }
   ],
   "source": [
    "# 相对\n",
    "se = SpreadEstimator()\n",
    "univ = se.data.data_dic['volume'] > 0  # 合法的univ\n",
    "with open(r'D:\\Documents\\学习资料\\本科毕业论文/data/signal_rela.pkl', 'rb') as f:\n",
    "    signal = pickle.load(f)\n",
    "with open(r'D:\\Documents\\学习资料\\本科毕业论文/data/target_rela.pkl', 'rb') as f:\n",
    "    target = pickle.load(f)\n",
    "with open(r'D:\\Documents\\学习资料\\本科毕业论文/data//close_top.pkl', 'rb') as f:\n",
    "    close_top = pickle.load(f)\n",
    "x, y = get_train_data_cs(signal, target, univ & close_top)\n",
    "xx = []\n",
    "for x_ in x:\n",
    "    for i in range(x_.shape[1]):\n",
    "        x_[:, i] -= torch.mean(x_[:, i])\n",
    "        x_[:, i] /= torch.std(x_[:, i])\n",
    "    xx.append(x_)\n",
    "x = xx\n",
    "\n",
    "x_test_rela, y_test_rela = get_train_data_cs(signal, target, univ & close_top, 80, 160)\n",
    "xx = []\n",
    "for x_ in x_test_rela:\n",
    "    for i in range(x_.shape[1]):\n",
    "        x_[:, i] -= torch.mean(x_[:, i])\n",
    "        x_[:, i] /= torch.std(x_[:, i])\n",
    "    xx.append(x_)\n",
    "x_test_rela = xx\n",
    "\n",
    "\n",
    "corr_mat_rela = np.eye(10) * len(x)\n",
    "for i in tqdm(range(len(x))):\n",
    "    for j in range(9):\n",
    "        for k in range(j+1, 10):\n",
    "            corr_mat_rela[j, k] += np.corrcoef(x[i][:, j].cpu().numpy(), x[i][:, k].cpu().numpy())[0, 1]\n",
    "            corr_mat_rela[k, j] += np.corrcoef(x[i][:, j].cpu().numpy(), x[i][:, k].cpu().numpy())[0, 1]\n",
    "corr_mat_rela /= len(x)"
   ]
  },
  {
   "cell_type": "code",
   "execution_count": 58,
   "id": "6ef6ab08",
   "metadata": {},
   "outputs": [
    {
     "name": "stdout",
     "output_type": "stream",
     "text": [
      "cond: 8.6709\n",
      "vif:  [11.75203847294814, 5.092381816573111, 1.4275997071148043, 1.0643615460900617, 1.0004959180387503, 2.988949828886295, 2.2270227821882416, 6.090371903770314, 3.820149921364261, 1.3874041008646418]\n",
      "vif arg:  [4 3 9 2 6 5 8 1 7 0]\n"
     ]
    }
   ],
   "source": [
    "x_rela = np.vstack([xx.cpu().numpy() for xx in x])\n",
    "y_rela = np.vstack([xx.cpu().numpy() for xx in y])\n",
    "# x_rela[:, [0,1,3,4,5]] *= -1\n",
    "\n",
    "\n",
    "# 奇异值分解\n",
    "_, sigma, __ = np.linalg.svd(x_rela, full_matrices=False)\n",
    "vif_rela = [variance_inflation_factor(x_rela, i) for i in range(x_rela.shape[1])]\n",
    "# print(sigma)\n",
    "print('cond: {:.4f}'.format(sigma[0]/sigma[-1]))\n",
    "print('vif: ', vif_rela)\n",
    "\n",
    "arg_rela = np.argsort(vif_rela)\n",
    "print('vif arg: ', arg_rela)"
   ]
  },
  {
   "cell_type": "code",
   "execution_count": 59,
   "id": "8f681b84",
   "metadata": {},
   "outputs": [
    {
     "data": {
      "image/png": "[encoded data removed]",
      "text/plain": [
       "<Figure size 900x600 with 2 Axes>"
      ]
     },
     "metadata": {
      "needs_background": "light"
     },
     "output_type": "display_data"
    }
   ],
   "source": [
    "fea_names = [ 'abs_ret_per_vol', 'amp', 'cap',\n",
    "             'abs_ovn_ret', 'std_20', 'amp_20', 'HL', 'ROLL', 'CHL', 'log_close']\n",
    "\n",
    "plt.figure(dpi=150)\n",
    "plt.xticks(np.arange(len(fea_names)), labels=fea_names, \n",
    "                     rotation=45, rotation_mode=\"anchor\", ha=\"right\")\n",
    "plt.yticks(np.arange(len(fea_names)), labels=fea_names)    \n",
    "\n",
    "\n",
    "plt.imshow(np.abs(corr_mat_rela))\n",
    "plt.tight_layout()\n",
    "plt.colorbar()\n",
    "plt.show()\n"
   ]
  },
  {
   "cell_type": "code",
   "execution_count": 256,
   "id": "ba4a975f",
   "metadata": {},
   "outputs": [
    {
     "data": {
      "text/plain": [
       "array([[ 1.        ,  0.05399018,  0.04886773, -0.42439205],\n",
       "       [ 0.05399018,  1.        ,  0.78988226, -0.21065902],\n",
       "       [ 0.04886773,  0.78988226,  1.        , -0.16831338],\n",
       "       [-0.42439205, -0.21065902, -0.16831338,  1.        ]])"
      ]
     },
     "execution_count": 256,
     "metadata": {},
     "output_type": "execute_result"
    }
   ],
   "source": [
    "corr_mat_rela[:, fea_se][fea_se]"
   ]
  },
  {
   "cell_type": "code",
   "execution_count": 66,
   "id": "5438af9f",
   "metadata": {},
   "outputs": [
    {
     "data": {
      "text/html": [
       "<table class=\"simpletable\">\n",
       "<caption>OLS Regression Results</caption>\n",
       "<tr>\n",
       "  <th>Dep. Variable:</th>            <td>y</td>        <th>  R-squared:         </th> <td>   0.309</td> \n",
       "</tr>\n",
       "<tr>\n",
       "  <th>Model:</th>                   <td>OLS</td>       <th>  Adj. R-squared:    </th> <td>   0.309</td> \n",
       "</tr>\n",
       "<tr>\n",
       "  <th>Method:</th>             <td>Least Squares</td>  <th>  F-statistic:       </th> <td>1.547e+04</td>\n",
       "</tr>\n",
       "<tr>\n",
       "  <th>Date:</th>             <td>Fri, 22 Jul 2022</td> <th>  Prob (F-statistic):</th>  <td>  0.00</td>  \n",
       "</tr>\n",
       "<tr>\n",
       "  <th>Time:</th>                 <td>11:41:27</td>     <th>  Log-Likelihood:    </th> <td> -89378.</td> \n",
       "</tr>\n",
       "<tr>\n",
       "  <th>No. Observations:</th>      <td> 34527</td>      <th>  AIC:               </th> <td>1.788e+05</td>\n",
       "</tr>\n",
       "<tr>\n",
       "  <th>Df Residuals:</th>          <td> 34525</td>      <th>  BIC:               </th> <td>1.788e+05</td>\n",
       "</tr>\n",
       "<tr>\n",
       "  <th>Df Model:</th>              <td>     1</td>      <th>                     </th>     <td> </td>    \n",
       "</tr>\n",
       "<tr>\n",
       "  <th>Covariance Type:</th>      <td>nonrobust</td>    <th>                     </th>     <td> </td>    \n",
       "</tr>\n",
       "</table>\n",
       "<table class=\"simpletable\">\n",
       "<tr>\n",
       "    <td></td>       <th>coef</th>     <th>std err</th>      <th>t</th>      <th>P>|t|</th>  <th>[0.025</th>    <th>0.975]</th>  \n",
       "</tr>\n",
       "<tr>\n",
       "  <th>const</th> <td>   11.0176</td> <td>    0.017</td> <td>  635.564</td> <td> 0.000</td> <td>   10.984</td> <td>   11.052</td>\n",
       "</tr>\n",
       "<tr>\n",
       "  <th>x1</th>    <td>   -2.1577</td> <td>    0.017</td> <td> -124.398</td> <td> 0.000</td> <td>   -2.192</td> <td>   -2.124</td>\n",
       "</tr>\n",
       "</table>\n",
       "<table class=\"simpletable\">\n",
       "<tr>\n",
       "  <th>Omnibus:</th>       <td>13641.812</td> <th>  Durbin-Watson:     </th> <td>   1.837</td> \n",
       "</tr>\n",
       "<tr>\n",
       "  <th>Prob(Omnibus):</th>  <td> 0.000</td>   <th>  Jarque-Bera (JB):  </th> <td>81676.750</td>\n",
       "</tr>\n",
       "<tr>\n",
       "  <th>Skew:</th>           <td> 1.799</td>   <th>  Prob(JB):          </th> <td>    0.00</td> \n",
       "</tr>\n",
       "<tr>\n",
       "  <th>Kurtosis:</th>       <td> 9.620</td>   <th>  Cond. No.          </th> <td>    1.00</td> \n",
       "</tr>\n",
       "</table><br/><br/>Notes:<br/>[1] Standard Errors assume that the covariance matrix of the errors is correctly specified."
      ],
      "text/plain": [
       "<class 'statsmodels.iolib.summary.Summary'>\n",
       "\"\"\"\n",
       "                            OLS Regression Results                            \n",
       "==============================================================================\n",
       "Dep. Variable:                      y   R-squared:                       0.309\n",
       "Model:                            OLS   Adj. R-squared:                  0.309\n",
       "Method:                 Least Squares   F-statistic:                 1.547e+04\n",
       "Date:                Fri, 22 Jul 2022   Prob (F-statistic):               0.00\n",
       "Time:                        11:41:27   Log-Likelihood:                -89378.\n",
       "No. Observations:               34527   AIC:                         1.788e+05\n",
       "Df Residuals:                   34525   BIC:                         1.788e+05\n",
       "Df Model:                           1                                         \n",
       "Covariance Type:            nonrobust                                         \n",
       "==============================================================================\n",
       "                 coef    std err          t      P>|t|      [0.025      0.975]\n",
       "------------------------------------------------------------------------------\n",
       "const         11.0176      0.017    635.564      0.000      10.984      11.052\n",
       "x1            -2.1577      0.017   -124.398      0.000      -2.192      -2.124\n",
       "==============================================================================\n",
       "Omnibus:                    13641.812   Durbin-Watson:                   1.837\n",
       "Prob(Omnibus):                  0.000   Jarque-Bera (JB):            81676.750\n",
       "Skew:                           1.799   Prob(JB):                         0.00\n",
       "Kurtosis:                       9.620   Cond. No.                         1.00\n",
       "==============================================================================\n",
       "\n",
       "Notes:\n",
       "[1] Standard Errors assume that the covariance matrix of the errors is correctly specified.\n",
       "\"\"\""
      ]
     },
     "execution_count": 66,
     "metadata": {},
     "output_type": "execute_result"
    }
   ],
   "source": [
    "fea_se = [2,4,5,9]\n",
    "fea_se = [i for i in range(10)]\n",
    "fea_se = [2]\n",
    "X = sm.add_constant(x_rela[:,fea_se])\n",
    "model = sm.OLS(y_rela*10000,X)\n",
    "res = model.fit()\n",
    "res.summary()"
   ]
  },
  {
   "cell_type": "code",
   "execution_count": 67,
   "id": "561822a9",
   "metadata": {},
   "outputs": [
    {
     "data": {
      "text/plain": [
       "0.10253923515813265"
      ]
     },
     "execution_count": 67,
     "metadata": {},
     "output_type": "execute_result"
    }
   ],
   "source": [
    "params = res.params.copy()\n",
    "# params[[0,1,3,4,5]] *= -1\n",
    "corr = [np.corrcoef(np.sum((x_test_rela[i].cpu().numpy() * params[1:]),axis=1) + res.params[0],\n",
    "             y_test_rela[i].cpu().numpy()[:,0])[0,1] for i in range(80)]\n",
    "np.mean(corr)"
   ]
  },
  {
   "cell_type": "code",
   "execution_count": 115,
   "id": "5ca01331",
   "metadata": {},
   "outputs": [
    {
     "data": {
      "text/plain": [
       "array([[1.        , 0.62979848],\n",
       "       [0.62979848, 1.        ]])"
      ]
     },
     "execution_count": 115,
     "metadata": {},
     "output_type": "execute_result"
    }
   ],
   "source": [
    "params = res.params.copy()\n",
    "np.corrcoef(np.sum((x_rela * params[1:]),axis=1) + res.params[0],y_rela[:,0])"
   ]
  },
  {
   "cell_type": "code",
   "execution_count": 119,
   "id": "5b5e6f40",
   "metadata": {
    "scrolled": true
   },
   "outputs": [
    {
     "data": {
      "image/png": "[encoded data removed]",
      "text/plain": [
       "<Figure size 750x450 with 1 Axes>"
      ]
     },
     "metadata": {
      "needs_background": "light"
     },
     "output_type": "display_data"
    }
   ],
   "source": [
    "plt.figure(figsize=(5,3),dpi=150)\n",
    "tmp = res.params[1:]\n",
    "# tmp[0] *= -1\n",
    "# tmp[1] *= -1\n",
    "# tmp[3] *= -1\n",
    "# tmp[4] *= -1\n",
    "# tmp[5] *= -1\n",
    "\n",
    "# tmp[1] *= -1\n",
    "# tmp[2] *= -1\n",
    "plt.bar(np.array(fea_names)[fea_se], tmp)\n",
    "plt.xticks(rotation=90)\n",
    "\n",
    "plt.show()"
   ]
  }
 ],
 "metadata": {
  "kernelspec": {
   "display_name": "Python 3 (ipykernel)",
   "language": "python",
   "name": "python3"
  },
  "language_info": {
   "codemirror_mode": {
    "name": "ipython",
    "version": 3
   },
   "file_extension": ".py",
   "mimetype": "text/x-python",
   "name": "python",
   "nbconvert_exporter": "python",
   "pygments_lexer": "ipython3",
   "version": "3.9.12"
  }
 },
 "nbformat": 4,
 "nbformat_minor": 5
}
