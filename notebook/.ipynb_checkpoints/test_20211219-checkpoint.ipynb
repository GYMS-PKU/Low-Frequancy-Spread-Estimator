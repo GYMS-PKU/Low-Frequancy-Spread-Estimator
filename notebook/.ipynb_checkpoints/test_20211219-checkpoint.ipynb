{
 "cells": [
  {
   "cell_type": "markdown",
   "id": "7b2916cc",
   "metadata": {},
   "source": [
    "## 认识价差以及经典指标的测试（2021.12.19）"
   ]
  },
  {
   "cell_type": "code",
   "execution_count": 1,
   "id": "1aa7f470",
   "metadata": {
    "scrolled": false
   },
   "outputs": [],
   "source": [
    "import numpy as np\n",
    "import pandas as pd\n",
    "import matplotlib.pyplot as plt\n",
    "import importlib\n",
    "import sys\n",
    "sys.path.append('C:/Users/Administrator/Desktop/Repositories/Low-Frequency-Spread-Estimator')\n",
    "\n",
    "\n",
    "from SpreadEstimator.SpreadEstimator import SpreadEstimator"
   ]
  },
  {
   "cell_type": "code",
   "execution_count": 8,
   "id": "a8994bf5",
   "metadata": {},
   "outputs": [],
   "source": [
    "import SpreadEstimator\n",
    "importlib.reload(SpreadEstimator.SpreadEstimator)\n",
    "from SpreadEstimator.SpreadEstimator import SpreadEstimator"
   ]
  },
  {
   "cell_type": "code",
   "execution_count": 2,
   "id": "1870776e",
   "metadata": {
    "scrolled": true
   },
   "outputs": [],
   "source": [
    "se = SpreadEstimator()"
   ]
  },
  {
   "cell_type": "markdown",
   "id": "0c7f74dc",
   "metadata": {},
   "source": [
    "#### 任意绘制一个股票的平均日内价差2019年走势"
   ]
  },
  {
   "cell_type": "markdown",
   "id": "f8343469",
   "metadata": {},
   "source": [
    "### 简易测试几个随意构造的价差估计器的截面平均corr"
   ]
  },
  {
   "cell_type": "code",
   "execution_count": 3,
   "id": "3b5a487c",
   "metadata": {
    "scrolled": true
   },
   "outputs": [
    {
     "name": "stdout",
     "output_type": "stream",
     "text": [
      "mean corr: 0.1182, positive_corr_ratio: 0.9877, corr_IR: 2.3695\n"
     ]
    }
   ],
   "source": [
    "stats, signal = se.test_factor('div{high,low}')"
   ]
  },
  {
   "cell_type": "code",
   "execution_count": null,
   "id": "b4f8a1a1",
   "metadata": {},
   "outputs": [],
   "source": []
  }
 ],
 "metadata": {
  "kernelspec": {
   "display_name": "Python 3 (ipykernel)",
   "language": "python",
   "name": "python3"
  },
  "language_info": {
   "codemirror_mode": {
    "name": "ipython",
    "version": 3
   },
   "file_extension": ".py",
   "mimetype": "text/x-python",
   "name": "python",
   "nbconvert_exporter": "python",
   "pygments_lexer": "ipython3",
   "version": "3.8.5"
  }
 },
 "nbformat": 4,
 "nbformat_minor": 5
}
