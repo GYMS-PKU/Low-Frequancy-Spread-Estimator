{
 "cells": [
  {
   "cell_type": "markdown",
   "id": "7b2916cc",
   "metadata": {},
   "source": [
    "## 认识价差以及经典指标的测试（2021.12.19）"
   ]
  },
  {
   "cell_type": "code",
   "execution_count": 1,
   "id": "1aa7f470",
   "metadata": {
    "scrolled": false
   },
   "outputs": [],
   "source": [
    "import numpy as np\n",
    "import pandas as pd\n",
    "import matplotlib.pyplot as plt\n",
    "import importlib\n",
    "import sys\n",
    "sys.path.append('C:/Users/Administrator/Desktop/Repositories/Low-Frequency-Spread-Estimator')\n",
    "sys.path.append('C:/Users/Handsome Bad Guy/Desktop/Repositories/Low-Frequency-Spread-Estimator')\n",
    "\n",
    "from SpreadEstimator.SpreadEstimator import SpreadEstimator"
   ]
  },
  {
   "cell_type": "code",
   "execution_count": 2,
   "id": "a8994bf5",
   "metadata": {},
   "outputs": [],
   "source": [
    "import SpreadEstimator\n",
    "importlib.reload(SpreadEstimator.SpreadEstimator)\n",
    "from SpreadEstimator.SpreadEstimator import SpreadEstimator"
   ]
  },
  {
   "cell_type": "code",
   "execution_count": null,
   "id": "70993e03",
   "metadata": {},
   "outputs": [],
   "source": [
    "se = SpreadEstimator()"
   ]
  },
  {
   "cell_type": "markdown",
   "id": "441820a0",
   "metadata": {
    "scrolled": true
   },
   "source": [
    "#### 若在笔记本上使用，则运行以下block"
   ]
  },
  {
   "cell_type": "code",
   "execution_count": 3,
   "id": "8fb1111a",
   "metadata": {},
   "outputs": [],
   "source": [
    "se = SpreadEstimator(data_path='C:/Users/Handsome Bad Guy/Desktop/DailyData/data')"
   ]
  },
  {
   "cell_type": "markdown",
   "id": "f8343469",
   "metadata": {},
   "source": [
    "### 简易测试几个随意构造的价差估计器的截面平均corr"
   ]
  },
  {
   "cell_type": "code",
   "execution_count": 11,
   "id": "3b5a487c",
   "metadata": {
    "scrolled": true
   },
   "outputs": [
    {
     "name": "stdout",
     "output_type": "stream",
     "text": [
      "mean corr: 0.3971, positive_corr_ratio: 0.9856, corr_IR: 2.2469\n"
     ]
    }
   ],
   "source": [
    "stats, signal = se.test_factor('div{high,low}', corr_type='log', method='ts')"
   ]
  },
  {
   "cell_type": "code",
   "execution_count": null,
   "id": "cceea5b1",
   "metadata": {},
   "outputs": [],
   "source": []
  },
  {
   "cell_type": "code",
   "execution_count": 10,
   "id": "b4f8a1a1",
   "metadata": {},
   "outputs": [
    {
     "name": "stdout",
     "output_type": "stream",
     "text": [
      "0.41421356237309515\n",
      "0.1715728752538097\n"
     ]
    }
   ],
   "source": [
    "# HL estimator\n",
    "print(np.sqrt(2)-1)\n",
    "print(3-np.sqrt(2)*2)"
   ]
  },
  {
   "cell_type": "code",
   "execution_count": 12,
   "id": "e0ae8d59",
   "metadata": {},
   "outputs": [],
   "source": [
    "fml = 'minus{div{powv{tsmean{powv{minus{div{high,low},1},2},10},0.5},0.4142},'+\\\n",
    "'powv{div{tsmean{powv{minus{div{tsmax{high,2},tsmin{low,2}},1},2},10},0.1716},0.5}}'"
   ]
  },
  {
   "cell_type": "code",
   "execution_count": 15,
   "id": "e2c25ed0",
   "metadata": {},
   "outputs": [
    {
     "name": "stdout",
     "output_type": "stream",
     "text": [
      "mean corr: -0.1242, positive_corr_ratio: 0.0556, corr_IR: -1.7685\n"
     ]
    }
   ],
   "source": [
    "# fml = 'powv{div{tsmean{powv{minus{div{tsmax{high,2},tsmin{low,2}},1},2},10},0.1716},0.5}'\n",
    "stats, signal = se.test_factor(fml, corr_type='log',method='cs')"
   ]
  },
  {
   "cell_type": "code",
   "execution_count": 4,
   "id": "4e174feb",
   "metadata": {},
   "outputs": [
    {
     "data": {
      "text/plain": [
       "0.2299144875028941"
      ]
     },
     "execution_count": 4,
     "metadata": {},
     "output_type": "execute_result"
    }
   ],
   "source": [
    "np.nanmean(stats.corr)"
   ]
  },
  {
   "cell_type": "markdown",
   "id": "20688318",
   "metadata": {},
   "source": [
    "### 测试论文中的估计器"
   ]
  },
  {
   "cell_type": "code",
   "execution_count": 17,
   "id": "a80ba223",
   "metadata": {},
   "outputs": [],
   "source": [
    "from estimator.Roll1999 import roll"
   ]
  },
  {
   "cell_type": "code",
   "execution_count": 18,
   "id": "e5e6525f",
   "metadata": {},
   "outputs": [
    {
     "ename": "KeyError",
     "evalue": "'tscov'",
     "output_type": "error",
     "traceback": [
      "\u001b[1;31m---------------------------------------------------------------------------\u001b[0m",
      "\u001b[1;31mKeyError\u001b[0m                                  Traceback (most recent call last)",
      "\u001b[1;32m<ipython-input-18-33e411f0bf57>\u001b[0m in \u001b[0;36m<module>\u001b[1;34m\u001b[0m\n\u001b[0;32m      1\u001b[0m \u001b[1;31m# Roll 1999\u001b[0m\u001b[1;33m\u001b[0m\u001b[1;33m\u001b[0m\u001b[1;33m\u001b[0m\u001b[0m\n\u001b[1;32m----> 2\u001b[1;33m \u001b[0mstats\u001b[0m\u001b[1;33m,\u001b[0m \u001b[0msignal\u001b[0m \u001b[1;33m=\u001b[0m \u001b[0mse\u001b[0m\u001b[1;33m.\u001b[0m\u001b[0mtest_factor\u001b[0m\u001b[1;33m(\u001b[0m\u001b[1;34m'tscov{tspct{close,1}, 10}'\u001b[0m\u001b[1;33m,\u001b[0m \u001b[0mcorr_type\u001b[0m\u001b[1;33m=\u001b[0m\u001b[1;34m'log'\u001b[0m\u001b[1;33m,\u001b[0m\u001b[0mmethod\u001b[0m\u001b[1;33m=\u001b[0m\u001b[1;34m'cs'\u001b[0m\u001b[1;33m)\u001b[0m\u001b[1;33m\u001b[0m\u001b[1;33m\u001b[0m\u001b[0m\n\u001b[0m",
      "\u001b[1;32mC:/Users/Handsome Bad Guy/Desktop/Repositories/Low-Frequency-Spread-Estimator\\SpreadEstimator\\SpreadEstimator.py\u001b[0m in \u001b[0;36mtest_factor\u001b[1;34m(self, formula, start_date, end_date, method, corr_type, verbose)\u001b[0m\n\u001b[0;32m     45\u001b[0m         \u001b[1;33m:\u001b[0m\u001b[1;32mreturn\u001b[0m\u001b[1;33m:\u001b[0m \u001b[0m返回统计值以及该因子产生的信号矩阵\u001b[0m\u001b[1;33m\u001b[0m\u001b[1;33m\u001b[0m\u001b[0m\n\u001b[0;32m     46\u001b[0m         \"\"\"\n\u001b[1;32m---> 47\u001b[1;33m         stats, signal = self.autoformula.test_formula(formula, self.data, start_date=start_date,\n\u001b[0m\u001b[0;32m     48\u001b[0m                                                       end_date=end_date, method=method, corr_type=corr_type)\n\u001b[0;32m     49\u001b[0m \u001b[1;33m\u001b[0m\u001b[0m\n",
      "\u001b[1;32mC:/Users/Handsome Bad Guy/Desktop/Repositories/Low-Frequency-Spread-Estimator\\mytools\\AutoFormula\\AutoFormula.py\u001b[0m in \u001b[0;36mtest_formula\u001b[1;34m(self, formula, data, start_date, end_date, method, corr_type)\u001b[0m\n\u001b[0;32m    153\u001b[0m         \"\"\"\n\u001b[0;32m    154\u001b[0m         \u001b[1;32mif\u001b[0m \u001b[0mtype\u001b[0m\u001b[1;33m(\u001b[0m\u001b[0mformula\u001b[0m\u001b[1;33m)\u001b[0m \u001b[1;33m==\u001b[0m \u001b[0mstr\u001b[0m\u001b[1;33m:\u001b[0m\u001b[1;33m\u001b[0m\u001b[1;33m\u001b[0m\u001b[0m\n\u001b[1;32m--> 155\u001b[1;33m             \u001b[0mformula\u001b[0m \u001b[1;33m=\u001b[0m \u001b[0mself\u001b[0m\u001b[1;33m.\u001b[0m\u001b[0mformula_parser\u001b[0m\u001b[1;33m.\u001b[0m\u001b[0mparse\u001b[0m\u001b[1;33m(\u001b[0m\u001b[0mformula\u001b[0m\u001b[1;33m)\u001b[0m\u001b[1;33m\u001b[0m\u001b[1;33m\u001b[0m\u001b[0m\n\u001b[0m\u001b[0;32m    156\u001b[0m         \u001b[0msignal\u001b[0m \u001b[1;33m=\u001b[0m \u001b[0mself\u001b[0m\u001b[1;33m.\u001b[0m\u001b[0mcal_formula\u001b[0m\u001b[1;33m(\u001b[0m\u001b[0mformula\u001b[0m\u001b[1;33m,\u001b[0m \u001b[0mdata\u001b[0m\u001b[1;33m.\u001b[0m\u001b[0mdata_dic\u001b[0m\u001b[1;33m)\u001b[0m  \u001b[1;31m# 暂时为了方便，无论如何都计算整个回测区间的因子值\u001b[0m\u001b[1;33m\u001b[0m\u001b[1;33m\u001b[0m\u001b[0m\n\u001b[0;32m    157\u001b[0m \u001b[1;33m\u001b[0m\u001b[0m\n",
      "\u001b[1;32mC:/Users/Handsome Bad Guy/Desktop/Repositories/Low-Frequency-Spread-Estimator/mytools/AutoFormula\\FormulaParser.py\u001b[0m in \u001b[0;36mparse\u001b[1;34m(self, s)\u001b[0m\n\u001b[0;32m     79\u001b[0m                 \u001b[0ma\u001b[0m \u001b[1;33m+=\u001b[0m \u001b[1;36m1\u001b[0m\u001b[1;33m\u001b[0m\u001b[1;33m\u001b[0m\u001b[0m\n\u001b[0;32m     80\u001b[0m             \u001b[0mname\u001b[0m \u001b[1;33m=\u001b[0m \u001b[0ms\u001b[0m\u001b[1;33m[\u001b[0m\u001b[1;33m:\u001b[0m\u001b[0ma\u001b[0m\u001b[1;33m]\u001b[0m\u001b[1;33m\u001b[0m\u001b[1;33m\u001b[0m\u001b[0m\n\u001b[1;32m---> 81\u001b[1;33m             \u001b[0mnode\u001b[0m \u001b[1;33m=\u001b[0m \u001b[0mNode\u001b[0m\u001b[1;33m(\u001b[0m\u001b[0mname\u001b[0m\u001b[1;33m=\u001b[0m\u001b[0mname\u001b[0m\u001b[1;33m,\u001b[0m \u001b[0mvariable_type\u001b[0m\u001b[1;33m=\u001b[0m\u001b[1;34m'operation'\u001b[0m\u001b[1;33m,\u001b[0m \u001b[0moperation_type\u001b[0m\u001b[1;33m=\u001b[0m\u001b[0mself\u001b[0m\u001b[1;33m.\u001b[0m\u001b[0moperation_type_dic\u001b[0m\u001b[1;33m[\u001b[0m\u001b[0mname\u001b[0m\u001b[1;33m]\u001b[0m\u001b[1;33m)\u001b[0m\u001b[1;33m\u001b[0m\u001b[1;33m\u001b[0m\u001b[0m\n\u001b[0m\u001b[0;32m     82\u001b[0m             \u001b[1;32mif\u001b[0m \u001b[0mself\u001b[0m\u001b[1;33m.\u001b[0m\u001b[0moperation_type_dic\u001b[0m\u001b[1;33m[\u001b[0m\u001b[0mname\u001b[0m\u001b[1;33m]\u001b[0m \u001b[1;33m==\u001b[0m \u001b[1;34m'1'\u001b[0m\u001b[1;33m:\u001b[0m\u001b[1;33m\u001b[0m\u001b[1;33m\u001b[0m\u001b[0m\n\u001b[0;32m     83\u001b[0m                 \u001b[0mnode\u001b[0m\u001b[1;33m.\u001b[0m\u001b[0mleft\u001b[0m \u001b[1;33m=\u001b[0m \u001b[0mself\u001b[0m\u001b[1;33m.\u001b[0m\u001b[0mparse\u001b[0m\u001b[1;33m(\u001b[0m\u001b[0ms\u001b[0m\u001b[1;33m[\u001b[0m\u001b[0ma\u001b[0m \u001b[1;33m+\u001b[0m \u001b[1;36m1\u001b[0m\u001b[1;33m:\u001b[0m\u001b[1;33m-\u001b[0m\u001b[1;36m1\u001b[0m\u001b[1;33m]\u001b[0m\u001b[1;33m)\u001b[0m\u001b[1;33m\u001b[0m\u001b[1;33m\u001b[0m\u001b[0m\n",
      "\u001b[1;31mKeyError\u001b[0m: 'tscov'"
     ]
    }
   ],
   "source": [
    "# Roll 1999\n",
    "stats, signal = se.test_factor('tscov{tspct{close,1}, 10}', corr_type='log',method='cs')"
   ]
  },
  {
   "cell_type": "code",
   "execution_count": null,
   "id": "2ac59be6",
   "metadata": {},
   "outputs": [],
   "source": []
  }
 ],
 "metadata": {
  "kernelspec": {
   "display_name": "Python 3",
   "language": "python",
   "name": "python3"
  },
  "language_info": {
   "codemirror_mode": {
    "name": "ipython",
    "version": 3
   },
   "file_extension": ".py",
   "mimetype": "text/x-python",
   "name": "python",
   "nbconvert_exporter": "python",
   "pygments_lexer": "ipython3",
   "version": "3.8.8"
  }
 },
 "nbformat": 4,
 "nbformat_minor": 5
}
