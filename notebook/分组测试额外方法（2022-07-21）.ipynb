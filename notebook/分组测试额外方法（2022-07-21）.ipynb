{
 "cells": [
  {
   "cell_type": "markdown",
   "id": "ac4d691c",
   "metadata": {
    "pycharm": {
     "name": "#%% md\n"
    }
   },
   "source": [
    "### 分组测试额外方法\n",
    "2022-07-22\n",
    "- 重新生成数据并保存\n",
    "2022-08-10\n",
    "- 原始特征需要加入volume"
   ]
  },
  {
   "cell_type": "code",
   "execution_count": 1,
   "id": "bc08fd77",
   "metadata": {
    "pycharm": {
     "name": "#%%\n"
    }
   },
   "outputs": [],
   "source": [
    "import numpy as np\n",
    "import pandas as pd\n",
    "import matplotlib.pyplot as plt\n",
    "import importlib\n",
    "import sys\n",
    "sys.path.append('C:/Users/Administrator/Desktop/Repositories/Low-Frequency-Spread-Estimator')\n",
    "sys.path.append('C:/Users/18316/Desktop/Repositories/Low-Frequency-Spread-Estimator')\n",
    "sys.path.append('C:/Users/Handsome Bad Guy/Desktop/Repositories/Low-Frequency-Spread-Estimator')\n",
    "\n",
    "from SpreadEstimator.SpreadEstimator import SpreadEstimator\n",
    "from mytools.AutoTester import AutoTester\n",
    "\n",
    "from time import time\n",
    "\n",
    "import warnings\n",
    "warnings.filterwarnings(\"ignore\")\n",
    "\n",
    "se = SpreadEstimator()"
   ]
  },
  {
   "cell_type": "code",
   "execution_count": 2,
   "id": "4969d7fc",
   "metadata": {
    "pycharm": {
     "name": "#%%\n"
    }
   },
   "outputs": [],
   "source": [
    "univ = se.data.data_dic['volume'] > 0  # 当天有交易\n",
    "th = 0.8\n",
    "\n",
    "univ_2 = []\n",
    "for i in range(2081):\n",
    "    if np.sum(se.data.data_dic['close'][univ[:,i],i]>5) >= th * 243:\n",
    "        univ_2.append(1)\n",
    "    else:\n",
    "        univ_2.append(0)\n",
    "univ_2 = np.array(univ_2) > 0\n",
    "univ_2 = np.repeat(univ_2.reshape(1,2081), 243, 0)"
   ]
  },
  {
   "cell_type": "code",
   "execution_count": 3,
   "id": "a781c658",
   "metadata": {
    "pycharm": {
     "name": "#%%\n"
    }
   },
   "outputs": [],
   "source": [
    "def test_cs(signal, target, univ, back: int = 1):\n",
    "    corr = []\n",
    "    for i in range(signal.shape[0]):\n",
    "        if i < back-1:\n",
    "            continue\n",
    "        t = np.nanmean(target[i-back+1: i+1], axis=0)\n",
    "        se = (~np.isnan(t)) & (~np.isnan(signal[i])) & univ[i]\n",
    "        if np.sum(se) < 2:\n",
    "            continue\n",
    "        corr.append(np.corrcoef(signal[i, se], t[se])[0, 1])\n",
    "    print('{:.4f}'.format(np.mean(corr)))\n",
    "    return corr\n",
    "\n",
    "def test_ts(signal, target, univ, back: int = 1):\n",
    "    corr = []\n",
    "    new_t = np.zeros((len(target)-back+1, target.shape[1]))\n",
    "    for i in range(new_t.shape[0]):\n",
    "        new_t[i] = np.nanmean(target[i:i+back])\n",
    "    for i in range(signal.shape[1]):\n",
    "        t = new_t[:, i]\n",
    "        se = (~np.isnan(t)) & (~np.isnan(signal[back-1:, i])) & univ[back-1:, i]\n",
    "        if np.sum(se) < 2:\n",
    "            continue\n",
    "        corr.append(np.corrcoef(signal[back-1:, i][se], t[se])[0, 1])\n",
    "    print('{:.4f}'.format(np.mean(corr)))\n",
    "    return corr"
   ]
  },
  {
   "cell_type": "code",
   "execution_count": 4,
   "id": "f322ab85",
   "metadata": {
    "pycharm": {
     "name": "#%%\n"
    }
   },
   "outputs": [],
   "source": [
    "def test_rela(signal, all_univ):\n",
    "    print('rela cs')\n",
    "    for u in all_univ:\n",
    "        _ = test_cs(signal, se.data.spread_dic['relative_spread'], u, 20)\n",
    "    print()\n",
    "\n",
    "    print('rela ts')\n",
    "    for u in all_univ:\n",
    "        _ = test_ts(signal, se.data.spread_dic['relative_spread'], u, 20)\n",
    "    print()\n",
    "\n",
    "    print('vol_wtd_rel_bas cs ')\n",
    "    for u in all_univ:\n",
    "        _ = test_cs(signal, se.data.spread_dic['vol_wtd_rel_bas'], u, 20)\n",
    "    print()\n",
    "\n",
    "    print('vol_wtd_rel_bas ts ')\n",
    "    for u in all_univ:\n",
    "        _ = test_ts(signal, se.data.spread_dic['vol_wtd_rel_bas'], u, 20)\n",
    "        \n",
    "def test_spread(signal, all_univ):\n",
    "    print('spread cs')\n",
    "    for u in all_univ:\n",
    "        _ = test_cs(signal, se.data.spread_dic['spread'], u, 20)\n",
    "    print()\n",
    "\n",
    "    print('spread ts')\n",
    "    for u in all_univ:\n",
    "        _ = test_ts(signal, se.data.spread_dic['spread'], u, 20)"
   ]
  },
  {
   "cell_type": "markdown",
   "id": "cc1c2f8a",
   "metadata": {
    "pycharm": {
     "name": "#%% md\n"
    }
   },
   "source": [
    "### 以下测试额外方法并保存signal数据"
   ]
  },
  {
   "cell_type": "code",
   "execution_count": 7,
   "id": "bcf98f5e",
   "metadata": {
    "pycharm": {
     "name": "#%%\n"
    }
   },
   "outputs": [],
   "source": [
    "signal_rela = np.zeros((243, 2081, 12), dtype=np.float32)  # 将LOT和Gibbs也加入\n",
    "signal_spread = np.zeros((243, 2081, 12), dtype=np.float32)"
   ]
  },
  {
   "cell_type": "code",
   "execution_count": 9,
   "id": "d2dec441",
   "metadata": {
    "collapsed": true,
    "pycharm": {
     "name": "#%%\n"
    }
   },
   "outputs": [
    {
     "name": "stdout",
     "output_type": "stream",
     "text": [
      "mean corr: -0.7744, positive_corr_ratio: 0.0000, corr_IR: -23.9731\n",
      "rela cs\n",
      "-0.6461\n",
      "\n",
      "rela ts\n",
      "-0.3886\n",
      "\n",
      "vol_wtd_rel_bas cs \n",
      "-0.6783\n",
      "\n",
      "vol_wtd_rel_bas ts \n",
      "-0.3743\n",
      "mean corr: -0.3925, positive_corr_ratio: 0.0000, corr_IR: -9.9491\n",
      "rela cs\n",
      "-0.3624\n",
      "\n",
      "rela ts\n",
      "-0.3807\n",
      "\n",
      "vol_wtd_rel_bas cs \n",
      "-0.3883\n",
      "\n",
      "vol_wtd_rel_bas ts \n",
      "-0.3662\n",
      "mean corr: -0.7741, positive_corr_ratio: 0.0000, corr_IR: -23.8753\n",
      "rela cs\n",
      "-0.6454\n",
      "\n",
      "rela ts\n",
      "-0.3879\n",
      "\n",
      "vol_wtd_rel_bas cs \n",
      "-0.6775\n",
      "\n",
      "vol_wtd_rel_bas ts \n",
      "-0.3720\n",
      "mean corr: -0.3920, positive_corr_ratio: 0.0000, corr_IR: -9.9100\n",
      "rela cs\n",
      "-0.3616\n",
      "\n",
      "rela ts\n",
      "-0.3797\n",
      "\n",
      "vol_wtd_rel_bas cs \n",
      "-0.3874\n",
      "\n",
      "vol_wtd_rel_bas ts \n",
      "-0.3637\n",
      "mean corr: -0.7743, positive_corr_ratio: 0.0000, corr_IR: -23.9354\n",
      "rela cs\n",
      "-0.6456\n",
      "\n",
      "rela ts\n",
      "-0.3759\n",
      "\n",
      "vol_wtd_rel_bas cs \n",
      "-0.6770\n",
      "\n",
      "vol_wtd_rel_bas ts \n",
      "-0.3590\n",
      "mean corr: -0.3920, positive_corr_ratio: 0.0000, corr_IR: -9.9942\n",
      "rela cs\n",
      "-0.3615\n",
      "\n",
      "rela ts\n",
      "-0.3678\n",
      "\n",
      "vol_wtd_rel_bas cs \n",
      "-0.3870\n",
      "\n",
      "vol_wtd_rel_bas ts \n",
      "-0.3507\n",
      "mean corr: -0.7743, positive_corr_ratio: 0.0000, corr_IR: -23.8779\n",
      "rela cs\n",
      "-0.6460\n",
      "\n",
      "rela ts\n",
      "-0.4006\n",
      "\n",
      "vol_wtd_rel_bas cs \n",
      "-0.6788\n",
      "\n",
      "vol_wtd_rel_bas ts \n",
      "-0.3872\n",
      "mean corr: -0.3925, positive_corr_ratio: 0.0000, corr_IR: -9.8531\n",
      "rela cs\n",
      "-0.3626\n",
      "\n",
      "rela ts\n",
      "-0.3928\n",
      "\n",
      "vol_wtd_rel_bas cs \n",
      "-0.3888\n",
      "\n",
      "vol_wtd_rel_bas ts \n",
      "-0.3792\n",
      "mean corr: 0.0392, positive_corr_ratio: 0.9241, corr_IR: 0.3626\n",
      "rela cs\n",
      "-0.2617\n",
      "\n",
      "rela ts\n",
      "-0.0571\n",
      "\n",
      "vol_wtd_rel_bas cs \n",
      "-0.2019\n",
      "\n",
      "vol_wtd_rel_bas ts \n",
      "-0.0155\n",
      "mean corr: -0.4011, positive_corr_ratio: 0.0000, corr_IR: -5.4286\n",
      "rela cs\n",
      "-0.5346\n",
      "\n",
      "rela ts\n",
      "-0.4911\n",
      "\n",
      "vol_wtd_rel_bas cs \n",
      "-0.5331\n",
      "\n",
      "vol_wtd_rel_bas ts \n",
      "-0.4783\n"
     ]
    }
   ],
   "source": [
    "# 价格和成交量以及市值\n",
    "names = ['open', 'close', 'high', 'low']\n",
    "for i in range(len(names)):\n",
    "    name = names[i]\n",
    "    fml = 'tsmean{logv{' + name + '},20}'\n",
    "    stats, signal = se.test_factor(fml, corr_type='linear', method='cs', spread_type='relative_spread')\n",
    "    test_rela(signal, [univ_2])\n",
    "    signal_rela[:, :, 6+i] = signal\n",
    "    \n",
    "    fml = 'tsmean{' + name + ',20}'\n",
    "    stats, signal = se.test_factor(fml, corr_type='linear', method='cs', spread_type='relative_spread')\n",
    "    test_rela(signal, [univ_2])\n",
    "    signal_spread[:, :, 6+i] = signal\n",
    "    \n",
    "names = ['volume', 'cap']\n",
    "for i in range(len(names)):\n",
    "    name = names[i]\n",
    "    fml = 'tsmean{logv{' + name + '},20}'\n",
    "    stats, signal = se.test_factor(fml, corr_type='linear', method='cs', spread_type='relative_spread')\n",
    "    test_rela(signal, [univ_2])\n",
    "    signal_rela[:, :, 10+i] = signal\n",
    "    signal_spread[:, :, 10+i] = signal"
   ]
  },
  {
   "cell_type": "markdown",
   "id": "d29e4790",
   "metadata": {
    "pycharm": {
     "name": "#%% md\n"
    }
   },
   "source": [
    "### 保存经典方法"
   ]
  },
  {
   "cell_type": "code",
   "execution_count": 10,
   "id": "f16ecb13",
   "metadata": {
    "pycharm": {
     "name": "#%%\n"
    }
   },
   "outputs": [
    {
     "name": "stdout",
     "output_type": "stream",
     "text": [
      "mean corr: -0.2082, positive_corr_ratio: 0.0000, corr_IR: -3.6871\n"
     ]
    }
   ],
   "source": [
    "# HL-rela\n",
    "beta = 'prod{tsmean{powv{minus{logv{high},logv{low}},2},2},2}'\n",
    "\n",
    "high_1 = 'logv{tsdelay{high,1}}'\n",
    "low_1 = 'logv{tsdelay{low,1}}'\n",
    "con_1 = 'condition{gt{logv{low},logv{tsdelay{close,1}}},minus{logv{low},logv{tsdelay{close,1}}},minus{close,close}}'\n",
    "con_2 = 'condition{lt{logv{high},logv{tsdelay{close,1}}},minus{logv{high},logv{tsdelay{close,1}}},minus{close,close}}'\n",
    "con = 'add{' + con_1 + ',' + con_2 + '}'\n",
    "high_2 = 'minus{logv{high},' + con + '}'\n",
    "low_2 = 'minus{logv{low},' + con + '}'\n",
    "high = 'condition{ge{' + high_1 + ',' + high_2 + '},' + high_1 + ',' + high_2 + '}'\n",
    "low = 'condition{le{' + low_1 + ',' + low_2 + '},' + low_1 + ',' + low_2 + '}'\n",
    "\n",
    "gamma = 'powv{minus{' + high + ',' + low + '},2}'\n",
    "alpha = 'div{prod{' + 'powv{' + beta + ',0.5},0.4142},0.1716}'\n",
    "fml = 'minus{' + alpha + ',' + 'powv{' + 'div{' + gamma + ',0.1716},0.5}}'\n",
    "\n",
    "fml = 'div{' + 'minus{expv{' + fml + '},1},' + 'add{expv{' + fml + '},1}}'\n",
    "fml = 'condition{' + 'ge{' + fml + ',0},' + fml + ',add{minus{close,close},0}}'\n",
    "fml = 'tsmean{' + fml + ',20}'\n",
    "\n",
    "fml = 'div{' + 'minus{expv{' + fml + '},1},' + 'add{expv{' + fml + '},1}}'\n",
    "fml = 'condition{' + 'ge{' + fml + ',0},' + fml + ',add{minus{close,close},0}}'\n",
    "fml = 'tsmean{' + fml + ',20}'\n",
    "stats, signal = se.test_factor(fml, corr_type='linear', method='cs', spread_type='relative_spread')\n",
    "signal_rela[:, :, 1] = signal"
   ]
  },
  {
   "cell_type": "code",
   "execution_count": 11,
   "id": "289c34f3",
   "metadata": {
    "pycharm": {
     "name": "#%%\n"
    }
   },
   "outputs": [
    {
     "name": "stdout",
     "output_type": "stream",
     "text": [
      "mean corr: 0.0994, positive_corr_ratio: 0.9279, corr_IR: 1.2409\n"
     ]
    }
   ],
   "source": [
    "# Roll-rela\n",
    "a = 'tsdelta{logv{close},1}'\n",
    "b = 'tsdelay{tsdelta{logv{close},1},1}'\n",
    "fml = 'prod{' + a + ',' + b + '}'\n",
    "fml = 'condition{' + 'ge{' + fml + ',0},' + fml + ',add{minus{close,close},0}}'\n",
    "fml = 'tsmean{' + fml + ',20}'\n",
    "fml = 'powv{' + fml + ',0.5}'\n",
    "\n",
    "stats, signal = se.test_factor(fml, corr_type='linear', method='cs', spread_type='spread')\n",
    "signal_rela[:, :, 0] = signal"
   ]
  },
  {
   "cell_type": "code",
   "execution_count": 12,
   "id": "5f158210",
   "metadata": {
    "pycharm": {
     "name": "#%%\n"
    }
   },
   "outputs": [
    {
     "name": "stdout",
     "output_type": "stream",
     "text": [
      "mean corr: -0.2317, positive_corr_ratio: 0.0000, corr_IR: -3.9265\n"
     ]
    }
   ],
   "source": [
    "# CHL-rela\n",
    "a = 'minus{logv{tsdelay{close,1}},div{add{logv{tsdelay{high,1}},logv{tsdelay{low,1}}},2}}'\n",
    "b = 'minus{logv{tsdelay{close,1}},div{add{logv{high},logv{low}},2}}'\n",
    "fml = 'prod{' + a + ',' + b + '}'\n",
    "fml = 'condition{' + 'ge{' + fml + ',0},' + fml + ',add{minus{close,close},0}}'\n",
    "fml = 'tsmean{' + fml + ',20}'\n",
    "fml = 'powv{' + fml + ',0.5}'\n",
    "\n",
    "stats, signal = se.test_factor(fml, corr_type='linear', method='cs', spread_type='relative_spread')\n",
    "signal_rela[:, :, 5] = signal"
   ]
  },
  {
   "cell_type": "code",
   "execution_count": 15,
   "id": "dbe0343e",
   "metadata": {
    "pycharm": {
     "name": "#%%\n"
    }
   },
   "outputs": [
    {
     "name": "stdout",
     "output_type": "stream",
     "text": [
      "mean corr: -0.4630, positive_corr_ratio: 0.0000, corr_IR: -16.7947\n"
     ]
    }
   ],
   "source": [
    "# HL-spread\n",
    "beta = 'prod{tsmean{powv{minus{high,low},2},2},2}'\n",
    "high_1 = 'tsdelay{high,1}'\n",
    "low_1 = 'tsdelay{low,1}'\n",
    "con_1 = 'condition{gt{low,tsdelay{close,1}},minus{low,tsdelay{close,1}},minus{close,close}}'\n",
    "con_2 = 'condition{lt{high,tsdelay{close,1}},minus{high,tsdelay{close,1}},minus{close,close}}'\n",
    "con = 'add{' + con_1 + ',' + con_2 + '}'\n",
    "high_2 = 'minus{high,' + con + '}'\n",
    "low_2 = 'minus{low,' + con + '}'\n",
    "high = 'condition{ge{' + high_1 + ',' + high_2 + '},' + high_1 + ',' + high_2 + '}'\n",
    "low = 'condition{le{' + low_1 + ',' + low_2 + '},' + low_1 + ',' + low_2 + '}'\n",
    "\n",
    "gamma = 'powv{minus{' + high + ',' + low + '},2}'\n",
    "alpha = 'div{prod{' + 'powv{' + beta + ',0.5},0.4142},0.1716}'\n",
    "fml = 'minus{' + alpha + ',' + 'powv{' + 'div{' + gamma + ',0.1716},0.5}}'\n",
    "\n",
    "fml = 'div{' + 'minus{expv{' + fml + '},1},' + 'add{expv{' + fml + '},1}}'\n",
    "fml = 'condition{' + 'ge{' + fml + ',0},' + fml + ',add{minus{close,close},0}}'\n",
    "fml = 'tsmean{' + fml + ',20}'\n",
    "stats, signal = se.test_factor(fml, corr_type='linear', method='cs', spread_type='relative_spread')\n",
    "\n",
    "signal_spread[:, :, 1] = signal"
   ]
  },
  {
   "cell_type": "code",
   "execution_count": 16,
   "id": "9582caf1",
   "metadata": {
    "pycharm": {
     "name": "#%%\n"
    }
   },
   "outputs": [
    {
     "name": "stdout",
     "output_type": "stream",
     "text": [
      "mean corr: 0.7924, positive_corr_ratio: 1.0000, corr_IR: 18.7505\n"
     ]
    }
   ],
   "source": [
    "a = 'tsdelta{close,1}'\n",
    "b = 'tsdelay{tsdelta{close,1},1}'\n",
    "fml = 'prod{' + a + ',' + b + '}'\n",
    "fml = 'condition{' + 'ge{' + fml + ',0},' + fml + ',add{minus{close,close},0}}'\n",
    "fml = 'tsmean{' + fml + ',20}'\n",
    "fml = 'powv{' + fml + ',0.5}'\n",
    "\n",
    "stats, signal = se.test_factor(fml, corr_type='linear', method='cs', spread_type='spread')\n",
    "\n",
    "signal_spread[:, :, 0] = signal"
   ]
  },
  {
   "cell_type": "code",
   "execution_count": 17,
   "id": "2e5d72bd",
   "metadata": {
    "pycharm": {
     "name": "#%%\n"
    }
   },
   "outputs": [
    {
     "name": "stdout",
     "output_type": "stream",
     "text": [
      "mean corr: -0.3688, positive_corr_ratio: 0.0000, corr_IR: -8.7364\n"
     ]
    }
   ],
   "source": [
    "a = 'minus{tsdelay{close,1},div{add{tsdelay{high,1},tsdelay{low,1}},2}}'\n",
    "b = 'minus{tsdelay{close,1},div{add{high,low},2}}'\n",
    "fml = 'prod{' + a + ',' + b + '}'\n",
    "fml = 'condition{' + 'ge{' + fml + ',0},' + fml + ',add{minus{close,close},0}}'\n",
    "fml = 'tsmean{' + fml + ',20}'\n",
    "fml = 'powv{' + fml + ',0.5}'\n",
    "\n",
    "stats, signal = se.test_factor(fml, corr_type='linear', method='cs', spread_type='relative_spread')\n",
    "signal_spread[:, :, 5] = signal"
   ]
  },
  {
   "cell_type": "markdown",
   "id": "f8415f5a",
   "metadata": {
    "pycharm": {
     "name": "#%% md\n"
    }
   },
   "source": [
    "#### LOT和Gibbs"
   ]
  },
  {
   "cell_type": "code",
   "execution_count": 20,
   "id": "b9a2dea5",
   "metadata": {
    "pycharm": {
     "name": "#%%\n"
    }
   },
   "outputs": [],
   "source": [
    "import pickle\n",
    "with open(r\"D:\\Documents\\学习资料\\本科毕业论文\\data\\LOT.pkl\", 'rb') as f:\n",
    "    LOT = pickle.load(f)\n",
    "signal_rela[:, :,  2:4] = LOT\n",
    "signal_spread[:, :, 2:4] = LOT"
   ]
  },
  {
   "cell_type": "code",
   "execution_count": 21,
   "id": "dd79c2de",
   "metadata": {
    "pycharm": {
     "name": "#%%\n"
    }
   },
   "outputs": [],
   "source": [
    "path = r\"C:\\Users\\18316\\Desktop\\Repositories\\Low-Frequency-Spread-Estimator\\estimator\\cache\"\n",
    "gibbs = np.zeros((243, 2081), dtype=np.float32)\n",
    "for i in range(9):\n",
    "    gibbs[20+21*i:41+21*i] = np.load('{}/{}.npy'.format(path, i))\n",
    "i = 9\n",
    "gibbs[20+21*i:] = np.load('{}/{}.npy'.format(path, i))\n",
    "\n",
    "signal_rela[:, :,  4] = gibbs\n",
    "signal_spread[:, :, 4] = gibbs"
   ]
  },
  {
   "cell_type": "code",
   "execution_count": 22,
   "id": "977ef1cc",
   "metadata": {
    "pycharm": {
     "name": "#%%\n"
    }
   },
   "outputs": [],
   "source": [
    "import pickle\n",
    "with open(r\"D:\\Documents\\学习资料\\本科毕业论文\\data\\signal_rela.pkl\", 'wb') as f:\n",
    "    pickle.dump(signal_rela, f)\n",
    "with open(r\"D:\\Documents\\学习资料\\本科毕业论文\\data\\signal_spread.pkl\", 'wb') as f:\n",
    "    pickle.dump(signal_spread, f)"
   ]
  },
  {
   "cell_type": "markdown",
   "id": "6dca0ec4",
   "metadata": {
    "pycharm": {
     "name": "#%% md\n"
    }
   },
   "source": [
    "### 测试新的算子"
   ]
  },
  {
   "cell_type": "code",
   "execution_count": 204,
   "id": "68286ee5",
   "metadata": {
    "pycharm": {
     "name": "#%%\n"
    }
   },
   "outputs": [
    {
     "name": "stdout",
     "output_type": "stream",
     "text": [
      "mean corr: -0.2177, positive_corr_ratio: 0.0000, corr_IR: -4.5677\n",
      "\n",
      "rela cs\n",
      "-0.0957\n",
      "\n",
      "rela ts\n",
      "0.1054\n",
      "\n",
      "vol_wtd_rel_bas cs \n",
      "-0.1091\n",
      "\n",
      "vol_wtd_rel_bas ts \n",
      "0.1255\n"
     ]
    }
   ],
   "source": [
    "fml = 'tsmean{absv{div{minus{close,open},minus{high,close}}},20}'\n",
    "stats, signal = se.test_factor(fml, corr_type='linear', method='cs', spread_type='relative_spread')\n",
    "print()\n",
    "\n",
    "test_rela(signal, [univ_2])"
   ]
  },
  {
   "cell_type": "code",
   "execution_count": null,
   "id": "efbce389",
   "metadata": {
    "pycharm": {
     "name": "#%%\n"
    }
   },
   "outputs": [],
   "source": [
    "fmls = [\n",
    "    'tsmean{div{close,open},20}',\n",
    "    'tsmean{absv{tspct{close,1}},20}',\n",
    "    'tsmean{logv{volume},20}',\n",
    "    'tsmean{tspct{minus{div{high,low},1},1},19}',\n",
    "    'tsstd{minus{div{high,low},1},20}',\n",
    "    'tsmean{absv{div{minus{close,open},minus{high,close}}},20}'\n",
    "]"
   ]
  },
  {
   "cell_type": "markdown",
   "id": "59c53216",
   "metadata": {
    "pycharm": {
     "name": "#%% md\n"
    }
   },
   "source": [
    "### 尝试将四个对数价格放进去，看看能不能学到"
   ]
  },
  {
   "cell_type": "code",
   "execution_count": 9,
   "id": "45bc49a5",
   "metadata": {
    "pycharm": {
     "name": "#%%\n"
    }
   },
   "outputs": [],
   "source": [
    "signal_rela = np.zeros((243, 2081, 4 + 4))"
   ]
  },
  {
   "cell_type": "code",
   "execution_count": 12,
   "id": "fb37db77",
   "metadata": {
    "pycharm": {
     "name": "#%%\n"
    }
   },
   "outputs": [
    {
     "name": "stdout",
     "output_type": "stream",
     "text": [
      "mean corr: -0.7744, positive_corr_ratio: 0.0000, corr_IR: -23.9731\n",
      "\n",
      "rela cs\n",
      "-0.2840\n",
      "\n",
      "rela ts\n",
      "-0.3795\n",
      "\n",
      "vol_wtd_rel_bas cs \n",
      "-0.3280\n",
      "\n",
      "vol_wtd_rel_bas ts \n",
      "-0.3675\n",
      "mean corr: -0.7741, positive_corr_ratio: 0.0000, corr_IR: -23.8753\n",
      "\n",
      "rela cs\n",
      "-0.2830\n",
      "\n",
      "rela ts\n",
      "-0.3788\n",
      "\n",
      "vol_wtd_rel_bas cs \n",
      "-0.3267\n",
      "\n",
      "vol_wtd_rel_bas ts \n",
      "-0.3654\n",
      "mean corr: -0.7743, positive_corr_ratio: 0.0000, corr_IR: -23.9354\n",
      "\n",
      "rela cs\n",
      "-0.2828\n",
      "\n",
      "rela ts\n",
      "-0.3689\n",
      "\n",
      "vol_wtd_rel_bas cs \n",
      "-0.3256\n",
      "\n",
      "vol_wtd_rel_bas ts \n",
      "-0.3545\n",
      "mean corr: -0.7743, positive_corr_ratio: 0.0000, corr_IR: -23.8779\n",
      "\n",
      "rela cs\n",
      "-0.2843\n",
      "\n",
      "rela ts\n",
      "-0.3894\n",
      "\n",
      "vol_wtd_rel_bas cs \n",
      "-0.3291\n",
      "\n",
      "vol_wtd_rel_bas ts \n",
      "-0.3783\n",
      "mean corr: -0.4011, positive_corr_ratio: 0.0000, corr_IR: -5.4286\n",
      "\n",
      "rela cs\n",
      "-0.5754\n",
      "\n",
      "rela ts\n",
      "-0.5267\n",
      "\n",
      "vol_wtd_rel_bas cs \n",
      "-0.5782\n",
      "\n",
      "vol_wtd_rel_bas ts \n",
      "-0.5170\n"
     ]
    }
   ],
   "source": [
    "# 四个价格\n",
    "fmls = [\n",
    "    'tsmean{logv{open},20}',\n",
    "    'tsmean{logv{close},20}',\n",
    "    'tsmean{logv{high},20}',\n",
    "    'tsmean{logv{low},20}',\n",
    "    'tsmean{logv{cap},20}',\n",
    "]\n",
    "\n",
    "for i in range(len(fmls)):\n",
    "    fml = fmls[i]\n",
    "\n",
    "    stats, signal = se.test_factor(fml, corr_type='linear', method='cs', spread_type='relative_spread')\n",
    "    # signal[signal!=0] = 1 / signal[signal!=0]\n",
    "    print()\n",
    "\n",
    "    test_rela(signal, [univ_2])\n",
    "    # print()\n",
    "    # signal[signal!=0] = 1 / signal[signal!=0]\n",
    "    # test_spread(signal, [univ_2])\n",
    "\n",
    "    signal_rela[:, :, i] = signal"
   ]
  },
  {
   "cell_type": "markdown",
   "id": "4fd1afb4",
   "metadata": {
    "pycharm": {
     "name": "#%% md\n"
    }
   },
   "source": [
    "### renew target"
   ]
  },
  {
   "cell_type": "code",
   "execution_count": 25,
   "id": "ff488c5c",
   "metadata": {
    "pycharm": {
     "name": "#%%\n"
    }
   },
   "outputs": [],
   "source": [
    "target_wrela = se.data.spread_dic['relative_spread'].copy()\n",
    "for i in range(20,243):\n",
    "    t = np.nanmean(se.data.spread_dic['vol_wtd_rel_bas'][i-20:i],axis=0)\n",
    "    target_wrela[i-1] = t"
   ]
  },
  {
   "cell_type": "code",
   "execution_count": 23,
   "id": "a62b9d9c",
   "metadata": {
    "pycharm": {
     "name": "#%%\n"
    }
   },
   "outputs": [
    {
     "data": {
      "text/plain": [
       "dict_keys(['spread', 'relative_spread', 'vol_wtd_rel_bas', 'vol_wtd_bas'])"
      ]
     },
     "execution_count": 23,
     "metadata": {},
     "output_type": "execute_result"
    }
   ],
   "source": [
    "se.data.spread_dic.keys()"
   ]
  },
  {
   "cell_type": "code",
   "execution_count": 214,
   "id": "35fcf219",
   "metadata": {
    "pycharm": {
     "name": "#%%\n"
    }
   },
   "outputs": [],
   "source": [
    "with open(r\"D:\\Documents\\学习资料\\本科毕业论文\\data\\target_rela.pkl\", 'wb') as f:\n",
    "    pickle.dump(target_rela, f)"
   ]
  },
  {
   "cell_type": "code",
   "execution_count": 26,
   "id": "60b22f6e",
   "metadata": {
    "pycharm": {
     "name": "#%%\n"
    }
   },
   "outputs": [],
   "source": [
    "with open(r\"D:\\Documents\\学习资料\\本科毕业论文\\data\\target_wrela.pkl\", 'wb') as f:\n",
    "    pickle.dump(target_wrela, f)"
   ]
  },
  {
   "cell_type": "code",
   "execution_count": 219,
   "id": "54b8bd99",
   "metadata": {
    "pycharm": {
     "name": "#%%\n"
    }
   },
   "outputs": [],
   "source": [
    "import torch\n",
    "x = torch.zeros(2, dtype=torch.int)\n",
    "y = torch.clone(x)"
   ]
  },
  {
   "cell_type": "code",
   "execution_count": 220,
   "id": "9649ff00",
   "metadata": {
    "pycharm": {
     "name": "#%%\n"
    }
   },
   "outputs": [
    {
     "ename": "RuntimeError",
     "evalue": "nanmean(): expected input to have floating point dtype but got Int",
     "output_type": "error",
     "traceback": [
      "\u001B[1;31m---------------------------------------------------------------------------\u001B[0m",
      "\u001B[1;31mRuntimeError\u001B[0m                              Traceback (most recent call last)",
      "Input \u001B[1;32mIn [220]\u001B[0m, in \u001B[0;36m<cell line: 1>\u001B[1;34m()\u001B[0m\n\u001B[1;32m----> 1\u001B[0m \u001B[43mtorch\u001B[49m\u001B[38;5;241;43m.\u001B[39;49m\u001B[43mnanmean\u001B[49m\u001B[43m(\u001B[49m\u001B[43mx\u001B[49m\u001B[43m)\u001B[49m\n",
      "\u001B[1;31mRuntimeError\u001B[0m: nanmean(): expected input to have floating point dtype but got Int"
     ]
    }
   ],
   "source": [
    "torch.nanmean(x)"
   ]
  },
  {
   "cell_type": "code",
   "execution_count": 222,
   "id": "3679575b",
   "metadata": {
    "pycharm": {
     "name": "#%%\n"
    }
   },
   "outputs": [
    {
     "data": {
      "text/plain": [
       "(tensor([0, 1]),)"
      ]
     },
     "execution_count": 222,
     "metadata": {},
     "output_type": "execute_result"
    }
   ],
   "source": [
    "torch.where(x==0)"
   ]
  },
  {
   "cell_type": "code",
   "execution_count": null,
   "id": "7b834c36",
   "metadata": {
    "pycharm": {
     "name": "#%%\n"
    }
   },
   "outputs": [],
   "source": []
  }
 ],
 "metadata": {
  "kernelspec": {
   "display_name": "Python 3 (ipykernel)",
   "language": "python",
   "name": "python3"
  },
  "language_info": {
   "codemirror_mode": {
    "name": "ipython",
    "version": 3
   },
   "file_extension": ".py",
   "mimetype": "text/x-python",
   "name": "python",
   "nbconvert_exporter": "python",
   "pygments_lexer": "ipython3",
   "version": "3.9.12"
  }
 },
 "nbformat": 4,
 "nbformat_minor": 5
}