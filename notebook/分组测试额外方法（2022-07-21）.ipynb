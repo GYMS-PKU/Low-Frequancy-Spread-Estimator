{
 "cells": [
  {
   "cell_type": "markdown",
   "id": "ac4d691c",
   "metadata": {},
   "source": [
    "### 分组测试额外方法\n",
    "2022-07-22\n",
    "- 重新生成数据并保存"
   ]
  },
  {
   "cell_type": "code",
   "execution_count": 1,
   "id": "bc08fd77",
   "metadata": {},
   "outputs": [],
   "source": [
    "import numpy as np\n",
    "import pandas as pd\n",
    "import matplotlib.pyplot as plt\n",
    "import importlib\n",
    "import sys\n",
    "sys.path.append('C:/Users/Administrator/Desktop/Repositories/Low-Frequency-Spread-Estimator')\n",
    "sys.path.append('C:/Users/18316/Desktop/Repositories/Low-Frequency-Spread-Estimator')\n",
    "sys.path.append('C:/Users/Handsome Bad Guy/Desktop/Repositories/Low-Frequency-Spread-Estimator')\n",
    "\n",
    "from SpreadEstimator.SpreadEstimator import SpreadEstimator\n",
    "from mytools.AutoTester import AutoTester\n",
    "\n",
    "from time import time\n",
    "\n",
    "import warnings\n",
    "warnings.filterwarnings(\"ignore\")\n",
    "\n",
    "se = SpreadEstimator()"
   ]
  },
  {
   "cell_type": "code",
   "execution_count": 2,
   "id": "4969d7fc",
   "metadata": {},
   "outputs": [],
   "source": [
    "univ = se.data.data_dic['volume'] > 0  # 当天有交易\n",
    "th = 0.8\n",
    "\n",
    "univ_2 = []\n",
    "for i in range(2081):\n",
    "    if np.sum(se.data.data_dic['close'][univ[:,i],i]>10) >= th * 243:\n",
    "        univ_2.append(1)\n",
    "    else:\n",
    "        univ_2.append(0)\n",
    "univ_2 = np.array(univ_2) > 0\n",
    "univ_2 = np.repeat(univ_2.reshape(1,2081), 243, 0)"
   ]
  },
  {
   "cell_type": "code",
   "execution_count": 3,
   "id": "a781c658",
   "metadata": {},
   "outputs": [],
   "source": [
    "def test_cs(signal, target, univ, back: int = 1):\n",
    "    corr = []\n",
    "    for i in range(signal.shape[0]):\n",
    "        if i < back-1:\n",
    "            continue\n",
    "        t = np.nanmean(target[i-back+1: i+1], axis=0)\n",
    "        se = (~np.isnan(t)) & (~np.isnan(signal[i])) & univ[i]\n",
    "        if np.sum(se) < 2:\n",
    "            continue\n",
    "        corr.append(np.corrcoef(signal[i, se], t[se])[0, 1])\n",
    "    print('{:.4f}'.format(np.mean(corr)))\n",
    "    return corr\n",
    "\n",
    "def test_ts(signal, target, univ, back: int = 1):\n",
    "    corr = []\n",
    "    new_t = np.zeros((len(target)-back+1, target.shape[1]))\n",
    "    for i in range(new_t.shape[0]):\n",
    "        new_t[i] = np.nanmean(target[i:i+back])\n",
    "    for i in range(signal.shape[1]):\n",
    "        t = new_t[:, i]\n",
    "        se = (~np.isnan(t)) & (~np.isnan(signal[back-1:, i])) & univ[back-1:, i]\n",
    "        if np.sum(se) < 2:\n",
    "            continue\n",
    "        corr.append(np.corrcoef(signal[back-1:, i][se], t[se])[0, 1])\n",
    "    print('{:.4f}'.format(np.mean(corr)))\n",
    "    return corr"
   ]
  },
  {
   "cell_type": "code",
   "execution_count": 4,
   "id": "f322ab85",
   "metadata": {},
   "outputs": [],
   "source": [
    "def test_rela(signal, all_univ):\n",
    "    print('rela cs')\n",
    "    for u in all_univ:\n",
    "        _ = test_cs(signal, se.data.spread_dic['relative_spread'], u, 20)\n",
    "    print()\n",
    "\n",
    "    print('rela ts')\n",
    "    for u in all_univ:\n",
    "        _ = test_ts(signal, se.data.spread_dic['relative_spread'], u, 20)\n",
    "    print()\n",
    "\n",
    "    print('vol_wtd_rel_bas cs ')\n",
    "    for u in all_univ:\n",
    "        _ = test_cs(signal, se.data.spread_dic['vol_wtd_rel_bas'], u, 20)\n",
    "    print()\n",
    "\n",
    "    print('vol_wtd_rel_bas ts ')\n",
    "    for u in all_univ:\n",
    "        _ = test_ts(signal, se.data.spread_dic['vol_wtd_rel_bas'], u, 20)\n",
    "        \n",
    "def test_spread(signal, all_univ):\n",
    "    print('spread cs')\n",
    "    for u in all_univ:\n",
    "        _ = test_cs(signal, se.data.spread_dic['spread'], u, 20)\n",
    "    print()\n",
    "\n",
    "    print('spread ts')\n",
    "    for u in all_univ:\n",
    "        _ = test_ts(signal, se.data.spread_dic['spread'], u, 20)"
   ]
  },
  {
   "cell_type": "markdown",
   "id": "cc1c2f8a",
   "metadata": {},
   "source": [
    "### 以下测试额外方法并保存signal数据"
   ]
  },
  {
   "cell_type": "code",
   "execution_count": 38,
   "id": "bcf98f5e",
   "metadata": {},
   "outputs": [],
   "source": [
    "signal_rela = np.zeros((243, 2081, 10), dtype=np.float32)\n",
    "signal_rela_full = np.zeros((243, 2081, 13), dtype=np.float32)  # 将LOT和Gibbs也加入\n",
    "signal_spread = np.zeros((243, 2081, 10), dtype=np.float32)"
   ]
  },
  {
   "cell_type": "code",
   "execution_count": 54,
   "id": "d2dec441",
   "metadata": {
    "scrolled": true
   },
   "outputs": [
    {
     "name": "stdout",
     "output_type": "stream",
     "text": [
      "mean corr: -0.3920, positive_corr_ratio: 0.0000, corr_IR: -9.9100\n",
      "\n",
      "rela cs\n",
      "0.3260\n",
      "\n",
      "rela ts\n",
      "0.3798\n",
      "\n",
      "vol_wtd_rel_bas cs \n",
      "0.3681\n",
      "\n",
      "vol_wtd_rel_bas ts \n",
      "0.3660\n"
     ]
    }
   ],
   "source": [
    "# 收盘价倒数\n",
    "fml = 'tsmean{close,20}'\n",
    "stats, signal = se.test_factor(fml, corr_type='linear', method='cs', spread_type='relative_spread')\n",
    "signal[signal!=0] = 1 / signal[signal!=0]\n",
    "print()\n",
    "\n",
    "test_rela(signal, [univ_2])\n",
    "# print()\n",
    "# signal[signal!=0] = 1 / signal[signal!=0]\n",
    "# test_spread(signal, [univ_2])\n",
    "\n",
    "signal_rela[:, :, -1] = signal"
   ]
  },
  {
   "cell_type": "code",
   "execution_count": 59,
   "id": "00366d45",
   "metadata": {},
   "outputs": [
    {
     "name": "stdout",
     "output_type": "stream",
     "text": [
      "0.2332\n"
     ]
    },
    {
     "data": {
      "text/plain": [
       "[<matplotlib.lines.Line2D at 0x25b2c4a7100>]"
      ]
     },
     "execution_count": 59,
     "metadata": {},
     "output_type": "execute_result"
    },
    {
     "data": {
      "image/png": "[encoded data removed]",
      "text/plain": [
       "<Figure size 432x288 with 1 Axes>"
      ]
     },
     "metadata": {
      "needs_background": "light"
     },
     "output_type": "display_data"
    }
   ],
   "source": [
    "corr = test_ts(signal[:,1400:], se.data.spread_dic['relative_spread'][:, 1400:], univ_2[:, 1400:], 1)\n",
    "plt.plot(corr)"
   ]
  },
  {
   "cell_type": "code",
   "execution_count": 57,
   "id": "b135e82d",
   "metadata": {},
   "outputs": [
    {
     "data": {
      "image/png": "[encoded data removed]",
      "text/plain": [
       "<Figure size 432x288 with 1 Axes>"
      ]
     },
     "metadata": {
      "needs_background": "light"
     },
     "output_type": "display_data"
    }
   ],
   "source": [
    "plt.hist(corr, bins=50)\n",
    "plt.show()"
   ]
  },
  {
   "cell_type": "code",
   "execution_count": 41,
   "id": "b2cff321",
   "metadata": {},
   "outputs": [
    {
     "name": "stdout",
     "output_type": "stream",
     "text": [
      "mean corr: -0.3036, positive_corr_ratio: 0.0135, corr_IR: -3.4353\n",
      "\n",
      "rela cs\n",
      "0.0273\n",
      "\n",
      "rela ts\n",
      "0.1710\n",
      "\n",
      "vol_wtd_rel_bas cs \n",
      "0.0895\n",
      "\n",
      "vol_wtd_rel_bas ts \n",
      "0.2189\n"
     ]
    }
   ],
   "source": [
    "# 收益率绝对值除以对数成交量\n",
    "fml = 'tsmean{div{absv{tspct{close,1}},logv{volume}},20}'\n",
    "stats, signal = se.test_factor(fml, corr_type='linear', method='cs', spread_type='relative_spread')\n",
    "print()\n",
    "\n",
    "test_rela(signal, [univ_2])\n",
    "# print()\n",
    "# signal[signal!=0] = 1 / signal[signal!=0]\n",
    "# test_spread(signal, [univ_2])\n",
    "signal_rela[:, :, 0] = signal"
   ]
  },
  {
   "cell_type": "code",
   "execution_count": 42,
   "id": "fd9080ac",
   "metadata": {},
   "outputs": [
    {
     "name": "stdout",
     "output_type": "stream",
     "text": [
      "mean corr: -0.2369, positive_corr_ratio: 0.0134, corr_IR: -2.9252\n",
      "\n",
      "rela cs\n",
      "0.0039\n",
      "\n",
      "rela ts\n",
      "0.0771\n",
      "\n",
      "vol_wtd_rel_bas cs \n",
      "0.0787\n",
      "\n",
      "vol_wtd_rel_bas ts \n",
      "0.1259\n"
     ]
    }
   ],
   "source": [
    "# 日振幅\n",
    "fml = 'tsmean{minus{div{high,low},1},20}'\n",
    "stats, signal = se.test_factor(fml, corr_type='linear', method='cs', spread_type='relative_spread')\n",
    "print()\n",
    "\n",
    "test_rela(signal, [univ_2])\n",
    "signal_rela[:, :, 1] = signal"
   ]
  },
  {
   "cell_type": "code",
   "execution_count": 43,
   "id": "8f9dbc34",
   "metadata": {},
   "outputs": [
    {
     "name": "stdout",
     "output_type": "stream",
     "text": [
      "mean corr: -0.4011, positive_corr_ratio: 0.0000, corr_IR: -5.4286\n",
      "\n",
      "rela cs\n",
      "-0.5754\n",
      "\n",
      "rela ts\n",
      "-0.5267\n",
      "\n",
      "vol_wtd_rel_bas cs \n",
      "-0.5782\n",
      "\n",
      "vol_wtd_rel_bas ts \n",
      "-0.5170\n"
     ]
    }
   ],
   "source": [
    "# 对数流通市值\n",
    "fml = 'tsmean{logv{cap},20}'\n",
    "stats, signal = se.test_factor(fml, corr_type='linear', method='cs', spread_type='relative_spread')\n",
    "print()\n",
    "\n",
    "test_rela(signal, [univ_2])\n",
    "signal_rela[:, :, 2] = signal"
   ]
  },
  {
   "cell_type": "code",
   "execution_count": 34,
   "id": "4765a355",
   "metadata": {},
   "outputs": [
    {
     "name": "stdout",
     "output_type": "stream",
     "text": [
      "-0.5754\n"
     ]
    }
   ],
   "source": [
    "corr = test_cs(signal, se.data.spread_dic['relative_spread'], univ_2, 20)"
   ]
  },
  {
   "cell_type": "code",
   "execution_count": 35,
   "id": "57df09a5",
   "metadata": {},
   "outputs": [
    {
     "data": {
      "text/plain": [
       "[<matplotlib.lines.Line2D at 0x25b2e7c31f0>]"
      ]
     },
     "execution_count": 35,
     "metadata": {},
     "output_type": "execute_result"
    },
    {
     "data": {
      "image/png": "[encoded data removed]",
      "text/plain": [
       "<Figure size 432x288 with 1 Axes>"
      ]
     },
     "metadata": {
      "needs_background": "light"
     },
     "output_type": "display_data"
    }
   ],
   "source": [
    "plt.plot(corr)"
   ]
  },
  {
   "cell_type": "code",
   "execution_count": 25,
   "id": "8db4229a",
   "metadata": {},
   "outputs": [
    {
     "data": {
      "text/plain": [
       "<matplotlib.collections.PathCollection at 0x25b2d6fccd0>"
      ]
     },
     "execution_count": 25,
     "metadata": {},
     "output_type": "execute_result"
    },
    {
     "data": {
      "image/png": "[encoded data removed]",
      "text/plain": [
       "<Figure size 432x288 with 1 Axes>"
      ]
     },
     "metadata": {
      "needs_background": "light"
     },
     "output_type": "display_data"
    }
   ],
   "source": [
    "plt.scatter(signal[50, univ_2[50]], se.data.spread_dic['relative_spread'][50, univ_2[50]])"
   ]
  },
  {
   "cell_type": "code",
   "execution_count": 29,
   "id": "a31b0616",
   "metadata": {},
   "outputs": [
    {
     "data": {
      "text/plain": [
       "<matplotlib.collections.PathCollection at 0x25b2e74a070>"
      ]
     },
     "execution_count": 29,
     "metadata": {},
     "output_type": "execute_result"
    },
    {
     "data": {
      "image/png": "[encoded data removed]",
      "text/plain": [
       "<Figure size 432x288 with 1 Axes>"
      ]
     },
     "metadata": {
      "needs_background": "light"
     },
     "output_type": "display_data"
    }
   ],
   "source": [
    "plt.scatter(np.log(se.data.data_dic['close'][50, univ_2[50]]), \n",
    "            np.log(se.data.data_dic['cap'][50, univ_2[50]]))"
   ]
  },
  {
   "cell_type": "code",
   "execution_count": 30,
   "id": "d45fc0d7",
   "metadata": {},
   "outputs": [
    {
     "data": {
      "text/plain": [
       "array([[1.        , 0.41124255],\n",
       "       [0.41124255, 1.        ]])"
      ]
     },
     "execution_count": 30,
     "metadata": {},
     "output_type": "execute_result"
    }
   ],
   "source": [
    "np.corrcoef(np.log(se.data.data_dic['close'][50, univ_2[50]]), \n",
    "            np.log(se.data.data_dic['cap'][50, univ_2[50]]))"
   ]
  },
  {
   "cell_type": "code",
   "execution_count": 215,
   "id": "43dfa37d",
   "metadata": {},
   "outputs": [
    {
     "name": "stdout",
     "output_type": "stream",
     "text": [
      "mean corr: -0.2177, positive_corr_ratio: 0.0000, corr_IR: -4.5677\n",
      "\n",
      "rela cs\n",
      "-0.0957\n",
      "\n",
      "rela ts\n",
      "0.1054\n",
      "\n",
      "vol_wtd_rel_bas cs \n",
      "-0.1091\n",
      "\n",
      "vol_wtd_rel_bas ts \n",
      "0.1255\n"
     ]
    }
   ],
   "source": [
    "# 隔夜收益率\n",
    "fml = 'tsmean{minus{div{open,tsdelay{close,1}},1},20}'\n",
    "fml = 'tsmean{absv{div{minus{close,open},minus{high,close}}},20}'\n",
    "stats, signal = se.test_factor(fml, corr_type='linear', method='cs', spread_type='relative_spread')\n",
    "print()\n",
    "\n",
    "test_rela(signal, [univ_2])\n",
    "signal_rela[:, :, 3] = signal"
   ]
  },
  {
   "cell_type": "code",
   "execution_count": 206,
   "id": "9babdfd3",
   "metadata": {},
   "outputs": [
    {
     "name": "stdout",
     "output_type": "stream",
     "text": [
      "mean corr: -0.0876, positive_corr_ratio: 0.1071, corr_IR: -0.7975\n",
      "\n",
      "rela cs\n",
      "0.1112\n",
      "\n",
      "rela ts\n",
      "0.0505\n",
      "\n",
      "vol_wtd_rel_bas cs \n",
      "0.1844\n",
      "\n",
      "vol_wtd_rel_bas ts \n",
      "0.0877\n"
     ]
    }
   ],
   "source": [
    "# 波动率\n",
    "fml = 'tspct{tspct{close,1},20}'\n",
    "fml = 'tsstd{minus{div{high,low},1},20}'\n",
    "stats, signal = se.test_factor(fml, corr_type='linear', method='cs', spread_type='relative_spread')\n",
    "print()\n",
    "\n",
    "test_rela(signal, [univ_2])\n",
    "signal_rela[:, :, 4] = signal"
   ]
  },
  {
   "cell_type": "code",
   "execution_count": 205,
   "id": "ff78665a",
   "metadata": {},
   "outputs": [
    {
     "name": "stdout",
     "output_type": "stream",
     "text": [
      "mean corr: 0.0566, positive_corr_ratio: 0.7768, corr_IR: 0.7146\n",
      "\n",
      "rela cs\n",
      "0.0820\n",
      "\n",
      "rela ts\n",
      "-0.0545\n",
      "\n",
      "vol_wtd_rel_bas cs \n",
      "0.0961\n",
      "\n",
      "vol_wtd_rel_bas ts \n",
      "-0.0544\n"
     ]
    }
   ],
   "source": [
    "# 20日振幅\n",
    "fml = 'div{tsmax{high,20},tsmin{low,20}}'\n",
    "fml = 'tsmean{tspct{minus{div{high,low},1},1},19}'\n",
    "stats, signal = se.test_factor(fml, corr_type='linear', method='cs', spread_type='relative_spread')\n",
    "print()\n",
    "\n",
    "test_rela(signal, [univ_2])\n",
    "signal_rela[:, :, 5] = signal"
   ]
  },
  {
   "cell_type": "markdown",
   "id": "d29e4790",
   "metadata": {},
   "source": [
    "### 保存经典方法"
   ]
  },
  {
   "cell_type": "code",
   "execution_count": 48,
   "id": "f16ecb13",
   "metadata": {},
   "outputs": [
    {
     "name": "stdout",
     "output_type": "stream",
     "text": [
      "mean corr: -0.2082, positive_corr_ratio: 0.0000, corr_IR: -3.6871\n"
     ]
    }
   ],
   "source": [
    "beta = 'prod{tsmean{powv{minus{logv{high},logv{low}},2},2},2}'\n",
    "\n",
    "high_1 = 'logv{tsdelay{high,1}}'\n",
    "low_1 = 'logv{tsdelay{low,1}}'\n",
    "con_1 = 'condition{gt{logv{low},logv{tsdelay{close,1}}},minus{logv{low},logv{tsdelay{close,1}}},minus{close,close}}'\n",
    "con_2 = 'condition{lt{logv{high},logv{tsdelay{close,1}}},minus{logv{high},logv{tsdelay{close,1}}},minus{close,close}}'\n",
    "con = 'add{' + con_1 + ',' + con_2 + '}'\n",
    "high_2 = 'minus{logv{high},' + con + '}'\n",
    "low_2 = 'minus{logv{low},' + con + '}'\n",
    "high = 'condition{ge{' + high_1 + ',' + high_2 + '},' + high_1 + ',' + high_2 + '}'\n",
    "low = 'condition{le{' + low_1 + ',' + low_2 + '},' + low_1 + ',' + low_2 + '}'\n",
    "\n",
    "gamma = 'powv{minus{' + high + ',' + low + '},2}'\n",
    "alpha = 'div{prod{' + 'powv{' + beta + ',0.5},0.4142},0.1716}'\n",
    "fml = 'minus{' + alpha + ',' + 'powv{' + 'div{' + gamma + ',0.1716},0.5}}'\n",
    "\n",
    "fml = 'div{' + 'minus{expv{' + fml + '},1},' + 'add{expv{' + fml + '},1}}'\n",
    "fml = 'condition{' + 'ge{' + fml + ',0},' + fml + ',add{minus{close,close},0}}'\n",
    "fml = 'tsmean{' + fml + ',20}'\n",
    "\n",
    "fml = 'div{' + 'minus{expv{' + fml + '},1},' + 'add{expv{' + fml + '},1}}'\n",
    "fml = 'condition{' + 'ge{' + fml + ',0},' + fml + ',add{minus{close,close},0}}'\n",
    "fml = 'tsmean{' + fml + ',20}'\n",
    "stats, signal = se.test_factor(fml, corr_type='linear', method='cs', spread_type='relative_spread')\n",
    "signal_rela[:, :, 6] = signal"
   ]
  },
  {
   "cell_type": "code",
   "execution_count": 49,
   "id": "289c34f3",
   "metadata": {},
   "outputs": [
    {
     "name": "stdout",
     "output_type": "stream",
     "text": [
      "mean corr: 0.0994, positive_corr_ratio: 0.9279, corr_IR: 1.2409\n"
     ]
    }
   ],
   "source": [
    "a = 'tsdelta{logv{close},1}'\n",
    "b = 'tsdelay{tsdelta{logv{close},1},1}'\n",
    "fml = 'prod{' + a + ',' + b + '}'\n",
    "fml = 'condition{' + 'ge{' + fml + ',0},' + fml + ',add{minus{close,close},0}}'\n",
    "fml = 'tsmean{' + fml + ',20}'\n",
    "fml = 'powv{' + fml + ',0.5}'\n",
    "\n",
    "stats, signal = se.test_factor(fml, corr_type='linear', method='cs', spread_type='spread')\n",
    "signal_rela[:, :, 7] = signal"
   ]
  },
  {
   "cell_type": "code",
   "execution_count": 50,
   "id": "5f158210",
   "metadata": {},
   "outputs": [
    {
     "name": "stdout",
     "output_type": "stream",
     "text": [
      "mean corr: -0.2317, positive_corr_ratio: 0.0000, corr_IR: -3.9265\n"
     ]
    }
   ],
   "source": [
    "a = 'minus{logv{tsdelay{close,1}},div{add{logv{tsdelay{high,1}},logv{tsdelay{low,1}}},2}}'\n",
    "b = 'minus{logv{tsdelay{close,1}},div{add{logv{high},logv{low}},2}}'\n",
    "fml = 'prod{' + a + ',' + b + '}'\n",
    "fml = 'condition{' + 'ge{' + fml + ',0},' + fml + ',add{minus{close,close},0}}'\n",
    "fml = 'tsmean{' + fml + ',20}'\n",
    "fml = 'powv{' + fml + ',0.5}'\n",
    "\n",
    "stats, signal = se.test_factor(fml, corr_type='linear', method='cs', spread_type='relative_spread')\n",
    "signal_rela[:, :, 8] = signal"
   ]
  },
  {
   "cell_type": "code",
   "execution_count": 216,
   "id": "977ef1cc",
   "metadata": {},
   "outputs": [],
   "source": [
    "import pickle\n",
    "with open(r\"D:\\Documents\\学习资料\\本科毕业论文\\data\\signal_rela.pkl\", 'wb') as f:\n",
    "    pickle.dump(signal_rela, f)"
   ]
  },
  {
   "cell_type": "markdown",
   "id": "6dca0ec4",
   "metadata": {},
   "source": [
    "### 测试新的算子"
   ]
  },
  {
   "cell_type": "code",
   "execution_count": 204,
   "id": "68286ee5",
   "metadata": {},
   "outputs": [
    {
     "name": "stdout",
     "output_type": "stream",
     "text": [
      "mean corr: -0.2177, positive_corr_ratio: 0.0000, corr_IR: -4.5677\n",
      "\n",
      "rela cs\n",
      "-0.0957\n",
      "\n",
      "rela ts\n",
      "0.1054\n",
      "\n",
      "vol_wtd_rel_bas cs \n",
      "-0.1091\n",
      "\n",
      "vol_wtd_rel_bas ts \n",
      "0.1255\n"
     ]
    }
   ],
   "source": [
    "fml = 'tsmean{absv{div{minus{close,open},minus{high,close}}},20}'\n",
    "stats, signal = se.test_factor(fml, corr_type='linear', method='cs', spread_type='relative_spread')\n",
    "print()\n",
    "\n",
    "test_rela(signal, [univ_2])"
   ]
  },
  {
   "cell_type": "code",
   "execution_count": null,
   "id": "efbce389",
   "metadata": {},
   "outputs": [],
   "source": [
    "fmls = [\n",
    "    'tsmean{div{close,open},20}',\n",
    "    'tsmean{absv{tspct{close,1}},20}',\n",
    "    'tsmean{logv{volume},20}',\n",
    "    'tsmean{tspct{minus{div{high,low},1},1},19}',\n",
    "    'tsstd{minus{div{high,low},1},20}',\n",
    "    'tsmean{absv{div{minus{close,open},minus{high,close}}},20}'\n",
    "]"
   ]
  },
  {
   "cell_type": "markdown",
   "id": "4fd1afb4",
   "metadata": {},
   "source": [
    "### renew target"
   ]
  },
  {
   "cell_type": "code",
   "execution_count": 213,
   "id": "ff488c5c",
   "metadata": {},
   "outputs": [],
   "source": [
    "target_rela = se.data.spread_dic['relative_spread'].copy()\n",
    "for i in range(20,243):\n",
    "    t = np.nanmean(se.data.spread_dic['relative_spread'][i-20:i],axis=0)\n",
    "    target_rela[i-1] = t"
   ]
  },
  {
   "cell_type": "code",
   "execution_count": 214,
   "id": "35fcf219",
   "metadata": {},
   "outputs": [],
   "source": [
    "with open(r\"D:\\Documents\\学习资料\\本科毕业论文\\data\\target_rela.pkl\", 'wb') as f:\n",
    "    pickle.dump(target_rela, f)"
   ]
  },
  {
   "cell_type": "code",
   "execution_count": 64,
   "id": "60b22f6e",
   "metadata": {},
   "outputs": [
    {
     "ename": "EOFError",
     "evalue": "Ran out of input",
     "output_type": "error",
     "traceback": [
      "\u001b[1;31m---------------------------------------------------------------------------\u001b[0m",
      "\u001b[1;31mEOFError\u001b[0m                                  Traceback (most recent call last)",
      "Input \u001b[1;32mIn [64]\u001b[0m, in \u001b[0;36m<cell line: 1>\u001b[1;34m()\u001b[0m\n\u001b[0;32m      1\u001b[0m \u001b[38;5;28;01mwith\u001b[39;00m \u001b[38;5;28mopen\u001b[39m(\u001b[38;5;124mr\u001b[39m\u001b[38;5;124m\"\u001b[39m\u001b[38;5;124mD:\u001b[39m\u001b[38;5;124m\\\u001b[39m\u001b[38;5;124mDocuments\u001b[39m\u001b[38;5;124m\\\u001b[39m\u001b[38;5;124m学习资料\u001b[39m\u001b[38;5;124m\\\u001b[39m\u001b[38;5;124m本科毕业论文\u001b[39m\u001b[38;5;124m\\\u001b[39m\u001b[38;5;124mdata\u001b[39m\u001b[38;5;124m\\\u001b[39m\u001b[38;5;124mtarget_wrela.pkl\u001b[39m\u001b[38;5;124m\"\u001b[39m, \u001b[38;5;124m'\u001b[39m\u001b[38;5;124mrb\u001b[39m\u001b[38;5;124m'\u001b[39m) \u001b[38;5;28;01mas\u001b[39;00m f:\n\u001b[1;32m----> 2\u001b[0m     tt \u001b[38;5;241m=\u001b[39m \u001b[43mpickle\u001b[49m\u001b[38;5;241;43m.\u001b[39;49m\u001b[43mload\u001b[49m\u001b[43m(\u001b[49m\u001b[43mf\u001b[49m\u001b[43m)\u001b[49m\n",
      "\u001b[1;31mEOFError\u001b[0m: Ran out of input"
     ]
    }
   ],
   "source": [
    "with open(r\"D:\\Documents\\学习资料\\本科毕业论文\\data\\target_wrela.pkl\", 'rb') as f:\n",
    "    tt = pickle.load(f)"
   ]
  },
  {
   "cell_type": "code",
   "execution_count": 219,
   "id": "54b8bd99",
   "metadata": {},
   "outputs": [],
   "source": [
    "import torch\n",
    "x = torch.zeros(2, dtype=torch.int)\n",
    "y = torch.clone(x)"
   ]
  },
  {
   "cell_type": "code",
   "execution_count": 220,
   "id": "9649ff00",
   "metadata": {},
   "outputs": [
    {
     "ename": "RuntimeError",
     "evalue": "nanmean(): expected input to have floating point dtype but got Int",
     "output_type": "error",
     "traceback": [
      "\u001b[1;31m---------------------------------------------------------------------------\u001b[0m",
      "\u001b[1;31mRuntimeError\u001b[0m                              Traceback (most recent call last)",
      "Input \u001b[1;32mIn [220]\u001b[0m, in \u001b[0;36m<cell line: 1>\u001b[1;34m()\u001b[0m\n\u001b[1;32m----> 1\u001b[0m \u001b[43mtorch\u001b[49m\u001b[38;5;241;43m.\u001b[39;49m\u001b[43mnanmean\u001b[49m\u001b[43m(\u001b[49m\u001b[43mx\u001b[49m\u001b[43m)\u001b[49m\n",
      "\u001b[1;31mRuntimeError\u001b[0m: nanmean(): expected input to have floating point dtype but got Int"
     ]
    }
   ],
   "source": [
    "torch.nanmean(x)"
   ]
  },
  {
   "cell_type": "code",
   "execution_count": 222,
   "id": "3679575b",
   "metadata": {},
   "outputs": [
    {
     "data": {
      "text/plain": [
       "(tensor([0, 1]),)"
      ]
     },
     "execution_count": 222,
     "metadata": {},
     "output_type": "execute_result"
    }
   ],
   "source": [
    "torch.where(x==0)"
   ]
  },
  {
   "cell_type": "code",
   "execution_count": null,
   "id": "7b834c36",
   "metadata": {},
   "outputs": [],
   "source": []
  }
 ],
 "metadata": {
  "kernelspec": {
   "display_name": "Python 3 (ipykernel)",
   "language": "python",
   "name": "python3"
  },
  "language_info": {
   "codemirror_mode": {
    "name": "ipython",
    "version": 3
   },
   "file_extension": ".py",
   "mimetype": "text/x-python",
   "name": "python",
   "nbconvert_exporter": "python",
   "pygments_lexer": "ipython3",
   "version": "3.9.12"
  }
 },
 "nbformat": 4,
 "nbformat_minor": 5
}
