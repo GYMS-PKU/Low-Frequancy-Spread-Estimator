{
 "cells": [
  {
   "cell_type": "markdown",
   "id": "7e294b1a",
   "metadata": {},
   "source": [
    "## 使用ML方法组合估计器"
   ]
  },
  {
   "cell_type": "code",
   "execution_count": 1,
   "id": "41cb561d",
   "metadata": {},
   "outputs": [],
   "source": [
    "import numpy as np\n",
    "import pandas as pd\n",
    "import matplotlib.pyplot as plt\n",
    "import importlib\n",
    "import sys\n",
    "sys.path.append('C:/Users/Administrator/Desktop/Repositories/Low-Frequency-Spread-Estimator')\n",
    "sys.path.append('C:/Users/Handsome Bad Guy/Desktop/Repositories/Low-Frequency-Spread-Estimator')\n",
    "\n",
    "from SpreadEstimator.SpreadEstimator import SpreadEstimator\n",
    "from mytools.AutoTester import AutoTester\n",
    "\n",
    "from time import time\n",
    "\n",
    "import torch\n",
    "import torch.nn as nn\n",
    "import torch.nn.functional as F\n",
    "import torch.nn.init as init\n",
    "import torch.optim as optim\n",
    "\n",
    "from sklearn.linear_model import LinearRegression"
   ]
  },
  {
   "cell_type": "code",
   "execution_count": 2,
   "id": "0b2c7231",
   "metadata": {},
   "outputs": [],
   "source": [
    "se = SpreadEstimator()\n",
    "univ = ~np.isnan(se.data.data_dic['close'])  # 合法的univ"
   ]
  },
  {
   "cell_type": "markdown",
   "id": "fd7d7714",
   "metadata": {},
   "source": [
    "#### 构造因子矩阵"
   ]
  },
  {
   "cell_type": "code",
   "execution_count": 3,
   "id": "ad461e0a",
   "metadata": {},
   "outputs": [
    {
     "name": "stdout",
     "output_type": "stream",
     "text": [
      "mean corr: -0.0895, positive_corr_ratio: 0.0558, corr_IR: -1.6103\n",
      "mean corr: 0.3027, positive_corr_ratio: 0.8608, corr_IR: 1.1464\n"
     ]
    }
   ],
   "source": [
    "sig = {}\n",
    "\n",
    "fml = 'minus{div{powv{tsmean{powv{minus{div{high,low},1},2},10},0.5},0.4142},'+\\\n",
    "'powv{div{tsmean{powv{minus{div{tsmax{high,2},tsmin{low,2}},1},2},10},0.1716},0.5}}'\n",
    "stats, signal = se.test_factor(fml, corr_type='linear', method='cs', spread_type='spread')\n",
    "sig['HL'] = signal\n",
    "\n",
    "\n",
    "fml = 'neg{tscov{tsdelta{close,1},tsdelay{tsdelta{close,1},1},5}}'\n",
    "stats, signal = se.test_factor(fml, corr_type='linear', method='cs', spread_type='spread')\n",
    "signal[signal<0] = 0\n",
    "signal = np.sqrt(signal)\n",
    "signal[signal <= 0.01] = 0.01\n",
    "sig['ROLL'] = signal\n",
    "\n",
    "signal = np.zeros((sig['HL'].shape[0], sig['HL'].shape[1], 2), dtype=np.float32)\n",
    "signal[:, :, 0] = sig['HL']\n",
    "signal[:, :, 1] = sig['ROLL']"
   ]
  },
  {
   "cell_type": "code",
   "execution_count": 13,
   "id": "03ddc2bc",
   "metadata": {},
   "outputs": [],
   "source": [
    "def get_xy(x,y,univ):\n",
    "    xx = []\n",
    "    yy = []\n",
    "    for i in range(len(x)):\n",
    "        se = univ[i]\n",
    "        if np.sum(se) == 0:\n",
    "            continue\n",
    "        xx.append(x[i, se, :])\n",
    "        yy.append(y[i,se])\n",
    "    return np.vstack(xx), np.hstack(yy)"
   ]
  },
  {
   "cell_type": "code",
   "execution_count": 14,
   "id": "a26bb5cf",
   "metadata": {},
   "outputs": [],
   "source": [
    "signal[np.isnan(signal)] = 0.01\n",
    "x, y = get_xy(signal, se.data.spread, univ)"
   ]
  },
  {
   "cell_type": "markdown",
   "id": "d5965167",
   "metadata": {},
   "source": [
    "#### 测试NN"
   ]
  },
  {
   "cell_type": "code",
   "execution_count": 15,
   "id": "f3422d22",
   "metadata": {},
   "outputs": [],
   "source": [
    "sys.path.append('C:/Users/Administrator/Desktop/Daily-Frequency-Quant/QBG')\n",
    "sys.path.append('C:/Users/HBG/Desktop/Repositories/Daily-Frequency-Quant/QBG')\n",
    "\n",
    "from Model.MyDeepModel import *\n",
    "from Model.Loss import *\n",
    "from Model.tools.fitting_tools import *\n",
    "from Model.tools.test_tools import *"
   ]
  },
  {
   "cell_type": "code",
   "execution_count": 17,
   "id": "7e6a9c64",
   "metadata": {},
   "outputs": [],
   "source": [
    "device = 'cuda'\n",
    "x = torch.Tensor(x).to(device)\n",
    "y = torch.Tensor(y).to(device).unsqueeze(-1)"
   ]
  },
  {
   "cell_type": "markdown",
   "id": "b674be97",
   "metadata": {},
   "source": [
    "#### Linear"
   ]
  },
  {
   "cell_type": "code",
   "execution_count": 29,
   "id": "e332d09c",
   "metadata": {},
   "outputs": [
    {
     "name": "stdout",
     "output_type": "stream",
     "text": [
      "epoch 200\n",
      "loss: 4.7572, time used: 0.3460s\n",
      "test loss: 3.8838, time used: 0.3470s\n",
      "epoch 400\n",
      "loss: 4.4164, time used: 0.4481s\n",
      "test loss: 3.7790, time used: 0.4481s\n",
      "epoch 600\n",
      "loss: 4.4152, time used: 0.5512s\n",
      "test loss: 3.7806, time used: 0.5522s\n",
      "epoch 800\n",
      "loss: 4.4152, time used: 0.6543s\n",
      "test loss: 3.7806, time used: 0.6543s\n",
      "epoch 1000\n",
      "loss: 4.4152, time used: 0.7574s\n",
      "test loss: 3.7806, time used: 0.7574s\n",
      "epoch 1200\n",
      "loss: 4.4152, time used: 0.8595s\n",
      "test loss: 3.7806, time used: 0.8595s\n",
      "epoch 1400\n",
      "loss: 4.4152, time used: 0.9621s\n",
      "test loss: 3.7806, time used: 0.9621s\n",
      "epoch 1600\n",
      "loss: 4.4152, time used: 1.0692s\n",
      "test loss: 3.7806, time used: 1.0702s\n",
      "epoch 1800\n",
      "loss: 4.4152, time used: 1.1728s\n",
      "test loss: 3.7806, time used: 1.1728s\n",
      "epoch 2000\n",
      "loss: 4.4152, time used: 1.2759s\n",
      "test loss: 3.7806, time used: 1.2769s\n"
     ]
    }
   ],
   "source": [
    "model = nn.Linear(2, 1).to(device)\n",
    "# model = GateNet(input_dim=2, output_dim=1, dropout=0.2, alpha=0.2).to(device)\n",
    "optimizer = torch.optim.AdamW(model.parameters(), lr=1e-2, weight_decay=1e-2)\n",
    "loss_func = MSELoss()\n",
    "\n",
    "best_IC = 0\n",
    "\n",
    "top =univ\n",
    "t = time()\n",
    "for i in range(2000):\n",
    "    model.train()\n",
    "    optimizer.zero_grad()\n",
    "    loss = loss_func(model(x[:400000]), y[:400000])\n",
    "    loss.backward()\n",
    "    optimizer.step()\n",
    "    \n",
    "    if (i + 1) % 200 == 0:\n",
    "        model.eval()\n",
    "        print('epoch {}'.format(i + 1))\n",
    "        print('loss: {:.4f}, time used: {:.4f}s'.format(float(loss)*1e4, time()-t))\n",
    "        print('test loss: {:.4f}, time used: {:.4f}s'.format(float(loss_func(model(x[400000:]), y[400000:]))*1e4, time()-t))"
   ]
  },
  {
   "cell_type": "markdown",
   "id": "5bfad3f8",
   "metadata": {},
   "source": [
    "#### GateNet"
   ]
  },
  {
   "cell_type": "code",
   "execution_count": 30,
   "id": "7e1d1d4e",
   "metadata": {},
   "outputs": [],
   "source": [
    "class GateNet(nn.Module):\n",
    "    def __init__(self, input_dim: int, output_dim: int, dropout: int = 0.7, alpha: float = 0.2):\n",
    "        super(GateNet, self).__init__()\n",
    "        self.input_dim = input_dim\n",
    "        self.output_Dim = output_dim\n",
    "\n",
    "        self.Dense1 = nn.Linear(input_dim, 16)\n",
    "        self.Dense2 = nn.Linear(16, 8)\n",
    "        self.Dense3 = nn.Linear(8, 8)\n",
    "        self.Dense4 = nn.Linear(8, output_dim)\n",
    "\n",
    "        self.gate0 = Gate(input_dim)\n",
    "        self.gate1 = Gate(16)\n",
    "        self.gate2 = Gate(8)\n",
    "        self.gate3 = Gate(8)\n",
    "\n",
    "        self.act = nn.LeakyReLU(alpha)\n",
    "\n",
    "        self.dropout = nn.Dropout(dropout)\n",
    "\n",
    "    def forward(self, x):\n",
    "        x = self.act(self.Dense1(self.gate0(self.dropout(x))))\n",
    "        x = self.act(self.Dense2(self.gate1(self.dropout(x))))\n",
    "        x = x + self.dropout(self.gate3(self.act(self.Dense3(self.gate2(self.dropout(x))))))\n",
    "        x = self.Dense4(x)\n",
    "        return x"
   ]
  },
  {
   "cell_type": "code",
   "execution_count": 34,
   "id": "f606300a",
   "metadata": {},
   "outputs": [
    {
     "name": "stdout",
     "output_type": "stream",
     "text": [
      "epoch 100\n",
      "loss: 5.2283, time used: 11.1840s\n",
      "test loss: 3.7970, time used: 11.1860s\n",
      "vs IC: 0.4742\n",
      "epoch 200\n",
      "loss: 4.6191, time used: 22.6325s\n",
      "test loss: 3.7757, time used: 22.6345s\n",
      "vs IC: 0.4806\n",
      "epoch 300\n",
      "loss: 4.4495, time used: 33.7848s\n",
      "test loss: 3.7678, time used: 33.7868s\n",
      "vs IC: 0.4881\n",
      "epoch 400\n",
      "loss: 4.3889, time used: 44.9934s\n",
      "test loss: 3.7552, time used: 44.9954s\n",
      "vs IC: 0.4916\n",
      "epoch 500\n",
      "loss: 4.3446, time used: 56.2653s\n",
      "test loss: 3.7400, time used: 56.2663s\n",
      "vs IC: 0.4934\n",
      "epoch 600\n",
      "loss: 4.3077, time used: 67.4819s\n",
      "test loss: 3.7406, time used: 67.4839s\n",
      "vs IC: 0.4952\n",
      "epoch 700\n",
      "loss: 4.3132, time used: 78.8388s\n",
      "test loss: 3.7393, time used: 78.8408s\n",
      "vs IC: 0.4961\n",
      "epoch 800\n",
      "loss: 4.2777, time used: 90.1702s\n",
      "test loss: 3.7437, time used: 90.1722s\n",
      "vs IC: 0.4975\n",
      "epoch 900\n",
      "loss: 4.3034, time used: 101.4013s\n",
      "test loss: 3.7408, time used: 101.4043s\n",
      "vs IC: 0.4981\n",
      "epoch 1000\n",
      "loss: 4.2896, time used: 112.6566s\n",
      "test loss: 3.7432, time used: 112.6586s\n",
      "vs IC: 0.4990\n"
     ]
    }
   ],
   "source": [
    "\n",
    "model = GateNet(input_dim=2, output_dim=1, dropout=0.2, alpha=0.2).to(device)\n",
    "optimizer = torch.optim.AdamW(model.parameters(), lr=5e-3, weight_decay=1e-2)\n",
    "loss_func = MSELoss()\n",
    "\n",
    "t = time()\n",
    "for i in range(1000):\n",
    "    model.train()\n",
    "    optimizer.zero_grad()\n",
    "    loss = loss_func(model(x[:400000]), y[:400000])\n",
    "    loss.backward()\n",
    "    optimizer.step()\n",
    "    \n",
    "    if (i + 1) % 100 == 0:\n",
    "        model.eval()\n",
    "        print('epoch {}'.format(i + 1))\n",
    "        print('loss: {:.4f}, time used: {:.4f}s'.format(float(loss)*1e4, time()-t))\n",
    "        print('test loss: {:.4f}, time used: {:.4f}s'.format(float(loss_func(model(x[400000:]), y[400000:]))*1e4, time()-t))\n",
    "        corr = test(model, signal, se.data.spread, univ, 20, 240)\n",
    "        print('vs IC: {:.4f}'.format(np.mean(corr)))"
   ]
  },
  {
   "cell_type": "code",
   "execution_count": 35,
   "id": "062aca0b",
   "metadata": {},
   "outputs": [],
   "source": [
    "torch.cuda.empty_cache()"
   ]
  },
  {
   "cell_type": "code",
   "execution_count": null,
   "id": "4b31e928",
   "metadata": {},
   "outputs": [],
   "source": []
  }
 ],
 "metadata": {
  "kernelspec": {
   "display_name": "Python 3 (ipykernel)",
   "language": "python",
   "name": "python3"
  },
  "language_info": {
   "codemirror_mode": {
    "name": "ipython",
    "version": 3
   },
   "file_extension": ".py",
   "mimetype": "text/x-python",
   "name": "python",
   "nbconvert_exporter": "python",
   "pygments_lexer": "ipython3",
   "version": "3.8.5"
  }
 },
 "nbformat": 4,
 "nbformat_minor": 5
}
