{
 "cells": [
  {
   "cell_type": "markdown",
   "id": "bb54bdb2",
   "metadata": {},
   "source": [
    "## 使用ML方法组合估计器\n",
    "2022-03-21\n",
    "- 更改目标为平均价差；加入平均收盘价这个特征\n",
    "2022-04-16\n",
    "- 完善框架"
   ]
  },
  {
   "cell_type": "code",
   "execution_count": 9,
   "id": "a2ebc231",
   "metadata": {},
   "outputs": [],
   "source": [
    "import numpy as np\n",
    "import pandas as pd\n",
    "import matplotlib.pyplot as plt\n",
    "import importlib\n",
    "import sys\n",
    "sys.path.append('C:/Users/Administrator/Desktop/Repositories/Low-Frequency-Spread-Estimator')\n",
    "sys.path.append('C:/Users/Handsome Bad Guy/Desktop/Repositories/Low-Frequency-Spread-Estimator')\n",
    "\n",
    "from SpreadEstimator.SpreadEstimator import SpreadEstimator\n",
    "from mytools.AutoTester import AutoTester\n",
    "\n",
    "from time import time\n",
    "\n",
    "import torch\n",
    "import torch.nn as nn\n",
    "import torch.nn.functional as F\n",
    "import torch.nn.init as init\n",
    "import torch.optim as optim\n",
    "\n",
    "from sklearn.linear_model import LinearRegression\n",
    "from tqdm import tqdm\n",
    "\n",
    "import sys\n",
    "sys.path.append(r'C:\\Users\\Administrator\\Desktop\\Repositories\\Low-Frequency-Spread-Estimator\\notebook\\tools')\n",
    "from train_tools import *\n",
    "from get_signal import *\n",
    "from naive_model import *"
   ]
  },
  {
   "cell_type": "code",
   "execution_count": 2,
   "id": "94796394",
   "metadata": {},
   "outputs": [],
   "source": [
    "se = SpreadEstimator()\n",
    "univ = ~np.isnan(se.data.data_dic['close'])  # 合法的univ"
   ]
  },
  {
   "cell_type": "markdown",
   "id": "928a834d",
   "metadata": {},
   "source": [
    "### 获得基本的训练数据"
   ]
  },
  {
   "cell_type": "code",
   "execution_count": 14,
   "id": "94dee5af",
   "metadata": {
    "collapsed": true
   },
   "outputs": [
    {
     "name": "stdout",
     "output_type": "stream",
     "text": [
      "mean corr: -0.4630, positive_corr_ratio: 0.0000, corr_IR: -16.7947\n",
      "mean corr: 0.7924, positive_corr_ratio: 1.0000, corr_IR: 18.7505\n",
      "mean corr: -0.3688, positive_corr_ratio: 0.0000, corr_IR: -8.7364\n",
      "mean corr: -0.3920, positive_corr_ratio: 0.0000, corr_IR: -9.9100\n"
     ]
    },
    {
     "name": "stderr",
     "output_type": "stream",
     "text": [
      "C:\\Users\\ADMINI~1\\AppData\\Local\\Temp/ipykernel_50884/3483907079.py:8: RuntimeWarning: Mean of empty slice\n",
      "  rel_sp[i] = np.nanmean(se.data.spread_dic[name][i-back+1:i+1],axis=0)\n"
     ]
    },
    {
     "name": "stdout",
     "output_type": "stream",
     "text": [
      "mean corr: -0.2082, positive_corr_ratio: 0.0000, corr_IR: -3.6871\n",
      "mean corr: 0.0994, positive_corr_ratio: 0.9279, corr_IR: 1.2409\n",
      "mean corr: -0.2317, positive_corr_ratio: 0.0000, corr_IR: -3.9265\n",
      "mean corr: -0.3920, positive_corr_ratio: 0.0000, corr_IR: -9.9100\n"
     ]
    }
   ],
   "source": [
    "signal_spread = get_signal_spread(se)\n",
    "target_spread = get_target('spread')\n",
    "signal_rela = get_signal_rela(se)\n",
    "target_rela = get_target('relative_spread')\n",
    "target_wrela = get_target('vol_wtd_rel_bas')"
   ]
  },
  {
   "cell_type": "code",
   "execution_count": 23,
   "id": "9cab7b8e",
   "metadata": {
    "collapsed": true
   },
   "outputs": [
    {
     "name": "stderr",
     "output_type": "stream",
     "text": [
      "100%|████████████████████████████████████████████████████████████████████████████████| 80/80 [00:00<00:00, 2220.22it/s]\n",
      "100%|████████████████████████████████████████████████████████████████████████████████| 80/80 [00:00<00:00, 2350.84it/s]\n",
      "100%|████████████████████████████████████████████████████████████████████████████████| 80/80 [00:00<00:00, 2350.85it/s]\n",
      "100%|██████████████████████████████████████████████████████████████████████████████| 800/800 [00:00<00:00, 2708.17it/s]\n",
      "100%|██████████████████████████████████████████████████████████████████████████████| 800/800 [00:00<00:00, 2727.91it/s]\n",
      "100%|██████████████████████████████████████████████████████████████████████████████| 800/800 [00:00<00:00, 2651.56it/s]\n"
     ]
    }
   ],
   "source": [
    "x_train_cs_spread, y_train_cs_spread = get_train_data_cs(signal_spread, target_spread)\n",
    "x_train_cs_rela, y_train_cs_rela = get_train_data_cs(signal_spread, target_rela)\n",
    "x_train_cs_wrela, y_train_cs_wrela = get_train_data_cs(signal_spread, target_wrela)\n",
    "\n",
    "x_train_ts_spread, y_train_ts_spread = get_train_data_ts(signal_spread, target_spread)\n",
    "x_train_ts_rela, y_train_ts_rela = get_train_data_ts(signal_spread, target_rela)\n",
    "x_train_ts_wrela, y_train_ts_wrela = get_train_data_ts(signal_spread, target_wrela)"
   ]
  },
  {
   "cell_type": "code",
   "execution_count": null,
   "id": "89349d85",
   "metadata": {},
   "outputs": [],
   "source": [
    "### 使用截面相关系数作为损失函数，xun"
   ]
  },
  {
   "cell_type": "code",
   "execution_count": null,
   "id": "c14d045b",
   "metadata": {},
   "outputs": [],
   "source": []
  },
  {
   "cell_type": "code",
   "execution_count": 79,
   "id": "7284498a",
   "metadata": {},
   "outputs": [],
   "source": [
    "# signal[np.isnan(signal)] = 0.00\n",
    "# rel_sp = se.data.spread_dic['vol_wtd_rel_bas'].copy()\n",
    "x, y = get_xy(signal, rel_sp, univ)\n",
    "\n",
    "x = torch.Tensor(x).to(device)\n",
    "y = torch.Tensor(y).to(device).unsqueeze(dim=-1)"
   ]
  },
  {
   "cell_type": "code",
   "execution_count": 92,
   "id": "423ad0e6",
   "metadata": {},
   "outputs": [],
   "source": [
    "# 时序训练集\n",
    "x, y = get_xy(signal[:,:1500,:], rel_sp[:,:1500], univ[:,:1500])"
   ]
  },
  {
   "cell_type": "markdown",
   "id": "dff1ce8a",
   "metadata": {},
   "source": [
    "### 测试以MSE为损失函数，使用full_batch进行测试"
   ]
  },
  {
   "cell_type": "code",
   "execution_count": null,
   "id": "928ee972",
   "metadata": {},
   "outputs": [],
   "source": []
  },
  {
   "cell_type": "markdown",
   "id": "998a1a6d",
   "metadata": {},
   "source": [
    "#### 测试NN"
   ]
  },
  {
   "cell_type": "code",
   "execution_count": 4,
   "id": "835bb677",
   "metadata": {},
   "outputs": [],
   "source": [
    "sys.path.append('C:/Users/Administrator/Desktop/Daily-Frequency-Quant/QBG')\n",
    "sys.path.append('C:/Users/HBG/Desktop/Repositories/Daily-Frequency-Quant/QBG')\n",
    "\n",
    "from Model.MyDeepModel import *\n",
    "from Model.Loss import *\n",
    "from Model.tools.fitting_tools import *\n",
    "from Model.tools.test_tools import *"
   ]
  },
  {
   "cell_type": "markdown",
   "id": "767be709",
   "metadata": {},
   "source": [
    "#### Linear"
   ]
  },
  {
   "cell_type": "code",
   "execution_count": 87,
   "id": "65897dd1",
   "metadata": {},
   "outputs": [
    {
     "name": "stdout",
     "output_type": "stream",
     "text": [
      "epoch 2000\n",
      "loss: 22.0370, time used: 1.2263s\n",
      "test loss: 23.6224, time used: 1.2273s\n",
      "vs cs IC: -0.0165\n",
      "\n",
      "epoch 4000\n",
      "loss: 11.4947, time used: 2.3024s\n",
      "test loss: 10.9906, time used: 2.3024s\n",
      "vs cs IC: 0.1798\n",
      "\n",
      "epoch 6000\n",
      "loss: 10.0744, time used: 3.3755s\n",
      "test loss: 9.6947, time used: 3.3765s\n",
      "vs cs IC: 0.3693\n",
      "\n",
      "epoch 8000\n",
      "loss: 10.0134, time used: 4.4496s\n",
      "test loss: 9.6597, time used: 4.4506s\n",
      "vs cs IC: 0.3792\n",
      "\n",
      "epoch 10000\n",
      "loss: 226.3380, time used: 5.5259s\n",
      "test loss: 809.3943, time used: 5.5259s\n",
      "vs cs IC: 0.3669\n",
      "\n",
      "epoch 12000\n",
      "loss: 10.0069, time used: 6.6037s\n",
      "test loss: 9.6507, time used: 6.6037s\n",
      "vs cs IC: 0.3827\n",
      "\n",
      "epoch 14000\n",
      "loss: 10.0067, time used: 7.6704s\n",
      "test loss: 9.6535, time used: 7.6704s\n",
      "vs cs IC: 0.3829\n",
      "\n",
      "epoch 16000\n",
      "loss: 10.0066, time used: 8.7428s\n",
      "test loss: 9.6535, time used: 8.7438s\n",
      "vs cs IC: 0.3830\n",
      "\n",
      "epoch 18000\n",
      "loss: 10.0069, time used: 9.8179s\n",
      "test loss: 9.6510, time used: 9.8189s\n",
      "vs cs IC: 0.3832\n",
      "\n",
      "epoch 20000\n",
      "loss: 10.0066, time used: 10.8866s\n",
      "test loss: 9.6536, time used: 10.8866s\n",
      "vs cs IC: 0.3831\n",
      "\n"
     ]
    }
   ],
   "source": [
    "import random\n",
    "seed = 1\n",
    "random.seed(seed)\n",
    "np.random.seed(seed)\n",
    "torch.manual_seed(seed)\n",
    "torch.cuda.manual_seed(seed)\n",
    "torch.cuda.manual_seed_all(seed)\n",
    "torch.backends.cudnn.deterministic = True\n",
    "torch.backends.cudnn.benchmark = False\n",
    "torch.backends.cudnn.enabled = False\n",
    "\n",
    "n = 4\n",
    "\n",
    "model = nn.Linear(n, 1).to(device)\n",
    "# model = GateNet(input_dim=2, output_dim=1, dropout=0.2, alpha=0.2).to(device)\n",
    "optimizer = torch.optim.AdamW(model.parameters(), lr=2e-2, weight_decay=0)\n",
    "loss_func = MSELoss()\n",
    "\n",
    "best_IC = 0\n",
    "\n",
    "top =univ\n",
    "t = time()\n",
    "for i in range(20000):\n",
    "    model.train()\n",
    "    optimizer.zero_grad()\n",
    "    loss = loss_func(model(x[:250000,:n]), y[:250000,:n])\n",
    "    loss.backward()\n",
    "    optimizer.step()\n",
    "    \n",
    "    if (i + 1) % 2000 == 0:\n",
    "        model.eval()\n",
    "        print('epoch {}'.format(i + 1))\n",
    "        print('loss: {:.4f}, time used: {:.4f}s'.format(np.sqrt(float(loss))*1e4, time()-t))\n",
    "        print('test loss: {:.4f}, time used: {:.4f}s'.format(np.sqrt(float(loss_func(model(x[250000:,:n]), y[250000:,:n])))*1e4, time()-t))\n",
    "        corr = test(model, signal[:,:,:n], rel_sp, univ, 180, 240)\n",
    "        print('vs cs IC: {:.4f}'.format(np.mean(corr)))\n",
    "#         corr = test_ts(model, signal[180:240,:,:n], rel_sp[180:240], univ[180:240], 0, 2080)\n",
    "#         print('vs ts IC: {:.4f}'.format(np.mean(corr)))\n",
    "        print()"
   ]
  },
  {
   "cell_type": "markdown",
   "id": "955363f1",
   "metadata": {},
   "source": [
    "#### GateNet"
   ]
  },
  {
   "cell_type": "code",
   "execution_count": 82,
   "id": "dede0204",
   "metadata": {},
   "outputs": [
    {
     "name": "stdout",
     "output_type": "stream",
     "text": [
      "epoch 100\n",
      "loss: 6.9853, time used: 6.6686s\n",
      "test loss: 7.1347, time used: 6.6716s\n",
      "vs cs IC: 0.9241\n",
      "epoch 200\n",
      "loss: 4.5438, time used: 12.9608s\n",
      "test loss: 4.6800, time used: 12.9628s\n",
      "vs cs IC: 0.9198\n",
      "epoch 300\n",
      "loss: 4.0689, time used: 19.2636s\n",
      "test loss: 4.1898, time used: 19.2666s\n",
      "vs cs IC: 0.9188\n",
      "epoch 400\n",
      "loss: 3.8890, time used: 25.5618s\n",
      "test loss: 3.9628, time used: 25.5638s\n",
      "vs cs IC: 0.9253\n",
      "epoch 500\n",
      "loss: 3.8704, time used: 31.8536s\n",
      "test loss: 3.9429, time used: 31.8556s\n",
      "vs cs IC: 0.9261\n",
      "epoch 600\n",
      "loss: 3.8580, time used: 38.1483s\n",
      "test loss: 3.9320, time used: 38.1503s\n",
      "vs cs IC: 0.9266\n",
      "epoch 700\n",
      "loss: 3.8440, time used: 44.4526s\n",
      "test loss: 3.9182, time used: 44.4546s\n",
      "vs cs IC: 0.9271\n",
      "epoch 800\n",
      "loss: 3.8280, time used: 50.7928s\n",
      "test loss: 3.9052, time used: 50.7948s\n",
      "vs cs IC: 0.9276\n",
      "epoch 900\n",
      "loss: 3.8103, time used: 57.0858s\n",
      "test loss: 3.8898, time used: 57.0888s\n",
      "vs cs IC: 0.9282\n",
      "epoch 1000\n",
      "loss: 3.7907, time used: 63.3881s\n",
      "test loss: 3.8700, time used: 63.3911s\n",
      "vs cs IC: 0.9289\n"
     ]
    }
   ],
   "source": [
    "seed = 1\n",
    "random.seed(seed)\n",
    "np.random.seed(seed)\n",
    "torch.manual_seed(seed)\n",
    "torch.cuda.manual_seed(seed)\n",
    "torch.cuda.manual_seed_all(seed)\n",
    "torch.backends.cudnn.deterministic = True\n",
    "torch.backends.cudnn.benchmark = False\n",
    "torch.backends.cudnn.enabled = False\n",
    "\n",
    "n = 4\n",
    "model = GateNet(input_dim=n, output_dim=1, dropout=0.0, alpha=0.2).to(device)\n",
    "optimizer = torch.optim.AdamW(model.parameters(), lr=3e-2, weight_decay=0)\n",
    "loss_func = MSELoss()\n",
    "\n",
    "t = time()\n",
    "for i in range(1000):\n",
    "    model.train()\n",
    "    optimizer.zero_grad()\n",
    "    loss = loss_func(model(x[:250000,:n]), y[:250000,:n])\n",
    "    loss.backward()\n",
    "    optimizer.step()\n",
    "    \n",
    "    if (i + 1) % 100 == 0:\n",
    "        model.eval()\n",
    "        print('epoch {}'.format(i + 1))\n",
    "        print('loss: {:.4f}, time used: {:.4f}s'.format(np.sqrt(float(loss))*1e4, time()-t))\n",
    "        print('test loss: {:.4f}, time used: {:.4f}s'.format(np.sqrt(float(loss_func(model(x[250000:,:n]), y[250000:,:n])))*1e4, time()-t))\n",
    "        # corr = test(model, signal[:,:,:n], se.data.spread_dic['relative_spread'], univ, 20, 240)\n",
    "        corr = test(model, signal[:,:,:n], rel_sp, univ, 180, 240)\n",
    "        print('vs cs IC: {:.4f}'.format(np.mean(corr)))\n",
    "#         corr = test_ts(model, signal[180:240,:,:n], rel_sp[180:240], univ[180:240], 0, 2080)\n",
    "#         print('vs ts IC: {:.4f}'.format(np.mean(corr)))"
   ]
  },
  {
   "cell_type": "markdown",
   "id": "6be8b928",
   "metadata": {},
   "source": [
    "### 时序corr测试"
   ]
  },
  {
   "cell_type": "markdown",
   "id": "c6d30804",
   "metadata": {},
   "source": [
    "### Linear"
   ]
  },
  {
   "cell_type": "code",
   "execution_count": 70,
   "id": "a33d4121",
   "metadata": {},
   "outputs": [],
   "source": [
    "def test_ts(model, x: np.array, y: np.array, top, s, e, device: str = 'cuda'):\n",
    "    corr = []\n",
    "    \n",
    "    for i in range(s, e):\n",
    "        x_tmp = x[top[:, i], i]\n",
    "        x_pre = model(torch.Tensor(x_tmp).to(device)).detach().cpu().numpy()\n",
    "        x_tmp[np.isnan(x_tmp)] = 0\n",
    "        se = (~np.isnan(y[top[:, i], i])) & (~np.isnan(x_pre[:,0]))\n",
    "        pre = x_pre[se, 0]\n",
    "        corr.append(np.corrcoef(pre, y[top[:, i], i][se])[0, 1])\n",
    "    return corr"
   ]
  },
  {
   "cell_type": "code",
   "execution_count": 96,
   "id": "618c6169",
   "metadata": {
    "collapsed": true
   },
   "outputs": [
    {
     "name": "stdout",
     "output_type": "stream",
     "text": [
      "epoch 2000\n",
      "loss: 150.6842, time used: 1.2998s\n",
      "test loss: 138.9352, time used: 1.3008s\n",
      "vs ts IC: -0.2404\n",
      "\n",
      "epoch 4000\n",
      "loss: 88.0047, time used: 2.5904s\n",
      "test loss: 90.6244, time used: 2.5914s\n",
      "vs ts IC: 0.3058\n",
      "\n",
      "epoch 6000\n",
      "loss: 79.3046, time used: 3.8522s\n",
      "test loss: 80.6356, time used: 3.8522s\n",
      "vs ts IC: 0.6272\n",
      "\n",
      "epoch 8000\n",
      "loss: 79.2344, time used: 5.1164s\n",
      "test loss: 80.2603, time used: 5.1169s\n",
      "vs ts IC: 0.6438\n",
      "\n",
      "epoch 10000\n",
      "loss: 79.2344, time used: 6.3780s\n",
      "test loss: 80.2599, time used: 6.3790s\n",
      "vs ts IC: 0.6438\n",
      "\n",
      "epoch 12000\n",
      "loss: 79.3220, time used: 7.6595s\n",
      "test loss: 80.8491, time used: 7.6595s\n",
      "vs ts IC: 0.6442\n",
      "\n",
      "epoch 14000\n",
      "loss: 79.2345, time used: 8.9521s\n",
      "test loss: 80.2628, time used: 8.9521s\n",
      "vs ts IC: 0.6438\n",
      "\n",
      "epoch 16000\n",
      "loss: 79.2446, time used: 10.2206s\n",
      "test loss: 80.1935, time used: 10.2206s\n",
      "vs ts IC: 0.6438\n",
      "\n",
      "epoch 18000\n",
      "loss: 79.2344, time used: 11.5086s\n",
      "test loss: 80.2607, time used: 11.5096s\n",
      "vs ts IC: 0.6438\n",
      "\n",
      "epoch 20000\n",
      "loss: 79.2344, time used: 12.7814s\n",
      "test loss: 80.2599, time used: 12.7814s\n",
      "vs ts IC: 0.6438\n",
      "\n"
     ]
    }
   ],
   "source": [
    "import random\n",
    "seed = 1\n",
    "random.seed(seed)\n",
    "np.random.seed(seed)\n",
    "torch.manual_seed(seed)\n",
    "torch.cuda.manual_seed(seed)\n",
    "torch.cuda.manual_seed_all(seed)\n",
    "torch.backends.cudnn.deterministic = True\n",
    "torch.backends.cudnn.benchmark = False\n",
    "torch.backends.cudnn.enabled = False\n",
    "\n",
    "n = 4\n",
    "\n",
    "model = nn.Linear(n, 1).to(device)\n",
    "# model = GateNet(input_dim=2, output_dim=1, dropout=0.2, alpha=0.2).to(device)\n",
    "optimizer = torch.optim.AdamW(model.parameters(), lr=5e-3, weight_decay=0)\n",
    "loss_func = MSELoss()\n",
    "\n",
    "best_IC = 0\n",
    "\n",
    "top =univ\n",
    "t = time()\n",
    "for i in range(20000):\n",
    "    model.train()\n",
    "    optimizer.zero_grad()\n",
    "    loss = loss_func(model(x[:,:n]), y[:,:n])\n",
    "    loss.backward()\n",
    "    optimizer.step()\n",
    "    \n",
    "    if (i + 1) % 2000 == 0:\n",
    "        model.eval()\n",
    "        print('epoch {}'.format(i + 1))\n",
    "        print('loss: {:.4f}, time used: {:.4f}s'.format(np.sqrt(float(loss))*1e4, time()-t))\n",
    "        print('test loss: {:.4f}, time used: {:.4f}s'.format(np.sqrt(float(loss_func(model(x[250000:,:n]), y[250000:,:n])))*1e4, time()-t))\n",
    "#         corr = test(model, signal[:,:,:n], rel_sp, univ, 180, 240)\n",
    "#         print('vs cs IC: {:.4f}'.format(np.mean(corr)))\n",
    "        corr = test_ts(model, signal[20:], rel_sp[20:], univ[20:], 1500, 2080)\n",
    "        print('vs ts IC: {:.4f}'.format(np.mean(corr)))\n",
    "        print()"
   ]
  },
  {
   "cell_type": "code",
   "execution_count": 97,
   "id": "326ec6e4",
   "metadata": {
    "collapsed": true
   },
   "outputs": [
    {
     "name": "stdout",
     "output_type": "stream",
     "text": [
      "epoch 500\n",
      "loss: 77.4587, time used: 50.2364s\n",
      "test loss: 81.1218, time used: 50.2404s\n",
      "vs ts IC: 0.6305\n",
      "\n",
      "epoch 1000\n",
      "loss: 76.5329, time used: 100.0501s\n",
      "test loss: 80.1241, time used: 100.0531s\n",
      "vs ts IC: 0.6358\n",
      "\n",
      "epoch 1500\n",
      "loss: 95.0223, time used: 150.1214s\n",
      "test loss: 83.3967, time used: 150.1244s\n",
      "vs ts IC: 0.5136\n",
      "\n",
      "epoch 2000\n",
      "loss: 78.1119, time used: 200.1480s\n",
      "test loss: 81.0663, time used: 200.1520s\n",
      "vs ts IC: 0.5059\n",
      "\n",
      "epoch 2500\n",
      "loss: 77.2178, time used: 249.9951s\n",
      "test loss: 80.5498, time used: 249.9991s\n",
      "vs ts IC: 0.5652\n",
      "\n",
      "epoch 3000\n",
      "loss: 76.9109, time used: 299.7829s\n",
      "test loss: 79.4430, time used: 299.7869s\n",
      "vs ts IC: 0.5694\n",
      "\n",
      "epoch 3500\n",
      "loss: 78.3530, time used: 350.8948s\n",
      "test loss: 79.3821, time used: 350.8978s\n",
      "vs ts IC: 0.5651\n",
      "\n",
      "epoch 4000\n",
      "loss: 75.0890, time used: 401.0940s\n",
      "test loss: 78.7642, time used: 401.0970s\n",
      "vs ts IC: 0.6075\n",
      "\n",
      "epoch 4500\n",
      "loss: 74.8389, time used: 451.1691s\n",
      "test loss: 77.8886, time used: 451.1721s\n",
      "vs ts IC: 0.6107\n",
      "\n",
      "epoch 5000\n",
      "loss: 74.4836, time used: 501.2371s\n",
      "test loss: 75.1136, time used: 501.2401s\n",
      "vs ts IC: 0.6111\n",
      "\n"
     ]
    }
   ],
   "source": [
    "seed = 1\n",
    "random.seed(seed)\n",
    "np.random.seed(seed)\n",
    "torch.manual_seed(seed)\n",
    "torch.cuda.manual_seed(seed)\n",
    "torch.cuda.manual_seed_all(seed)\n",
    "torch.backends.cudnn.deterministic = True\n",
    "torch.backends.cudnn.benchmark = False\n",
    "torch.backends.cudnn.enabled = False\n",
    "\n",
    "n = 4\n",
    "model = GateNet(input_dim=n, output_dim=1, dropout=0.0, alpha=0.2).to(device)\n",
    "optimizer = torch.optim.AdamW(model.parameters(), lr=1e-2, weight_decay=0)\n",
    "loss_func = MSELoss()\n",
    "\n",
    "top =univ\n",
    "t = time()\n",
    "for i in range(5000):\n",
    "    model.train()\n",
    "    optimizer.zero_grad()\n",
    "    loss = loss_func(model(x[:,:n]), y[:,:n])\n",
    "    loss.backward()\n",
    "    optimizer.step()\n",
    "    \n",
    "    if (i + 1) % 500 == 0:\n",
    "        model.eval()\n",
    "        print('epoch {}'.format(i + 1))\n",
    "        print('loss: {:.4f}, time used: {:.4f}s'.format(np.sqrt(float(loss))*1e4, time()-t))\n",
    "        print('test loss: {:.4f}, time used: {:.4f}s'.format(np.sqrt(float(loss_func(model(x[250000:,:n]), y[250000:,:n])))*1e4, time()-t))\n",
    "#         corr = test(model, signal[:,:,:n], rel_sp, univ, 180, 240)\n",
    "#         print('vs cs IC: {:.4f}'.format(np.mean(corr)))\n",
    "        corr = test_ts(model, signal[20:], rel_sp[20:], univ[20:], 1500, 2080)\n",
    "        print('vs ts IC: {:.4f}'.format(np.mean(corr)))\n",
    "        print()"
   ]
  },
  {
   "cell_type": "markdown",
   "id": "339a5a10",
   "metadata": {},
   "source": [
    "## 使用截面corr损失函数，重写训练函数"
   ]
  },
  {
   "cell_type": "code",
   "execution_count": 113,
   "id": "287f462b",
   "metadata": {},
   "outputs": [
    {
     "name": "stderr",
     "output_type": "stream",
     "text": [
      "C:\\Users\\ADMINI~1\\AppData\\Local\\Temp/ipykernel_43188/3692715653.py:10: RuntimeWarning: Mean of empty slice\n",
      "  rel_sp[i] = np.nanmean(se.data.spread_dic['relative_spread'][i-back+1:i+1],axis=0)\n",
      "100%|████████████████████████████████████████████████████████████████████████████████| 80/80 [00:00<00:00, 1192.95it/s]\n",
      "100%|█████████████████████████████████████████████████████████████████████████████████| 60/60 [00:00<00:00, 936.66it/s]\n"
     ]
    }
   ],
   "source": [
    "# 相对价差\n",
    "from tqdm import tqdm\n",
    "\n",
    "rel_sp = se.data.spread_dic['relative_spread'].copy()\n",
    "back = 20\n",
    "for i in range(rel_sp.shape[0]):\n",
    "    if i < back - 1:\n",
    "        rel_sp[i] = np.nan\n",
    "    else:\n",
    "        rel_sp[i] = np.nanmean(se.data.spread_dic['relative_spread'][i-back+1:i+1],axis=0)\n",
    "\n",
    "device = 'cuda'\n",
    "x = []\n",
    "y = []\n",
    "\n",
    "x_test = []\n",
    "y_test = []\n",
    "for i in tqdm(range(20,100)):\n",
    "    sse = univ[i] & (~np.isnan(rel_sp[i]))\n",
    "    for j in range(signal.shape[2]):\n",
    "        sse = sse & (~np.isnan(signal[i,:,j]))\n",
    "    if np.sum(sse) == 0:\n",
    "        continue\n",
    "    tmp = torch.Tensor(signal[i,sse]).to(device)\n",
    "    tmp[torch.isnan(tmp)] = 0\n",
    "    x.append(tmp)\n",
    "    tmp = torch.Tensor(rel_sp[i:i+1,sse].T).to(device)\n",
    "    tmp[torch.isnan(tmp)] = 0\n",
    "    y.append(tmp)\n",
    "for i in tqdm(range(180,240)):\n",
    "    sse = univ[i] & (~np.isnan(rel_sp[i]))\n",
    "    for j in range(signal.shape[2]):\n",
    "        sse = sse & (~np.isnan(signal[i,:,j]))\n",
    "    if np.sum(sse) == 0:\n",
    "        continue\n",
    "    tmp = torch.Tensor(signal[i,sse]).to(device)\n",
    "    tmp[torch.isnan(tmp)] = 0\n",
    "    x_test.append(tmp)\n",
    "    tmp = torch.Tensor(rel_sp[i:i+1,sse].T).to(device)\n",
    "    tmp[torch.isnan(tmp)] = 0\n",
    "    y_test.append(tmp)\n",
    "\n",
    "\n",
    "# 时序\n",
    "# x = []\n",
    "# y = []\n",
    "# for i in tqdm(range(1500)):\n",
    "#     sse = univ[:,i] & (~np.isnan(rel_sp[:,i]))\n",
    "#     for j in range(signal.shape[2]):\n",
    "#         sse = sse & (~np.isnan(signal[:,i,j]))\n",
    "#     if np.sum(sse) == 0:\n",
    "#         continue\n",
    "#     tmp = torch.Tensor(signal[sse,i]).to(device)\n",
    "#     tmp[torch.isnan(tmp)] = 0\n",
    "#     x.append(tmp)\n",
    "#     tmp = torch.Tensor(rel_sp[sse,i:i+1]).to(device)\n",
    "#     tmp[torch.isnan(tmp)] = 0\n",
    "#     y.append(tmp)"
   ]
  },
  {
   "cell_type": "code",
   "execution_count": 96,
   "id": "69e0f540",
   "metadata": {},
   "outputs": [
    {
     "name": "stdout",
     "output_type": "stream",
     "text": [
      "epoch: 0\n",
      "-0.9273981266334409\n",
      "vs cs IC: 0.9417\n",
      "os cs IC: 0.9297\n",
      "epoch: 1\n",
      "-0.9335144895022033\n",
      "vs cs IC: 0.9449\n",
      "os cs IC: 0.9350\n",
      "epoch: 2\n",
      "-0.9375009390174366\n",
      "vs cs IC: 0.9439\n",
      "os cs IC: 0.9290\n",
      "epoch: 3\n",
      "-0.9367822525931186\n",
      "vs cs IC: 0.9440\n",
      "os cs IC: 0.9297\n",
      "epoch: 4\n",
      "-0.9350689786379455\n",
      "vs cs IC: 0.9427\n",
      "os cs IC: 0.9272\n",
      "epoch: 5\n",
      "-0.9373161059911134\n",
      "vs cs IC: 0.9466\n",
      "os cs IC: 0.9310\n",
      "epoch: 6\n",
      "-0.9362530346776619\n",
      "vs cs IC: 0.9487\n",
      "os cs IC: 0.9343\n",
      "epoch: 7\n",
      "-0.9381058870768938\n",
      "vs cs IC: 0.9474\n",
      "os cs IC: 0.9318\n"
     ]
    }
   ],
   "source": [
    "n = 4\n",
    "# model = nn.Linear(n, 1).to(device)\n",
    "\n",
    "model = GateNet(input_dim=n, output_dim=1, dropout=0.0, alpha=0.2).to(device)\n",
    "optimizer = torch.optim.AdamW(model.parameters(), lr=5e-4, weight_decay=0)\n",
    "loss_func = ICLoss()\n",
    "\n",
    "train_cs(x, y, model, optimizer, loss_func, epochs=8, batch_size=1)"
   ]
  },
  {
   "cell_type": "markdown",
   "id": "6166a73d",
   "metadata": {},
   "source": [
    "## 分段线性模型"
   ]
  },
  {
   "cell_type": "code",
   "execution_count": 60,
   "id": "ca46f74c",
   "metadata": {},
   "outputs": [],
   "source": [
    "class MultiLinear(nn.Module):\n",
    "    def __init__(self, input_dim: int, output_dim: int):\n",
    "        super(MultiLinear, self).__init__()\n",
    "        self.input_dim = input_dim\n",
    "        self.output_dim = output_dim\n",
    "\n",
    "        self.Dense = nn.ModuleList([nn.Linear(input_dim, output_dim) for i in range(4)])\n",
    "\n",
    "    def forward(self, x):\n",
    "        close = x[:,-1]\n",
    "        y = self.Dense[0](x)\n",
    "        y[(5<=close) & (close<10)] = self.Dense[1](x[(5<=close) & (close<10)])\n",
    "        y[(10<=close) & (close<25)] = self.Dense[2](x[(10<=close) & (close<25)])\n",
    "        y[close>25] = self.Dense[3](x[close>25])\n",
    "        return y"
   ]
  },
  {
   "cell_type": "code",
   "execution_count": 67,
   "id": "1dc94039",
   "metadata": {},
   "outputs": [
    {
     "name": "stdout",
     "output_type": "stream",
     "text": [
      "epoch: 0\n",
      "83.74533516633595\n",
      "vs cs IC: -0.2720\n",
      "epoch: 1\n",
      "14.599226839998936\n",
      "vs cs IC: -0.4631\n",
      "epoch: 2\n",
      "5.998505532318819\n",
      "vs cs IC: 0.2101\n",
      "epoch: 3\n",
      "33.398301455991486\n",
      "vs cs IC: 0.3122\n",
      "epoch: 4\n",
      "60.06256252315873\n",
      "vs cs IC: 0.3124\n",
      "epoch: 5\n",
      "44.75774668970852\n",
      "vs cs IC: 0.1670\n",
      "epoch: 6\n",
      "10.97241209246588\n",
      "vs cs IC: -0.3092\n",
      "epoch: 7\n",
      "8.13928235845363\n",
      "vs cs IC: -0.1728\n",
      "epoch: 8\n",
      "41.72480783394888\n",
      "vs cs IC: -0.1619\n",
      "epoch: 9\n",
      "61.00470444158459\n",
      "vs cs IC: -0.2610\n",
      "epoch: 10\n",
      "37.586230717652235\n",
      "vs cs IC: -0.3667\n",
      "epoch: 11\n",
      "7.1171695171518525\n",
      "vs cs IC: 0.0578\n",
      "epoch: 12\n",
      "14.972052946158335\n",
      "vs cs IC: 0.3201\n",
      "epoch: 13\n",
      "51.845594933692446\n",
      "vs cs IC: 0.3321\n",
      "epoch: 14\n",
      "61.28515873902233\n",
      "vs cs IC: 0.2760\n",
      "epoch: 15\n",
      "27.501615801601545\n",
      "vs cs IC: 0.1155\n",
      "epoch: 16\n",
      "6.518513960195771\n",
      "vs cs IC: -0.4684\n",
      "epoch: 17\n",
      "24.833321774259527\n",
      "vs cs IC: -0.2511\n",
      "epoch: 18\n",
      "59.71931679367174\n",
      "vs cs IC: -0.1819\n",
      "epoch: 19\n",
      "59.326485194213\n",
      "vs cs IC: -0.1568\n"
     ]
    }
   ],
   "source": [
    "model = MultiLinear(4, 1).to(device)\n",
    "optimizer = torch.optim.AdamW(model.parameters(), lr=1e-4, weight_decay=2e-2)\n",
    "loss_func = MSELoss()\n",
    "\n",
    "train_cs(x, y, model, optimizer, loss_func, epochs=20, batch_size=1)"
   ]
  },
  {
   "cell_type": "markdown",
   "id": "440665fb",
   "metadata": {},
   "source": [
    "## 绘制预测和实际的散点图"
   ]
  },
  {
   "cell_type": "code",
   "execution_count": 86,
   "id": "535f5e84",
   "metadata": {},
   "outputs": [
    {
     "data": {
      "image/png": "[encoded data removed]",
      "text/plain": [
       "<Figure size 432x288 with 1 Axes>"
      ]
     },
     "metadata": {
      "needs_background": "light"
     },
     "output_type": "display_data"
    }
   ],
   "source": [
    "# GateNet cs\n",
    "\n",
    "xx = []\n",
    "yy = []\n",
    "\n",
    "for i in range(10):\n",
    "    xx += list(model(x_test[i]).detach().cpu().numpy()[:,0])\n",
    "    yy += list(y_test[i].cpu().numpy()[:,0])\n",
    "    \n",
    "plt.scatter(yy, xx)\n",
    "plt.show()\n",
    "# print(np.mean((np.array(xx)-np.array(yy))**2))"
   ]
  },
  {
   "cell_type": "code",
   "execution_count": 88,
   "id": "bd899dfe",
   "metadata": {},
   "outputs": [
    {
     "data": {
      "image/png": "[encoded data removed]",
      "text/plain": [
       "<Figure size 432x288 with 1 Axes>"
      ]
     },
     "metadata": {
      "needs_background": "light"
     },
     "output_type": "display_data"
    }
   ],
   "source": [
    "# linear cs\n",
    "\n",
    "xx = []\n",
    "yy = []\n",
    "for i in range(1):\n",
    "    xx += list(model(x_test[i]).detach().cpu().numpy()[:,0])\n",
    "    yy += list(y_test[i].cpu().numpy()[:,0])\n",
    "plt.scatter(yy, xx)\n",
    "plt.show()"
   ]
  },
  {
   "cell_type": "code",
   "execution_count": null,
   "id": "bcc74e1a",
   "metadata": {},
   "outputs": [],
   "source": []
  },
  {
   "cell_type": "code",
   "execution_count": 66,
   "id": "8690f41f",
   "metadata": {},
   "outputs": [
    {
     "data": {
      "image/png": "[encoded data removed]",
      "text/plain": [
       "<Figure size 432x288 with 1 Axes>"
      ]
     },
     "metadata": {
      "needs_background": "light"
     },
     "output_type": "display_data"
    },
    {
     "name": "stdout",
     "output_type": "stream",
     "text": [
      "0.7001803088326078\n"
     ]
    }
   ],
   "source": [
    "# multilinear cs\n",
    "\n",
    "xx = []\n",
    "yy = []\n",
    "for i in range(1):\n",
    "    xx += list(model(x_test[i]).detach().cpu().numpy()[:,0])\n",
    "    yy += list(y_test[i].cpu().numpy()[:,0])\n",
    "plt.scatter(yy, xx)\n",
    "plt.show()\n",
    "print(np.corrcoef(xx,yy)[0,1])"
   ]
  },
  {
   "cell_type": "code",
   "execution_count": null,
   "id": "b4548d57",
   "metadata": {},
   "outputs": [],
   "source": []
  },
  {
   "cell_type": "markdown",
   "id": "0daca57d",
   "metadata": {},
   "source": [
    "#### 查看线性函数的参数"
   ]
  },
  {
   "cell_type": "code",
   "execution_count": 90,
   "id": "7af40e7d",
   "metadata": {},
   "outputs": [
    {
     "data": {
      "text/plain": [
       "Parameter containing:\n",
       "tensor([[-3.0066e-02, -8.4163e-02,  6.1020e-03, -1.4581e-05]], device='cuda:0',\n",
       "       requires_grad=True)"
      ]
     },
     "execution_count": 90,
     "metadata": {},
     "output_type": "execute_result"
    }
   ],
   "source": [
    "model.weight"
   ]
  },
  {
   "cell_type": "markdown",
   "id": "1b8f6441",
   "metadata": {},
   "source": [
    "## 置换特征重要性\n",
    "我们将使用置换特征重要性(Permutation Feature Importance)来研究不同特征对于模型预测价差的重要性. 我们将使用os数据进行测试,考虑到is和os的表现具有较高的一致性,这个选择不会造成麻烦."
   ]
  },
  {
   "cell_type": "code",
   "execution_count": 118,
   "id": "f376f839",
   "metadata": {},
   "outputs": [
    {
     "name": "stdout",
     "output_type": "stream",
     "text": [
      "model: 0.9318\n",
      "0: 0.9291 0.28758358157313646\n",
      "1: 0.9301 0.18601228595827024\n",
      "2: 0.9294 0.2573704977122171\n",
      "3: 0.7273 21.951058199542484\n"
     ]
    }
   ],
   "source": [
    "# 首先计算原始模型的表现\n",
    "corr = []\n",
    "for i in range(len(x_test)):\n",
    "    corr.append(np.corrcoef(model(x_test[i]).detach().cpu().numpy()[:,0], y_test[i].cpu().numpy()[:,0])[0,1])\n",
    "print('model: {:.4f}'.format(np.mean(corr)))\n",
    "nor = np.mean(corr)\n",
    "\n",
    "# 对每个特征对换,计算表现以及下降的比例\n",
    "for j in range(4):\n",
    "    for i in range(len(x_test)):\n",
    "        x_tmp = x_test[i]\n",
    "        x_tmp[:,j] = torch.flip(x_tmp[:,j],dims=[0])\n",
    "        corr.append(np.corrcoef(model(x_tmp).detach().cpu().numpy()[:,0], y_test[i].cpu().numpy()[:,0])[0,1])\n",
    "        x_tmp[:,j] = torch.flip(x_tmp[:,j],dims=[0])\n",
    "    print('{}: {:.4f}'.format(j, np.mean(corr)), (1-np.mean(corr)/nor)*100)\n"
   ]
  },
  {
   "cell_type": "code",
   "execution_count": null,
   "id": "940e9ad2",
   "metadata": {},
   "outputs": [],
   "source": []
  }
 ],
 "metadata": {
  "kernelspec": {
   "display_name": "Python 3 (ipykernel)",
   "language": "python",
   "name": "python3"
  },
  "language_info": {
   "codemirror_mode": {
    "name": "ipython",
    "version": 3
   },
   "file_extension": ".py",
   "mimetype": "text/x-python",
   "name": "python",
   "nbconvert_exporter": "python",
   "pygments_lexer": "ipython3",
   "version": "3.8.5"
  }
 },
 "nbformat": 4,
 "nbformat_minor": 5
}
