{
 "cells": [
  {
   "cell_type": "markdown",
   "id": "97a32e25",
   "metadata": {},
   "source": [
    "## LOT性质的研究\n",
    "研究两种LOT的估计方式，以及参数的不同之处。市场收益率使用市值加权平均。"
   ]
  },
  {
   "cell_type": "code",
   "execution_count": 1,
   "id": "e82f1327",
   "metadata": {},
   "outputs": [],
   "source": [
    "import numpy as np\n",
    "import pandas as pd\n",
    "import matplotlib.pyplot as plt\n",
    "import importlib\n",
    "import sys\n",
    "sys.path.append('C:/Users/Administrator/Desktop/Repositories/Low-Frequency-Spread-Estimator')\n",
    "sys.path.append('C:/Users/Handsome Bad Guy/Desktop/Repositories/Low-Frequency-Spread-Estimator')\n",
    "\n",
    "from SpreadEstimator.SpreadEstimator import SpreadEstimator\n",
    "from mytools.AutoTester import AutoTester\n",
    "\n",
    "from time import time\n",
    "\n",
    "import torch\n",
    "import torch.nn as nn\n",
    "import torch.nn.functional as F\n",
    "import torch.nn.init as init\n",
    "import torch.optim as optim\n",
    "from tqdm import tqdm\n",
    "\n",
    "plt.rcParams['font.sans-serif']=['KaiTi']\n",
    "plt.rcParams['axes.unicode_minus'] = False\n",
    "\n",
    "from sklearn.linear_model import LinearRegression\n",
    "\n",
    "se = SpreadEstimator()"
   ]
  },
  {
   "cell_type": "code",
   "execution_count": 2,
   "id": "4a4eab25",
   "metadata": {},
   "outputs": [],
   "source": [
    "class LOTNet_M(nn.Module):  # 根据市场收益率区分\n",
    "    def __init__(self, sample_num: int = 1):\n",
    "        \"\"\"\n",
    "        :param sample_num: 样本数量\n",
    "        \"\"\"\n",
    "        super(LOTNet_M, self).__init__()\n",
    "        self.sample_num = sample_num\n",
    "        self.sigma = nn.Parameter(0.01 * torch.ones(sample_num))  \n",
    "        self.beta = nn.Parameter(torch.ones(1, sample_num))\n",
    "        self.alpha_1 = nn.Parameter(-0.01 * torch.ones(1, sample_num))\n",
    "        self.alpha_2 = nn.Parameter(0.01 * torch.ones(1, sample_num))\n",
    "        \n",
    "    def forward(self, R, R_m):  # 传入的R是seq_length * sample_num，R_m是seq_length * 1\n",
    "        \n",
    "        # 如果测试改进的方法，运行下面代码\n",
    "#         self.alpha_1.data[self.alpha_1.data > 0] = 0\n",
    "#         self.alpha_2.data[self.alpha_2.data < 0 ]= 0\n",
    "        \n",
    "        R_1 = R + self.alpha_1.repeat(len(R), 1) - torch.matmul(R_m, self.beta)\n",
    "        R_2 = R + self.alpha_2.repeat(len(R), 1) - torch.matmul(R_m, self.beta)\n",
    "        \n",
    "        R_t = torch.where(R_m>0, R_2, R_1)\n",
    "        R_t = torch.sum(R_t**2, dim=0) / (2 * self.sigma ** 2+1e-8)\n",
    "        # print(R_t.shape)\n",
    "        return -len(R)/2 * torch.log(1e-8+self.sigma**2) - R_t\n",
    "    \n",
    "    def predict(self, R_m):\n",
    "        return torch.matmul(R_m, self.beta) - torch.where(R_m>0, self.alpha_2.repeat(len(R_m), 1), self.alpha_1.repeat(len(R_m), 1))\n",
    "    \n",
    "class MyLoss(nn.Module):\n",
    "    def __init__(self):\n",
    "        super(MyLoss, self).__init__()\n",
    "        pass\n",
    "    \n",
    "    def forward(self, x):\n",
    "        return -torch.mean(x)\n",
    "    \n",
    "    \n",
    "class LOTNet_R(nn.Module):  # 根据目标收益率区分\n",
    "    def __init__(self, sample_num: int = 1):\n",
    "        \"\"\"\n",
    "        :param sample_num: 样本数量\n",
    "        \"\"\"\n",
    "        super(LOTNet_R, self).__init__()\n",
    "        self.sample_num = sample_num\n",
    "        self.sigma = nn.Parameter(0.01 * torch.ones(sample_num))  \n",
    "        self.beta = nn.Parameter(torch.ones(1, sample_num))\n",
    "        self.alpha_1 = nn.Parameter(-0.01 * torch.ones(1, sample_num))\n",
    "        self.alpha_2 = nn.Parameter(0.01 * torch.ones(1, sample_num))\n",
    "        \n",
    "    def forward(self, R, R_m):  # 传入的R是seq_length * sample_num，R_m是seq_length * 1\n",
    "        # 如果测试改进的方法，运行下面代码\n",
    "#         self.alpha_1[self.alpha_1 > 0] = 0\n",
    "#         self.alpha_2[self.alpha_2 < 0] = 0\n",
    "        \n",
    "        R_1 = R + self.alpha_1.repeat(len(R), 1) - torch.matmul(R_m, self.beta)\n",
    "        R_2 = R + self.alpha_2.repeat(len(R), 1) - torch.matmul(R_m, self.beta)\n",
    "        R_t = torch.where(R>0, R_2, R_1)\n",
    "\n",
    "        R_t = torch.sum(R_t**2, dim=0) / (2 * self.sigma ** 2+1e-8)\n",
    "        # print(R_t.shape)\n",
    "        return -len(R)/2 * torch.log(1e-8+self.sigma**2) - R_t\n",
    "    \n",
    "    def predict(self, R, R_m):\n",
    "        return torch.matmul(R_m, self.beta) - torch.where(R>0, self.alpha_2.repeat(len(R_m), 1), self.alpha_1.repeat(len(R_m), 1))\n",
    "    \n",
    "class MyLoss(nn.Module):\n",
    "    def __init__(self):\n",
    "        super(MyLoss, self).__init__()\n",
    "        pass\n",
    "    \n",
    "    def forward(self, x):\n",
    "        return -torch.mean(x)"
   ]
  },
  {
   "cell_type": "code",
   "execution_count": 6,
   "id": "514f4af7",
   "metadata": {},
   "outputs": [
    {
     "name": "stdout",
     "output_type": "stream",
     "text": [
      "mean corr: -0.0059, positive_corr_ratio: 0.4732, corr_IR: -0.0531\n"
     ]
    }
   ],
   "source": [
    "# 获得R_m和每个股票的日收益率\n",
    "fml = 'tspct{close,1}'\n",
    "stats, ret = se.test_factor(fml, corr_type='linear',method='cs', spread_type='relative_spread')\n",
    "ret = ret.astype(np.float32)\n",
    "# ret[np.isnan(ret)] = 0\n",
    "R_m = np.zeros(len(ret), dtype=np.float32)\n",
    "R_m[1:] = np.nansum(ret[1:]*se.data.data_dic['cap'][1:], axis=1) / np.nansum(se.data.data_dic['cap'][1:], axis=1)\n",
    "R_m = R_m.reshape(-1,1)"
   ]
  },
  {
   "cell_type": "markdown",
   "id": "1636e0ea",
   "metadata": {},
   "source": [
    "### 首先对每一只股票做回归，看beta和R square"
   ]
  },
  {
   "cell_type": "code",
   "execution_count": 54,
   "id": "dea148f3",
   "metadata": {},
   "outputs": [
    {
     "name": "stderr",
     "output_type": "stream",
     "text": [
      "100%|████████████████████████████████████████████████████████████████████████████| 2081/2081 [00:00<00:00, 3037.40it/s]\n"
     ]
    }
   ],
   "source": [
    "lr = LinearRegression()\n",
    "betas = []\n",
    "R2 = []\n",
    "for i in tqdm(range(2081)):\n",
    "    lr.fit(R_m[20:],ret[20:,i])\n",
    "    betas.append(lr.coef_[0])\n",
    "    R2.append(1-np.std(ret[20:,i]-lr.predict(R_m[20:]))/np.std(ret[20:,i]))\n",
    "betas = np.array(betas)\n",
    "R2 = np.array(R2)"
   ]
  },
  {
   "cell_type": "code",
   "execution_count": 55,
   "id": "cd179f3b",
   "metadata": {
    "collapsed": true
   },
   "outputs": [
    {
     "data": {
      "image/png": "[encoded data removed]",
      "text/plain": [
       "<Figure size 900x600 with 1 Axes>"
      ]
     },
     "metadata": {
      "needs_background": "light"
     },
     "output_type": "display_data"
    },
    {
     "name": "stdout",
     "output_type": "stream",
     "text": [
      "0.9658244\n"
     ]
    }
   ],
   "source": [
    "plt.figure(dpi=150)\n",
    "plt.hist(betas, rwidth=1, bins=50)\n",
    "plt.grid(axis='y', linestyle='--')\n",
    "plt.xlabel(r'$\\beta$')\n",
    "plt.show()\n",
    "print(np.mean(betas))"
   ]
  },
  {
   "cell_type": "code",
   "execution_count": 56,
   "id": "9bcfa484",
   "metadata": {
    "collapsed": true
   },
   "outputs": [
    {
     "data": {
      "image/png": "[encoded data removed]",
      "text/plain": [
       "<Figure size 900x600 with 1 Axes>"
      ]
     },
     "metadata": {
      "needs_background": "light"
     },
     "output_type": "display_data"
    },
    {
     "name": "stdout",
     "output_type": "stream",
     "text": [
      "0.13078517429190492\n"
     ]
    }
   ],
   "source": [
    "plt.figure(dpi=150)\n",
    "plt.hist(R2, rwidth=1, bins=50)\n",
    "plt.grid(axis='y', linestyle='--')\n",
    "plt.xlabel(r'$R^2$')\n",
    "plt.show()\n",
    "print(np.mean(R2))"
   ]
  },
  {
   "cell_type": "markdown",
   "id": "28ecff33",
   "metadata": {},
   "source": [
    "### 如果修改模型，运行下面的代码"
   ]
  },
  {
   "cell_type": "code",
   "execution_count": 106,
   "id": "ccbbd17e",
   "metadata": {},
   "outputs": [
    {
     "name": "stdout",
     "output_type": "stream",
     "text": [
      "mean corr: -0.0059, positive_corr_ratio: 0.4732, corr_IR: -0.0531\n"
     ]
    },
    {
     "name": "stderr",
     "output_type": "stream",
     "text": [
      "100%|████████████████████████████████████████████████████████████████████████████| 2081/2081 [00:00<00:00, 3165.75it/s]\n"
     ]
    }
   ],
   "source": [
    "# 获得R_m和每个股票的日收益率，R减去回归的截距项\n",
    "fml = 'tspct{close,1}'\n",
    "stats, ret = se.test_factor(fml, corr_type='linear',method='cs', spread_type='relative_spread')\n",
    "ret = ret.astype(np.float32)\n",
    "# ret[np.isnan(ret)] = 0\n",
    "R_m = np.zeros(len(ret), dtype=np.float32)\n",
    "R_m[1:] = np.nansum(ret[1:]*se.data.data_dic['cap'][1:], axis=1) / np.nansum(se.data.data_dic['cap'][1:], axis=1)\n",
    "R_m = R_m.reshape(-1,1)\n",
    "\n",
    "lr = LinearRegression()\n",
    "betas = []\n",
    "R2 = []\n",
    "for i in tqdm(range(2081)):\n",
    "    lr.fit(R_m[20:],ret[20:,i])\n",
    "    \n",
    "    betas.append(lr.coef_[0])\n",
    "    R2.append(1-np.std(ret[20:,i]-lr.predict(R_m[20:]))/np.std(ret[20:,i]))\n",
    "    ret[20:,i] -= lr.intercept_\n",
    "betas = np.array(betas)\n",
    "R2 = np.array(R2)"
   ]
  },
  {
   "cell_type": "markdown",
   "id": "1f3fff81",
   "metadata": {},
   "source": [
    "### 然后再用X-split做一个LOT，同样比较beta和R^2"
   ]
  },
  {
   "cell_type": "code",
   "execution_count": 122,
   "id": "9e43159c",
   "metadata": {},
   "outputs": [
    {
     "name": "stderr",
     "output_type": "stream",
     "text": [
      "100%|█████████████████████████████████████████████████████████████████████████████| 1000/1000 [00:04<00:00, 238.24it/s]\n"
     ]
    }
   ],
   "source": [
    "device = 'cuda'\n",
    "model_M = LOTNet_M(2081).to(device)\n",
    "optimizer = torch.optim.AdamW(model_M.parameters(), lr=1e-2, weight_decay=0)\n",
    "loss_func = MyLoss()\n",
    "\n",
    "r_m = torch.Tensor(R_m).to(device)\n",
    "r = torch.Tensor(ret).to(device)\n",
    "\n",
    "t = time()\n",
    "\n",
    "for i in tqdm(range(1000)):\n",
    "    model_M.train()\n",
    "    optimizer.zero_grad()\n",
    "    loss = loss_func(model_M(r[20:], r_m[20:]))\n",
    "    loss.backward()\n",
    "    optimizer.step()\n",
    "#     if (i + 1) % 1000 == 0:\n",
    "#         # print('epoch {}'.format(i + 1))\n",
    "#         print('loss: {:.4f}, time used: {:.4f}s'.format(float(loss), time()-t))"
   ]
  },
  {
   "cell_type": "code",
   "execution_count": 123,
   "id": "ee56b45f",
   "metadata": {
    "scrolled": true
   },
   "outputs": [],
   "source": [
    "betas_LOT_x = model_M.beta.detach().cpu().numpy()[0]\n",
    "pr = model_M.predict(r_m[20:]).detach().cpu().numpy()\n",
    "R2_LOT_x = np.array([1-np.std(ret[20:,i]-pr[:,i])/np.std(ret[20:,i]) for i in range(2081)])"
   ]
  },
  {
   "cell_type": "code",
   "execution_count": 124,
   "id": "c1ad78e5",
   "metadata": {
    "collapsed": true
   },
   "outputs": [
    {
     "data": {
      "image/png": "[encoded data removed]",
      "text/plain": [
       "<Figure size 900x600 with 1 Axes>"
      ]
     },
     "metadata": {
      "needs_background": "light"
     },
     "output_type": "display_data"
    },
    {
     "name": "stdout",
     "output_type": "stream",
     "text": [
      "0.97385687\n"
     ]
    }
   ],
   "source": [
    "plt.figure(dpi=150)\n",
    "plt.hist(betas_LOT_x, rwidth=1, bins=50)\n",
    "plt.grid(axis='y', linestyle='--')\n",
    "plt.xlabel(r'LOT X-split $\\beta$')\n",
    "plt.show()\n",
    "print(np.mean(betas_LOT_x))"
   ]
  },
  {
   "cell_type": "code",
   "execution_count": 125,
   "id": "fba6ae04",
   "metadata": {
    "collapsed": true
   },
   "outputs": [
    {
     "data": {
      "image/png": "[encoded data removed]",
      "text/plain": [
       "<Figure size 900x600 with 1 Axes>"
      ]
     },
     "metadata": {
      "needs_background": "light"
     },
     "output_type": "display_data"
    },
    {
     "name": "stdout",
     "output_type": "stream",
     "text": [
      "0.13273811996240906\n"
     ]
    }
   ],
   "source": [
    "plt.figure(dpi=150)\n",
    "plt.hist(R2_LOT_x, rwidth=1, bins=50)\n",
    "plt.grid(axis='y', linestyle='--')\n",
    "plt.xlabel(r'LOT X-split $R^2$')\n",
    "plt.show()\n",
    "print(np.mean(R2_LOT_x))"
   ]
  },
  {
   "cell_type": "code",
   "execution_count": 118,
   "id": "67363c96",
   "metadata": {
    "collapsed": true
   },
   "outputs": [
    {
     "data": {
      "image/png": "[encoded data removed]",
      "text/plain": [
       "<Figure size 900x600 with 1 Axes>"
      ]
     },
     "metadata": {
      "needs_background": "light"
     },
     "output_type": "display_data"
    }
   ],
   "source": [
    "plt.figure(dpi=150)\n",
    "plt.hist(R2_LOT_x-R2, rwidth=1, bins=50)\n",
    "plt.grid(axis='y', linestyle='--')\n",
    "plt.xlabel(r'LOT X-split $R^2$ increment')\n",
    "plt.show()"
   ]
  },
  {
   "cell_type": "code",
   "execution_count": 126,
   "id": "b674ef7d",
   "metadata": {},
   "outputs": [
    {
     "name": "stdout",
     "output_type": "stream",
     "text": [
      "tensor(-1.7431, device='cuda:0', grad_fn=<MulBackward0>)\n",
      "tensor(0.5469, device='cuda:0')\n",
      "\n",
      "tensor(1.5934, device='cuda:0', grad_fn=<MulBackward0>)\n",
      "tensor(0.5464, device='cuda:0')\n",
      "\n",
      "tensor(0.5469, device='cuda:0')\n",
      "tensor(0.4531, device='cuda:0')\n"
     ]
    }
   ],
   "source": [
    "print(torch.mean(model_M.alpha_1)*1e4)\n",
    "print(torch.sum(model_M.alpha_1<0)/2081) \n",
    "print()\n",
    "print(torch.mean(model_M.alpha_2)*1e4)\n",
    "print(torch.sum(model_M.alpha_2>0)/2081) \n",
    "print()\n",
    "print(torch.sum((model_M.alpha_2-model_M.alpha_1)>0)/2081) \n",
    "print(torch.sum((model_M.alpha_2<0) & (model_M.alpha_1>0))/2081) "
   ]
  },
  {
   "cell_type": "markdown",
   "id": "c6fa4fe2",
   "metadata": {},
   "source": [
    "### 然后再用Y-split做一个LOT，同样比较beta和R^2"
   ]
  },
  {
   "cell_type": "code",
   "execution_count": 128,
   "id": "a4518004",
   "metadata": {},
   "outputs": [
    {
     "name": "stderr",
     "output_type": "stream",
     "text": [
      "100%|█████████████████████████████████████████████████████████████████████████████| 1000/1000 [00:04<00:00, 243.62it/s]\n"
     ]
    }
   ],
   "source": [
    "device = 'cuda'\n",
    "model_R = LOTNet_R(2081).to(device)\n",
    "optimizer = torch.optim.AdamW(model_R.parameters(), lr=1e-2, weight_decay=0)\n",
    "loss_func = MyLoss()\n",
    "\n",
    "r_m = torch.Tensor(R_m).to(device)\n",
    "r = torch.Tensor(ret).to(device)\n",
    "\n",
    "t = time()\n",
    "\n",
    "for i in tqdm(range(1000)):\n",
    "    model_R.train()\n",
    "    optimizer.zero_grad()\n",
    "    loss = loss_func(model_R(r[20:], r_m[20:]))\n",
    "    loss.backward()\n",
    "    optimizer.step()\n",
    "#     if (i + 1) % 1000 == 0:\n",
    "#         # print('epoch {}'.format(i + 1))\n",
    "#         print('loss: {:.4f}, time used: {:.4f}s'.format(float(loss), time()-t))"
   ]
  },
  {
   "cell_type": "code",
   "execution_count": 129,
   "id": "ba252287",
   "metadata": {},
   "outputs": [
    {
     "name": "stdout",
     "output_type": "stream",
     "text": [
      "0.4232694\n"
     ]
    }
   ],
   "source": [
    "betas_LOT_y = model_R.beta.detach().cpu().numpy()[0]\n",
    "pr = model_R.predict(r[20:], r_m[20:]).detach().cpu().numpy()\n",
    "R2_LOT_y = np.array([1-np.std(ret[20:,i]-pr[:,i])/np.std(ret[20:,i]) for i in range(2081)])\n",
    "print(np.mean(betas_LOT_y))"
   ]
  },
  {
   "cell_type": "code",
   "execution_count": 130,
   "id": "08b42af5",
   "metadata": {
    "collapsed": true
   },
   "outputs": [
    {
     "data": {
      "image/png": "[encoded data removed]",
      "text/plain": [
       "<Figure size 900x600 with 1 Axes>"
      ]
     },
     "metadata": {
      "needs_background": "light"
     },
     "output_type": "display_data"
    },
    {
     "name": "stdout",
     "output_type": "stream",
     "text": [
      "0.34000278223826874\n"
     ]
    }
   ],
   "source": [
    "plt.figure(dpi=150)\n",
    "plt.hist(betas_LOT_y, rwidth=1, bins=50)\n",
    "plt.grid(axis='y', linestyle='--')\n",
    "plt.xlabel(r'LOT Y-split $\\beta$')\n",
    "plt.show()\n",
    "print(np.mean(R2_LOT_y))"
   ]
  },
  {
   "cell_type": "code",
   "execution_count": 82,
   "id": "dc600cb1",
   "metadata": {
    "collapsed": true
   },
   "outputs": [
    {
     "data": {
      "image/png": "[encoded data removed]",
      "text/plain": [
       "<Figure size 900x600 with 1 Axes>"
      ]
     },
     "metadata": {
      "needs_background": "light"
     },
     "output_type": "display_data"
    }
   ],
   "source": [
    "plt.figure(dpi=150)\n",
    "plt.hist(R2_LOT_y-R2, rwidth=1, bins=50)\n",
    "plt.grid(axis='y', linestyle='--')\n",
    "plt.xlabel(r'LOT Y-split $R^2$ increment')\n",
    "plt.show()"
   ]
  },
  {
   "cell_type": "code",
   "execution_count": 131,
   "id": "7fd10bf3",
   "metadata": {},
   "outputs": [
    {
     "name": "stdout",
     "output_type": "stream",
     "text": [
      "tensor(1.8979, device='cuda:0', grad_fn=<MulBackward0>)\n",
      "tensor(0., device='cuda:0')\n",
      "tensor(-2.0341, device='cuda:0', grad_fn=<MulBackward0>)\n",
      "tensor(0., device='cuda:0')\n",
      "tensor(0., device='cuda:0')\n"
     ]
    }
   ],
   "source": [
    "print(torch.mean(model_R.alpha_1)*1e2)\n",
    "print(torch.sum(model_R.alpha_1<0)/2081) \n",
    "print(torch.mean(model_R.alpha_2)*1e2)\n",
    "print(torch.sum(model_R.alpha_2>0)/2081) \n",
    "print(torch.sum((model_R.alpha_2-model_R.alpha_1)>0)/2081) "
   ]
  },
  {
   "cell_type": "markdown",
   "id": "7c517194",
   "metadata": {},
   "source": [
    "### 用LOT X-split来估计价差"
   ]
  },
  {
   "cell_type": "code",
   "execution_count": 13,
   "id": "2c8c7b3f",
   "metadata": {},
   "outputs": [
    {
     "name": "stderr",
     "output_type": "stream",
     "text": [
      "100%|████████████████████████████████████████████████████████████████████████████████| 222/222 [05:31<00:00,  1.49s/it]\n"
     ]
    }
   ],
   "source": [
    "device = 'cuda'\n",
    "model = LOTNet_M(2081).to(device)\n",
    "optimizer = torch.optim.AdamW(model.parameters(), lr=1e-2, weight_decay=0)\n",
    "loss_func = MyLoss()\n",
    "\n",
    "r_m = torch.Tensor(R_m).to(device)\n",
    "r = torch.Tensor(ret).to(device)\n",
    "\n",
    "# R_m = torch.Tensor(R_m[1:51]).unsqueeze(-1).to(device)\n",
    "# R = torch.Tensor(ret[1:51]).to(device)\n",
    "\n",
    "signal = np.zeros((243, 2081))\n",
    "t = time()\n",
    "for j in tqdm(range(21, 243)):\n",
    "    model = LOTNet_M(2081).to(device)\n",
    "    optimizer = torch.optim.Adam(model.parameters(), lr=1e-2, weight_decay=0)\n",
    "    for i in range(1000):\n",
    "        model.train()\n",
    "        optimizer.zero_grad()\n",
    "        loss = loss_func(model(r[j-20:j+1], r_m[j-20:j+1]))\n",
    "        loss.backward()\n",
    "        optimizer.step()\n",
    "#         if (i + 1) % 100 == 0:\n",
    "#             print('epoch {}'.format(i + 1))\n",
    "#             print('loss: {:.4f}, time used: {:.4f}s'.format(float(loss), time()-t))\n",
    "    # model.eval()\n",
    "    signal[j] = (model.alpha_2 - model.alpha_1).detach().cpu().numpy()\n",
    "#     if j % 10 == 0:\n",
    "#         print('{} done. time used: {:.4f}s'.format(j, time()-t))"
   ]
  },
  {
   "cell_type": "markdown",
   "id": "30c084e8",
   "metadata": {},
   "source": [
    "### 测试修改后的LOT"
   ]
  },
  {
   "cell_type": "code",
   "execution_count": 4,
   "id": "15266973",
   "metadata": {},
   "outputs": [
    {
     "name": "stdout",
     "output_type": "stream",
     "text": [
      "mean corr: -0.0059, positive_corr_ratio: 0.4732, corr_IR: -0.0531\n"
     ]
    },
    {
     "name": "stderr",
     "output_type": "stream",
     "text": [
      "100%|████████████████████████████████████████████████████████████████████████████| 2081/2081 [00:00<00:00, 3151.90it/s]\n"
     ]
    }
   ],
   "source": [
    "# 获得R_m和每个股票的日收益率，R减去回归的截距项\n",
    "fml = 'tspct{close,1}'\n",
    "stats, ret = se.test_factor(fml, corr_type='linear',method='cs', spread_type='relative_spread')\n",
    "ret = ret.astype(np.float32)\n",
    "# ret[np.isnan(ret)] = 0\n",
    "R_m = np.zeros(len(ret), dtype=np.float32)\n",
    "R_m[1:] = np.nansum(ret[1:]*se.data.data_dic['cap'][1:], axis=1) / np.nansum(se.data.data_dic['cap'][1:], axis=1)\n",
    "R_m = R_m.reshape(-1,1)\n",
    "\n",
    "lr = LinearRegression()\n",
    "betas = []\n",
    "R2 = []\n",
    "for i in tqdm(range(2081)):\n",
    "    lr.fit(R_m[20:],ret[20:,i])\n",
    "    \n",
    "    betas.append(lr.coef_[0])\n",
    "    R2.append(1-np.std(ret[20:,i]-lr.predict(R_m[20:]))/np.std(ret[20:,i]))\n",
    "    ret[20:,i] -= lr.intercept_\n",
    "betas = np.array(betas)\n",
    "R2 = np.array(R2)"
   ]
  },
  {
   "cell_type": "code",
   "execution_count": 44,
   "id": "c99e88ce",
   "metadata": {},
   "outputs": [],
   "source": [
    "def get_xy(x,y,univ):\n",
    "    xx = []\n",
    "    yy = []\n",
    "    for i in range(len(x)):\n",
    "        se = (~np.isnan(x[i])) & univ[i] & (~np.isnan(y[i]))\n",
    "        if np.sum(se) == 0:\n",
    "            continue\n",
    "        xx.append(x[i:i+1, se].T)\n",
    "        yy.append(y[i,se])\n",
    "    return np.vstack(xx), np.hstack(yy)\n",
    "univ = ~np.isnan(se.data.data_dic['close'])  # 合法的univ"
   ]
  },
  {
   "cell_type": "code",
   "execution_count": 15,
   "id": "9ce343ae",
   "metadata": {},
   "outputs": [],
   "source": [
    "raw_signal = signal.copy()\n",
    "signal[signal<0] = 0"
   ]
  },
  {
   "cell_type": "code",
   "execution_count": 18,
   "id": "1cb5220f",
   "metadata": {},
   "outputs": [
    {
     "name": "stdout",
     "output_type": "stream",
     "text": [
      "relative_spread cs: 0.0178\n",
      "relative_spread ts: 0.0162\n",
      "vol_wtd_rel_bas cs: 0.0191\n",
      "vol_wtd_rel_bas ts: 0.0132\n"
     ]
    }
   ],
   "source": [
    "# 只在价格某个价格范围内进行比较\n",
    "# 显然对于高价股的估计更加准确\n",
    "# 暂时按照20元的阈值进行剔除\n",
    "corr = []\n",
    "sig = []\n",
    "est = []\n",
    "for i in range(21,240):\n",
    "    sp = np.mean(se.data.spread_dic['relative_spread'][i-20+1:i+1], axis=0)\n",
    "    top = (~np.isnan(sp)) & (~np.isnan(signal[i])) & (np.mean(se.data.data_dic['close'][i-19:i],axis=0)>25)\n",
    "    # print(np.sum(top))\n",
    "    sig += list(signal[i,top])\n",
    "    est += list(sp[top])\n",
    "    corr.append(np.corrcoef(sp[top],signal[i,top])[0,1])\n",
    "# plt.scatter(est,sig)\n",
    "print('relative_spread cs: {:.4f}'.format(np.mean(corr)))\n",
    "\n",
    "corr = []\n",
    "sig = []\n",
    "est = []\n",
    "new_sp = se.data.spread_dic['relative_spread'].copy()\n",
    "for i in range(se.data.spread_dic['relative_spread'].shape[0]):\n",
    "    if i < 20 - 1:\n",
    "        continue\n",
    "    new_sp[i] = np.mean(se.data.spread_dic['relative_spread'][i-19:i+1], axis=0)\n",
    "for i in range(new_sp.shape[1]):\n",
    "    sp = new_sp[:,i]\n",
    "    top = (~np.isnan(sp)) & (~np.isnan(signal[:,i])) & (se.data.data_dic['close'][:,i] > 25)\n",
    "    if np.nanmean(se.data.data_dic['close'][:,i]) < 25:\n",
    "        continue\n",
    "    sig += list(signal[:,i][top])\n",
    "    est += list(sp[top])\n",
    "    corr.append(np.corrcoef(sp[top],signal[:,i][top])[0,1])\n",
    "# plt.scatter(est,sig)\n",
    "print('relative_spread ts: {:.4f}'.format(np.nanmean(corr)))\n",
    "\n",
    "corr = []\n",
    "sig = []\n",
    "est = []\n",
    "for i in range(21,240):\n",
    "    sp = np.mean(se.data.spread_dic['vol_wtd_rel_bas'][i-20+1:i+1], axis=0)\n",
    "    top = (~np.isnan(sp)) & (~np.isnan(signal[i])) & (np.mean(se.data.data_dic['close'][i-19:i],axis=0)>25)\n",
    "    # print(np.sum(top))\n",
    "    sig += list(signal[i,top])\n",
    "    est += list(sp[top])\n",
    "    corr.append(np.corrcoef(sp[top],signal[i,top])[0,1])\n",
    "# plt.scatter(est,sig)\n",
    "print('vol_wtd_rel_bas cs: {:.4f}'.format(np.mean(corr)))\n",
    "      \n",
    "corr = []\n",
    "sig = []\n",
    "est = []\n",
    "new_sp = se.data.spread_dic['vol_wtd_rel_bas'].copy()\n",
    "for i in range(se.data.spread_dic['vol_wtd_rel_bas'].shape[0]):\n",
    "    if i < 20 - 1:\n",
    "        continue\n",
    "    new_sp[i] = np.mean(se.data.spread_dic['vol_wtd_rel_bas'][i-19:i+1], axis=0)\n",
    "for i in range(new_sp.shape[1]):\n",
    "    sp = new_sp[:,i]\n",
    "    top = (~np.isnan(sp)) & (~np.isnan(signal[:,i])) & (se.data.data_dic['close'][:,i] > 25)\n",
    "    if np.nanmean(se.data.data_dic['close'][:,i]) < 25:\n",
    "        continue\n",
    "    sig += list(signal[:,i][top])\n",
    "    est += list(sp[top])\n",
    "    corr.append(np.corrcoef(sp[top],signal[:,i][top])[0,1])\n",
    "# plt.scatter(est,sig)\n",
    "print('vol_wtd_rel_bas ts: {:.4f}'.format(np.nanmean(corr)))"
   ]
  },
  {
   "cell_type": "code",
   "execution_count": 47,
   "id": "04674100",
   "metadata": {},
   "outputs": [
    {
     "name": "stdout",
     "output_type": "stream",
     "text": [
      "cs_sp\n",
      "mean corr: 0.0112, positive_corr_ratio: 0.5982, corr_IR: 0.2249\n",
      "0.023341358155637867\n",
      "\n",
      "ts_sp\n",
      "mean corr: 0.0338, positive_corr_ratio: 0.5291, corr_IR: 0.1712\n",
      "0.02291116066893888\n",
      "\n",
      "cs_vol_sp\n",
      "mean corr: 0.0169, positive_corr_ratio: 0.6301, corr_IR: 0.3212\n",
      "0.0010643690418123538\n",
      "\n",
      "ts_vol_sp\n",
      "mean corr: 0.0402, positive_corr_ratio: 0.5526, corr_IR: 0.2140\n",
      "0.0010643690418123538\n",
      "\n"
     ]
    }
   ],
   "source": [
    "print('cs_sp')\n",
    "stats = AT.test(signal[21:], se.data.spread[21:240], corr_type='linear',method='cs')\n",
    "print('mean corr: {:.4f}, positive_corr_ratio: {:.4f}, corr_IR: {:.4f}'.\n",
    "              format(stats.mean_corr, stats.positive_corr_ratio, stats.corr_IR))\n",
    "x, y = get_xy(signal[51:], se.data.spread[21:240], univ[21:240])\n",
    "lr.fit(x, y)\n",
    "print(np.sqrt(np.mean((y-lr.predict(x))**2)))\n",
    "print()\n",
    "\n",
    "print('ts_sp')\n",
    "stats = AT.test(signal[21:], se.data.spread[21:240], corr_type='linear',method='ts')\n",
    "print('mean corr: {:.4f}, positive_corr_ratio: {:.4f}, corr_IR: {:.4f}'.\n",
    "              format(stats.mean_corr, stats.positive_corr_ratio, stats.corr_IR))\n",
    "x, y = get_xy(signal[21:], se.data.spread[21:240], univ[21:240])\n",
    "lr.fit(x, y)\n",
    "print(np.sqrt(np.mean((y-lr.predict(x))**2)))\n",
    "print()\n",
    "\n",
    "print('cs_vol_sp')\n",
    "stats = AT.test(signal[21:], se.data.spread_dic['vol_wtd_bas'][21:240], corr_type='linear',method='cs')\n",
    "print('mean corr: {:.4f}, positive_corr_ratio: {:.4f}, corr_IR: {:.4f}'.\n",
    "              format(stats.mean_corr, stats.positive_corr_ratio, stats.corr_IR))\n",
    "x, y = get_xy(signal[21:], se.data.spread_dic['vol_wtd_rel_bas'][21:240], univ[21:240])\n",
    "lr.fit(x, y)\n",
    "print(np.sqrt(np.mean((y-lr.predict(x))**2)))\n",
    "print()\n",
    "\n",
    "\n",
    "print('ts_vol_sp')\n",
    "stats = AT.test(signal[21:], se.data.spread_dic['vol_wtd_bas'][21:240], corr_type='linear',method='ts')\n",
    "print('mean corr: {:.4f}, positive_corr_ratio: {:.4f}, corr_IR: {:.4f}'.\n",
    "              format(stats.mean_corr, stats.positive_corr_ratio, stats.corr_IR))\n",
    "x, y = get_xy(signal[21:], se.data.spread_dic['vol_wtd_rel_bas'][21:240], univ[21:240])\n",
    "lr.fit(x, y)\n",
    "print(np.sqrt(np.mean((y-lr.predict(x))**2)))\n",
    "print()"
   ]
  },
  {
   "cell_type": "markdown",
   "id": "6b20563c",
   "metadata": {},
   "source": [
    "### LOT Y-split"
   ]
  },
  {
   "cell_type": "code",
   "execution_count": 19,
   "id": "ccb4b09f",
   "metadata": {},
   "outputs": [
    {
     "name": "stderr",
     "output_type": "stream",
     "text": [
      "100%|████████████████████████████████████████████████████████████████████████████████| 222/222 [05:27<00:00,  1.47s/it]\n"
     ]
    }
   ],
   "source": [
    "device = 'cuda'\n",
    "model = LOTNet_R(2081).to(device)\n",
    "optimizer = torch.optim.AdamW(model.parameters(), lr=1e-2, weight_decay=0)\n",
    "loss_func = MyLoss()\n",
    "\n",
    "r_m = torch.Tensor(R_m).to(device)\n",
    "r = torch.Tensor(ret).to(device)\n",
    "\n",
    "# R_m = torch.Tensor(R_m[1:51]).unsqueeze(-1).to(device)\n",
    "# R = torch.Tensor(ret[1:51]).to(device)\n",
    "\n",
    "signal = np.zeros((243, 2081))\n",
    "t = time()\n",
    "for j in tqdm(range(21, 243)):\n",
    "    model = LOTNet_R(2081).to(device)\n",
    "    optimizer = torch.optim.Adam(model.parameters(), lr=1e-2, weight_decay=0)\n",
    "    for i in range(1000):\n",
    "        model.train()\n",
    "        optimizer.zero_grad()\n",
    "        loss = loss_func(model(r[j-20:j+1], r_m[j-20:j+1]))\n",
    "        loss.backward()\n",
    "        optimizer.step()\n",
    "#         if (i + 1) % 100 == 0:\n",
    "#             print('epoch {}'.format(i + 1))\n",
    "#             print('loss: {:.4f}, time used: {:.4f}s'.format(float(loss), time()-t))\n",
    "    # model.eval()\n",
    "    signal[j] = (model.alpha_2 - model.alpha_1).detach().cpu().numpy()\n",
    "#     if j % 10 == 0:\n",
    "#         print('{} done. time used: {:.4f}s'.format(j, time()-t))"
   ]
  },
  {
   "cell_type": "code",
   "execution_count": 21,
   "id": "ff19eac2",
   "metadata": {},
   "outputs": [],
   "source": [
    "raw_signal = signal.copy()\n",
    "signal[signal<0] = 0"
   ]
  },
  {
   "cell_type": "code",
   "execution_count": 23,
   "id": "2e77d863",
   "metadata": {},
   "outputs": [],
   "source": [
    "signal = raw_signal.copy()"
   ]
  },
  {
   "cell_type": "code",
   "execution_count": 24,
   "id": "ab76e919",
   "metadata": {},
   "outputs": [
    {
     "name": "stdout",
     "output_type": "stream",
     "text": [
      "relative_spread cs: -0.0389\n",
      "relative_spread ts: -0.0276\n",
      "vol_wtd_rel_bas cs: -0.0767\n",
      "vol_wtd_rel_bas ts: -0.0578\n"
     ]
    }
   ],
   "source": [
    "# 只在价格某个价格范围内进行比较\n",
    "# 显然对于高价股的估计更加准确\n",
    "# 暂时按照20元的阈值进行剔除\n",
    "corr = []\n",
    "sig = []\n",
    "est = []\n",
    "for i in range(21,240):\n",
    "    sp = np.mean(se.data.spread_dic['relative_spread'][i-20+1:i+1], axis=0)\n",
    "    top = (~np.isnan(sp)) & (~np.isnan(signal[i])) & (np.mean(se.data.data_dic['close'][i-19:i],axis=0)>25)\n",
    "    # print(np.sum(top))\n",
    "    sig += list(signal[i,top])\n",
    "    est += list(sp[top])\n",
    "    corr.append(np.corrcoef(sp[top],signal[i,top])[0,1])\n",
    "# plt.scatter(est,sig)\n",
    "print('relative_spread cs: {:.4f}'.format(np.mean(corr)))\n",
    "\n",
    "corr = []\n",
    "sig = []\n",
    "est = []\n",
    "new_sp = se.data.spread_dic['relative_spread'].copy()\n",
    "for i in range(se.data.spread_dic['relative_spread'].shape[0]):\n",
    "    if i < 20 - 1:\n",
    "        continue\n",
    "    new_sp[i] = np.mean(se.data.spread_dic['relative_spread'][i-19:i+1], axis=0)\n",
    "for i in range(new_sp.shape[1]):\n",
    "    sp = new_sp[:,i]\n",
    "    top = (~np.isnan(sp)) & (~np.isnan(signal[:,i])) & (se.data.data_dic['close'][:,i] > 25)\n",
    "    if np.nanmean(se.data.data_dic['close'][:,i]) < 25:\n",
    "        continue\n",
    "    sig += list(signal[:,i][top])\n",
    "    est += list(sp[top])\n",
    "    corr.append(np.corrcoef(sp[top],signal[:,i][top])[0,1])\n",
    "# plt.scatter(est,sig)\n",
    "print('relative_spread ts: {:.4f}'.format(np.nanmean(corr)))\n",
    "\n",
    "corr = []\n",
    "sig = []\n",
    "est = []\n",
    "for i in range(21,240):\n",
    "    sp = np.mean(se.data.spread_dic['vol_wtd_rel_bas'][i-20+1:i+1], axis=0)\n",
    "    top = (~np.isnan(sp)) & (~np.isnan(signal[i])) & (np.mean(se.data.data_dic['close'][i-19:i],axis=0)>25)\n",
    "    # print(np.sum(top))\n",
    "    sig += list(signal[i,top])\n",
    "    est += list(sp[top])\n",
    "    corr.append(np.corrcoef(sp[top],signal[i,top])[0,1])\n",
    "# plt.scatter(est,sig)\n",
    "print('vol_wtd_rel_bas cs: {:.4f}'.format(np.mean(corr)))\n",
    "      \n",
    "corr = []\n",
    "sig = []\n",
    "est = []\n",
    "new_sp = se.data.spread_dic['vol_wtd_rel_bas'].copy()\n",
    "for i in range(se.data.spread_dic['vol_wtd_rel_bas'].shape[0]):\n",
    "    if i < 20 - 1:\n",
    "        continue\n",
    "    new_sp[i] = np.mean(se.data.spread_dic['vol_wtd_rel_bas'][i-19:i+1], axis=0)\n",
    "for i in range(new_sp.shape[1]):\n",
    "    sp = new_sp[:,i]\n",
    "    top = (~np.isnan(sp)) & (~np.isnan(signal[:,i])) & (se.data.data_dic['close'][:,i] > 25)\n",
    "    if np.nanmean(se.data.data_dic['close'][:,i]) < 25:\n",
    "        continue\n",
    "    sig += list(signal[:,i][top])\n",
    "    est += list(sp[top])\n",
    "    corr.append(np.corrcoef(sp[top],signal[:,i][top])[0,1])\n",
    "# plt.scatter(est,sig)\n",
    "print('vol_wtd_rel_bas ts: {:.4f}'.format(np.nanmean(corr)))"
   ]
  },
  {
   "cell_type": "code",
   "execution_count": null,
   "id": "a5e926cd",
   "metadata": {},
   "outputs": [],
   "source": []
  }
 ],
 "metadata": {
  "kernelspec": {
   "display_name": "Python 3 (ipykernel)",
   "language": "python",
   "name": "python3"
  },
  "language_info": {
   "codemirror_mode": {
    "name": "ipython",
    "version": 3
   },
   "file_extension": ".py",
   "mimetype": "text/x-python",
   "name": "python",
   "nbconvert_exporter": "python",
   "pygments_lexer": "ipython3",
   "version": "3.8.5"
  }
 },
 "nbformat": 4,
 "nbformat_minor": 5
}
