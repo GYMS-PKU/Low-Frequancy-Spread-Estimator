{
 "cells": [
  {
   "cell_type": "markdown",
   "id": "ce0a9de7",
   "metadata": {},
   "source": [
    "## 测试一些新的简单估计方法"
   ]
  },
  {
   "cell_type": "code",
   "execution_count": 3,
   "id": "aaa6ed49",
   "metadata": {},
   "outputs": [],
   "source": [
    "import numpy as np\n",
    "import pandas as pd\n",
    "import matplotlib.pyplot as plt\n",
    "import importlib\n",
    "import sys\n",
    "sys.path.append('C:/Users/Administrator/Desktop/Repositories/Low-Frequency-Spread-Estimator')\n",
    "sys.path.append('C:/Users/Handsome Bad Guy/Desktop/Repositories/Low-Frequency-Spread-Estimator')\n",
    "\n",
    "from SpreadEstimator.SpreadEstimator import SpreadEstimator\n",
    "from mytools.AutoTester import AutoTester\n",
    "\n",
    "from time import time\n",
    "\n",
    "import torch\n",
    "import torch.nn as nn\n",
    "import torch.nn.functional as F\n",
    "import torch.nn.init as init\n",
    "import torch.optim as optim\n",
    "\n",
    "from sklearn.linear_model import LinearRegression"
   ]
  },
  {
   "cell_type": "code",
   "execution_count": 4,
   "id": "a4aac795",
   "metadata": {},
   "outputs": [],
   "source": [
    "se = SpreadEstimator()\n",
    "univ = ~np.isnan(se.data.data_dic['close'])  # 合法的univ"
   ]
  },
  {
   "cell_type": "code",
   "execution_count": 5,
   "id": "f81726a4",
   "metadata": {},
   "outputs": [
    {
     "data": {
      "text/plain": [
       "dict_keys(['open', 'low', 'high', 'close', 'last_bas', 'last_rel_bas', 'cap', 'volume'])"
      ]
     },
     "execution_count": 5,
     "metadata": {},
     "output_type": "execute_result"
    }
   ],
   "source": [
    "se.data.data_dic.keys()"
   ]
  },
  {
   "cell_type": "code",
   "execution_count": 33,
   "id": "0a1b620d",
   "metadata": {},
   "outputs": [
    {
     "name": "stdout",
     "output_type": "stream",
     "text": [
      "mean corr: 0.3542, positive_corr_ratio: 1.0000, corr_IR: 5.1405\n",
      "vol_wtd_rel_bas cs: 0.5361\n",
      "vol_wtd_rel_bas ts: 0.1293\n"
     ]
    }
   ],
   "source": [
    "fmls = [\n",
    "    'tsmean{div{absv{tspct{close,1}},volume},20}',  # Amihud中用到的一个指标\n",
    "    'tsmean{div{absv{tspct{close,1}},powv{volume,0.5}},20}',  # 这个对低价股的反向比较明显\n",
    "    'tsmean{div{high,low},20}',  # 20天平均振幅，对低价股和高价股是反向的\n",
    "    'neg{tsmean{powv{cap,0.5},20}}',  # 市值越小相对价差越大\n",
    "    \n",
    "]\n",
    "\n",
    "fml =  'neg{tsmean{powv{cap,0.5},20}}'\n",
    "\n",
    "stats, signal = se.test_factor(fml, corr_type='linear',method='cs', spread_type='relative_spread', back=20)\n",
    "\n",
    "corr = []\n",
    "sig = []\n",
    "est = []\n",
    "for i in range(20,240):\n",
    "    sp = np.mean(se.data.spread_dic['vol_wtd_rel_bas'][i-20+1:i+1], axis=0)\n",
    "    top = (~np.isnan(sp)) & (~np.isnan(signal[i])) & (np.mean(se.data.data_dic['close'][i-19:i],axis=0)>25)\n",
    "    # print(np.sum(top))\n",
    "    sig += list(signal[i,top])\n",
    "    est += list(sp[top])\n",
    "    corr.append(np.corrcoef(sp[top],signal[i,top])[0,1])\n",
    "# plt.scatter(est,sig)\n",
    "print('vol_wtd_rel_bas cs: {:.4f}'.format(np.mean(corr)))\n",
    "      \n",
    "corr = []\n",
    "sig = []\n",
    "est = []\n",
    "new_sp = se.data.spread_dic['vol_wtd_rel_bas'].copy()\n",
    "for i in range(se.data.spread_dic['vol_wtd_rel_bas'].shape[0]):\n",
    "    if i < 20 - 1:\n",
    "        continue\n",
    "    new_sp[i] = np.mean(se.data.spread_dic['vol_wtd_rel_bas'][i-19:i+1], axis=0)\n",
    "for i in range(new_sp.shape[1]):\n",
    "    sp = new_sp[:,i]\n",
    "    top = (~np.isnan(sp)) & (~np.isnan(signal[:,i])) & (se.data.data_dic['close'][:,i] > 25)\n",
    "    if np.nanmean(se.data.data_dic['close'][:,i]) < 25:\n",
    "        continue\n",
    "    sig += list(signal[:,i][top])\n",
    "    est += list(sp[top])\n",
    "    corr.append(np.corrcoef(sp[top],signal[:,i][top])[0,1])\n",
    "# plt.scatter(est,sig)\n",
    "print('vol_wtd_rel_bas ts: {:.4f}'.format(np.nanmean(corr)))\n"
   ]
  },
  {
   "cell_type": "code",
   "execution_count": null,
   "id": "a0788985",
   "metadata": {},
   "outputs": [],
   "source": []
  }
 ],
 "metadata": {
  "kernelspec": {
   "display_name": "Python 3 (ipykernel)",
   "language": "python",
   "name": "python3"
  },
  "language_info": {
   "codemirror_mode": {
    "name": "ipython",
    "version": 3
   },
   "file_extension": ".py",
   "mimetype": "text/x-python",
   "name": "python",
   "nbconvert_exporter": "python",
   "pygments_lexer": "ipython3",
   "version": "3.8.5"
  }
 },
 "nbformat": 4,
 "nbformat_minor": 5
}
