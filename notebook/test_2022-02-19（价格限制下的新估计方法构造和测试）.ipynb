{
 "cells": [
  {
   "cell_type": "markdown",
   "id": "ce0a9de7",
   "metadata": {},
   "source": [
    "## 测试一些新的简单估计方法"
   ]
  },
  {
   "cell_type": "code",
   "execution_count": 3,
   "id": "aaa6ed49",
   "metadata": {},
   "outputs": [],
   "source": [
    "import numpy as np\n",
    "import pandas as pd\n",
    "import matplotlib.pyplot as plt\n",
    "import importlib\n",
    "import sys\n",
    "sys.path.append('C:/Users/Administrator/Desktop/Repositories/Low-Frequency-Spread-Estimator')\n",
    "sys.path.append('C:/Users/Handsome Bad Guy/Desktop/Repositories/Low-Frequency-Spread-Estimator')\n",
    "\n",
    "from SpreadEstimator.SpreadEstimator import SpreadEstimator\n",
    "from mytools.AutoTester import AutoTester\n",
    "\n",
    "from time import time\n",
    "\n",
    "import torch\n",
    "import torch.nn as nn\n",
    "import torch.nn.functional as F\n",
    "import torch.nn.init as init\n",
    "import torch.optim as optim\n",
    "\n",
    "from sklearn.linear_model import LinearRegression"
   ]
  },
  {
   "cell_type": "code",
   "execution_count": 5,
   "id": "a4aac795",
   "metadata": {},
   "outputs": [],
   "source": [
    "se = SpreadEstimator()\n",
    "univ = ~np.isnan(se.data.data_dic['close'])  # 合法的univ"
   ]
  },
  {
   "cell_type": "code",
   "execution_count": 8,
   "id": "f81726a4",
   "metadata": {},
   "outputs": [
    {
     "data": {
      "text/plain": [
       "dict_keys(['open', 'low', 'high', 'close', 'last_bas', 'last_rel_bas', 'cap'])"
      ]
     },
     "execution_count": 8,
     "metadata": {},
     "output_type": "execute_result"
    }
   ],
   "source": [
    "se.data.data_dic.keys()"
   ]
  },
  {
   "cell_type": "code",
   "execution_count": 7,
   "id": "0a1b620d",
   "metadata": {},
   "outputs": [
    {
     "ename": "KeyError",
     "evalue": "'volume'",
     "output_type": "error",
     "traceback": [
      "\u001b[1;31m---------------------------------------------------------------------------\u001b[0m",
      "\u001b[1;31mKeyError\u001b[0m                                  Traceback (most recent call last)",
      "\u001b[1;32mC:\\Users\\ADMINI~1\\AppData\\Local\\Temp/ipykernel_42308/3462833953.py\u001b[0m in \u001b[0;36m<module>\u001b[1;34m\u001b[0m\n\u001b[0;32m      3\u001b[0m \u001b[0mfml\u001b[0m \u001b[1;33m=\u001b[0m \u001b[1;34m'volume'\u001b[0m\u001b[1;33m\u001b[0m\u001b[1;33m\u001b[0m\u001b[0m\n\u001b[0;32m      4\u001b[0m \u001b[1;33m\u001b[0m\u001b[0m\n\u001b[1;32m----> 5\u001b[1;33m \u001b[0mstats\u001b[0m\u001b[1;33m,\u001b[0m \u001b[0msignal\u001b[0m \u001b[1;33m=\u001b[0m \u001b[0mse\u001b[0m\u001b[1;33m.\u001b[0m\u001b[0mtest_factor\u001b[0m\u001b[1;33m(\u001b[0m\u001b[0mfml\u001b[0m\u001b[1;33m,\u001b[0m \u001b[0mcorr_type\u001b[0m\u001b[1;33m=\u001b[0m\u001b[1;34m'linear'\u001b[0m\u001b[1;33m,\u001b[0m\u001b[0mmethod\u001b[0m\u001b[1;33m=\u001b[0m\u001b[1;34m'cs'\u001b[0m\u001b[1;33m,\u001b[0m \u001b[0mspread_type\u001b[0m\u001b[1;33m=\u001b[0m\u001b[1;34m'relative_spread'\u001b[0m\u001b[1;33m,\u001b[0m \u001b[0mback\u001b[0m\u001b[1;33m=\u001b[0m\u001b[1;36m20\u001b[0m\u001b[1;33m)\u001b[0m\u001b[1;33m\u001b[0m\u001b[1;33m\u001b[0m\u001b[0m\n\u001b[0m\u001b[0;32m      6\u001b[0m \u001b[1;33m\u001b[0m\u001b[0m\n\u001b[0;32m      7\u001b[0m \u001b[0mcorr\u001b[0m \u001b[1;33m=\u001b[0m \u001b[1;33m[\u001b[0m\u001b[1;33m]\u001b[0m\u001b[1;33m\u001b[0m\u001b[1;33m\u001b[0m\u001b[0m\n",
      "\u001b[1;32mC:/Users/Administrator/Desktop/Repositories/Low-Frequency-Spread-Estimator\\SpreadEstimator\\SpreadEstimator.py\u001b[0m in \u001b[0;36mtest_factor\u001b[1;34m(self, formula, start_date, end_date, method, corr_type, spread_type, verbose, back)\u001b[0m\n\u001b[0;32m     51\u001b[0m         \u001b[1;33m:\u001b[0m\u001b[1;32mreturn\u001b[0m\u001b[1;33m:\u001b[0m \u001b[0m返回统计值以及该因子产生的信号矩阵\u001b[0m\u001b[1;33m\u001b[0m\u001b[1;33m\u001b[0m\u001b[0m\n\u001b[0;32m     52\u001b[0m         \"\"\"\n\u001b[1;32m---> 53\u001b[1;33m         stats, signal = self.autoformula.test_formula(formula, self.data, start_date=start_date,\n\u001b[0m\u001b[0;32m     54\u001b[0m                                                       \u001b[0mend_date\u001b[0m\u001b[1;33m=\u001b[0m\u001b[0mend_date\u001b[0m\u001b[1;33m,\u001b[0m \u001b[0mmethod\u001b[0m\u001b[1;33m=\u001b[0m\u001b[0mmethod\u001b[0m\u001b[1;33m,\u001b[0m \u001b[0mcorr_type\u001b[0m\u001b[1;33m=\u001b[0m\u001b[0mcorr_type\u001b[0m\u001b[1;33m,\u001b[0m\u001b[1;33m\u001b[0m\u001b[1;33m\u001b[0m\u001b[0m\n\u001b[0;32m     55\u001b[0m                                                       spread_type=spread_type, back=back)\n",
      "\u001b[1;32mC:/Users/Administrator/Desktop/Repositories/Low-Frequency-Spread-Estimator\\mytools\\AutoFormula\\AutoFormula_cy.py\u001b[0m in \u001b[0;36mtest_formula\u001b[1;34m(self, formula, data, start_date, end_date, method, corr_type, spread_type, back)\u001b[0m\n\u001b[0;32m    208\u001b[0m         \u001b[1;32mif\u001b[0m \u001b[0mtype\u001b[0m\u001b[1;33m(\u001b[0m\u001b[0mformula\u001b[0m\u001b[1;33m)\u001b[0m \u001b[1;33m==\u001b[0m \u001b[0mstr\u001b[0m\u001b[1;33m:\u001b[0m\u001b[1;33m\u001b[0m\u001b[1;33m\u001b[0m\u001b[0m\n\u001b[0;32m    209\u001b[0m             \u001b[0mformula\u001b[0m \u001b[1;33m=\u001b[0m \u001b[0mself\u001b[0m\u001b[1;33m.\u001b[0m\u001b[0mformula_parser\u001b[0m\u001b[1;33m.\u001b[0m\u001b[0mparse\u001b[0m\u001b[1;33m(\u001b[0m\u001b[0mformula\u001b[0m\u001b[1;33m)\u001b[0m\u001b[1;33m\u001b[0m\u001b[1;33m\u001b[0m\u001b[0m\n\u001b[1;32m--> 210\u001b[1;33m         \u001b[0msignal\u001b[0m \u001b[1;33m=\u001b[0m \u001b[0mself\u001b[0m\u001b[1;33m.\u001b[0m\u001b[0mcal_formula\u001b[0m\u001b[1;33m(\u001b[0m\u001b[0mformula\u001b[0m\u001b[1;33m,\u001b[0m \u001b[0mdata\u001b[0m\u001b[1;33m.\u001b[0m\u001b[0mdata_dic\u001b[0m\u001b[1;33m)\u001b[0m  \u001b[1;31m# 暂时为了方便，无论如何都计算整个回测区间的因子值\u001b[0m\u001b[1;33m\u001b[0m\u001b[1;33m\u001b[0m\u001b[0m\n\u001b[0m\u001b[0;32m    211\u001b[0m \u001b[1;33m\u001b[0m\u001b[0m\n\u001b[0;32m    212\u001b[0m         \u001b[1;32mif\u001b[0m \u001b[1;33m(\u001b[0m\u001b[0mstart_date\u001b[0m \u001b[1;32mis\u001b[0m \u001b[1;32mNone\u001b[0m\u001b[1;33m)\u001b[0m \u001b[1;32mor\u001b[0m \u001b[1;33m(\u001b[0m\u001b[0mend_date\u001b[0m \u001b[1;32mis\u001b[0m \u001b[1;32mNone\u001b[0m\u001b[1;33m)\u001b[0m\u001b[1;33m:\u001b[0m\u001b[1;33m\u001b[0m\u001b[1;33m\u001b[0m\u001b[0m\n",
      "\u001b[1;32mC:/Users/Administrator/Desktop/Repositories/Low-Frequency-Spread-Estimator\\mytools\\AutoFormula\\AutoFormula_cy.py\u001b[0m in \u001b[0;36mcal_formula\u001b[1;34m(self, tree, data_dic, return_type)\u001b[0m\n\u001b[0;32m     39\u001b[0m                 \u001b[1;32mif\u001b[0m \u001b[0mtype\u001b[0m\u001b[1;33m(\u001b[0m\u001b[0mtree\u001b[0m\u001b[1;33m.\u001b[0m\u001b[0mname\u001b[0m\u001b[1;33m)\u001b[0m \u001b[1;33m==\u001b[0m \u001b[0mint\u001b[0m \u001b[1;32mor\u001b[0m \u001b[0mtype\u001b[0m\u001b[1;33m(\u001b[0m\u001b[0mtree\u001b[0m\u001b[1;33m.\u001b[0m\u001b[0mname\u001b[0m\u001b[1;33m)\u001b[0m \u001b[1;33m==\u001b[0m \u001b[0mfloat\u001b[0m\u001b[1;33m:\u001b[0m\u001b[1;33m\u001b[0m\u001b[1;33m\u001b[0m\u001b[0m\n\u001b[0;32m     40\u001b[0m                     \u001b[1;32mreturn\u001b[0m \u001b[0mtree\u001b[0m\u001b[1;33m.\u001b[0m\u001b[0mname\u001b[0m  \u001b[1;31m# 直接挂载在节点上，但是应该修改成需要数字的就直接返回数字\u001b[0m\u001b[1;33m\u001b[0m\u001b[1;33m\u001b[0m\u001b[0m\n\u001b[1;32m---> 41\u001b[1;33m                 \u001b[1;32mreturn\u001b[0m \u001b[0mdata_dic\u001b[0m\u001b[1;33m[\u001b[0m\u001b[0mtree\u001b[0m\u001b[1;33m.\u001b[0m\u001b[0mname\u001b[0m\u001b[1;33m]\u001b[0m\u001b[1;33m.\u001b[0m\u001b[0mcopy\u001b[0m\u001b[1;33m(\u001b[0m\u001b[1;33m)\u001b[0m  \u001b[1;31m# 当前版本需要返回一个副本\u001b[0m\u001b[1;33m\u001b[0m\u001b[1;33m\u001b[0m\u001b[0m\n\u001b[0m\u001b[0;32m     42\u001b[0m             \u001b[1;32melif\u001b[0m \u001b[0mtree\u001b[0m\u001b[1;33m.\u001b[0m\u001b[0mvariable_type\u001b[0m \u001b[1;33m==\u001b[0m \u001b[1;34m'intra_data'\u001b[0m\u001b[1;33m:\u001b[0m\u001b[1;33m\u001b[0m\u001b[1;33m\u001b[0m\u001b[0m\n\u001b[0;32m     43\u001b[0m                 \u001b[1;32mif\u001b[0m \u001b[0mtree\u001b[0m\u001b[1;33m.\u001b[0m\u001b[0mnum_1\u001b[0m \u001b[1;32mis\u001b[0m \u001b[1;32mnot\u001b[0m \u001b[1;32mNone\u001b[0m\u001b[1;33m:\u001b[0m\u001b[1;33m\u001b[0m\u001b[1;33m\u001b[0m\u001b[0m\n",
      "\u001b[1;31mKeyError\u001b[0m: 'volume'"
     ]
    }
   ],
   "source": [
    "fmls = []\n",
    "\n",
    "fml = 'volume'\n",
    "\n",
    "stats, signal = se.test_factor(fml, corr_type='linear',method='cs', spread_type='relative_spread', back=20)\n",
    "\n",
    "corr = []\n",
    "sig = []\n",
    "est = []\n",
    "for i in range(20,240):\n",
    "    sp = np.mean(se.data.spread_dic['vol_wtd_rel_bas'][i-20+1:i+1], axis=0)\n",
    "    top = (~np.isnan(sp)) & (~np.isnan(signal[i])) & (np.mean(se.data.data_dic['close'][i-19:i],axis=0)>25)\n",
    "    # print(np.sum(top))\n",
    "    sig += list(signal[i,top])\n",
    "    est += list(sp[top])\n",
    "    corr.append(np.corrcoef(sp[top],signal[i,top])[0,1])\n",
    "# plt.scatter(est,sig)\n",
    "print('vol_wtd_rel_bas: {:.4f}'.format(np.mean(corr)))\n",
    "      \n",
    "corr = []\n",
    "sig = []\n",
    "est = []\n",
    "new_sp = se.data.spread_dic['vol_wtd_rel_bas'].copy()\n",
    "for i in range(se.data.spread_dic['vol_wtd_rel_bas'].shape[0]):\n",
    "    if i < 20 - 1:\n",
    "        continue\n",
    "    new_sp[i] = np.mean(se.data.spread_dic['vol_wtd_rel_bas'][i-19:i+1], axis=0)\n",
    "for i in range(new_sp.shape[1]):\n",
    "    sp = new_sp[:,i]\n",
    "    top = (~np.isnan(sp)) & (~np.isnan(signal[:,i])) & (se.data.data_dic['close'][:,i] > 25)\n",
    "    if np.nanmean(se.data.data_dic['close'][:,i]) < 25:\n",
    "        continue\n",
    "    sig += list(signal[:,i][top])\n",
    "    est += list(sp[top])\n",
    "    corr.append(np.corrcoef(sp[top],signal[:,i][top])[0,1])\n",
    "# plt.scatter(est,sig)\n",
    "print('vol_wtd_rel_bas ts: {:.4f}'.format(np.mean(corr)))\n"
   ]
  },
  {
   "cell_type": "code",
   "execution_count": null,
   "id": "8f8935f9",
   "metadata": {},
   "outputs": [],
   "source": []
  }
 ],
 "metadata": {
  "kernelspec": {
   "display_name": "Python 3 (ipykernel)",
   "language": "python",
   "name": "python3"
  },
  "language_info": {
   "codemirror_mode": {
    "name": "ipython",
    "version": 3
   },
   "file_extension": ".py",
   "mimetype": "text/x-python",
   "name": "python",
   "nbconvert_exporter": "python",
   "pygments_lexer": "ipython3",
   "version": "3.8.5"
  }
 },
 "nbformat": 4,
 "nbformat_minor": 5
}
